{
 "cells": [
  {
   "cell_type": "code",
   "execution_count": 31,
   "metadata": {},
   "outputs": [],
   "source": [
    "import collections\n",
    "import heapq"
   ]
  },
  {
   "cell_type": "code",
   "execution_count": 22,
   "metadata": {},
   "outputs": [],
   "source": [
    "# given a string array merge input array into a single string in alphabetical order\n",
    "# run in O(n)\n",
    "def sortedMerge(strings):\n",
    "    MAX_CHAR = 26\n",
    "    merged = \"\".join(strings)\n",
    "    counts = [0 for i in range(MAX_CHAR)]\n",
    "    res = []\n",
    "    \n",
    "    for i in range(len(merged)):\n",
    "        counts[ord(merged[i])-ord('a')] += 1\n",
    "        \n",
    "    for i in range(MAX_CHAR):\n",
    "        for j in range(counts[i]):\n",
    "            res.append(chr(ord('a')+i))\n",
    "    \n",
    "    return \"\".join(res)"
   ]
  },
  {
   "cell_type": "code",
   "execution_count": 23,
   "metadata": {},
   "outputs": [
    {
     "data": {
      "text/plain": [
       "'accddgkklnopw'"
      ]
     },
     "execution_count": 23,
     "metadata": {},
     "output_type": "execute_result"
    }
   ],
   "source": [
    "sortedMerge(['ckgold', 'knwapdc'])"
   ]
  },
  {
   "cell_type": "code",
   "execution_count": 42,
   "metadata": {},
   "outputs": [],
   "source": [
    "# using heap, it sorts alphabetically\n",
    "def sortedMerge2(strings):\n",
    "    merged = \"\".join(strings)\n",
    "    counts = collections.Counter(merged)\n",
    "    heap = []\n",
    "    res = []\n",
    "    \n",
    "    for key, val in counts.items():\n",
    "        heapq.heappush(heap, (key, val))\n",
    "        \n",
    "    while heap:\n",
    "        let, count = heapq.heappop(heap)\n",
    "        for i in range(count):\n",
    "            res.append(let)\n",
    "        \n",
    "    return \"\".join(res)\n",
    "    "
   ]
  },
  {
   "cell_type": "code",
   "execution_count": 43,
   "metadata": {},
   "outputs": [
    {
     "data": {
      "text/plain": [
       "'accddgkklnopw'"
      ]
     },
     "execution_count": 43,
     "metadata": {},
     "output_type": "execute_result"
    }
   ],
   "source": [
    "sortedMerge2(['ckgold', 'knwapdc'])"
   ]
  },
  {
   "cell_type": "code",
   "execution_count": 44,
   "metadata": {},
   "outputs": [
    {
     "data": {
      "text/plain": [
       "True"
      ]
     },
     "execution_count": 44,
     "metadata": {},
     "output_type": "execute_result"
    }
   ],
   "source": []
  },
  {
   "cell_type": "code",
   "execution_count": null,
   "metadata": {},
   "outputs": [],
   "source": []
  }
 ],
 "metadata": {
  "kernelspec": {
   "display_name": "Python 3",
   "language": "python",
   "name": "python3"
  },
  "language_info": {
   "codemirror_mode": {
    "name": "ipython",
    "version": 3
   },
   "file_extension": ".py",
   "mimetype": "text/x-python",
   "name": "python",
   "nbconvert_exporter": "python",
   "pygments_lexer": "ipython3",
   "version": "3.7.3"
  }
 },
 "nbformat": 4,
 "nbformat_minor": 2
}
