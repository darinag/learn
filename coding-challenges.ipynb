{
 "cells": [
  {
   "cell_type": "code",
   "execution_count": 84,
   "metadata": {},
   "outputs": [],
   "source": [
    "import collections\n",
    "import heapq"
   ]
  },
  {
   "cell_type": "code",
   "execution_count": 93,
   "metadata": {},
   "outputs": [
    {
     "data": {
      "text/plain": [
       "'t'"
      ]
     },
     "execution_count": 93,
     "metadata": {},
     "output_type": "execute_result"
    }
   ],
   "source": [
    "# https://www.geeksforgeeks.org/return-maximum-occurring-character-in-the-input-string/\n",
    "# Return maximum occurring character in an input string\n",
    "# O(n) time complexity\n",
    "# O(1) space complexity\n",
    "\n",
    "def getMaxOccurChar(string):\n",
    "    MAX_CHAR = 26\n",
    "    \n",
    "    max_count = 0\n",
    "    max_idx = 0\n",
    "    \n",
    "    counts = [0 for x in range(MAX_CHAR)]\n",
    "    \n",
    "    for i in string:\n",
    "        counts[abs(ord('a') - ord(i))] += 1\n",
    "    \n",
    "    \n",
    "    for i, cnt in enumerate(counts):\n",
    "        if max_count < cnt:\n",
    "            max_count = cnt\n",
    "            max_idx = i\n",
    "            \n",
    "    return chr(ord('a')+max_idx)\n",
    "\n",
    "\n",
    "getMaxOccurChar('test')"
   ]
  },
  {
   "cell_type": "code",
   "execution_count": 85,
   "metadata": {},
   "outputs": [
    {
     "data": {
      "text/plain": [
       "'accddgkklnopw'"
      ]
     },
     "execution_count": 85,
     "metadata": {},
     "output_type": "execute_result"
    }
   ],
   "source": [
    "# given a string array merge input array into a single string in alphabetical order\n",
    "# run in O(n)\n",
    "# https://www.geeksforgeeks.org/sort-string-characters/\n",
    "def sortedMerge(strings):\n",
    "    MAX_CHAR = 26\n",
    "    merged = \"\".join(strings)\n",
    "    counts = [0 for i in range(MAX_CHAR)]\n",
    "    res = []\n",
    "    \n",
    "    for i in range(len(merged)):\n",
    "        counts[ord(merged[i])-ord('a')] += 1\n",
    "        \n",
    "    for i in range(MAX_CHAR):\n",
    "        for j in range(counts[i]):\n",
    "            res.append(chr(ord('a')+i))\n",
    "    \n",
    "    return \"\".join(res)\n",
    "\n",
    "sortedMerge(['ckgold', 'knwapdc'])"
   ]
  },
  {
   "cell_type": "code",
   "execution_count": 86,
   "metadata": {},
   "outputs": [
    {
     "data": {
      "text/plain": [
       "'accddgkklnopw'"
      ]
     },
     "execution_count": 86,
     "metadata": {},
     "output_type": "execute_result"
    }
   ],
   "source": [
    "# using heap, it sorts alphabetically\n",
    "def sortedMerge2(strings):\n",
    "    merged = \"\".join(strings)\n",
    "    counts = collections.Counter(merged)\n",
    "    heap = []\n",
    "    res = []\n",
    "    \n",
    "    for key, val in counts.items():\n",
    "        heapq.heappush(heap, (key, val))\n",
    "        \n",
    "    while heap:\n",
    "        let, count = heapq.heappop(heap)\n",
    "        for i in range(count):\n",
    "            res.append(let)\n",
    "        \n",
    "    return \"\".join(res)\n",
    "\n",
    "sortedMerge2(['ckgold', 'knwapdc'])  "
   ]
  },
  {
   "cell_type": "code",
   "execution_count": 87,
   "metadata": {},
   "outputs": [
    {
     "data": {
      "text/plain": [
       "[7, 5, 3, 1, 0, 2, 4]"
      ]
     },
     "execution_count": 87,
     "metadata": {},
     "output_type": "execute_result"
    }
   ],
   "source": [
    "# Sort all even numbers in ascending order and then sort all odd numbers in descending order\n",
    "# https://www.geeksforgeeks.org/sort-even-numbers-ascending-order-sort-odd-numbers-descending-order/\n",
    "\n",
    "def two_way_sort(nums):\n",
    "    \n",
    "    # partition into left side even nums and right side odd nums    \n",
    "    l = 0\n",
    "    r = len(nums)-1\n",
    "    \n",
    "    while l < r:\n",
    "        if nums[l]%2 == 1:\n",
    "            l += 1\n",
    "        else:\n",
    "            nums[l], nums[r] = nums[r], nums[l]\n",
    "            r -= 1\n",
    "    \n",
    "    # find pivot element\n",
    "    pivot = 0  \n",
    "    for i in range(len(nums)):\n",
    "        if nums[i] % 2 == 0:\n",
    "            pivot = i\n",
    "            break\n",
    "\n",
    "    # sort left and right part\n",
    "    odd = nums[:pivot]\n",
    "    even = nums[pivot:]\n",
    "    \n",
    "    odd.sort(reverse=True)\n",
    "    even.sort()\n",
    "        \n",
    "    return odd+even\n",
    "\n",
    "two_way_sort([1, 2, 3, 5, 4, 7, 10])\n",
    "two_way_sort([0, 4, 5, 3, 7, 2, 1])"
   ]
  },
  {
   "cell_type": "code",
   "execution_count": 88,
   "metadata": {},
   "outputs": [
    {
     "data": {
      "text/plain": [
       "[0, 0, 0, 0, 0, 1, 1, 1, 1, 1]"
      ]
     },
     "execution_count": 88,
     "metadata": {},
     "output_type": "execute_result"
    }
   ],
   "source": [
    "# https://www.geeksforgeeks.org/segregate-0s-and-1s-in-an-array-by-traversing-array-once/\n",
    "\n",
    "def segregate01(arr):\n",
    "    l = 0\n",
    "    r = len(arr)-1\n",
    "    \n",
    "    while l < r:\n",
    "        if arr[l] == 0:\n",
    "            l += 1\n",
    "        else:\n",
    "            arr[l], arr[r] = arr[r], arr[l]\n",
    "            r -= 1\n",
    "            \n",
    "    return arr\n",
    "\n",
    "segregate01([0, 1, 0, 1, 0, 0, 1, 1, 1, 0] )"
   ]
  },
  {
   "cell_type": "code",
   "execution_count": 89,
   "metadata": {},
   "outputs": [
    {
     "data": {
      "text/plain": [
       "[23, 11, 15, 30, 8, 31]"
      ]
     },
     "execution_count": 89,
     "metadata": {},
     "output_type": "execute_result"
    }
   ],
   "source": [
    "# https://www.geeksforgeeks.org/find-original-array-encrypted-array-array-sums-elements/\n",
    "# Find original array from a given encrypted array of size n. \n",
    "# Encrypted array is obtained by replacing each element of the original array by the sum of the remaining array elements.\n",
    "def findAndPrintOriginalArray(arr):\n",
    "    n = len(arr)-1\n",
    "    \n",
    "    total = sum(arr) // n\n",
    "    \n",
    "    for i in range(len(arr)):\n",
    "        arr[i] = total - arr[i]\n",
    "        \n",
    "    return arr\n",
    "\n",
    "findAndPrintOriginalArray([10, 14, 12, 13, 11])\n",
    "findAndPrintOriginalArray([95, 107, 103, 88, 110, 87])"
   ]
  },
  {
   "cell_type": "code",
   "execution_count": 80,
   "metadata": {},
   "outputs": [
    {
     "data": {
      "text/plain": [
       "5"
      ]
     },
     "execution_count": 80,
     "metadata": {},
     "output_type": "execute_result"
    }
   ],
   "source": [
    "# https://www.geeksforgeeks.org/find-the-missing-number/\n",
    "# find the missing number\n",
    "def find_missing(arr):\n",
    "    curr_total = sum(arr)\n",
    "    n = arr[-1]\n",
    "    total = n*(n+1)//2\n",
    "    return total - curr_total\n",
    "\n",
    "find_missing([1, 2, 4, 6, 3, 7, 8])"
   ]
  },
  {
   "cell_type": "code",
   "execution_count": null,
   "metadata": {
    "scrolled": true
   },
   "outputs": [],
   "source": []
  },
  {
   "cell_type": "code",
   "execution_count": null,
   "metadata": {},
   "outputs": [],
   "source": []
  }
 ],
 "metadata": {
  "kernelspec": {
   "display_name": "Python 3",
   "language": "python",
   "name": "python3"
  },
  "language_info": {
   "codemirror_mode": {
    "name": "ipython",
    "version": 3
   },
   "file_extension": ".py",
   "mimetype": "text/x-python",
   "name": "python",
   "nbconvert_exporter": "python",
   "pygments_lexer": "ipython3",
   "version": "3.7.3"
  }
 },
 "nbformat": 4,
 "nbformat_minor": 2
}
