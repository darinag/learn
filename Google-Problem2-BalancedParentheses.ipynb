{
 "cells": [
  {
   "cell_type": "code",
   "execution_count": 1,
   "metadata": {},
   "outputs": [],
   "source": [
    "def balanced_parentheses(s):\n",
    "    if len(s) == 0:\n",
    "        return 0\n",
    "    \n",
    "    stack = [-1]\n",
    "    longest = 0\n",
    "    \n",
    "    for i in range(len(s)):\n",
    "        if s[i] == \"(\":\n",
    "            stack.append(i)\n",
    "        else:\n",
    "            stack.pop()\n",
    "            if len(stack) == 0:\n",
    "                stack.append(i)\n",
    "                \n",
    "            longest = max(longest, i - stack[-1])\n",
    "            \n",
    "    return longest"
   ]
  },
  {
   "cell_type": "code",
   "execution_count": 11,
   "metadata": {},
   "outputs": [],
   "source": [
    "# TESTING\n",
    "assert balanced_parentheses(\"\") == 0, \"ERROR\"\n",
    "assert balanced_parentheses(\"(\") == 0, \"ERROR\"\n",
    "assert balanced_parentheses(\"()\") == 2, \"ERROR\"\n",
    "assert balanced_parentheses(\"(()\") == 2, \"ERROR\"\n",
    "assert balanced_parentheses(\")()())\") == 4, \"ERROR\"\n",
    "assert balanced_parentheses(\"())(())\") == 4, \"ERROR\"\n",
    "assert balanced_parentheses(\")(()))))((((()\") == 4, \"ERROR\""
   ]
  }
 ],
 "metadata": {
  "kernelspec": {
   "display_name": "Python 3",
   "language": "python",
   "name": "python3"
  },
  "language_info": {
   "codemirror_mode": {
    "name": "ipython",
    "version": 3
   },
   "file_extension": ".py",
   "mimetype": "text/x-python",
   "name": "python",
   "nbconvert_exporter": "python",
   "pygments_lexer": "ipython3",
   "version": "3.6.5"
  }
 },
 "nbformat": 4,
 "nbformat_minor": 2
}
