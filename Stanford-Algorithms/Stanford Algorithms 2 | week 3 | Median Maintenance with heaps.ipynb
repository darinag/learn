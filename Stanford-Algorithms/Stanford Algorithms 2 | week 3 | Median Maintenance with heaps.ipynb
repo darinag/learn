{
 "cells": [
  {
   "cell_type": "markdown",
   "metadata": {},
   "source": [
    "The goal of this problem is to implement the \"Median Maintenance\" algorithm (covered in the Week 3 lecture on heap applications). The text file contains a list of the integers from 1 to 10000 in unsorted order; you should treat this as a stream of numbers, arriving one by one. Letting x_i denote the i-th number of the file, the k-th median m_k is defined as the median of the numbers x1...x_k. <br><br> So if k is odd then m_k is ((k+1)/2)th is the smalest number, if k is even then (k/2)th is the smallest <br><br> In the box below you should type the sum of these 10000 medians, modulo 10000 (i.e., only the last 4 digits). That is, you should compute (m1 + m2 + m3 + ... m1000) mod 10000"
   ]
  },
  {
   "cell_type": "code",
   "execution_count": 7,
   "metadata": {},
   "outputs": [
    {
     "name": "stdout",
     "output_type": "stream",
     "text": [
      "10000\n"
     ]
    }
   ],
   "source": [
    "FILE_NAME = 'Median.txt'\n",
    "with open(FILE_NAME, \"r\") as f:\n",
    "    lines = f.readlines()\n",
    "    \n",
    "for l in range(len(lines)):\n",
    "    lines[l] = lines[l].strip('\\n')\n",
    "    lines[l] = int(lines[l])\n",
    "print(len(lines))"
   ]
  },
  {
   "cell_type": "code",
   "execution_count": 9,
   "metadata": {},
   "outputs": [
    {
     "data": {
      "text/plain": [
       "[6331, 2793, 1640, 9290, 225, 625, 6195, 2303, 5685, 1354]"
      ]
     },
     "execution_count": 9,
     "metadata": {},
     "output_type": "execute_result"
    }
   ],
   "source": [
    "temp = lines[:10]\n",
    "temp"
   ]
  },
  {
   "cell_type": "code",
   "execution_count": 128,
   "metadata": {},
   "outputs": [],
   "source": [
    "# from heapq import heappush, heappop\n",
    "\n",
    "hmax = [] # items less than median\n",
    "hmin = [] # items greater than median\n",
    "med = []\n",
    "\n",
    "for item in lines:\n",
    "    heappush(hmax, -item)\n",
    "    el = - heappop(hmax)\n",
    "    \n",
    "    heappush(hmin, el)\n",
    "    \n",
    "    if len(hmax) < len(hmin):\n",
    "        elem = heappop(hmin)\n",
    "        heappush(hmax, - elem)\n",
    "        \n",
    "    m = - heappop(hmax)\n",
    "    med.append(m)\n",
    "    heappush(hmax, -m)\n",
    "\n",
    "sum = 0\n",
    "for m in med:\n",
    "    sum += m\n",
    "    \n",
    "res = sum % 10000"
   ]
  },
  {
   "cell_type": "code",
   "execution_count": 129,
   "metadata": {},
   "outputs": [
    {
     "data": {
      "text/plain": [
       "46831213"
      ]
     },
     "execution_count": 129,
     "metadata": {},
     "output_type": "execute_result"
    }
   ],
   "source": [
    "sum"
   ]
  },
  {
   "cell_type": "code",
   "execution_count": 130,
   "metadata": {},
   "outputs": [
    {
     "data": {
      "text/plain": [
       "1213"
      ]
     },
     "execution_count": 130,
     "metadata": {},
     "output_type": "execute_result"
    }
   ],
   "source": [
    "res"
   ]
  },
  {
   "cell_type": "code",
   "execution_count": 120,
   "metadata": {},
   "outputs": [],
   "source": [
    "# from heapq import heappush, heappop\n",
    "TEST_FILE = \"test.txt\"\n",
    "with open(TEST_FILE, \"r\") as f:\n",
    "    test = f.readlines()\n",
    "    \n",
    "for i in range(len(test)):\n",
    "    test[i] = test[i].strip('\\n')\n",
    "    test[i] = int(test[i])\n",
    "\n",
    "hmax = [] # items less than median\n",
    "hmin = [] # items greater than median\n",
    "med = []\n",
    "\n",
    "for item in [1]*1000:\n",
    "    heappush(hmax, -item)\n",
    "    el = - heappop(hmax)\n",
    "    \n",
    "    heappush(hmin, el)\n",
    "    \n",
    "    if len(hmax) < len(hmin):\n",
    "        elem = heappop(hmin)\n",
    "        heappush(hmax, - elem)\n",
    "        \n",
    "    m = - heappop(hmax)\n",
    "    med.append(m)\n",
    "    heappush(hmax, -m)\n",
    "\n",
    "sum = 0\n",
    "for m in med:\n",
    "    sum += m\n",
    "    \n",
    "res = sum % 10000\n",
    "\n",
    "TEST_MED = \"test_med.txt\"\n",
    "with open(TEST_MED, \"r\") as f:\n",
    "    test_med = f.readlines()\n",
    "\n",
    "for i in range(len(test_med)):\n",
    "    test_med[i] = test_med[i].strip('\\n')\n",
    "    test_med[i] = int(test_med[i])"
   ]
  },
  {
   "cell_type": "code",
   "execution_count": 116,
   "metadata": {},
   "outputs": [],
   "source": [
    "TEST_MED = \"test_med.txt\"\n",
    "with open(TEST_MED, \"r\") as f:\n",
    "    test_med = f.readlines()\n",
    "\n",
    "for i in range(len(test_med)):\n",
    "    test_med[i] = test_med[i].strip('\\n')\n",
    "    test_med[i] = int(test_med[i])\n",
    "    "
   ]
  },
  {
   "cell_type": "code",
   "execution_count": 119,
   "metadata": {},
   "outputs": [
    {
     "data": {
      "text/plain": [
       "True"
      ]
     },
     "execution_count": 119,
     "metadata": {},
     "output_type": "execute_result"
    }
   ],
   "source": [
    "med == test_med"
   ]
  }
 ],
 "metadata": {
  "kernelspec": {
   "display_name": "Python 3",
   "language": "python",
   "name": "python3"
  },
  "language_info": {
   "codemirror_mode": {
    "name": "ipython",
    "version": 3
   },
   "file_extension": ".py",
   "mimetype": "text/x-python",
   "name": "python",
   "nbconvert_exporter": "python",
   "pygments_lexer": "ipython3",
   "version": "3.6.5"
  }
 },
 "nbformat": 4,
 "nbformat_minor": 2
}
