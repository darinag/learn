{
 "cells": [
  {
   "cell_type": "markdown",
   "metadata": {},
   "source": [
    "In this programming problem and the next you'll code up the knapsack algorithm from lecture.\n",
    "<br><br>\n",
    "This file describes a knapsack instance, and it has the following format:\n",
    "\n",
    "[knapsack_size][number_of_items]\n",
    "\n",
    "[value_1] [weight_1]\n",
    "\n",
    "[value_2] [weight_2]\n",
    "\n",
    "...\n",
    "\n",
    "For example, the third line of the file is \"50074 659\", indicating that the second item has value 50074 and size 659, respectively.\n",
    "\n",
    "You can assume that all numbers are positive. You should assume that item weights and the knapsack capacity are integers.\n",
    "\n",
    "In the box below, type in the value of the optimal solution.\n",
    "<br><br>"
   ]
  },
  {
   "cell_type": "code",
   "execution_count": 170,
   "metadata": {},
   "outputs": [
    {
     "ename": "IndexError",
     "evalue": "list index out of range",
     "output_type": "error",
     "traceback": [
      "\u001b[0;31m---------------------------------------------------------------------------\u001b[0m",
      "\u001b[0;31mIndexError\u001b[0m                                Traceback (most recent call last)",
      "\u001b[0;32m<ipython-input-170-2536fdd5d055>\u001b[0m in \u001b[0;36m<module>\u001b[0;34m()\u001b[0m\n\u001b[1;32m     14\u001b[0m \u001b[0;32mfor\u001b[0m \u001b[0mi\u001b[0m \u001b[0;32min\u001b[0m \u001b[0mrange\u001b[0m\u001b[0;34m(\u001b[0m\u001b[0;36m1\u001b[0m\u001b[0;34m,\u001b[0m \u001b[0mlen\u001b[0m\u001b[0;34m(\u001b[0m\u001b[0mV\u001b[0m\u001b[0;34m)\u001b[0m\u001b[0;34m)\u001b[0m\u001b[0;34m:\u001b[0m\u001b[0;34m\u001b[0m\u001b[0m\n\u001b[1;32m     15\u001b[0m     \u001b[0;32mfor\u001b[0m \u001b[0mw\u001b[0m \u001b[0;32min\u001b[0m \u001b[0mrange\u001b[0m\u001b[0;34m(\u001b[0m\u001b[0mlen\u001b[0m\u001b[0;34m(\u001b[0m\u001b[0mV\u001b[0m\u001b[0;34m[\u001b[0m\u001b[0;36m0\u001b[0m\u001b[0;34m]\u001b[0m\u001b[0;34m)\u001b[0m\u001b[0;34m)\u001b[0m\u001b[0;34m:\u001b[0m\u001b[0;34m\u001b[0m\u001b[0m\n\u001b[0;32m---> 16\u001b[0;31m         \u001b[0;32mif\u001b[0m\u001b[0;34m(\u001b[0m\u001b[0mtest_data\u001b[0m\u001b[0;34m[\u001b[0m\u001b[0mi\u001b[0m\u001b[0;34m]\u001b[0m\u001b[0;34m[\u001b[0m\u001b[0;36m1\u001b[0m\u001b[0;34m]\u001b[0m \u001b[0;34m<=\u001b[0m \u001b[0mw\u001b[0m\u001b[0;34m)\u001b[0m\u001b[0;34m:\u001b[0m\u001b[0;34m\u001b[0m\u001b[0m\n\u001b[0m\u001b[1;32m     17\u001b[0m             \u001b[0mV\u001b[0m\u001b[0;34m[\u001b[0m\u001b[0mi\u001b[0m\u001b[0;34m]\u001b[0m\u001b[0;34m[\u001b[0m\u001b[0mw\u001b[0m\u001b[0;34m]\u001b[0m \u001b[0;34m=\u001b[0m \u001b[0mmax\u001b[0m\u001b[0;34m(\u001b[0m\u001b[0mV\u001b[0m\u001b[0;34m[\u001b[0m\u001b[0mi\u001b[0m\u001b[0;34m-\u001b[0m\u001b[0;36m1\u001b[0m\u001b[0;34m]\u001b[0m\u001b[0;34m[\u001b[0m\u001b[0mw\u001b[0m\u001b[0;34m]\u001b[0m\u001b[0;34m,\u001b[0m \u001b[0mV\u001b[0m\u001b[0;34m[\u001b[0m\u001b[0mi\u001b[0m\u001b[0;34m-\u001b[0m\u001b[0;36m1\u001b[0m\u001b[0;34m]\u001b[0m\u001b[0;34m[\u001b[0m\u001b[0mw\u001b[0m\u001b[0;34m-\u001b[0m\u001b[0mtest_data\u001b[0m\u001b[0;34m[\u001b[0m\u001b[0mi\u001b[0m\u001b[0;34m]\u001b[0m\u001b[0;34m[\u001b[0m\u001b[0;36m1\u001b[0m\u001b[0;34m]\u001b[0m\u001b[0;34m]\u001b[0m \u001b[0;34m+\u001b[0m \u001b[0mtest_data\u001b[0m\u001b[0;34m[\u001b[0m\u001b[0mi\u001b[0m\u001b[0;34m]\u001b[0m\u001b[0;34m[\u001b[0m\u001b[0;36m0\u001b[0m\u001b[0;34m]\u001b[0m\u001b[0;34m)\u001b[0m\u001b[0;34m\u001b[0m\u001b[0m\n",
      "\u001b[0;31mIndexError\u001b[0m: list index out of range"
     ]
    }
   ],
   "source": [
    "FILE_NAME = \"knapsack1.txt\"\n",
    "with open(FILE_NAME, \"r\") as f:\n",
    "    data = f.readlines()\n",
    "    \n",
    "for i in range(len(data)):\n",
    "    data[i] = data[i].strip('\\n').split()\n",
    "    data[i] = list(map(int, data[i]))\n",
    "    \n",
    "metrics = data[0]\n",
    "del data[0]\n",
    "\n",
    "V = [[0] * (metrics[0]+1) for x in range(metrics[1]+1)]\n",
    "\n",
    "for i in range(1, len(V)):\n",
    "    for w in range(len(V[0])):\n",
    "        if(test_data[i][1] <= w):\n",
    "            V[i][w] = max(V[i-1][w], V[i-1][w-test_data[i][1]] + test_data[i][0])"
   ]
  },
  {
   "cell_type": "code",
   "execution_count": 172,
   "metadata": {},
   "outputs": [
    {
     "data": {
      "text/plain": [
       "[10000, 100]"
      ]
     },
     "execution_count": 172,
     "metadata": {},
     "output_type": "execute_result"
    }
   ],
   "source": [
    "metrics"
   ]
  },
  {
   "cell_type": "code",
   "execution_count": 32,
   "metadata": {},
   "outputs": [
    {
     "data": {
      "text/plain": [
       "10001"
      ]
     },
     "execution_count": 32,
     "metadata": {},
     "output_type": "execute_result"
    }
   ],
   "source": [
    "len(V[0])"
   ]
  },
  {
   "cell_type": "code",
   "execution_count": 33,
   "metadata": {},
   "outputs": [
    {
     "data": {
      "text/plain": [
       "10001"
      ]
     },
     "execution_count": 33,
     "metadata": {},
     "output_type": "execute_result"
    }
   ],
   "source": [
    "len(V[0])"
   ]
  },
  {
   "cell_type": "code",
   "execution_count": 34,
   "metadata": {},
   "outputs": [
    {
     "data": {
      "text/plain": [
       "[10000, 100]"
      ]
     },
     "execution_count": 34,
     "metadata": {},
     "output_type": "execute_result"
    }
   ],
   "source": [
    "metrics"
   ]
  },
  {
   "cell_type": "code",
   "execution_count": 36,
   "metadata": {},
   "outputs": [
    {
     "data": {
      "text/plain": [
       "[[16808, 250],\n",
       " [50074, 659],\n",
       " [8931, 273],\n",
       " [27545, 879],\n",
       " [77924, 710],\n",
       " [64441, 166],\n",
       " [84493, 43],\n",
       " [7988, 504],\n",
       " [82328, 730],\n",
       " [78841, 613]]"
      ]
     },
     "execution_count": 36,
     "metadata": {},
     "output_type": "execute_result"
    }
   ],
   "source": [
    "data[:10]"
   ]
  },
  {
   "cell_type": "code",
   "execution_count": 118,
   "metadata": {},
   "outputs": [
    {
     "name": "stdout",
     "output_type": "stream",
     "text": [
      "i= 0\n",
      "w= 0\n",
      "test_data[i][0]= 0\n",
      "V= 0\n",
      "V[i-1][w]= 0\n",
      "test_data[i][0]]= 0\n",
      "V[i-1][w-test_data[i][1]]= 0\n",
      "V[i-1][w-test_data[i][1]] + test_data[i][0]= 0\n",
      " ------------------------- \n",
      "i= 0\n",
      "w= 1\n",
      "test_data[i][0]= 0\n",
      "V= 0\n",
      "V[i-1][w]= 0\n",
      "test_data[i][0]]= 0\n",
      "V[i-1][w-test_data[i][1]]= 0\n",
      "V[i-1][w-test_data[i][1]] + test_data[i][0]= 0\n",
      " ------------------------- \n",
      "i= 0\n",
      "w= 2\n",
      "test_data[i][0]= 0\n",
      "V= 0\n",
      "V[i-1][w]= 0\n",
      "test_data[i][0]]= 0\n",
      "V[i-1][w-test_data[i][1]]= 0\n",
      "V[i-1][w-test_data[i][1]] + test_data[i][0]= 0\n",
      " ------------------------- \n",
      "i= 0\n",
      "w= 3\n",
      "test_data[i][0]= 0\n",
      "V= 0\n",
      "V[i-1][w]= 0\n",
      "test_data[i][0]]= 0\n",
      "V[i-1][w-test_data[i][1]]= 0\n",
      "V[i-1][w-test_data[i][1]] + test_data[i][0]= 0\n",
      " ------------------------- \n",
      "i= 0\n",
      "w= 4\n",
      "test_data[i][0]= 0\n",
      "V= 0\n",
      "V[i-1][w]= 0\n",
      "test_data[i][0]]= 0\n",
      "V[i-1][w-test_data[i][1]]= 0\n",
      "V[i-1][w-test_data[i][1]] + test_data[i][0]= 0\n",
      " ------------------------- \n",
      "i= 0\n",
      "w= 5\n",
      "test_data[i][0]= 0\n",
      "V= 0\n",
      "V[i-1][w]= 0\n",
      "test_data[i][0]]= 0\n",
      "V[i-1][w-test_data[i][1]]= 0\n",
      "V[i-1][w-test_data[i][1]] + test_data[i][0]= 0\n",
      " ------------------------- \n",
      "i= 0\n",
      "w= 6\n",
      "test_data[i][0]= 0\n",
      "V= 0\n",
      "V[i-1][w]= 0\n",
      "test_data[i][0]]= 0\n",
      "V[i-1][w-test_data[i][1]]= 0\n",
      "V[i-1][w-test_data[i][1]] + test_data[i][0]= 0\n",
      " ------------------------- \n",
      "i= 0\n",
      "w= 7\n",
      "test_data[i][0]= 0\n",
      "V= 0\n",
      "V[i-1][w]= 0\n",
      "test_data[i][0]]= 0\n",
      "V[i-1][w-test_data[i][1]]= 0\n",
      "V[i-1][w-test_data[i][1]] + test_data[i][0]= 0\n",
      " ------------------------- \n",
      "i= 0\n",
      "w= 8\n",
      "test_data[i][0]= 0\n",
      "V= 0\n",
      "V[i-1][w]= 0\n",
      "test_data[i][0]]= 0\n",
      "V[i-1][w-test_data[i][1]]= 0\n",
      "V[i-1][w-test_data[i][1]] + test_data[i][0]= 0\n",
      " ------------------------- \n",
      "i= 0\n",
      "w= 9\n",
      "test_data[i][0]= 0\n",
      "V= 0\n",
      "V[i-1][w]= 0\n",
      "test_data[i][0]]= 0\n",
      "V[i-1][w-test_data[i][1]]= 0\n",
      "V[i-1][w-test_data[i][1]] + test_data[i][0]= 0\n",
      " ------------------------- \n",
      "i= 0\n",
      "w= 10\n",
      "test_data[i][0]= 0\n",
      "V= 0\n",
      "V[i-1][w]= 0\n",
      "test_data[i][0]]= 0\n",
      "V[i-1][w-test_data[i][1]]= 0\n",
      "V[i-1][w-test_data[i][1]] + test_data[i][0]= 0\n",
      " ------------------------- \n",
      "i= 1\n",
      "w= 0\n",
      "test_data[i][0]= 5\n",
      "i= 1\n",
      "w= 1\n",
      "test_data[i][0]= 5\n",
      "i= 1\n",
      "w= 2\n",
      "test_data[i][0]= 5\n",
      "i= 1\n",
      "w= 3\n",
      "test_data[i][0]= 5\n",
      "i= 1\n",
      "w= 4\n",
      "test_data[i][0]= 5\n",
      "i= 1\n",
      "w= 5\n",
      "test_data[i][0]= 5\n",
      "V= 10\n",
      "V[i-1][w]= 0\n",
      "test_data[i][0]]= 10\n",
      "V[i-1][w-test_data[i][1]]= 0\n",
      "V[i-1][w-test_data[i][1]] + test_data[i][0]= 10\n",
      " ------------------------- \n",
      "i= 1\n",
      "w= 6\n",
      "test_data[i][0]= 5\n",
      "V= 10\n",
      "V[i-1][w]= 0\n",
      "test_data[i][0]]= 10\n",
      "V[i-1][w-test_data[i][1]]= 0\n",
      "V[i-1][w-test_data[i][1]] + test_data[i][0]= 10\n",
      " ------------------------- \n",
      "i= 1\n",
      "w= 7\n",
      "test_data[i][0]= 5\n",
      "V= 10\n",
      "V[i-1][w]= 0\n",
      "test_data[i][0]]= 10\n",
      "V[i-1][w-test_data[i][1]]= 0\n",
      "V[i-1][w-test_data[i][1]] + test_data[i][0]= 10\n",
      " ------------------------- \n",
      "i= 1\n",
      "w= 8\n",
      "test_data[i][0]= 5\n",
      "V= 10\n",
      "V[i-1][w]= 0\n",
      "test_data[i][0]]= 10\n",
      "V[i-1][w-test_data[i][1]]= 0\n",
      "V[i-1][w-test_data[i][1]] + test_data[i][0]= 10\n",
      " ------------------------- \n",
      "i= 1\n",
      "w= 9\n",
      "test_data[i][0]= 5\n",
      "V= 10\n",
      "V[i-1][w]= 0\n",
      "test_data[i][0]]= 10\n",
      "V[i-1][w-test_data[i][1]]= 0\n",
      "V[i-1][w-test_data[i][1]] + test_data[i][0]= 10\n",
      " ------------------------- \n",
      "i= 1\n",
      "w= 10\n",
      "test_data[i][0]= 5\n",
      "V= 10\n",
      "V[i-1][w]= 0\n",
      "test_data[i][0]]= 10\n",
      "V[i-1][w-test_data[i][1]]= 0\n",
      "V[i-1][w-test_data[i][1]] + test_data[i][0]= 10\n",
      " ------------------------- \n",
      "i= 2\n",
      "w= 0\n",
      "test_data[i][0]= 4\n",
      "i= 2\n",
      "w= 1\n",
      "test_data[i][0]= 4\n",
      "i= 2\n",
      "w= 2\n",
      "test_data[i][0]= 4\n",
      "i= 2\n",
      "w= 3\n",
      "test_data[i][0]= 4\n",
      "i= 2\n",
      "w= 4\n",
      "test_data[i][0]= 4\n",
      "V= 40\n",
      "V[i-1][w]= 0\n",
      "test_data[i][0]]= 40\n",
      "V[i-1][w-test_data[i][1]]= 0\n",
      "V[i-1][w-test_data[i][1]] + test_data[i][0]= 40\n",
      " ------------------------- \n",
      "i= 2\n",
      "w= 5\n",
      "test_data[i][0]= 4\n",
      "V= 40\n",
      "V[i-1][w]= 10\n",
      "test_data[i][0]]= 40\n",
      "V[i-1][w-test_data[i][1]]= 0\n",
      "V[i-1][w-test_data[i][1]] + test_data[i][0]= 40\n",
      " ------------------------- \n",
      "i= 2\n",
      "w= 6\n",
      "test_data[i][0]= 4\n",
      "V= 40\n",
      "V[i-1][w]= 10\n",
      "test_data[i][0]]= 40\n",
      "V[i-1][w-test_data[i][1]]= 0\n",
      "V[i-1][w-test_data[i][1]] + test_data[i][0]= 40\n",
      " ------------------------- \n",
      "i= 2\n",
      "w= 7\n",
      "test_data[i][0]= 4\n",
      "V= 40\n",
      "V[i-1][w]= 10\n",
      "test_data[i][0]]= 40\n",
      "V[i-1][w-test_data[i][1]]= 0\n",
      "V[i-1][w-test_data[i][1]] + test_data[i][0]= 40\n",
      " ------------------------- \n",
      "i= 2\n",
      "w= 8\n",
      "test_data[i][0]= 4\n",
      "V= 40\n",
      "V[i-1][w]= 10\n",
      "test_data[i][0]]= 40\n",
      "V[i-1][w-test_data[i][1]]= 0\n",
      "V[i-1][w-test_data[i][1]] + test_data[i][0]= 40\n",
      " ------------------------- \n",
      "i= 2\n",
      "w= 9\n",
      "test_data[i][0]= 4\n",
      "V= 50\n",
      "V[i-1][w]= 10\n",
      "test_data[i][0]]= 40\n",
      "V[i-1][w-test_data[i][1]]= 10\n",
      "V[i-1][w-test_data[i][1]] + test_data[i][0]= 50\n",
      " ------------------------- \n",
      "i= 2\n",
      "w= 10\n",
      "test_data[i][0]= 4\n",
      "V= 50\n",
      "V[i-1][w]= 10\n",
      "test_data[i][0]]= 40\n",
      "V[i-1][w-test_data[i][1]]= 10\n",
      "V[i-1][w-test_data[i][1]] + test_data[i][0]= 50\n",
      " ------------------------- \n",
      "i= 3\n",
      "w= 0\n",
      "test_data[i][0]= 6\n",
      "i= 3\n",
      "w= 1\n",
      "test_data[i][0]= 6\n",
      "i= 3\n",
      "w= 2\n",
      "test_data[i][0]= 6\n",
      "i= 3\n",
      "w= 3\n",
      "test_data[i][0]= 6\n",
      "i= 3\n",
      "w= 4\n",
      "test_data[i][0]= 6\n",
      "i= 3\n",
      "w= 5\n",
      "test_data[i][0]= 6\n",
      "i= 3\n",
      "w= 6\n",
      "test_data[i][0]= 6\n",
      "V= 40\n",
      "V[i-1][w]= 40\n",
      "test_data[i][0]]= 30\n",
      "V[i-1][w-test_data[i][1]]= 0\n",
      "V[i-1][w-test_data[i][1]] + test_data[i][0]= 30\n",
      " ------------------------- \n",
      "i= 3\n",
      "w= 7\n",
      "test_data[i][0]= 6\n",
      "V= 40\n",
      "V[i-1][w]= 40\n",
      "test_data[i][0]]= 30\n",
      "V[i-1][w-test_data[i][1]]= 0\n",
      "V[i-1][w-test_data[i][1]] + test_data[i][0]= 30\n",
      " ------------------------- \n",
      "i= 3\n",
      "w= 8\n",
      "test_data[i][0]= 6\n",
      "V= 40\n",
      "V[i-1][w]= 40\n",
      "test_data[i][0]]= 30\n",
      "V[i-1][w-test_data[i][1]]= 0\n",
      "V[i-1][w-test_data[i][1]] + test_data[i][0]= 30\n",
      " ------------------------- \n",
      "i= 3\n",
      "w= 9\n",
      "test_data[i][0]= 6\n",
      "V= 50\n",
      "V[i-1][w]= 50\n",
      "test_data[i][0]]= 30\n",
      "V[i-1][w-test_data[i][1]]= 0\n",
      "V[i-1][w-test_data[i][1]] + test_data[i][0]= 30\n",
      " ------------------------- \n",
      "i= 3\n",
      "w= 10\n",
      "test_data[i][0]= 6\n",
      "V= 70\n",
      "V[i-1][w]= 50\n",
      "test_data[i][0]]= 30\n",
      "V[i-1][w-test_data[i][1]]= 40\n",
      "V[i-1][w-test_data[i][1]] + test_data[i][0]= 70\n",
      " ------------------------- \n",
      "i= 4\n",
      "w= 0\n",
      "test_data[i][0]= 3\n",
      "i= 4\n",
      "w= 1\n",
      "test_data[i][0]= 3\n",
      "i= 4\n",
      "w= 2\n",
      "test_data[i][0]= 3\n",
      "i= 4\n",
      "w= 3\n",
      "test_data[i][0]= 3\n",
      "V= 50\n",
      "V[i-1][w]= 0\n",
      "test_data[i][0]]= 50\n",
      "V[i-1][w-test_data[i][1]]= 0\n",
      "V[i-1][w-test_data[i][1]] + test_data[i][0]= 50\n",
      " ------------------------- \n",
      "i= 4\n",
      "w= 4\n",
      "test_data[i][0]= 3\n",
      "V= 50\n",
      "V[i-1][w]= 0\n",
      "test_data[i][0]]= 50\n",
      "V[i-1][w-test_data[i][1]]= 0\n",
      "V[i-1][w-test_data[i][1]] + test_data[i][0]= 50\n",
      " ------------------------- \n",
      "i= 4\n",
      "w= 5\n",
      "test_data[i][0]= 3\n",
      "V= 50\n",
      "V[i-1][w]= 0\n",
      "test_data[i][0]]= 50\n",
      "V[i-1][w-test_data[i][1]]= 0\n",
      "V[i-1][w-test_data[i][1]] + test_data[i][0]= 50\n",
      " ------------------------- \n",
      "i= 4\n",
      "w= 6\n",
      "test_data[i][0]= 3\n",
      "V= 50\n",
      "V[i-1][w]= 40\n",
      "test_data[i][0]]= 50\n",
      "V[i-1][w-test_data[i][1]]= 0\n",
      "V[i-1][w-test_data[i][1]] + test_data[i][0]= 50\n",
      " ------------------------- \n",
      "i= 4\n",
      "w= 7\n",
      "test_data[i][0]= 3\n",
      "V= 50\n",
      "V[i-1][w]= 40\n",
      "test_data[i][0]]= 50\n",
      "V[i-1][w-test_data[i][1]]= 0\n",
      "V[i-1][w-test_data[i][1]] + test_data[i][0]= 50\n",
      " ------------------------- \n",
      "i= 4\n",
      "w= 8\n",
      "test_data[i][0]= 3\n",
      "V= 50\n",
      "V[i-1][w]= 40\n",
      "test_data[i][0]]= 50\n",
      "V[i-1][w-test_data[i][1]]= 0\n",
      "V[i-1][w-test_data[i][1]] + test_data[i][0]= 50\n",
      " ------------------------- \n",
      "i= 4\n",
      "w= 9\n",
      "test_data[i][0]= 3\n",
      "V= 90\n",
      "V[i-1][w]= 50\n",
      "test_data[i][0]]= 50\n",
      "V[i-1][w-test_data[i][1]]= 40\n",
      "V[i-1][w-test_data[i][1]] + test_data[i][0]= 90\n",
      " ------------------------- \n",
      "i= 4\n",
      "w= 10\n",
      "test_data[i][0]= 3\n",
      "V= 90\n",
      "V[i-1][w]= 70\n",
      "test_data[i][0]]= 50\n",
      "V[i-1][w-test_data[i][1]]= 40\n",
      "V[i-1][w-test_data[i][1]] + test_data[i][0]= 90\n",
      " ------------------------- \n"
     ]
    }
   ],
   "source": [
    "test_data = [\n",
    " [0, 0],\n",
    " [10, 5],\n",
    " [40, 4],\n",
    " [30, 6],\n",
    " [50, 3]]\n",
    "\n",
    "test_metrics = [10, 4]\n",
    "\n",
    "V = [[0] * (test_metrics[0]+1) for x in range(test_metrics[1]+1)]\n",
    "\n",
    "for i in range(len(V)):\n",
    "    for w in range(len(V[0])):\n",
    "        print(\"i=\", i)\n",
    "        print(\"w=\", w)\n",
    "        print(\"test_data[i][0]=\", test_data[i][1])\n",
    "#         print(\" ------------------------- \")\n",
    "        if(test_data[i][1] <= w):\n",
    "            V[i][w] = max(V[i-1][w], V[i-1][w-test_data[i][1]] + test_data[i][0])\n",
    "            print(\"V=\", V[i][w])\n",
    "            print(\"V[i-1][w]=\", V[i-1][w])\n",
    "            print(\"test_data[i][0]]=\", test_data[i][0])\n",
    "            print(\"V[i-1][w-test_data[i][1]]=\", V[i-1][w-test_data[i][1]])\n",
    "            print(\"V[i-1][w-test_data[i][1]] + test_data[i][0]=\", V[i-1][w-test_data[i][1]] + test_data[i][0])\n",
    "            print(\" ------------------------- \")"
   ]
  },
  {
   "cell_type": "code",
   "execution_count": 113,
   "metadata": {},
   "outputs": [
    {
     "data": {
      "text/plain": [
       "[[0, 0, 0, 0, 0, 0, 0, 0, 0, 0, 0],\n",
       " [0, 0, 0, 0, 0, 10, 10, 10, 10, 10, 10],\n",
       " [0, 0, 0, 0, 40, 40, 40, 40, 40, 50, 50],\n",
       " [0, 0, 0, 0, 0, 0, 40, 40, 40, 50, 70],\n",
       " [0, 0, 0, 50, 50, 50, 50, 50, 50, 90, 90]]"
      ]
     },
     "execution_count": 113,
     "metadata": {},
     "output_type": "execute_result"
    }
   ],
   "source": [
    "V"
   ]
  },
  {
   "cell_type": "code",
   "execution_count": 55,
   "metadata": {},
   "outputs": [
    {
     "data": {
      "text/plain": [
       "5"
      ]
     },
     "execution_count": 55,
     "metadata": {},
     "output_type": "execute_result"
    }
   ],
   "source": [
    "test_data[0][1]"
   ]
  },
  {
   "cell_type": "code",
   "execution_count": 122,
   "metadata": {},
   "outputs": [],
   "source": [
    "test_data = data\n",
    "# data[0] = [0, 0]\n",
    "test_metrics = [10000, 100]\n",
    "\n",
    "V = [[0] * (test_metrics[0]) for x in range(test_metrics[1]+1)]\n",
    "\n",
    "for i in range(1, len(V)):\n",
    "    for w in range(len(V[0])):\n",
    "        if(test_data[i][1] <= w):\n",
    "            V[i][w] = max(V[i-1][w], V[i-1][w-test_data[i][1]] + test_data[i][0])"
   ]
  },
  {
   "cell_type": "code",
   "execution_count": 92,
   "metadata": {},
   "outputs": [
    {
     "data": {
      "text/plain": [
       "2489489"
      ]
     },
     "execution_count": 92,
     "metadata": {},
     "output_type": "execute_result"
    }
   ],
   "source": [
    "V[-1][-1]"
   ]
  },
  {
   "cell_type": "code",
   "execution_count": 119,
   "metadata": {},
   "outputs": [
    {
     "ename": "IndentationError",
     "evalue": "unexpected indent (<ipython-input-119-43bfd29d0bc9>, line 5)",
     "output_type": "error",
     "traceback": [
      "\u001b[0;36m  File \u001b[0;32m\"<ipython-input-119-43bfd29d0bc9>\"\u001b[0;36m, line \u001b[0;32m5\u001b[0m\n\u001b[0;31m    subproblems.append(subproblem)\u001b[0m\n\u001b[0m    ^\u001b[0m\n\u001b[0;31mIndentationError\u001b[0m\u001b[0;31m:\u001b[0m unexpected indent\n"
     ]
    }
   ],
   "source": [
    "2489489\n",
    "2493893\n",
    "398048\n",
    "\n",
    "   subproblems.append(subproblem)\n",
    "\n",
    "print subproblems[-1][-1]\n",
    "#2493893\n",
    "2493893\n"
   ]
  },
  {
   "cell_type": "code",
   "execution_count": 120,
   "metadata": {},
   "outputs": [],
   "source": [
    "d = 3"
   ]
  },
  {
   "cell_type": "code",
   "execution_count": null,
   "metadata": {},
   "outputs": [],
   "source": []
  },
  {
   "cell_type": "code",
   "execution_count": 141,
   "metadata": {},
   "outputs": [
    {
     "name": "stdout",
     "output_type": "stream",
     "text": [
      "i= 1\n",
      "w= 0\n",
      "test_data[i][0]= 5\n",
      "i= 1\n",
      "w= 1\n",
      "test_data[i][0]= 5\n",
      "i= 1\n",
      "w= 2\n",
      "test_data[i][0]= 5\n",
      "i= 1\n",
      "w= 3\n",
      "test_data[i][0]= 5\n",
      "i= 1\n",
      "w= 4\n",
      "test_data[i][0]= 5\n",
      "i= 2\n",
      "w= 0\n",
      "test_data[i][0]= 4\n",
      "i= 2\n",
      "w= 1\n",
      "test_data[i][0]= 4\n",
      "i= 2\n",
      "w= 2\n",
      "test_data[i][0]= 4\n",
      "i= 2\n",
      "w= 3\n",
      "test_data[i][0]= 4\n",
      "i= 2\n",
      "w= 4\n",
      "test_data[i][0]= 4\n",
      "V= 40\n",
      "V[i-1][w]= 0\n",
      "test_data[i-1][0]]= 40\n",
      "V[i-1][w-test_data[i][1]]= 0\n",
      "V[i-1][w-test_data[i][1]] + test_data[i][0]= 40\n",
      " ------------------------- \n",
      "i= 3\n",
      "w= 0\n",
      "test_data[i][0]= 6\n",
      "i= 3\n",
      "w= 1\n",
      "test_data[i][0]= 6\n",
      "i= 3\n",
      "w= 2\n",
      "test_data[i][0]= 6\n",
      "i= 3\n",
      "w= 3\n",
      "test_data[i][0]= 6\n",
      "i= 3\n",
      "w= 4\n",
      "test_data[i][0]= 6\n",
      "i= 4\n",
      "w= 0\n",
      "test_data[i][0]= 3\n",
      "i= 4\n",
      "w= 1\n",
      "test_data[i][0]= 3\n",
      "i= 4\n",
      "w= 2\n",
      "test_data[i][0]= 3\n",
      "i= 4\n",
      "w= 3\n",
      "test_data[i][0]= 3\n",
      "V= 50\n",
      "V[i-1][w]= 0\n",
      "test_data[i-1][0]]= 50\n",
      "V[i-1][w-test_data[i][1]]= 0\n",
      "V[i-1][w-test_data[i][1]] + test_data[i][0]= 50\n",
      " ------------------------- \n",
      "i= 4\n",
      "w= 4\n",
      "test_data[i][0]= 3\n",
      "V= 50\n",
      "V[i-1][w]= 0\n",
      "test_data[i-1][0]]= 50\n",
      "V[i-1][w-test_data[i][1]]= 0\n",
      "V[i-1][w-test_data[i][1]] + test_data[i][0]= 50\n",
      " ------------------------- \n",
      "i= 5\n",
      "w= 0\n"
     ]
    },
    {
     "ename": "IndexError",
     "evalue": "list index out of range",
     "output_type": "error",
     "traceback": [
      "\u001b[0;31m---------------------------------------------------------------------------\u001b[0m",
      "\u001b[0;31mIndexError\u001b[0m                                Traceback (most recent call last)",
      "\u001b[0;32m<ipython-input-141-fee67ba1bc08>\u001b[0m in \u001b[0;36m<module>\u001b[0;34m()\u001b[0m\n\u001b[1;32m     13\u001b[0m         \u001b[0mprint\u001b[0m\u001b[0;34m(\u001b[0m\u001b[0;34m\"i=\"\u001b[0m\u001b[0;34m,\u001b[0m \u001b[0mi\u001b[0m\u001b[0;34m)\u001b[0m\u001b[0;34m\u001b[0m\u001b[0m\n\u001b[1;32m     14\u001b[0m         \u001b[0mprint\u001b[0m\u001b[0;34m(\u001b[0m\u001b[0;34m\"w=\"\u001b[0m\u001b[0;34m,\u001b[0m \u001b[0mw\u001b[0m\u001b[0;34m)\u001b[0m\u001b[0;34m\u001b[0m\u001b[0m\n\u001b[0;32m---> 15\u001b[0;31m         \u001b[0mprint\u001b[0m\u001b[0;34m(\u001b[0m\u001b[0;34m\"test_data[i][0]=\"\u001b[0m\u001b[0;34m,\u001b[0m \u001b[0mtest_data\u001b[0m\u001b[0;34m[\u001b[0m\u001b[0mi\u001b[0m\u001b[0;34m-\u001b[0m\u001b[0;36m1\u001b[0m\u001b[0;34m]\u001b[0m\u001b[0;34m[\u001b[0m\u001b[0;36m1\u001b[0m\u001b[0;34m]\u001b[0m\u001b[0;34m)\u001b[0m\u001b[0;34m\u001b[0m\u001b[0m\n\u001b[0m\u001b[1;32m     16\u001b[0m \u001b[0;31m#         print(\" ------------------------- \")\u001b[0m\u001b[0;34m\u001b[0m\u001b[0;34m\u001b[0m\u001b[0m\n\u001b[1;32m     17\u001b[0m         \u001b[0;32mif\u001b[0m\u001b[0;34m(\u001b[0m\u001b[0mtest_data\u001b[0m\u001b[0;34m[\u001b[0m\u001b[0mi\u001b[0m\u001b[0;34m-\u001b[0m\u001b[0;36m1\u001b[0m\u001b[0;34m]\u001b[0m\u001b[0;34m[\u001b[0m\u001b[0;36m1\u001b[0m\u001b[0;34m]\u001b[0m \u001b[0;34m<=\u001b[0m \u001b[0mw\u001b[0m\u001b[0;34m)\u001b[0m\u001b[0;34m:\u001b[0m\u001b[0;34m\u001b[0m\u001b[0m\n",
      "\u001b[0;31mIndexError\u001b[0m: list index out of range"
     ]
    }
   ],
   "source": [
    "test_data = [\n",
    " [10, 5],\n",
    " [40, 4],\n",
    " [30, 6],\n",
    " [50, 3]]\n",
    "\n",
    "test_metrics = [10, 4]\n",
    "\n",
    "V = [[0] * (test_metrics[0]+1) for x in range(test_metrics[1]+1)]\n",
    "\n",
    "for i in range(1, len(V)):\n",
    "    for w in range(len(V[0])):\n",
    "        print(\"i=\", i)\n",
    "        print(\"w=\", w)\n",
    "        print(\"test_data[i][0]=\", test_data[i-1][1])\n",
    "#         print(\" ------------------------- \")\n",
    "        if(test_data[i-1][1] <= w):\n",
    "            V[i][w] = max(V[i-1][w], V[i-1][w-test_data[i-1][1]] + test_data[i-1][0])\n",
    "            print(\"V=\", V[i][w])\n",
    "            print(\"V[i-1][w]=\", V[i-1][w])\n",
    "            print(\"test_data[i-1][0]]=\", test_data[i-1][0])\n",
    "            print(\"V[i-1][w-test_data[i][1]]=\", V[i-1][w-test_data[i-1][1]])\n",
    "            print(\"V[i-1][w-test_data[i][1]] + test_data[i][0]=\", V[i-1][w-test_data[i-1][1]] + test_data[i-1][0])\n",
    "            print(\" ------------------------- \")"
   ]
  },
  {
   "cell_type": "code",
   "execution_count": 137,
   "metadata": {},
   "outputs": [
    {
     "data": {
      "text/plain": [
       "[[0, 0, 0, 0, 0, 0, 0, 0, 0, 0, 0],\n",
       " [0, 0, 0, 0, 0, 10, 10, 10, 10, 10, 10],\n",
       " [0, 0, 0, 0, 40, 40, 40, 40, 40, 50, 50],\n",
       " [0, 0, 0, 0, 0, 0, 40, 40, 40, 50, 70],\n",
       " [0, 0, 0, 50, 50, 50, 50, 50, 50, 90, 90]]"
      ]
     },
     "execution_count": 137,
     "metadata": {},
     "output_type": "execute_result"
    }
   ],
   "source": [
    "V"
   ]
  },
  {
   "cell_type": "code",
   "execution_count": 131,
   "metadata": {},
   "outputs": [
    {
     "data": {
      "text/plain": [
       "[[0, 0, 0, 0, 0, 0, 0, 0, 0, 0, 0],\n",
       " [0, 0, 0, 0, 40, 40, 40, 40, 40, 40, 40],\n",
       " [0, 0, 0, 0, 0, 0, 40, 40, 40, 40, 70],\n",
       " [0, 0, 0, 50, 50, 50, 50, 50, 50, 90, 90],\n",
       " [0, 0, 0, 0, 0, 0, 0, 0, 0, 0, 0]]"
      ]
     },
     "execution_count": 131,
     "metadata": {},
     "output_type": "execute_result"
    }
   ],
   "source": [
    "V"
   ]
  },
  {
   "cell_type": "code",
   "execution_count": 167,
   "metadata": {},
   "outputs": [],
   "source": [
    "items = [\n",
    " [10, 5],\n",
    " [40, 4],\n",
    " [30, 6],\n",
    " [50, 3]]\n",
    "\n",
    "row = numItems = 4\n",
    "col = maxWeight = 10\n",
    "\n",
    "table = [[0] * (col+1) for x in range(row+1)]\n",
    "\n",
    "for i in range(1, row+1):\n",
    "    for j in range(1, col+1):\n",
    "        if (items[i-1][1] <= j):\n",
    "            table[i][j] = max(table[i-1][j], table[i-1][j- items[i-1][1]] + items[i-1][0])\n",
    "        else:\n",
    "            table[i][j] = table[i-1][j]"
   ]
  },
  {
   "cell_type": "code",
   "execution_count": 168,
   "metadata": {},
   "outputs": [
    {
     "data": {
      "text/plain": [
       "[[0, 0, 0, 0, 0, 0, 0, 0, 0, 0, 0],\n",
       " [0, 0, 0, 0, 0, 10, 10, 10, 10, 10, 10],\n",
       " [0, 0, 0, 0, 40, 40, 40, 40, 40, 50, 50],\n",
       " [0, 0, 0, 0, 40, 40, 40, 40, 40, 50, 70],\n",
       " [0, 0, 0, 50, 50, 50, 50, 90, 90, 90, 90]]"
      ]
     },
     "execution_count": 168,
     "metadata": {},
     "output_type": "execute_result"
    }
   ],
   "source": [
    "table"
   ]
  },
  {
   "cell_type": "code",
   "execution_count": null,
   "metadata": {},
   "outputs": [],
   "source": []
  },
  {
   "cell_type": "code",
   "execution_count": 194,
   "metadata": {},
   "outputs": [],
   "source": [
    "FILE_NAME = \"knapsack1.txt\"\n",
    "with open(FILE_NAME, \"r\") as f:\n",
    "    data = f.readlines()\n",
    "    \n",
    "for i in range(len(data)):\n",
    "    data[i] = data[i].strip('\\n').split()\n",
    "    data[i] = list(map(int, data[i]))\n",
    "    \n",
    "del data[0]\n",
    "\n",
    "items = data\n",
    "row = numItems = 100\n",
    "col = maxWeight = 10000\n",
    "\n",
    "table = [[0] * (col+1) for x in range(row+1)]\n",
    "\n",
    "for i in range(1, row+1):\n",
    "    for j in range(1, col+1):\n",
    "        if (items[i-1][1] <= j):\n",
    "            table[i][j] = max(table[i-1][j], table[i-1][j- items[i-1][1]] + items[i-1][0])\n",
    "        else:\n",
    "            table[i][j] = table[i-1][j]"
   ]
  },
  {
   "cell_type": "code",
   "execution_count": 195,
   "metadata": {},
   "outputs": [
    {
     "data": {
      "text/plain": [
       "2493893"
      ]
     },
     "execution_count": 195,
     "metadata": {},
     "output_type": "execute_result"
    }
   ],
   "source": [
    "table[-1][-1]"
   ]
  },
  {
   "cell_type": "markdown",
   "metadata": {},
   "source": [
    "This problem also asks you to solve a knapsack instance, but a much bigger one. <br><br>\n",
    "\n",
    "This file describes a knapsack instance, and it has the following format:\n",
    "\n",
    "[knapsack_size][number_of_items]\n",
    "\n",
    "[value_1] [weight_1]\n",
    "\n",
    "[value_2] [weight_2]\n",
    "\n",
    "...\n",
    "\n",
    "For example, the third line of the file is \"50074 834558\", indicating that the second item has value 50074 and size 834558, respectively. As before, you should assume that item weights and the knapsack capacity are integers.\n",
    "\n",
    "This instance is so big that the straightforward iterative implemetation uses an infeasible amount of time and space. So you will have to be creative to compute an optimal solution. One idea is to go back to a recursive implementation, solving subproblems --- and, of course, caching the results to avoid redundant work --- only on an \"as needed\" basis. Also, be sure to think about appropriate data structures for storing and looking up solutions to subproblems.\n",
    "\n",
    "<br><br>"
   ]
  },
  {
   "cell_type": "code",
   "execution_count": 175,
   "metadata": {},
   "outputs": [],
   "source": [
    "FILE_NAME = \"knapsackBig.txt\"\n",
    "with open(FILE_NAME, \"r\") as f:\n",
    "    data = f.readlines()\n",
    "    \n",
    "for i in range(len(data)):\n",
    "    data[i] = data[i].strip('\\n').split()\n",
    "    data[i] = list(map(int, data[i]))\n",
    "    \n",
    "metrics = data[0]\n",
    "del data[0]"
   ]
  },
  {
   "cell_type": "code",
   "execution_count": 178,
   "metadata": {},
   "outputs": [
    {
     "ename": "KeyboardInterrupt",
     "evalue": "",
     "output_type": "error",
     "traceback": [
      "\u001b[0;31m---------------------------------------------------------------------------\u001b[0m",
      "\u001b[0;31mKeyboardInterrupt\u001b[0m                         Traceback (most recent call last)",
      "\u001b[0;32m~/anaconda3/lib/python3.6/site-packages/IPython/core/interactiveshell.py\u001b[0m in \u001b[0;36mrun_code\u001b[0;34m(self, code_obj, result)\u001b[0m\n\u001b[1;32m   2962\u001b[0m                 \u001b[0;31m#rprint('Running code', repr(code_obj)) # dbg\u001b[0m\u001b[0;34m\u001b[0m\u001b[0;34m\u001b[0m\u001b[0m\n\u001b[0;32m-> 2963\u001b[0;31m                 \u001b[0mexec\u001b[0m\u001b[0;34m(\u001b[0m\u001b[0mcode_obj\u001b[0m\u001b[0;34m,\u001b[0m \u001b[0mself\u001b[0m\u001b[0;34m.\u001b[0m\u001b[0muser_global_ns\u001b[0m\u001b[0;34m,\u001b[0m \u001b[0mself\u001b[0m\u001b[0;34m.\u001b[0m\u001b[0muser_ns\u001b[0m\u001b[0;34m)\u001b[0m\u001b[0;34m\u001b[0m\u001b[0m\n\u001b[0m\u001b[1;32m   2964\u001b[0m             \u001b[0;32mfinally\u001b[0m\u001b[0;34m:\u001b[0m\u001b[0;34m\u001b[0m\u001b[0m\n",
      "\u001b[0;32m<ipython-input-178-7c90fb5b9061>\u001b[0m in \u001b[0;36m<module>\u001b[0;34m()\u001b[0m\n\u001b[1;32m      4\u001b[0m \u001b[0;34m\u001b[0m\u001b[0m\n\u001b[0;32m----> 5\u001b[0;31m \u001b[0mtable\u001b[0m \u001b[0;34m=\u001b[0m \u001b[0;34m[\u001b[0m\u001b[0;34m[\u001b[0m\u001b[0;36m0\u001b[0m\u001b[0;34m]\u001b[0m \u001b[0;34m*\u001b[0m \u001b[0;34m(\u001b[0m\u001b[0mcol\u001b[0m\u001b[0;34m+\u001b[0m\u001b[0;36m1\u001b[0m\u001b[0;34m)\u001b[0m \u001b[0;32mfor\u001b[0m \u001b[0mx\u001b[0m \u001b[0;32min\u001b[0m \u001b[0mrange\u001b[0m\u001b[0;34m(\u001b[0m\u001b[0mrow\u001b[0m\u001b[0;34m+\u001b[0m\u001b[0;36m1\u001b[0m\u001b[0;34m)\u001b[0m\u001b[0;34m]\u001b[0m\u001b[0;34m\u001b[0m\u001b[0m\n\u001b[0m\u001b[1;32m      6\u001b[0m \u001b[0;34m\u001b[0m\u001b[0m\n",
      "\u001b[0;32m<ipython-input-178-7c90fb5b9061>\u001b[0m in \u001b[0;36m<listcomp>\u001b[0;34m(.0)\u001b[0m\n\u001b[1;32m      4\u001b[0m \u001b[0;34m\u001b[0m\u001b[0m\n\u001b[0;32m----> 5\u001b[0;31m \u001b[0mtable\u001b[0m \u001b[0;34m=\u001b[0m \u001b[0;34m[\u001b[0m\u001b[0;34m[\u001b[0m\u001b[0;36m0\u001b[0m\u001b[0;34m]\u001b[0m \u001b[0;34m*\u001b[0m \u001b[0;34m(\u001b[0m\u001b[0mcol\u001b[0m\u001b[0;34m+\u001b[0m\u001b[0;36m1\u001b[0m\u001b[0;34m)\u001b[0m \u001b[0;32mfor\u001b[0m \u001b[0mx\u001b[0m \u001b[0;32min\u001b[0m \u001b[0mrange\u001b[0m\u001b[0;34m(\u001b[0m\u001b[0mrow\u001b[0m\u001b[0;34m+\u001b[0m\u001b[0;36m1\u001b[0m\u001b[0;34m)\u001b[0m\u001b[0;34m]\u001b[0m\u001b[0;34m\u001b[0m\u001b[0m\n\u001b[0m\u001b[1;32m      6\u001b[0m \u001b[0;34m\u001b[0m\u001b[0m\n",
      "\u001b[0;31mKeyboardInterrupt\u001b[0m: ",
      "\nDuring handling of the above exception, another exception occurred:\n",
      "\u001b[0;31mKeyboardInterrupt\u001b[0m                         Traceback (most recent call last)",
      "\u001b[0;31mKeyboardInterrupt\u001b[0m: "
     ]
    }
   ],
   "source": [
    "items = data\n",
    "row = numItems = 2000\n",
    "col = maxWeight = 2000000\n",
    "\n",
    "table = [[0] * (col+1) for x in range(row+1)]\n",
    "\n",
    "for i in range(1, row+1):\n",
    "    for j in range(1, col+1):\n",
    "        if (items[i-1][1] <= j):\n",
    "            table[i][j] = max(table[i-1][j], table[i-1][j- items[i-1][1]] + items[i-1][0])\n",
    "        else:\n",
    "            table[i][j] = table[i-1][j]"
   ]
  },
  {
   "cell_type": "code",
   "execution_count": 183,
   "metadata": {},
   "outputs": [
    {
     "ename": "TypeError",
     "evalue": "can only concatenate list (not \"int\") to list",
     "output_type": "error",
     "traceback": [
      "\u001b[0;31m---------------------------------------------------------------------------\u001b[0m",
      "\u001b[0;31mTypeError\u001b[0m                                 Traceback (most recent call last)",
      "\u001b[0;32m<ipython-input-183-dc093aec9803>\u001b[0m in \u001b[0;36m<module>\u001b[0;34m()\u001b[0m\n\u001b[1;32m     16\u001b[0m \u001b[0;34m\u001b[0m\u001b[0m\n\u001b[1;32m     17\u001b[0m     \u001b[0msubproblem\u001b[0m \u001b[0;34m=\u001b[0m \u001b[0;34m[\u001b[0m\u001b[0;34m]\u001b[0m\u001b[0;34m\u001b[0m\u001b[0m\n\u001b[0;32m---> 18\u001b[0;31m     \u001b[0;32mfor\u001b[0m \u001b[0mcap\u001b[0m \u001b[0;32min\u001b[0m \u001b[0mrange\u001b[0m\u001b[0;34m(\u001b[0m\u001b[0mcapacity\u001b[0m \u001b[0;34m+\u001b[0m \u001b[0;36m1\u001b[0m\u001b[0;34m)\u001b[0m\u001b[0;34m:\u001b[0m\u001b[0;34m\u001b[0m\u001b[0m\n\u001b[0m\u001b[1;32m     19\u001b[0m         \u001b[0msubproblem\u001b[0m\u001b[0;34m.\u001b[0m\u001b[0mappend\u001b[0m\u001b[0;34m(\u001b[0m\u001b[0mmax\u001b[0m\u001b[0;34m(\u001b[0m\u001b[0mmemo\u001b[0m\u001b[0;34m[\u001b[0m\u001b[0mcap\u001b[0m\u001b[0;34m]\u001b[0m\u001b[0;34m,\u001b[0m \u001b[0mmemo\u001b[0m\u001b[0;34m[\u001b[0m\u001b[0mcap\u001b[0m \u001b[0;34m-\u001b[0m \u001b[0mitem\u001b[0m\u001b[0;34m[\u001b[0m\u001b[0;36m1\u001b[0m\u001b[0;34m]\u001b[0m\u001b[0;34m]\u001b[0m \u001b[0;34m+\u001b[0m \u001b[0mitem\u001b[0m\u001b[0;34m[\u001b[0m\u001b[0;36m0\u001b[0m\u001b[0;34m]\u001b[0m \u001b[0;32mif\u001b[0m \u001b[0mcap\u001b[0m \u001b[0;34m-\u001b[0m \u001b[0mitem\u001b[0m\u001b[0;34m[\u001b[0m\u001b[0;36m1\u001b[0m\u001b[0;34m]\u001b[0m \u001b[0;34m>=\u001b[0m \u001b[0;36m0\u001b[0m \u001b[0;32melse\u001b[0m \u001b[0;36m0\u001b[0m\u001b[0;34m)\u001b[0m\u001b[0;34m)\u001b[0m\u001b[0;34m\u001b[0m\u001b[0m\n\u001b[1;32m     20\u001b[0m     \u001b[0mmemo\u001b[0m \u001b[0;34m=\u001b[0m \u001b[0msubproblem\u001b[0m\u001b[0;34m\u001b[0m\u001b[0m\n",
      "\u001b[0;31mTypeError\u001b[0m: can only concatenate list (not \"int\") to list"
     ]
    }
   ],
   "source": [
    "lines = [map(int, x.split(' ')) for x in open('knapsackBig.txt', 'r').read().split('\\n')[:-1]]\n",
    "FILE_NAME = \"knapsackBig.txt\"\n",
    "with open(FILE_NAME, \"r\") as f:\n",
    "    data = f.readlines()\n",
    "    \n",
    "for i in range(len(data)):\n",
    "    data[i] = data[i].strip('\\n').split()\n",
    "    data[i] = list(map(int, data[i]))\n",
    "\n",
    "capacity = data[0]\n",
    "items = data[1:]\n",
    "\n",
    "memo = [0 for cap in range(capacity[0] + 1)]\n",
    "\n",
    "for i, item in enumerate(items):\n",
    "   \n",
    "    subproblem = []\n",
    "    for cap in range(capacity + 1):\n",
    "        subproblem.append(max(memo[cap], memo[cap - item[1]] + item[0] if cap - item[1] >= 0 else 0))\n",
    "    memo = subproblem"
   ]
  },
  {
   "cell_type": "code",
   "execution_count": 191,
   "metadata": {},
   "outputs": [
    {
     "name": "stdout",
     "output_type": "stream",
     "text": [
      "[0, 0, 0, 0, 0, 10, 10, 10, 10, 10, 10]\n",
      "[0, 0, 0, 0, 40, 40, 40, 40, 40, 50, 50]\n",
      "[0, 0, 0, 0, 40, 40, 40, 40, 40, 50, 70]\n",
      "[0, 0, 0, 50, 50, 50, 50, 90, 90, 90, 90]\n"
     ]
    }
   ],
   "source": [
    "items = [\n",
    " [10, 5],\n",
    " [40, 4],\n",
    " [30, 6],\n",
    " [50, 3]]\n",
    "\n",
    "row = numItems = 4\n",
    "capacity = col = maxWeight = 10\n",
    "\n",
    "memo = [0 for x in range(maxWeight+1)]\n",
    "\n",
    "table = [[0] * (col+1) for x in range(row+1)]\n",
    "\n",
    "for i in range(1, row+1):\n",
    "    for j in range(1, col+1):\n",
    "        if (items[i-1][1] <= j):\n",
    "            table[i][j] = max(table[i-1][j], table[i-1][j- items[i-1][1]] + items[i-1][0])\n",
    "        else:\n",
    "            table[i][j] = table[i-1][j]\n",
    "            \n",
    "for i, item in enumerate(items):\n",
    "    subproblem = []\n",
    "    for cap in range(capacity+1):\n",
    "        subproblem.append(max(memo[cap], memo[cap-item[1]] + item[0] if cap - item[1] >= 0 else 0))\n",
    "    memo = subproblem\n",
    "    print(memo)"
   ]
  },
  {
   "cell_type": "code",
   "execution_count": 188,
   "metadata": {},
   "outputs": [
    {
     "data": {
      "text/plain": [
       "[0, 0, 0, 50, 50, 50, 50, 90, 90, 90, 90]"
      ]
     },
     "execution_count": 188,
     "metadata": {},
     "output_type": "execute_result"
    }
   ],
   "source": [
    "memo"
   ]
  },
  {
   "cell_type": "code",
   "execution_count": 186,
   "metadata": {},
   "outputs": [
    {
     "name": "stdout",
     "output_type": "stream",
     "text": [
      "i= 0\n",
      "item= [10, 5]\n",
      "i= 1\n",
      "item= [40, 4]\n",
      "i= 2\n",
      "item= [30, 6]\n",
      "i= 3\n",
      "item= [50, 3]\n"
     ]
    }
   ],
   "source": [
    "items = [\n",
    " [10, 5],\n",
    " [40, 4],\n",
    " [30, 6],\n",
    " [50, 3]]\n",
    "\n",
    "for i, item in enumerate(items):\n",
    "    print(\"i=\", i)\n",
    "    print(\"item=\", item)"
   ]
  },
  {
   "cell_type": "code",
   "execution_count": 190,
   "metadata": {},
   "outputs": [
    {
     "data": {
      "text/plain": [
       "[[0, 0, 0, 0, 0, 0, 0, 0, 0, 0, 0],\n",
       " [0, 0, 0, 0, 0, 10, 10, 10, 10, 10, 10],\n",
       " [0, 0, 0, 0, 40, 40, 40, 40, 40, 50, 50],\n",
       " [0, 0, 0, 0, 40, 40, 40, 40, 40, 50, 70],\n",
       " [0, 0, 0, 50, 50, 50, 50, 90, 90, 90, 90]]"
      ]
     },
     "execution_count": 190,
     "metadata": {},
     "output_type": "execute_result"
    }
   ],
   "source": [
    "table"
   ]
  },
  {
   "cell_type": "code",
   "execution_count": 203,
   "metadata": {},
   "outputs": [
    {
     "ename": "KeyboardInterrupt",
     "evalue": "",
     "output_type": "error",
     "traceback": [
      "\u001b[0;31m---------------------------------------------------------------------------\u001b[0m",
      "\u001b[0;31mKeyboardInterrupt\u001b[0m                         Traceback (most recent call last)",
      "\u001b[0;32m<ipython-input-203-3ee633d40e7d>\u001b[0m in \u001b[0;36m<module>\u001b[0;34m()\u001b[0m\n\u001b[1;32m     19\u001b[0m     \u001b[0msubproblem\u001b[0m \u001b[0;34m=\u001b[0m \u001b[0;34m[\u001b[0m\u001b[0;34m]\u001b[0m\u001b[0;34m\u001b[0m\u001b[0m\n\u001b[1;32m     20\u001b[0m     \u001b[0;32mfor\u001b[0m \u001b[0mcap\u001b[0m \u001b[0;32min\u001b[0m \u001b[0mrange\u001b[0m\u001b[0;34m(\u001b[0m\u001b[0mcapacity\u001b[0m\u001b[0;34m+\u001b[0m\u001b[0;36m1\u001b[0m\u001b[0;34m)\u001b[0m\u001b[0;34m:\u001b[0m\u001b[0;34m\u001b[0m\u001b[0m\n\u001b[0;32m---> 21\u001b[0;31m         \u001b[0msubproblem\u001b[0m\u001b[0;34m.\u001b[0m\u001b[0mappend\u001b[0m\u001b[0;34m(\u001b[0m\u001b[0mmax\u001b[0m\u001b[0;34m(\u001b[0m\u001b[0mmemo\u001b[0m\u001b[0;34m[\u001b[0m\u001b[0mcap\u001b[0m\u001b[0;34m]\u001b[0m\u001b[0;34m,\u001b[0m \u001b[0mmemo\u001b[0m\u001b[0;34m[\u001b[0m\u001b[0mcap\u001b[0m\u001b[0;34m-\u001b[0m\u001b[0mitem\u001b[0m\u001b[0;34m[\u001b[0m\u001b[0;36m1\u001b[0m\u001b[0;34m]\u001b[0m\u001b[0;34m]\u001b[0m \u001b[0;34m+\u001b[0m \u001b[0mitem\u001b[0m\u001b[0;34m[\u001b[0m\u001b[0;36m0\u001b[0m\u001b[0;34m]\u001b[0m \u001b[0;32mif\u001b[0m \u001b[0mcap\u001b[0m \u001b[0;34m-\u001b[0m \u001b[0mitem\u001b[0m\u001b[0;34m[\u001b[0m\u001b[0;36m1\u001b[0m\u001b[0;34m]\u001b[0m \u001b[0;34m>=\u001b[0m \u001b[0;36m0\u001b[0m \u001b[0;32melse\u001b[0m \u001b[0;36m0\u001b[0m\u001b[0;34m)\u001b[0m\u001b[0;34m)\u001b[0m\u001b[0;34m\u001b[0m\u001b[0m\n\u001b[0m\u001b[1;32m     22\u001b[0m     \u001b[0mmemo\u001b[0m \u001b[0;34m=\u001b[0m \u001b[0msubproblem\u001b[0m\u001b[0;34m\u001b[0m\u001b[0m\n",
      "\u001b[0;31mKeyboardInterrupt\u001b[0m: "
     ]
    }
   ],
   "source": [
    "FILE_NAME = \"knapsackBig.txt\"\n",
    "with open(FILE_NAME, \"r\") as f:\n",
    "    data = f.readlines()\n",
    "    \n",
    "for i in range(len(data)):\n",
    "    data[i] = data[i].strip('\\n').split()\n",
    "    data[i] = list(map(int, data[i]))\n",
    "    \n",
    "del data[0]\n",
    "\n",
    "items = data\n",
    "\n",
    "row = numItems = 2000 #100\n",
    "capacity = col = maxWeight = 2000000 #10000 \n",
    "\n",
    "memo = [0 for x in range(maxWeight+1)]\n",
    "            \n",
    "for i, item in enumerate(items):\n",
    "    subproblem = []\n",
    "    for cap in range(capacity+1):\n",
    "        subproblem.append(max(memo[cap], memo[cap-item[1]] + item[0] if cap - item[1] >= 0 else 0))\n",
    "    memo = subproblem\n"
   ]
  },
  {
   "cell_type": "code",
   "execution_count": 204,
   "metadata": {},
   "outputs": [
    {
     "data": {
      "text/plain": [
       "3588049"
      ]
     },
     "execution_count": 204,
     "metadata": {},
     "output_type": "execute_result"
    }
   ],
   "source": [
    "memo[-1]"
   ]
  },
  {
   "cell_type": "code",
   "execution_count": 201,
   "metadata": {},
   "outputs": [],
   "source": []
  },
  {
   "cell_type": "code",
   "execution_count": null,
   "metadata": {},
   "outputs": [],
   "source": []
  },
  {
   "cell_type": "code",
   "execution_count": null,
   "metadata": {},
   "outputs": [],
   "source": []
  }
 ],
 "metadata": {
  "kernelspec": {
   "display_name": "Python 3",
   "language": "python",
   "name": "python3"
  },
  "language_info": {
   "codemirror_mode": {
    "name": "ipython",
    "version": 3
   },
   "file_extension": ".py",
   "mimetype": "text/x-python",
   "name": "python",
   "nbconvert_exporter": "python",
   "pygments_lexer": "ipython3",
   "version": "3.6.5"
  }
 },
 "nbformat": 4,
 "nbformat_minor": 2
}
