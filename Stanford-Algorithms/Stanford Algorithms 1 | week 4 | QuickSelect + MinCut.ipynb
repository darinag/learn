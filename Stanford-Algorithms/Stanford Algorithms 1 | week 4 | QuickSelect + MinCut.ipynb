{
 "cells": [
  {
   "cell_type": "markdown",
   "metadata": {},
   "source": [
    "# Randomized selection"
   ]
  },
  {
   "cell_type": "code",
   "execution_count": 87,
   "metadata": {},
   "outputs": [
    {
     "data": {
      "text/plain": [
       "4"
      ]
     },
     "execution_count": 87,
     "metadata": {},
     "output_type": "execute_result"
    }
   ],
   "source": [
    "def quickselect(arr, k, start, end):\n",
    "    p = i = start\n",
    "    # partinioning\n",
    "    for j in range(start+1, end):\n",
    "        if arr[p] > arr[j]:\n",
    "            i += 1\n",
    "            arr[i], arr[j] = arr[j], arr[i]\n",
    "    arr[p], arr[i] = arr[i], arr[p]\n",
    "    \n",
    "    if i == k:\n",
    "        return arr[i]\n",
    "    \n",
    "    elif i > k:\n",
    "        return quickselect(arr, k, 0, i)\n",
    "    else:\n",
    "        return quickselect(arr, k, i+1, len(arr))\n",
    "    \n",
    "arr = [3, 4, 10, 6, 2, 7, 5]\n",
    "# 2, 3, 4, 5, 6, 7, 10\n",
    "quickselect(arr, 2, 0, len(arr))"
   ]
  },
  {
   "cell_type": "code",
   "execution_count": 88,
   "metadata": {},
   "outputs": [],
   "source": [
    "# NEEDS TO BE DEBUGGED! :)  \n",
    "# def qs(arr, n, k):\n",
    "#     if n == 1:\n",
    "#         print(\"in if n==1!!!!!!!\")\n",
    "#         return arr\n",
    "#     else:\n",
    "#         pivot = arr[0]\n",
    "#         print(\"PIVOT = \", pivot)\n",
    "#         print(\"arr len = \", n)\n",
    "#         print(\"initial arr = \", arr)\n",
    "#         i = 0\n",
    "#         for j in range(1, n):\n",
    "#             if pivot > arr[j]:\n",
    "#                 i += 1\n",
    "#                 arr[i], arr[j] = arr[j], arr[i]\n",
    "#         arr[0], arr[i] = arr[i], arr[0]\n",
    "#         print(\"current arr = \", arr)\n",
    "#         print(\"pivot index = \", i)\n",
    "#         if i == k:\n",
    "#             print(\"in i == k\")\n",
    "#             return arr[i]\n",
    "#         elif k < i:\n",
    "#             print(\"in k < i\")\n",
    "#             return qs(arr[:i], i-1, k)\n",
    "#         else:\n",
    "#             print(\"in k > i\")\n",
    "#             return qs(arr[i+1:], n-i, k-i)\n",
    "            \n",
    "# arr = [-10000000, 4, 10, 6, 2, 7, 5]\n",
    "# # 2, 3, 4, 5, 6, 7, 10\n",
    "# n = len(arr)\n",
    "# k = 3\n",
    "# qs(arr, n, k)"
   ]
  },
  {
   "cell_type": "markdown",
   "metadata": {},
   "source": [
    "# kanger min cut"
   ]
  },
  {
   "cell_type": "code",
   "execution_count": 97,
   "metadata": {},
   "outputs": [],
   "source": [
    "import pandas as pd"
   ]
  },
  {
   "cell_type": "code",
   "execution_count": 136,
   "metadata": {},
   "outputs": [],
   "source": [
    "# import the file into a graph represented by a dict of lists\n",
    "# def load_graph():\n",
    "g = {} # g = dict()\n",
    "FILE_NAME = \"kangerMinCut.txt\"\n",
    "with open(FILE_NAME, \"r\") as f:\n",
    "    lines = f.readlines()\n",
    "    \n",
    "# graph_ = pd.read_csv('./kangerMinCut.txt')\n",
    "# graph_.head()\n",
    "\n",
    "for l in range(len(lines)):\n",
    "    lines[l] = lines[l].split('\\t')\n",
    "    del lines[l][-1]\n",
    "#     lines[l] = [int(x) for x in lines[l]]\n",
    "    lines[l] = list(map(int, lines[l]))\n",
    "    g[lines[l][0]] = lines[l][1:]\n"
   ]
  },
  {
   "cell_type": "markdown",
   "metadata": {},
   "source": [
    "good example = https://gist.github.com/aymanfarhat/6098683"
   ]
  },
  {
   "cell_type": "code",
   "execution_count": 149,
   "metadata": {},
   "outputs": [
    {
     "name": "stdout",
     "output_type": "stream",
     "text": [
      "[17.0, 20.0, 20.0, 20.0, 20.0, 20.0, 20.0, 20.0, 20.0, 21.0, 21.0, 21.0, 22.0, 24.0, 24.0, 24.0, 25.0, 26.0, 26.0, 29.0]\n"
     ]
    }
   ],
   "source": [
    "import copy  \n",
    "import random  \n",
    "  \n",
    "def contraCut(mapD,edgeList):  \n",
    "    while len(mapD)>2:  \n",
    "        [u,v]=edgeList.pop(random.randrange(0,len(edgeList)-1))  \n",
    "        while([v,u] in edgeList):  \n",
    "            edgeList.remove([v,u])  \n",
    "        while([u,v] in edgeList):  \n",
    "            edgeList.remove([u,v])  \n",
    "        for ind in range(0,len(edgeList)):  \n",
    "            if edgeList[ind][0]==v:edgeList[ind][0]=u  \n",
    "            if edgeList[ind][1]==v:edgeList[ind][1]=u  \n",
    "        mapD[u]=mapD[u]-{v}  \n",
    "        mapD[v]=mapD[v]-{u}  \n",
    "        for [x,y] in mapD.items():  \n",
    "            if v in y:  \n",
    "                mapD[x]=(mapD[x]|{u})-{v}  \n",
    "        mapD[u]=mapD[u]|mapD[v]  \n",
    "        del mapD[v]  \n",
    "  \n",
    "    return len(edgeList)/2  \n",
    "  \n",
    "if __name__ == '__main__':  \n",
    "    f=open(FILE_NAME,'r')  \n",
    "    mapDict={}  \n",
    "    for line in f.readlines():  \n",
    "        tmp=[int(x) for x in line.split()]  \n",
    "        mapDict[tmp[0]]=set(tmp[1:])  \n",
    "    f.close()  \n",
    "      \n",
    "    edgeList=[]  \n",
    "    for [x,y] in mapDict.items():  \n",
    "        edgeList.extend([[x,v] for v in y])  \n",
    "      \n",
    "    numList=[]  \n",
    "    for i in range(20):  \n",
    "        cpmapDict=copy.deepcopy(mapDict)  \n",
    "        cpedgeList=copy.deepcopy(edgeList)  \n",
    "          \n",
    "        #print cpmapDict  \n",
    "        num=contraCut(cpmapDict,cpedgeList)  \n",
    "        numList.append(num)  \n",
    "        numList.sort()  \n",
    "#         print(num,) \n",
    "        i+=1  \n",
    "    print(numList)  "
   ]
  },
  {
   "cell_type": "code",
   "execution_count": null,
   "metadata": {},
   "outputs": [],
   "source": []
  }
 ],
 "metadata": {
  "kernelspec": {
   "display_name": "Python 3",
   "language": "python",
   "name": "python3"
  },
  "language_info": {
   "codemirror_mode": {
    "name": "ipython",
    "version": 3
   },
   "file_extension": ".py",
   "mimetype": "text/x-python",
   "name": "python",
   "nbconvert_exporter": "python",
   "pygments_lexer": "ipython3",
   "version": "3.6.5"
  }
 },
 "nbformat": 4,
 "nbformat_minor": 2
}
