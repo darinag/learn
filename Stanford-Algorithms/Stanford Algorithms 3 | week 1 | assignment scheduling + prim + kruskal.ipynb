{
 "cells": [
  {
   "cell_type": "markdown",
   "metadata": {},
   "source": [
    "In this programming problem and the next you'll code up the greedy algorithms from lecture for minimizing the weighted sum of completion times.<br>You should NOT assume that edge weights or lengths are distinct.\n",
    "\n",
    "Your task in this problem is to run the greedy algorithm that schedules jobs in decreasing order of the difference (weight - length). Recall from lecture that this algorithm is not always optimal. IMPORTANT: if two jobs have equal difference (weight - length), you should schedule the job with higher weight first. Beware: if you break ties in a different way, you are likely to get the wrong answer. You should report the sum of weighted completion times of the resulting schedule --- a positive integer --- in the box below. <br> data format: [job_2_weight] [job_2_length] <br><br> For this problem, use the same data set as in the previous problem.\n",
    "\n",
    "Your task now is to run the greedy algorithm that schedules jobs (optimally) in decreasing order of the ratio (weight/length). In this algorithm, it does not matter how you break ties. You should report the sum of weighted completion times of the resulting schedule --- a positive integer --- in the box below."
   ]
  },
  {
   "cell_type": "code",
   "execution_count": 356,
   "metadata": {},
   "outputs": [],
   "source": [
    "FILE_NAME = 'data.txt'\n",
    "with open(FILE_NAME, \"r\") as f:\n",
    "    lines = f.readlines()\n",
    "    \n",
    "del lines[0]\n",
    "for l in range(len(lines)):\n",
    "    lines[l] = lines[l].strip('\\n').split()\n",
    "    lines[l] = list(map(int, lines[l]))\n",
    "    \n",
    "intervals = lines\n",
    "\n",
    "sorted_intervals = sorted(intervals, key=lambda i: (i[0]/i[1], i[0]), reverse=True)\n",
    "total = 0\n",
    "curr_time = 0\n",
    "c = 0\n",
    "\n",
    "for i in range(0, len(sorted_intervals)):\n",
    "    total += sorted_intervals[i][0] * (sorted_intervals[i][1] + curr_time)\n",
    "    curr_time += sorted_intervals[i][1]\n",
    "    c+=1\n",
    "        "
   ]
  },
  {
   "cell_type": "code",
   "execution_count": 357,
   "metadata": {},
   "outputs": [
    {
     "data": {
      "text/plain": [
       "67311454237"
      ]
     },
     "execution_count": 357,
     "metadata": {},
     "output_type": "execute_result"
    }
   ],
   "source": [
    "total"
   ]
  },
  {
   "cell_type": "code",
   "execution_count": 5,
   "metadata": {},
   "outputs": [],
   "source": [
    "data = [[8,50], [74,59], [31,73], [45,79], [24,10], [41,66], [93,43], [88, 4], [28,30], [41,13], [4, 70], [10,58]]"
   ]
  },
  {
   "cell_type": "code",
   "execution_count": 329,
   "metadata": {},
   "outputs": [],
   "source": [
    "# matrix = [[float('inf')]*10]*10\n",
    "matrix = [[float('inf')] * 7 for x in range(7)]\n",
    "for i in range(len(d)):\n",
    "    node1, node2, weight = d[i]\n",
    "    matrix[node1][node2] = weight\n",
    "    matrix[node2][node1] = weight"
   ]
  },
  {
   "cell_type": "code",
   "execution_count": 58,
   "metadata": {},
   "outputs": [],
   "source": [
    "# TEST CASE\n",
    "d = [\n",
    "    [1,2,6],\n",
    "    [1,4,5],\n",
    "    [1,5,4],\n",
    "    [2,4,1],\n",
    "    [2,5,2],\n",
    "    [2,3,5],\n",
    "    [2,6,3],\n",
    "    [3,6,4],\n",
    "    [4,5,2],\n",
    "    [5,6,4]\n",
    "]\n",
    "\n",
    "matrix = [[float('inf')] * 7 for x in range(7)]\n",
    "for i in range(len(d)):\n",
    "    node1, node2, weight = d[i]\n",
    "    matrix[node1][node2] = weight\n",
    "    matrix[node2][node1] = weight\n",
    "    \n",
    "from heapq import heappush, heappop\n",
    "root = d[0][0]\n",
    "h = []\n",
    "mst = 0\n",
    "c = 0\n",
    "ind = 0\n",
    "visited = set()\n",
    "\n",
    "visited.add(root)\n",
    "\n",
    "for i in range(len(matrix[root])):\n",
    "    weight = matrix[root][i]\n",
    "    if weight != float('inf'):\n",
    "        heappush(h, (weight, i))\n",
    " \n",
    "        \n",
    "while h:\n",
    "    node = heappop(h)\n",
    "    if node[1] not in visited:\n",
    "        c += 1\n",
    "        weight, destination = node\n",
    "        visited.add(destination)\n",
    "        mst += weight\n",
    "        \n",
    "        for i in range(len(matrix[destination])):\n",
    "            weight = matrix[destination][i]\n",
    "            if weight != float('inf') and i not in visited:\n",
    "                heappush(h, (weight, i))\n",
    "          "
   ]
  },
  {
   "cell_type": "code",
   "execution_count": 59,
   "metadata": {},
   "outputs": [
    {
     "data": {
      "text/plain": [
       "14"
      ]
     },
     "execution_count": 59,
     "metadata": {},
     "output_type": "execute_result"
    }
   ],
   "source": [
    "mst"
   ]
  },
  {
   "cell_type": "markdown",
   "metadata": {},
   "source": [
    "In this programming problem you'll code up Prim's minimum spanning tree algorithm.<br>This file describes an undirected graph with integer edge costs. It has the format\n",
    "\n",
    "[number_of_nodes] [number_of_edges]\n",
    "\n",
    "[one_node_of_edge_1] [other_node_of_edge_1] [edge_1_cost]\n",
    "<br><br>Your task is to run Prim's minimum spanning tree algorithm on this graph. You should report the overall cost of a minimum spanning tree --- an integer, which may or may not be negative --- in the box below."
   ]
  },
  {
   "cell_type": "code",
   "execution_count": 352,
   "metadata": {},
   "outputs": [],
   "source": [
    "FILE = 'prims_edges.txt'\n",
    "with open(FILE, \"r\") as f:\n",
    "    d = f.readlines() \n",
    "for i in range(len(d)):\n",
    "    d[i] = d[i].strip('\\n').split()\n",
    "    d[i] = list(map(int, d[i]))\n",
    "\n",
    "size = d[0]\n",
    "del d[0] \n",
    "    \n",
    "matrix = [[float('inf')] * (size[0]+1) for x in range(size[0]+1)]\n",
    "for i in range(len(d)):\n",
    "    node1, node2, weight = d[i]\n",
    "    matrix[node1][node2] = weight\n",
    "    matrix[node2][node1] = weight\n",
    "    \n",
    "from heapq import heappush, heappop\n",
    "root = d[0][0]\n",
    "h = []\n",
    "mst = 0\n",
    "c = 0\n",
    "ind = 0\n",
    "visited = set()\n",
    "\n",
    "visited.add(root)\n",
    "\n",
    "for i in range(len(matrix[root])):\n",
    "    weight = matrix[root][i]\n",
    "    if weight != float('inf'):\n",
    "        heappush(h, (weight, i))\n",
    " \n",
    "        \n",
    "while h:\n",
    "    node = heappop(h)\n",
    "    if node[1] not in visited:\n",
    "        c += 1\n",
    "        weight, destination = node\n",
    "        visited.add(destination)\n",
    "        mst += weight\n",
    "        \n",
    "        for i in range(len(matrix[destination])):\n",
    "            weight = matrix[destination][i]\n",
    "            if weight != float('inf') and i not in visited:\n",
    "                heappush(h, (weight, i))\n",
    "          "
   ]
  },
  {
   "cell_type": "code",
   "execution_count": 353,
   "metadata": {},
   "outputs": [
    {
     "data": {
      "text/plain": [
       "-3612829"
      ]
     },
     "execution_count": 353,
     "metadata": {},
     "output_type": "execute_result"
    }
   ],
   "source": [
    "mst"
   ]
  },
  {
   "cell_type": "code",
   "execution_count": null,
   "metadata": {},
   "outputs": [],
   "source": []
  },
  {
   "cell_type": "code",
   "execution_count": null,
   "metadata": {},
   "outputs": [],
   "source": []
  },
  {
   "cell_type": "code",
   "execution_count": null,
   "metadata": {},
   "outputs": [],
   "source": []
  },
  {
   "cell_type": "code",
   "execution_count": 1,
   "metadata": {},
   "outputs": [],
   "source": []
  },
  {
   "cell_type": "code",
   "execution_count": null,
   "metadata": {},
   "outputs": [],
   "source": []
  },
  {
   "cell_type": "code",
   "execution_count": 26,
   "metadata": {},
   "outputs": [
    {
     "name": "stdout",
     "output_type": "stream",
     "text": [
      "item 0 -> component 9\n",
      "item 1 -> component 9\n",
      "item 2 -> component 9\n",
      "item 3 -> component 3\n",
      "item 4 -> component 4\n",
      "item 5 -> component 4\n",
      "item 6 -> component 4\n",
      "item 7 -> component 7\n",
      "item 8 -> component 8\n",
      "item 9 -> component 9\n"
     ]
    }
   ],
   "source": [
    "n = 10\n",
    "edges = [(0, 1), (1, 2), (0, 9), (5, 6), (6, 4), (5, 6)]\n",
    "parents = [ x for x in range(n)]\n",
    "\n",
    "def find(node, parents):\n",
    "    if parents[node] != node:\n",
    "        parents[node] = find(parents[node], parents)\n",
    "    return parents[node]\n",
    "\n",
    "def connected(node1, node2, parents):\n",
    "    return find(node1, parents) == find(node2, parents)\n",
    "\n",
    "def union(node1, node2, parents):\n",
    "    parent1, parent2 = find(node1, parents), find(node2, parents)\n",
    "    if parent1 != parent2:\n",
    "        parents[parent1] = parent2\n",
    "        \n",
    "# union\n",
    "for i, j in edges:\n",
    "    union(i, j, parents)\n",
    "# find\n",
    "for i in range(n):\n",
    "    print('item', i, '-> component', find(i, parents))"
   ]
  },
  {
   "cell_type": "code",
   "execution_count": 20,
   "metadata": {},
   "outputs": [
    {
     "data": {
      "text/plain": [
       "[0, 1, 2, 3, 4, 5, 6, 7, 8, 9]"
      ]
     },
     "execution_count": 20,
     "metadata": {},
     "output_type": "execute_result"
    }
   ],
   "source": []
  },
  {
   "cell_type": "code",
   "execution_count": 2,
   "metadata": {},
   "outputs": [
    {
     "data": {
      "text/plain": [
       "14"
      ]
     },
     "execution_count": 2,
     "metadata": {},
     "output_type": "execute_result"
    }
   ],
   "source": [
    "# TEST CASE KRUSKAL\n",
    "# https://www.youtube.com/watch?v=5xosHRdxqHA\n",
    "# http://code.activestate.com/recipes/577225-union-find/\n",
    "# https://medium.com/100-days-of-algorithms/day-41-union-find-d0027148376d\n",
    "\n",
    "def find(node, parents):\n",
    "    if parents[node] != node:\n",
    "        parents[node] = find(parents[node], parents)\n",
    "    return parents[node]\n",
    "\n",
    "def connected(node1, node2, parents):\n",
    "    return find(node1, parents) == find(node2, parents)\n",
    "\n",
    "def union(node1, node2, parents):\n",
    "    parent1, parent2 = find(node1, parents), find(node2, parents)\n",
    "    if parent1 != parent2:\n",
    "        parents[parent1] = parent2\n",
    "        \n",
    "def unionByRank(node1, node2, parents, rank):\n",
    "    parent1, parent2 = find(node1, parents), find(node2, parents)\n",
    "    if rank[parent1] > rank[parent2]:\n",
    "        parents[parent2] = parent1\n",
    "    elif rank[parent1] < rank[parent2]:\n",
    "        parents[parent1] = parent2\n",
    "    else:\n",
    "        parents[parent1] = parent2\n",
    "        rank[parent2] += 1\n",
    "\n",
    "def makeSet(node):\n",
    "    parents[node] = node\n",
    "    rank[node] = 0\n",
    "        \n",
    "n = 7\n",
    "nodes = [\n",
    "    [1,2,6],\n",
    "    [1,4,5],\n",
    "    [1,5,4],\n",
    "    [2,4,1],\n",
    "    [2,5,2],\n",
    "    [2,3,5],\n",
    "    [2,6,3],\n",
    "    [3,6,4],\n",
    "    [4,5,2],\n",
    "    [5,6,4]\n",
    "]\n",
    "\n",
    "sorted_nodes = sorted(nodes, key=lambda i: i[2])\n",
    "\n",
    "A = set()\n",
    "\n",
    "# for each node make a disjoint-set\n",
    "parents = [x for x in range(n)]\n",
    "rank = [0]*n\n",
    "mst = 0\n",
    "\n",
    "for i in range(len(nodes)):\n",
    "    node1, node2, cost = sorted_nodes[i]\n",
    "    if not connected(node1, node2, parents):\n",
    "        A.add((node1, node2, cost))\n",
    "        mst += cost\n",
    "        union(node1, node2, parents)\n",
    "        \n",
    "mst"
   ]
  },
  {
   "cell_type": "code",
   "execution_count": 3,
   "metadata": {},
   "outputs": [
    {
     "data": {
      "text/plain": [
       "{(1, 5, 4), (2, 4, 1), (2, 5, 2), (2, 6, 3), (3, 6, 4)}"
      ]
     },
     "execution_count": 3,
     "metadata": {},
     "output_type": "execute_result"
    }
   ],
   "source": [
    "A"
   ]
  },
  {
   "cell_type": "code",
   "execution_count": 6,
   "metadata": {},
   "outputs": [
    {
     "data": {
      "text/plain": [
       "[0, 6, 6, 6, 6, 6, 6]"
      ]
     },
     "execution_count": 6,
     "metadata": {},
     "output_type": "execute_result"
    }
   ],
   "source": [
    "parents"
   ]
  },
  {
   "cell_type": "code",
   "execution_count": null,
   "metadata": {},
   "outputs": [],
   "source": []
  }
 ],
 "metadata": {
  "kernelspec": {
   "display_name": "Python 3",
   "language": "python",
   "name": "python3"
  },
  "language_info": {
   "codemirror_mode": {
    "name": "ipython",
    "version": 3
   },
   "file_extension": ".py",
   "mimetype": "text/x-python",
   "name": "python",
   "nbconvert_exporter": "python",
   "pygments_lexer": "ipython3",
   "version": "3.6.5"
  }
 },
 "nbformat": 4,
 "nbformat_minor": 2
}
