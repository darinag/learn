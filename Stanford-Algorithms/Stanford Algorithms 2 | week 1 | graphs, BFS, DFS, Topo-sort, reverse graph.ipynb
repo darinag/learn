{
 "cells": [
  {
   "cell_type": "markdown",
   "metadata": {},
   "source": [
    "- https://www.python.org/doc/essays/graphs/\n",
    "\n",
    "- https://www.python-course.eu/graphs_python.php\n",
    "\n",
    "- https://www.koderdojo.com/blog/depth-first-search-in-python-recursive-and-non-recursive-programming"
   ]
  },
  {
   "cell_type": "markdown",
   "metadata": {},
   "source": [
    "# Represent a graph\n",
    "\n",
    "given a graph with 6 nodes (A-F) and 8 arcs:\n",
    "\n",
    "    A -> B\n",
    "    A -> C\n",
    "    B -> C\n",
    "    B -> D\n",
    "    C -> D\n",
    "    D -> C\n",
    "    E -> F\n",
    "    F -> C\n",
    "    \n",
    "The grapgh will be represented by a dictionary where keys are the nodes.<br> For each key, the corresponding value is a list containing the nodes that are connected."
   ]
  },
  {
   "cell_type": "code",
   "execution_count": 1,
   "metadata": {},
   "outputs": [],
   "source": [
    "g = {'A': ['B', 'C'],\n",
    "     'B': ['C', 'D'],\n",
    "     'C': ['D'],\n",
    "     'D': ['C'],\n",
    "     'E': ['F'],\n",
    "     'F': ['C'],\n",
    "     'G': []\n",
    "    }"
   ]
  },
  {
   "cell_type": "markdown",
   "metadata": {},
   "source": [
    "### Function to generate the list of all edges:\n",
    "\n",
    "An edge can be seen as a 2-tuple with nodes as elements, i.e. (\"a\",\"b\") "
   ]
  },
  {
   "cell_type": "code",
   "execution_count": 2,
   "metadata": {},
   "outputs": [
    {
     "data": {
      "text/plain": [
       "[('A', 'B'),\n",
       " ('A', 'C'),\n",
       " ('B', 'C'),\n",
       " ('B', 'D'),\n",
       " ('C', 'D'),\n",
       " ('D', 'C'),\n",
       " ('E', 'F'),\n",
       " ('F', 'C')]"
      ]
     },
     "execution_count": 2,
     "metadata": {},
     "output_type": "execute_result"
    }
   ],
   "source": [
    "def generate_edges(graph):\n",
    "    edges = []\n",
    "    for node in graph:\n",
    "        for neighbour in graph[node]:\n",
    "            edges.append((node, neighbour))\n",
    "\n",
    "    return edges\n",
    "\n",
    "generate_edges(g)"
   ]
  },
  {
   "cell_type": "code",
   "execution_count": 3,
   "metadata": {},
   "outputs": [
    {
     "data": {
      "text/plain": [
       "['G']"
      ]
     },
     "execution_count": 3,
     "metadata": {},
     "output_type": "execute_result"
    }
   ],
   "source": [
    "def find_isolated_nodes(graph):\n",
    "    \"\"\" returns a list of isolated nodes. \"\"\"\n",
    "    isolated = []\n",
    "    for node in graph:\n",
    "        if not graph[node]:\n",
    "            isolated += node\n",
    "    return isolated\n",
    "\n",
    "find_isolated_nodes(g)"
   ]
  },
  {
   "cell_type": "markdown",
   "metadata": {},
   "source": [
    "### Simple function to determine a path between two nodes\n",
    "<strong>Input:</strong> graph, start node, end node<br>\n",
    "<strong>Output:</strong> list of nodes (including the start and end nodes) comprising the path. If no path => return None<br><br>\n",
    "The algorithm uses an important technique called <strong>backtracking</strong> : it tries each possibility until it finds a solution"
   ]
  },
  {
   "cell_type": "code",
   "execution_count": 4,
   "metadata": {},
   "outputs": [
    {
     "name": "stdout",
     "output_type": "stream",
     "text": [
      "path =  ['A']\n",
      "start =  A\n",
      "end =  D\n",
      "node =  B\n",
      "path =  ['A', 'B']\n",
      "start =  B\n",
      "end =  D\n",
      "node =  C\n",
      "path =  ['A', 'B', 'C']\n",
      "start =  C\n",
      "end =  D\n",
      "node =  D\n",
      "path =  ['A', 'B', 'C', 'D']\n",
      "start =  D\n",
      "end =  D\n",
      "in start == end\n",
      "new path =  ['A', 'B', 'C', 'D']\n",
      "--> path =  ['A', 'B', 'C']\n",
      "in new path\n",
      "new path =  ['A', 'B', 'C', 'D']\n",
      "--> path =  ['A', 'B']\n",
      "in new path\n",
      "new path =  ['A', 'B', 'C', 'D']\n",
      "--> path =  ['A']\n",
      "in new path\n",
      "['A', 'B', 'C', 'D']\n"
     ]
    }
   ],
   "source": [
    "def find_path(graph, start, end, path=[]):\n",
    "\n",
    "    path = path + [start]\n",
    "    print(\"path = \", path)\n",
    "    print(\"start = \", start)\n",
    "    print(\"end = \", end)\n",
    "        \n",
    "    if start == end:\n",
    "        print(\"in start == end\")\n",
    "        return path\n",
    "    \n",
    "    if start not in graph:\n",
    "        return None\n",
    "    \n",
    "    for node in graph[start]:\n",
    "        if node not in path: #used to avoid cycles \n",
    "            print(\"node = \", node)\n",
    "            new_path = find_path(graph, node, end, path)\n",
    "            print(\"new path = \", new_path)\n",
    "            print(\"--> path = \", path)\n",
    "            if new_path:\n",
    "                print(\"in new path\")\n",
    "                return new_path\n",
    "    return None\n",
    "\n",
    "print(find_path(g, 'A', 'D'))"
   ]
  },
  {
   "cell_type": "code",
   "execution_count": 5,
   "metadata": {},
   "outputs": [
    {
     "data": {
      "text/plain": [
       "[['A', 'B', 'C', 'D'], ['A', 'B', 'D'], ['A', 'C', 'D']]"
      ]
     },
     "execution_count": 5,
     "metadata": {},
     "output_type": "execute_result"
    }
   ],
   "source": [
    "def find_all_paths(graph, start, end, path=[]):\n",
    "    path = path + [start]\n",
    "    \n",
    "    if start == end:\n",
    "        return [path]\n",
    "    \n",
    "    if start not in graph:\n",
    "        return []\n",
    "    \n",
    "    paths = []\n",
    "    \n",
    "    for node in graph[start]:\n",
    "        if node not in path:\n",
    "            new_paths = find_all_paths(graph, node, end, path)\n",
    "            for new_path in new_paths:\n",
    "                paths.append(new_path)\n",
    "                \n",
    "    return paths\n",
    "\n",
    "find_all_paths(g, 'A', 'D')"
   ]
  },
  {
   "cell_type": "code",
   "execution_count": 6,
   "metadata": {},
   "outputs": [
    {
     "data": {
      "text/plain": [
       "['A', 'B', 'D']"
      ]
     },
     "execution_count": 6,
     "metadata": {},
     "output_type": "execute_result"
    }
   ],
   "source": [
    "def find_shortest_path(graph, start, end, path=[]):\n",
    "    path = path + [start]\n",
    "    \n",
    "    if start == end:\n",
    "        return path\n",
    "    \n",
    "    if start not in graph:\n",
    "        return None\n",
    "    \n",
    "    shortest = None\n",
    "    \n",
    "    for node in graph[start]:\n",
    "        if node not in path:\n",
    "            new_path = find_shortest_path(graph, node, end, path)\n",
    "            if new_path:\n",
    "                if not shortest or len(new_path) < len(shortest):\n",
    "                    shortest = new_path\n",
    "                    \n",
    "    return shortest\n",
    "\n",
    "find_shortest_path(g, 'A', 'D')"
   ]
  },
  {
   "cell_type": "markdown",
   "metadata": {},
   "source": [
    "# BFS"
   ]
  },
  {
   "cell_type": "code",
   "execution_count": 17,
   "metadata": {},
   "outputs": [
    {
     "name": "stdout",
     "output_type": "stream",
     "text": [
      "**********\n",
      "0\n",
      "1\n",
      "2\n"
     ]
    }
   ],
   "source": [
    "def bfs(graph, start):\n",
    "    queue, visited = [start], set([start])\n",
    "\n",
    "    while queue:\n",
    "        vertex = queue.pop(0)\n",
    "        print(vertex)\n",
    "        \n",
    "        for node in graph[vertex]:\n",
    "            if node not in visited:\n",
    "                visited.add(node)\n",
    "                queue.append(node)\n",
    "# bfs(g, 'A')\n",
    "print(\"**********\")\n",
    "graph_example = {0: [1, 2], 1: [2, 0], 2: []} \n",
    "bfs(graph_example, 0)"
   ]
  },
  {
   "cell_type": "code",
   "execution_count": 8,
   "metadata": {},
   "outputs": [
    {
     "name": "stdout",
     "output_type": "stream",
     "text": [
      "['A', 'B', 'C', 'D']\n",
      "**********\n"
     ]
    }
   ],
   "source": [
    "def bfs2(graph, start):\n",
    "    queue, path = [start], []\n",
    "    \n",
    "    while queue:\n",
    "        vertex = queue.pop(0)\n",
    "        \n",
    "        if vertex not in path:\n",
    "            path.append(vertex)\n",
    "            for node in graph[vertex]:\n",
    "                queue.append(node)\n",
    "    print(path)\n",
    "    return path\n",
    "\n",
    "bfs2(g, 'A')\n",
    "print(\"**********\")\n",
    "graph_example = {0: [1, 2], 1: [2, 0], 2: []} \n",
    "# dfs2(graph_example, 0)"
   ]
  },
  {
   "cell_type": "markdown",
   "metadata": {},
   "source": [
    "# DFS"
   ]
  },
  {
   "cell_type": "code",
   "execution_count": 9,
   "metadata": {},
   "outputs": [
    {
     "name": "stdout",
     "output_type": "stream",
     "text": [
      "A\n",
      "C\n",
      "D\n",
      "B\n",
      "**********\n"
     ]
    }
   ],
   "source": [
    "def dfs(graph, start):\n",
    "    stack, visited = [start], set([start])\n",
    "\n",
    "    while stack:\n",
    "        vertex = stack.pop()\n",
    "        print(vertex)\n",
    "        \n",
    "        for node in graph[vertex]:\n",
    "            if node not in visited:\n",
    "                visited.add(node)\n",
    "                stack.append(node)\n",
    "dfs(g, 'A')\n",
    "print(\"**********\")\n",
    "graph_example = {0: [1, 2], 1: [2, 0], 2: []} \n",
    "# bfs(graph_example, 0)"
   ]
  },
  {
   "cell_type": "code",
   "execution_count": 10,
   "metadata": {},
   "outputs": [
    {
     "name": "stdout",
     "output_type": "stream",
     "text": [
      "['A', 'C', 'D', 'B']\n",
      "**********\n"
     ]
    }
   ],
   "source": [
    "def dfs2(graph, start):\n",
    "    stack, path = [start], []\n",
    "    \n",
    "    while stack:\n",
    "        vertex = stack.pop()\n",
    "        \n",
    "        if vertex not in path:\n",
    "            path.append(vertex)\n",
    "            for node in graph[vertex]:\n",
    "                stack.append(node)\n",
    "    print(path)\n",
    "    return path\n",
    "\n",
    "dfs2(g, 'A')\n",
    "print(\"**********\")\n",
    "graph_example = {0: [1, 2], 1: [2, 0], 2: []} \n",
    "# dfs2(graph_example, 0)"
   ]
  },
  {
   "cell_type": "code",
   "execution_count": 11,
   "metadata": {},
   "outputs": [
    {
     "name": "stdout",
     "output_type": "stream",
     "text": [
      "['A', 'B', 'C', 'D']\n",
      "**********\n"
     ]
    }
   ],
   "source": [
    "def dfs_rec(graph, start, path=[]):\n",
    "    path += [start]\n",
    "    \n",
    "    for node in graph[start]:\n",
    "        if node not in path:\n",
    "            path = dfs_rec(graph, node, path)\n",
    "    return path\n",
    "    \n",
    "print(dfs_rec(g, 'A'))\n",
    "print(\"**********\")\n",
    "graph_example = {0: [1, 2], 1: [2, 0], 2: []} \n",
    "# dfs_rec(graph_example, 0)"
   ]
  },
  {
   "cell_type": "markdown",
   "metadata": {},
   "source": [
    "# Kahn's algorithms for Topological sorting\n",
    "\n",
    "*Topological sort for DAG = Directed Acyclic Graph\n",
    "\n",
    "https://www.geeksforgeeks.org/topological-sorting-indegree-based-solution/\n",
    "\n",
    "#### What it is? \n",
    "linear ordering of vertices such that for every directed edge uv, vertex u comes before v in the ordering\n",
    "\n",
    "#### not possible if the graph is not DAG, in other words, we have CYCLES\n",
    "\n",
    "## DAG has at least one vertex with in-degree 0 and one vertex with out-degree 0\n",
    "\n",
    "Time Complexity: O(V+E)\n",
    "\n"
   ]
  },
  {
   "cell_type": "code",
   "execution_count": 12,
   "metadata": {},
   "outputs": [
    {
     "name": "stdout",
     "output_type": "stream",
     "text": [
      "in = {1: 2, 0: 2, 5: 1, 2: 1, 3: 1, 4: 0}\n",
      "out =  {1: 0, 0: 0, 5: 3, 2: 1, 3: 1, 4: 2}\n",
      "queue =  [4]\n",
      "There exists a cycle in the graph\n",
      "[4]\n",
      "cnt = 1\n"
     ]
    }
   ],
   "source": [
    "gex = {\n",
    "    1 : [],\n",
    "    0 : [],\n",
    "    5 : [2, 0, 5],\n",
    "    2 : [3],\n",
    "    3 : [1],\n",
    "    4 : [0,1]\n",
    "}\n",
    "\n",
    "\n",
    "indegs = {}\n",
    "outdegs = {}\n",
    "\n",
    "for node in gex:\n",
    "    indegs[node] = 0\n",
    "\n",
    "for node, adjs in gex.items():\n",
    "    for adj in adjs:\n",
    "#         if adj != node: #remove self-cycles\n",
    "        if adj not in indegs: \n",
    "            indegs[adj] = 1\n",
    "        else:\n",
    "            indegs[adj] += 1\n",
    "\n",
    "            \n",
    "for node, adjs in gex.items():\n",
    "    if node not in outdegs:\n",
    "        outdegs[node] = len(adjs)\n",
    "\n",
    "print(\"in =\", indegs)\n",
    "print(\"out = \", outdegs)\n",
    "\n",
    "queue = [] # for all vertices with in_degree 0\n",
    "topo_order = [] # stores the topological order\n",
    "cnt = 0 # Initialize count of visited vertices to check at the end we don't have self cycles\n",
    "\n",
    "# add all of the vetices with in_degree ==0 to the queue\n",
    "for node, indeg in indegs.items():\n",
    "    if indeg == 0:\n",
    "        queue.append(node)\n",
    "        \n",
    "print(\"queue = \", queue)\n",
    "\n",
    "# One by one dequeue vertices from queue and enqueue \n",
    "# adjacents if indegree of adjacent becomes 0 \n",
    "while queue:\n",
    "    # Extract front of queue\n",
    "    # and add it to topological order\n",
    "    node = queue.pop(0)\n",
    "    topo_order.append(node)\n",
    "    \n",
    "    # Iterate through all neighbouring nodes \n",
    "    # of dequeued node u and decrease their in-degree \n",
    "    # by 1 \n",
    "    for adj in gex[node]:\n",
    "        indegs[adj] -= 1\n",
    "        # If in-degree becomes zero, add it to queue        \n",
    "        if indegs[adj] == 0:\n",
    "            queue.append(adj)\n",
    "    \n",
    "    cnt += 1\n",
    "    \n",
    "# Check if there was a cycle \n",
    "if cnt != len(gex):\n",
    "    print(\"There exists a cycle in the graph\")\n",
    "else:\n",
    "    print(\"HOOOORAY!\")\n",
    "\n",
    "print(topo_order)\n",
    "print(\"cnt =\", cnt)\n",
    "# print(\"Topological sorting of the given graph is 5 4 2 3 1 0 and 4 5 2 0 3 1 and etc\")"
   ]
  },
  {
   "cell_type": "markdown",
   "metadata": {},
   "source": [
    "## Create a graph from a given list of arrays"
   ]
  },
  {
   "cell_type": "code",
   "execution_count": 13,
   "metadata": {},
   "outputs": [
    {
     "name": "stdout",
     "output_type": "stream",
     "text": [
      "{0: [1, 2], 1: [2], 2: []}\n",
      "defaultdict(<class 'list'>, {0: [1, 2], 1: [2], 2: []})\n"
     ]
    }
   ],
   "source": [
    "from collections import defaultdict \n",
    "ev = [[0, 1], [0, 2], [1, 2]]\n",
    "\n",
    "# 1st way:\n",
    "g = {}\n",
    "for i in ev:\n",
    "    if i[0] not in g:\n",
    "        g[i[0]] = 0\n",
    "        g[i[0]] = [i[1]]\n",
    "    else:\n",
    "        g[i[0]].append(i[1])\n",
    "        \n",
    "for i in ev:\n",
    "    if i[1] not in g:\n",
    "        g[i[1]] = []\n",
    "\n",
    "# 2nd way:        \n",
    "g2 = defaultdict(list)\n",
    "for i in ev:\n",
    "    g2[i[0]].append(i[1])\n",
    "\n",
    "# checks if we have some - in degree vertices and adds it to the g \n",
    "for i in ev:\n",
    "    if i[1] not in g2:\n",
    "        g2[i[1]] = []\n",
    "\n",
    "print(g)\n",
    "print(g2)"
   ]
  },
  {
   "cell_type": "code",
   "execution_count": 14,
   "metadata": {},
   "outputs": [],
   "source": [
    "from collections import defaultdict \n",
    "class Graph:\n",
    "    def __init__(self, vertices):\n",
    "        self.graph = defaultdict(list) #dictionary containing adjacency List \n",
    "        self.V = vertices #number of vertices\n",
    "        \n",
    "    def addEdge(self, u, v): #function to add an edge \n",
    "        self.graph[u].append(v)"
   ]
  },
  {
   "cell_type": "markdown",
   "metadata": {},
   "source": [
    "### REVERSE GRAPH by using defaultdic"
   ]
  },
  {
   "cell_type": "code",
   "execution_count": 15,
   "metadata": {},
   "outputs": [
    {
     "data": {
      "text/plain": [
       "defaultdict(list, {1: [0], 2: [0, 1], 0: []})"
      ]
     },
     "execution_count": 15,
     "metadata": {},
     "output_type": "execute_result"
    }
   ],
   "source": [
    "from collections import defaultdict \n",
    "grev = defaultdict(list)\n",
    "\n",
    "for node in g:\n",
    "    for adj in g[node]:\n",
    "        grev[adj].append(node)\n",
    "        \n",
    "for node in g:\n",
    "    if node not in grev:\n",
    "        grev[node] = []\n",
    "grev\n"
   ]
  },
  {
   "cell_type": "markdown",
   "metadata": {},
   "source": [
    "### REVERSE GRAPH by using dict"
   ]
  },
  {
   "cell_type": "code",
   "execution_count": 16,
   "metadata": {},
   "outputs": [
    {
     "data": {
      "text/plain": [
       "{1: [0], 2: [0, 1], 0: []}"
      ]
     },
     "execution_count": 16,
     "metadata": {},
     "output_type": "execute_result"
    }
   ],
   "source": [
    "grev = {}\n",
    "\n",
    "for node in g:\n",
    "    for adj in g[node]:\n",
    "        if adj not in grev:\n",
    "            grev[adj] = [node]\n",
    "        else:\n",
    "            grev[adj].append(node)\n",
    "        \n",
    "for node in g:\n",
    "    if node not in grev:\n",
    "        grev[node] = []\n",
    "grev\n"
   ]
  },
  {
   "cell_type": "markdown",
   "metadata": {},
   "source": [
    "### TUTORIAL"
   ]
  },
  {
   "cell_type": "code",
   "execution_count": 4,
   "metadata": {},
   "outputs": [],
   "source": [
    "class Node: \n",
    "    def __init__(self,key): \n",
    "        self.left = None\n",
    "        self.right = None\n",
    "        self.val = key \n",
    "\n",
    "root = Node(1) \n",
    "root.left      = Node(2) \n",
    "root.right     = Node(3) \n",
    "root.left.left  = Node(4) \n",
    "root.left.right  = Node(5) \n",
    "root.left.right.left = Node(99)"
   ]
  },
  {
   "cell_type": "code",
   "execution_count": 1,
   "metadata": {},
   "outputs": [],
   "source": [
    "def bfs(node):\n",
    "    \n",
    "    queue = []\n",
    "    \n",
    "    queue.append(node)\n",
    "    \n",
    "    while len(queue) != 0:\n",
    "        \n",
    "        curr = queue.pop(0)\n",
    "        print(curr.val)\n",
    "        \n",
    "        if curr.left is not None:\n",
    "            queue.append(curr.left)\n",
    "            \n",
    "        if curr.right is not None:\n",
    "            queue.append(curr.right)"
   ]
  },
  {
   "cell_type": "code",
   "execution_count": 3,
   "metadata": {},
   "outputs": [],
   "source": [
    "def dfs(node):\n",
    "    if node == None:\n",
    "        return\n",
    "    print(node.val)\n",
    "    dfs(node.left)\n",
    "    dfs(node.right)"
   ]
  },
  {
   "cell_type": "code",
   "execution_count": 2,
   "metadata": {},
   "outputs": [],
   "source": [
    "def dfs2(node):\n",
    "    stack = []\n",
    "    \n",
    "    stack.append(node)\n",
    "    \n",
    "    while len(stack) != 0:\n",
    "        \n",
    "        curr = stack.pop()\n",
    "        print(curr.val)\n",
    "        \n",
    "        if curr.right != None:\n",
    "            stack.append(curr.right)\n",
    "            \n",
    "        if curr.left != None:\n",
    "            stack.append(curr.left)\n",
    "            \n",
    "    "
   ]
  },
  {
   "cell_type": "code",
   "execution_count": null,
   "metadata": {},
   "outputs": [],
   "source": []
  }
 ],
 "metadata": {
  "kernelspec": {
   "display_name": "Python 3",
   "language": "python",
   "name": "python3"
  },
  "language_info": {
   "codemirror_mode": {
    "name": "ipython",
    "version": 3
   },
   "file_extension": ".py",
   "mimetype": "text/x-python",
   "name": "python",
   "nbconvert_exporter": "python",
   "pygments_lexer": "ipython3",
   "version": "3.6.5"
  }
 },
 "nbformat": 4,
 "nbformat_minor": 2
}
