{
 "cells": [
  {
   "cell_type": "markdown",
   "metadata": {},
   "source": [
    "<strong>Merge Sort</strong>"
   ]
  },
  {
   "cell_type": "markdown",
   "metadata": {},
   "source": [
    "useful_link = https://medium.com/@amirziai/merge-sort-walkthrough-with-code-in-python-e4f76d90a4ea"
   ]
  },
  {
   "cell_type": "markdown",
   "metadata": {},
   "source": [
    "<strong>Step 1- split</strong><br>\n",
    "Given a list let’s split it into two lists right down the middle"
   ]
  },
  {
   "cell_type": "code",
   "execution_count": 2,
   "metadata": {},
   "outputs": [],
   "source": [
    "def split(arr):\n",
    "    mid = len(arr)//2\n",
    "    left = arr[:mid]\n",
    "    right = arr[mid:]\n",
    "    return left, right"
   ]
  },
  {
   "cell_type": "markdown",
   "metadata": {},
   "source": [
    "<strong>Step 2- merge sorted lists</strong><br>\n",
    "Given two sorted lists we should be able to “merge” them into a single list in a linear operation.\n",
    "\n"
   ]
  },
  {
   "cell_type": "code",
   "execution_count": 3,
   "metadata": {},
   "outputs": [],
   "source": [
    "def merge_sorted_lists(left, right):\n",
    "    # Special case: one or both of lists are empty\n",
    "    if len(left) == 0:\n",
    "        return right\n",
    "    elif len(right) == 0:\n",
    "        return left\n",
    "    \n",
    "    # General case\n",
    "    indexRight = indexLeft = 0\n",
    "    listMerged = []\n",
    "    listLenTarget = len(left) + len(right)\n",
    "    \n",
    "    while len(listMerged) < listLenTarget:\n",
    "        if left[indexLeft] <= right[indexRight]:\n",
    "            listMerged.append(left[indexLeft])\n",
    "            indexLeft += 1\n",
    "        else:\n",
    "            listMerged.append(right[indexRight])\n",
    "            indexRight += 1\n",
    "            \n",
    "     # If we are at the end of one of the lists we can take a shortcut\n",
    "        if indexLeft == len(left):\n",
    "            listMerged += right[indexRight:]\n",
    "        elif indexRight == len(right):\n",
    "            listMerged += left[indexLeft:]\n",
    "            break\n",
    "        \n",
    "    return listMerged\n",
    "    "
   ]
  },
  {
   "cell_type": "markdown",
   "metadata": {},
   "source": [
    "<strong>Step 3- merge sort</strong> <br>\n",
    "Merge sort only needs to utilize the previous 2 functions<br>\n",
    "We need to split the lists until they have a single element<br>\n",
    "A list with a single element is sorted<br>\n",
    "Now we can merge these single-element (or empty) lists<br>"
   ]
  },
  {
   "cell_type": "code",
   "execution_count": 4,
   "metadata": {},
   "outputs": [],
   "source": [
    "def mergeSort(arr):\n",
    "    if len(arr) <= 1:\n",
    "        return arr\n",
    "    else:\n",
    "        left, right = split(arr)\n",
    "        mergeSort(left)\n",
    "        mergeSort(right)\n",
    "        return merge_sorted_lists(left, right)"
   ]
  },
  {
   "cell_type": "code",
   "execution_count": 5,
   "metadata": {},
   "outputs": [
    {
     "name": "stdout",
     "output_type": "stream",
     "text": [
      "[12, 11, 13]\n",
      "[5, 6, 7]\n"
     ]
    },
    {
     "data": {
      "text/plain": [
       "[5, 6, 7, 12, 11, 13]"
      ]
     },
     "execution_count": 5,
     "metadata": {},
     "output_type": "execute_result"
    }
   ],
   "source": [
    "arr = [12, 11, 13, 5, 6, 7]  \n",
    "left, right = split(arr)\n",
    "print(left)\n",
    "print(right)\n",
    "mergeSort(arr)"
   ]
  },
  {
   "cell_type": "code",
   "execution_count": null,
   "metadata": {},
   "outputs": [],
   "source": []
  },
  {
   "cell_type": "markdown",
   "metadata": {},
   "source": [
    "<font color='purple' size=\"3\"><strong>MERGE SORT + COUNT INVERSIONS</strong><br><br>"
   ]
  },
  {
   "cell_type": "code",
   "execution_count": 6,
   "metadata": {},
   "outputs": [
    {
     "name": "stdout",
     "output_type": "stream",
     "text": [
      "10\n"
     ]
    }
   ],
   "source": [
    "inv = 0\n",
    "def merge(a, b):\n",
    "    global inv\n",
    "    \"\"\"function to merge two arrays\"\"\"\n",
    "    c = []\n",
    "    i = j = 0\n",
    "    while i < len(a) and j < len(b):\n",
    "        if a[i] < b[j]:\n",
    "            c.append(a[i])\n",
    "            i += 1\n",
    "        else:\n",
    "            c.append(b[j])\n",
    "            j += 1\n",
    "            inv += len(a) - i\n",
    "            \n",
    "    c += a[i:]\n",
    "    c += b[j:]\n",
    "        \n",
    "    return c\n",
    "\n",
    "def mergesort(x):\n",
    "    \"\"\"function to sort an array using merge sort algorithm\"\"\"\n",
    "    if len(x) == 0 or len(x) == 1:\n",
    "        return x\n",
    "    else:\n",
    "        middle = len(x)//2\n",
    "        a = mergesort(x[:middle])\n",
    "        b = mergesort(x[middle:])\n",
    "        \n",
    "        return merge(a, b)\n",
    "\n",
    "arr = [12, 11, 13, 5, 6, 7]  \n",
    "mergesort(arr)\n",
    "print(inv)"
   ]
  },
  {
   "cell_type": "markdown",
   "metadata": {},
   "source": [
    "<font color='purple'><strong>MERGE SORT + COUNTING INVERSIONS</strong></font><br>\n",
    "useful link = https://medium.com/@ssbothwell/counting-inversions-with-merge-sort-4d9910dc95f0"
   ]
  },
  {
   "cell_type": "code",
   "execution_count": 15,
   "metadata": {},
   "outputs": [],
   "source": [
    "# merge sort\n",
    "inv = 0\n",
    "def merge_sort(arr):\n",
    "    global inv\n",
    "    if len(arr) == 1: \n",
    "        return arr\n",
    "    else:\n",
    "        mid = len(arr)//2\n",
    "        left = arr[:mid]\n",
    "        right = arr[mid:]\n",
    "        \n",
    "        left = merge_sort(left)\n",
    "        right = merge_sort(right)\n",
    "        merged = []\n",
    "        \n",
    "        i = j = 0\n",
    "        \n",
    "        while i < len(left) and j < len(right):\n",
    "            if left[i] < right[j]:\n",
    "                merged.append(left[i])\n",
    "                i += 1\n",
    "            else:\n",
    "                merged.append(right[j])\n",
    "                j += 1\n",
    "                inv += len(a) - i\n",
    "                \n",
    "        merged += left[i:]\n",
    "        merged += right[j:]\n",
    "        \n",
    "    return merged\n"
   ]
  },
  {
   "cell_type": "code",
   "execution_count": 16,
   "metadata": {},
   "outputs": [
    {
     "ename": "NameError",
     "evalue": "name 'a' is not defined",
     "output_type": "error",
     "traceback": [
      "\u001b[0;31m---------------------------------------------------------------------------\u001b[0m",
      "\u001b[0;31mNameError\u001b[0m                                 Traceback (most recent call last)",
      "\u001b[0;32m<ipython-input-16-1a51904718f0>\u001b[0m in \u001b[0;36m<module>\u001b[0;34m()\u001b[0m\n\u001b[0;32m----> 1\u001b[0;31m \u001b[0mmerge_sort\u001b[0m\u001b[0;34m(\u001b[0m\u001b[0marr\u001b[0m\u001b[0;34m)\u001b[0m\u001b[0;34m\u001b[0m\u001b[0m\n\u001b[0m",
      "\u001b[0;32m<ipython-input-15-a61486a60856>\u001b[0m in \u001b[0;36mmerge_sort\u001b[0;34m(arr)\u001b[0m\n\u001b[1;32m     10\u001b[0m         \u001b[0mright\u001b[0m \u001b[0;34m=\u001b[0m \u001b[0marr\u001b[0m\u001b[0;34m[\u001b[0m\u001b[0mmid\u001b[0m\u001b[0;34m:\u001b[0m\u001b[0;34m]\u001b[0m\u001b[0;34m\u001b[0m\u001b[0m\n\u001b[1;32m     11\u001b[0m \u001b[0;34m\u001b[0m\u001b[0m\n\u001b[0;32m---> 12\u001b[0;31m         \u001b[0mleft\u001b[0m \u001b[0;34m=\u001b[0m \u001b[0mmerge_sort\u001b[0m\u001b[0;34m(\u001b[0m\u001b[0mleft\u001b[0m\u001b[0;34m)\u001b[0m\u001b[0;34m\u001b[0m\u001b[0m\n\u001b[0m\u001b[1;32m     13\u001b[0m         \u001b[0mright\u001b[0m \u001b[0;34m=\u001b[0m \u001b[0mmerge_sort\u001b[0m\u001b[0;34m(\u001b[0m\u001b[0mright\u001b[0m\u001b[0;34m)\u001b[0m\u001b[0;34m\u001b[0m\u001b[0m\n\u001b[1;32m     14\u001b[0m         \u001b[0mmerged\u001b[0m \u001b[0;34m=\u001b[0m \u001b[0;34m[\u001b[0m\u001b[0;34m]\u001b[0m\u001b[0;34m\u001b[0m\u001b[0m\n",
      "\u001b[0;32m<ipython-input-15-a61486a60856>\u001b[0m in \u001b[0;36mmerge_sort\u001b[0;34m(arr)\u001b[0m\n\u001b[1;32m     23\u001b[0m                 \u001b[0mmerged\u001b[0m\u001b[0;34m.\u001b[0m\u001b[0mappend\u001b[0m\u001b[0;34m(\u001b[0m\u001b[0mright\u001b[0m\u001b[0;34m[\u001b[0m\u001b[0mj\u001b[0m\u001b[0;34m]\u001b[0m\u001b[0;34m)\u001b[0m\u001b[0;34m\u001b[0m\u001b[0m\n\u001b[1;32m     24\u001b[0m                 \u001b[0mj\u001b[0m \u001b[0;34m+=\u001b[0m \u001b[0;36m1\u001b[0m\u001b[0;34m\u001b[0m\u001b[0m\n\u001b[0;32m---> 25\u001b[0;31m                 \u001b[0minv\u001b[0m \u001b[0;34m+=\u001b[0m \u001b[0mlen\u001b[0m\u001b[0;34m(\u001b[0m\u001b[0ma\u001b[0m\u001b[0;34m)\u001b[0m \u001b[0;34m-\u001b[0m \u001b[0mi\u001b[0m\u001b[0;34m\u001b[0m\u001b[0m\n\u001b[0m\u001b[1;32m     26\u001b[0m \u001b[0;34m\u001b[0m\u001b[0m\n\u001b[1;32m     27\u001b[0m         \u001b[0mmerged\u001b[0m \u001b[0;34m+=\u001b[0m \u001b[0mleft\u001b[0m\u001b[0;34m[\u001b[0m\u001b[0mi\u001b[0m\u001b[0;34m:\u001b[0m\u001b[0;34m]\u001b[0m\u001b[0;34m\u001b[0m\u001b[0m\n",
      "\u001b[0;31mNameError\u001b[0m: name 'a' is not defined"
     ]
    }
   ],
   "source": [
    "merge_sort(arr)"
   ]
  },
  {
   "cell_type": "markdown",
   "metadata": {},
   "source": [
    "Recall: an inversion is a a pair of numbers where the higher number comes before the lower number.<br>There are no inversions within ‘a’ or ‘b’ individually but there are inversions between ‘a’ and ‘b’. (a = left, b = right)"
   ]
  },
  {
   "cell_type": "code",
   "execution_count": 218,
   "metadata": {},
   "outputs": [],
   "source": [
    "# method 1 (simple) \n",
    "# time complexity O(n^2)\n",
    "def countInv(arr):\n",
    "    if len(arr) == 1: return 0\n",
    "    n = len(arr)\n",
    "    inv = 0\n",
    "    \n",
    "    for i in range(n):\n",
    "        for j in range(i+1, n):\n",
    "            if arr[i] > arr[j]:\n",
    "                inv += 1\n",
    "                \n",
    "    return inv"
   ]
  },
  {
   "cell_type": "code",
   "execution_count": 219,
   "metadata": {},
   "outputs": [
    {
     "data": {
      "text/plain": [
       "10"
      ]
     },
     "execution_count": 219,
     "metadata": {},
     "output_type": "execute_result"
    }
   ],
   "source": [
    "a = [12, 11, 13, 5, 6, 7]  \n",
    "countInv(a)"
   ]
  },
  {
   "cell_type": "code",
   "execution_count": 67,
   "metadata": {},
   "outputs": [],
   "source": [
    "# method 2 (enhance merge sort)\n",
    "# time complexity O(nlogn)\n",
    "# Algorithmic Paradigm: Divide and Conquer\n",
    "def mergeSortInv(arr):\n",
    "    if len(arr) == 1: \n",
    "        return arr, 0\n",
    "    else:\n",
    "        mid = len(arr)//2\n",
    "        a = arr[:mid]\n",
    "        b = arr[mid:]\n",
    "        \n",
    "        a, ainv = mergeSortInv(a)\n",
    "        b, binv = mergeSortInv(b)\n",
    "        c = []\n",
    "        \n",
    "        i = j = 0\n",
    "        inv = 0 + ainv + binv\n",
    "        \n",
    "    while i < len(a) and j < len(b):\n",
    "        if a[i] <= b[j]:\n",
    "            c.append(a[i])\n",
    "            i += 1\n",
    "\n",
    "        else:\n",
    "            c.append(b[j])\n",
    "            j += 1\n",
    "            inv += len(a) - i\n",
    "\n",
    "    c += a[i:]\n",
    "    c += b[j:]\n",
    "                \n",
    "    return c, inv"
   ]
  },
  {
   "cell_type": "code",
   "execution_count": 68,
   "metadata": {},
   "outputs": [
    {
     "data": {
      "text/plain": [
       "([1, 4, 5, 6, 20], 5)"
      ]
     },
     "execution_count": 68,
     "metadata": {},
     "output_type": "execute_result"
    }
   ],
   "source": [
    "l = [1, 20, 6, 4, 5] \n",
    "mergeSortInv(l)"
   ]
  },
  {
   "cell_type": "markdown",
   "metadata": {},
   "source": [
    "<font color='purple' size=\"3\">Task1: <strong>Find the maximum element in an array which is first increasing and then decreasing.</strong><br><br>\n",
    "    You are a given a unimodal array of n distinct elements, meaning that its entries are in increasing order up until its maximum element, after which its elements are in decreasing order. Give an algorithm to compute the maximum element that runs in O(log n) time. </font>"
   ]
  },
  {
   "cell_type": "code",
   "execution_count": 73,
   "metadata": {},
   "outputs": [],
   "source": [
    "# method 1 - Linear search \n",
    "# Time complexity 0(n)\n",
    "def findMax(arr):\n",
    "    max = arr[0]\n",
    "    for i in range(0, len(arr)):\n",
    "        if arr[i] > max:\n",
    "            max = arr[i]\n",
    "    return max"
   ]
  },
  {
   "cell_type": "code",
   "execution_count": 72,
   "metadata": {},
   "outputs": [
    {
     "data": {
      "text/plain": [
       "500"
      ]
     },
     "execution_count": 72,
     "metadata": {},
     "output_type": "execute_result"
    }
   ],
   "source": [
    "arr = [8, 10, 20, 80, 100, 200, 400, 500, 3, 2, 1]\n",
    "findMax(arr)"
   ]
  },
  {
   "cell_type": "code",
   "execution_count": 93,
   "metadata": {},
   "outputs": [],
   "source": [
    "# method 1 - Binary search \n",
    "# Time complexity 0(log n)\n",
    "def findMaxBinarySearch(arr, low, high):\n",
    "#     low = arr[0]\n",
    "#     high = arr[len(arr)-1]\n",
    "    \n",
    "    if low == high:\n",
    "        return arr[low]\n",
    "    \n",
    "    mid = (high+low)//2\n",
    "    \n",
    "    if arr[mid] > arr[mid+1] and arr[mid] > arr[mid-1]:\n",
    "        return arr[mid]\n",
    "    \n",
    "    # max is on the left of mid\n",
    "    if arr[mid] > arr[mid+1] and arr[mid] < arr[mid-1]:\n",
    "        return findMaxBinarySearch(arr, low, mid-1)\n",
    "    else: # max is on the right of mid\n",
    "        return findMaxBinarySearch(arr, mid+1, high)"
   ]
  },
  {
   "cell_type": "code",
   "execution_count": 94,
   "metadata": {},
   "outputs": [
    {
     "data": {
      "text/plain": [
       "60"
      ]
     },
     "execution_count": 94,
     "metadata": {},
     "output_type": "execute_result"
    }
   ],
   "source": [
    "arr = [1, 3, 50, 60, 10, 9, 7, 6]\n",
    "findMaxBinarySearch(arr, 0, len(arr)-1)"
   ]
  },
  {
   "cell_type": "code",
   "execution_count": 196,
   "metadata": {},
   "outputs": [],
   "source": [
    "# simple binary search :)\n",
    "# the array needs to be SORTED\n",
    "def binarySearch(arr, low, high, x):\n",
    "    if high >= low:\n",
    "        \n",
    "        mid = (high+low)//2\n",
    "        \n",
    "        if arr[mid] == x:\n",
    "            return mid\n",
    "        \n",
    "        elif arr[mid] > x: # x is on the left of mid\n",
    "            return binarySearch(arr, low, mid-1, x)\n",
    "        \n",
    "        else: # x is on the right of mid\n",
    "            return binarySearch(arr, mid+1, high, x)\n",
    "        \n",
    "    else: # x is not present in arr\n",
    "        return -1"
   ]
  },
  {
   "cell_type": "code",
   "execution_count": 197,
   "metadata": {},
   "outputs": [
    {
     "data": {
      "text/plain": [
       "3"
      ]
     },
     "execution_count": 197,
     "metadata": {},
     "output_type": "execute_result"
    }
   ],
   "source": [
    "arrB = [ 2, 3, 4, 10, 40]\n",
    "binarySearch(arrB, 0, len(arr)-1, 10)"
   ]
  },
  {
   "cell_type": "markdown",
   "metadata": {},
   "source": [
    "<font color='purple' size=\"3\"><strong>Task2: </strong>You are given as input an unsorted array of n distinct numbers, where n is a power of 2. Give an algorithm that identifies the second-largest number in the array, and that uses at most <strong> n + log2(n) - 2 </strong>compariosns. </font>\n",
    "\n",
    "useful link = http://www.algoqueue.com/algoqueue/default/view/3866624/find-2nd-largest-number-in-an-array-with-minimum-comparisons"
   ]
  },
  {
   "cell_type": "code",
   "execution_count": null,
   "metadata": {},
   "outputs": [],
   "source": []
  },
  {
   "cell_type": "markdown",
   "metadata": {},
   "source": [
    "<font color='purple' size=\"3\"><strong>Task3: </strong>You are given a sorted (from smallest to largest) array A of n distinct integers which can be positive, negative, or zero. You want to decide whether or not there is an index i such that A[i] = i. Design the fastest algorithm that you can for solving this problem.</font>"
   ]
  },
  {
   "cell_type": "code",
   "execution_count": 187,
   "metadata": {},
   "outputs": [],
   "source": [
    "# method 1: linear search\n",
    "# time complexity: O(n)\n",
    "def linearSearchIndex(arr):\n",
    "    for i in range(len(arr)):\n",
    "        if arr[i] == i:\n",
    "            return i\n",
    "        \n",
    "    return -1"
   ]
  },
  {
   "cell_type": "code",
   "execution_count": 191,
   "metadata": {},
   "outputs": [
    {
     "data": {
      "text/plain": [
       "3"
      ]
     },
     "execution_count": 191,
     "metadata": {},
     "output_type": "execute_result"
    }
   ],
   "source": [
    "arr = [-10, -1, 0, 3, 10, 11, 30, 50, 100] \n",
    "linearSearchIndex(arr)"
   ]
  },
  {
   "cell_type": "code",
   "execution_count": 192,
   "metadata": {},
   "outputs": [],
   "source": [
    "# method 2: binary search\n",
    "# time complexity: O(log(n))\n",
    "# note: array is SORTED!\n",
    "def bsIndex(arr, l, r):\n",
    "    if r >= l:\n",
    "        mid = (l+r)//2\n",
    "        \n",
    "    if mid == arr[mid]:\n",
    "        return mid\n",
    "    \n",
    "    if mid > arr[mid]: # look at the right side\n",
    "        return bsIndex(arr, mid+1, r)\n",
    "    else: # look at the left side\n",
    "        return bsIndex(arr, l, mid-1)\n",
    "    return -1"
   ]
  },
  {
   "cell_type": "code",
   "execution_count": 195,
   "metadata": {},
   "outputs": [
    {
     "data": {
      "text/plain": [
       "3"
      ]
     },
     "execution_count": 195,
     "metadata": {},
     "output_type": "execute_result"
    }
   ],
   "source": [
    "arr = [-10, -1, 0, 3, 10, 11, 30, 50, 100] \n",
    "bsIndex(arr, 0, len(arr)-1)"
   ]
  },
  {
   "cell_type": "markdown",
   "metadata": {},
   "source": [
    "<font color='purple' size=\"3\"><strong>Task4: </strong> You are given an n by n grid of distinct numbers. A number is a local minimum if it is smaller than all of its neighbors. (A neighbor of a number is one immediately above, below, to the left, or the right. Most numbers have four neighbors; numbers on the side have three; the four corners have two.) Use the divide-and-conquer algorithm design paradigm to compute a local minimum with only O(n) comparisons between pairs of numbers. (Note: since there are n^2n numbers in the input, you cannot afford to look at all of them. Hint: Think about what types of recurrences would give you the desired upper bound.)</font>"
   ]
  },
  {
   "cell_type": "code",
   "execution_count": null,
   "metadata": {},
   "outputs": [],
   "source": []
  },
  {
   "cell_type": "markdown",
   "metadata": {},
   "source": [
    "<strong>Programming Assignment 2</Strong><br>\n",
    "This file contains all of the 100,000 integers between 1 and 100,000 (inclusive) in some order, with no integer repeated.  Compute the number of inversions in the file given\n"
   ]
  },
  {
   "cell_type": "code",
   "execution_count": 183,
   "metadata": {},
   "outputs": [
    {
     "name": "stdout",
     "output_type": "stream",
     "text": [
      "100000\n",
      "54044\n"
     ]
    }
   ],
   "source": [
    "f = open(\"array.txt\", \"r\")\n",
    "# print(f.readline())\n",
    "\n",
    "integerArr = []\n",
    "\n",
    "for num in f:\n",
    "    integerArr.append(int(num.rstrip('\\n')))\n",
    "    \n",
    "print(len(integerArr))\n",
    "print(integerArr[0])"
   ]
  },
  {
   "cell_type": "code",
   "execution_count": 184,
   "metadata": {},
   "outputs": [],
   "source": [
    "def countInv(arr):\n",
    "    if len(arr) == 1:\n",
    "        return arr, 0\n",
    "    \n",
    "    else:\n",
    "        mid = len(arr)//2\n",
    "        \n",
    "        a, ainv = countInv(arr[:mid])\n",
    "        b, binv = countInv(arr[mid:])\n",
    "        c = []\n",
    "        \n",
    "        i = j = 0\n",
    "        inv = 0 + ainv + binv\n",
    "        \n",
    "    while i < len(a) and j < len(b):\n",
    "        if a[i] <= b[j]:\n",
    "            c.append(a[i])\n",
    "            i += 1\n",
    "        else:\n",
    "            c.append(b[j])\n",
    "            inv += len(a) - i\n",
    "            j += 1\n",
    "        \n",
    "    c += a[i:]\n",
    "    c += b[j:]\n",
    "    \n",
    "    return c, inv\n",
    "        "
   ]
  },
  {
   "cell_type": "code",
   "execution_count": 186,
   "metadata": {},
   "outputs": [
    {
     "name": "stdout",
     "output_type": "stream",
     "text": [
      "2407905288\n"
     ]
    }
   ],
   "source": [
    "ans = countInv(integerArr)\n",
    "print(ans[1])"
   ]
  },
  {
   "cell_type": "markdown",
   "metadata": {},
   "source": [
    "<strong>Quick Sort</strong> - Tony Hoare <br>\n",
    "Similar to mergesort - divide-and-conquer recursive algorithm<br>\n",
    "Average running time O(NlogN)<br>\n",
    "Worst-case running time O(N2)<br>\n",
    "\n",
    "<strong>Advantages:</strong><br>\n",
    "Does not need additional memory (the sorting takes place in the array - this is called in-place processing). <br>\n",
    "Compare with mergesort: mergesort needs additional memory for merging.<br>\n",
    "\n",
    "<strong>Disadgvantages:</strong><br>\n",
    "Worst-case running time O(N2)<br>\n",
    "\n",
    "Additional:<br>\n",
    "<strong>Never use in applications which require guaranteed response time:</strong><br>\n",
    "- Life-critical (medical monitoring, life support in aircraft and space craft)<br>\n",
    "- Mission-critical (monitoring and control in industrial and research plants handling dangerous materials, control for aircraft, defense, etc)<br>\n",
    "unless you assume the worst-case response time.<br>\n",
    "\n",
    "<strong>Comparison with heapsort:</strong>\n",
    "\n",
    "- both algorithms have O(NlogN) complexity\n",
    "- quicksort runs faster, (does not support a heap tree)\n",
    "- the speed of quick sort is not guaranteed\n",
    "\n",
    "<strong>Comparison with mergesort:</strong>\n",
    "\n",
    "- mergesort guarantees O(NlogN) time, however it requires additional memory with size N.\n",
    "- quicksort does not require additional memory, however the speed is not quaranteed\n",
    "- usually mergesort is not used for main memory sorting, only for external memory sorting.\n",
    "\n",
    "_____________________________________________________\n",
    "\n",
    "<strong>Two cool facts about partition:</strong><br>\n",
    "1. linear time O(n) => no extra memory cause all we do is swaps, we don't allocate any additional memory\n",
    "2. reduces the problem size cause using D&C approach\n",
    "\n",
    "_____________________________________________________\n",
    "\n",
    "<strong>High level description:</strong><br><br>\n",
    "QuickSort(array A, length n):<br>\n",
    "if n = 1 return<br>\n",
    "p = choosePivot(A, n)<br>\n",
    "partition A atound p<br>\n",
    "recursively sort 1st part<br>\n",
    "recursively sort 2nd part<br>\n",
    "\n",
    "note: no combine step, no merge step!!<br><br>\n",
    "note: random pivot is *pretty good* *often enough*"
   ]
  },
  {
   "cell_type": "code",
   "execution_count": 199,
   "metadata": {},
   "outputs": [],
   "source": [
    "def partition(arr, l, r):\n",
    "    pivot = arr[l]\n",
    "    j = i = l + 1\n",
    "    for j in range(l+1, r):\n",
    "        # if arr[j] > pivot //do nothing\n",
    "        if arr[j] < pivot:\n",
    "            arr[i], arr[j] = arr[j], arr[i] # swap\n",
    "            i += 1\n",
    "            \n",
    "    arr[l], arr[i-1] = arr[i-1], arr[l]"
   ]
  },
  {
   "cell_type": "code",
   "execution_count": 227,
   "metadata": {},
   "outputs": [],
   "source": [
    "def quicksort(arr):\n",
    "    if len(arr) == 1 or len(arr) == 0:\n",
    "        return arr\n",
    "    else:\n",
    "        pivot = arr[0] # pivot is the first element\n",
    "        i = j = 0\n",
    "        for j in range(len(arr)-1):\n",
    "            if arr[j+1] < pivot:\n",
    "                arr[j+1], arr[i+1] = arr[i+1], arr[j+1]\n",
    "                i += 1\n",
    "        arr[0], arr[i] = arr[i], arr[0]\n",
    "        \n",
    "        less = quicksort(arr[:i])\n",
    "        greater = quicksort(arr[i+1:])\n",
    "        less.append(arr[i])\n",
    "        \n",
    "        return less + greater"
   ]
  },
  {
   "cell_type": "code",
   "execution_count": 228,
   "metadata": {},
   "outputs": [
    {
     "data": {
      "text/plain": [
       "[17, 20, 26, 31, 44, 54, 55, 77, 93]"
      ]
     },
     "execution_count": 228,
     "metadata": {},
     "output_type": "execute_result"
    }
   ],
   "source": [
    "alist = [54,26,93,17,77,31,44,55,20]\n",
    "quicksort(alist)"
   ]
  },
  {
   "cell_type": "markdown",
   "metadata": {},
   "source": [
    "<strong>Programming Assignment 3</Strong><br>\n",
    "compute the total number of comparisons used to sort the given input file by QuickSort. As you know, the number of comparisons depends on which elements are chosen as pivots, so we'll ask you to explore three different pivoting rules.<br><br>\n",
    "\n",
    "You should not count comparisons one-by-one. Rather, when there is a recursive call on a subarray of length m, you should simply add m-1 to your running total of comparisons. (This is because the pivot element is compared to each of the other m-1 elements in the subarray in this recursive call.)<br><br>\n",
    "\n",
    "WARNING: The Partition subroutine can be implemented in several different ways, and different implementations can give you differing numbers of comparisons. For this problem, you should implement the Partition subroutine exactly as it is described in the video lectures (otherwise you might get the wrong answer).<br><br>\n"
   ]
  },
  {
   "cell_type": "markdown",
   "metadata": {},
   "source": [
    "<strong>Case III - Median of 3 Pivot Rule</strong>\n",
    "The integer list can be downloaded from https://gist.githubusercontent.com/anirudhjayaraman/ed3c0f2ae1377e9a5833906aa8fb78c3/raw/566eddfc25e64413f4ecd212a143c00a0749dedd/QuickSort_List.txt\n",
    "\n",
    "See the first question.\n",
    "\n",
    "DIRECTIONS FOR THIS PROBLEM:\n",
    "\n",
    "Compute the number of comparisons (as in Problem 1), using the \"median-of-three\" pivot rule. [The primary motivation behind this rule is to do a little bit of extra work to get much better performance on input arrays that are nearly sorted or reverse sorted.] In more detail, you should choose the pivot as follows. Consider the first, middle, and final elements of the given array. (If the array has odd length it should be clear what the \"middle\" element is; for an array with even length 2k, use the kth element as the \"middle\" element. So for the array 4 5 6 7, the \"middle\" element is the second one ---- 5 and not 6!) Identify which of these three elements is the median (i.e., the one whose value is in between the other two), and use this as your pivot. As discussed in the first and second parts of this programming assignment, be sure to implement Partition exactly as described in the video lectures (including exchanging the pivot element with the first element just before the main Partition subroutine).\n",
    "\n",
    "EXAMPLE: For the input array 8 2 4 5 7 1 you would consider the first (8), middle (4), and last (1) elements; since 4 is the median of the set {1,4,8}, you would use 4 as your pivot element."
   ]
  },
  {
   "cell_type": "code",
   "execution_count": 200,
   "metadata": {},
   "outputs": [
    {
     "name": "stdout",
     "output_type": "stream",
     "text": [
      "138382\n"
     ]
    }
   ],
   "source": [
    "FILE_NAME = \"QuickSort.txt\"\n",
    "f = open(FILE_NAME, \"r\")\n",
    "intArr = []\n",
    "for num in f:\n",
    "    intArr.append(int(num.rstrip('\\n')))\n",
    "    \n",
    "count = 0\n",
    "def middle_index_array(x):\n",
    "    if len(x) % 2 == 0:\n",
    "        middle_index = len(x)//2 - 1\n",
    "    else:\n",
    "        middle_index = len(x)//2\n",
    "    return middle_index\n",
    "\n",
    "def median_index(arr, i, j, k):\n",
    "    if (arr[i]-arr[j])*(arr[i]-arr[k]) < 0:\n",
    "        return i\n",
    "    elif (arr[j] - arr[i])*(arr[j] - arr[k]) < 0:\n",
    "        return j\n",
    "    else:\n",
    "        return k\n",
    "\n",
    "def countComparisonsQuickSort(arr):\n",
    "    global count\n",
    "    if len(arr) == 1 or len(arr) == 0:\n",
    "        return arr\n",
    "    else:\n",
    "        count += len(arr) - 1\n",
    "        i = 0\n",
    "        pivot = arr[0]\n",
    "        k = median_index(arr, 0, middle_index_array(arr), -1)\n",
    "        if k != 0: pivot, arr[k] = arr[k], pivot\n",
    "    \n",
    "    \n",
    "        for j in range(len(arr)-1):\n",
    "            if pivot > arr[j+1]:\n",
    "                arr[i+1], arr[j+1] = arr[j+1], arr[i+1]\n",
    "                i += 1\n",
    "        \n",
    "        arr[0], arr[i] = arr[i], arr[0]\n",
    "        \n",
    "        first_part = countComparisonsQuickSort(arr[:i])\n",
    "        second_part = countComparisonsQuickSort(arr[i+1:])\n",
    "        first_part.append(arr[i])\n",
    "        \n",
    "        return first_part + second_part\n",
    "countComparisonsQuickSort(intArr)\n",
    "print(count)"
   ]
  },
  {
   "cell_type": "markdown",
   "metadata": {},
   "source": [
    "<strong>Case II</strong>\n",
    "The integer list can be downloaded from https://gist.githubusercontent.com/anirudhjayaraman/ed3c0f2ae1377e9a5833906aa8fb78c3/raw/566eddfc25e64413f4ecd212a143c00a0749dedd/QuickSort_List.txt\n",
    "\n",
    "See the first question.\n",
    "\n",
    "DIRECTIONS FOR THIS PROBLEM:\n",
    "\n",
    "Compute the number of comparisons (as in Problem 1), always using the final element of the given array as the pivot element. Again, be sure to implement the Partition subroutine exactly as it is described in the video lectures.\n",
    "\n",
    "Recall from the lectures that, just before the main Partition subroutine, you should exchange the pivot element (i.e., the last element) with the first element."
   ]
  },
  {
   "cell_type": "code",
   "execution_count": 201,
   "metadata": {},
   "outputs": [
    {
     "name": "stdout",
     "output_type": "stream",
     "text": [
      "164123\n"
     ]
    }
   ],
   "source": [
    "FILE_NAME = \"QuickSort.txt\"\n",
    "f = open(FILE_NAME, \"r\")\n",
    "intArr = []\n",
    "for num in f:\n",
    "    intArr.append(int(num.rstrip('\\n')))\n",
    "    \n",
    "count = 0\n",
    "def countComparisonsQuickSort(arr):\n",
    "    global count\n",
    "    if len(arr) == 1 or len(arr) == 0:\n",
    "        return arr\n",
    "    else:\n",
    "        pivot = arr[0]\n",
    "        pivot, arr[-1] = arr[-1], pivot\n",
    "        count += len(arr) - 1\n",
    "        i = 0\n",
    "    \n",
    "        for j in range(len(arr)-1):\n",
    "            if pivot > arr[j+1]:\n",
    "                arr[i+1], arr[j+1] = arr[j+1], arr[i+1]\n",
    "                i += 1\n",
    "        \n",
    "        arr[0], arr[i] = arr[i], arr[0]\n",
    "        \n",
    "        first_part = countComparisonsQuickSort(arr[:i])\n",
    "        second_part = countComparisonsQuickSort(arr[i+1:])\n",
    "        first_part.append(arr[i])\n",
    "        \n",
    "        return first_part + second_part\n",
    "countComparisonsQuickSort(intArr)\n",
    "print(count)"
   ]
  },
  {
   "cell_type": "markdown",
   "metadata": {},
   "source": [
    "<strong>Case I</strong>\n",
    "The integer list can be downloaded from https://gist.githubusercontent.com/anirudhjayaraman/ed3c0f2ae1377e9a5833906aa8fb78c3/raw/566eddfc25e64413f4ecd212a143c00a0749dedd/QuickSort_List.txt\n",
    "\n",
    "The file contains all of the integers between 1 and 10,000 (inclusive, with no repeats) in unsorted order. The integer in the ith row of the file gives you the ith entry of an input array.\n",
    "\n",
    "Your task is to compute the total number of comparisons used to sort the given input file by QuickSort. As you know, the number of comparisons depends on which elements are chosen as pivots, so we'll ask you to explore three different pivoting rules.\n",
    "\n",
    "You should not count comparisons one-by-one. Rather, when there is a recursive call on a subarray of length m, you should simply add m−1 to your running total of comparisons. (This is because the pivot element is compared to each of the other m−1 elements in the subarray in this recursive call.)"
   ]
  },
  {
   "cell_type": "code",
   "execution_count": 202,
   "metadata": {},
   "outputs": [
    {
     "name": "stdout",
     "output_type": "stream",
     "text": [
      "162085\n"
     ]
    }
   ],
   "source": [
    "FILE_NAME = \"QuickSort.txt\"\n",
    "f = open(FILE_NAME, \"r\")\n",
    "intArr = []\n",
    "for num in f:\n",
    "    intArr.append(int(num.rstrip('\\n')))\n",
    "    \n",
    "count = 0\n",
    "def countComparisonsQuickSort(arr):\n",
    "    global count\n",
    "    if len(arr) == 1 or len(arr) == 0:\n",
    "        return arr\n",
    "    else:\n",
    "        pivot = arr[0]\n",
    "        count += len(arr) - 1\n",
    "        i = 0\n",
    "    \n",
    "        for j in range(len(arr)-1):\n",
    "            if pivot > arr[j+1]:\n",
    "                arr[i+1], arr[j+1] = arr[j+1], arr[i+1]\n",
    "                i += 1\n",
    "        \n",
    "        arr[0], arr[i] = arr[i], arr[0]\n",
    "        \n",
    "        first_part = countComparisonsQuickSort(arr[:i])\n",
    "        second_part = countComparisonsQuickSort(arr[i+1:])\n",
    "        first_part.append(arr[i])\n",
    "        \n",
    "        return first_part + second_part\n",
    "countComparisonsQuickSort(intArr)\n",
    "print(count)"
   ]
  },
  {
   "cell_type": "markdown",
   "metadata": {},
   "source": [
    "<font color='purple' size=\"3\"><strong>FAVOURITE QUICK SORT ALGORITHM</strong><br><br>"
   ]
  },
  {
   "cell_type": "code",
   "execution_count": 14,
   "metadata": {},
   "outputs": [
    {
     "name": "stdout",
     "output_type": "stream",
     "text": [
      "pivot =  3\n",
      "start i =  0\n",
      "start j =  0\n",
      "in the loop -> j =  0\n",
      "in the loop -> j =  1\n",
      "swap  1  and  4\n",
      "increase i to be equalt to  1\n",
      "in the loop -> j =  2\n",
      "swap  2  and  2\n",
      "increase i to be equalt to  2\n",
      "swap  3  and  2\n",
      "pivot =  2\n",
      "start i =  0\n",
      "start j =  0\n",
      "in the loop -> j =  0\n",
      "swap  1  and  2\n",
      "increase i to be equalt to  1\n",
      "swap  2  and  1\n"
     ]
    },
    {
     "data": {
      "text/plain": [
       "[1, 2, 3, 4]"
      ]
     },
     "execution_count": 14,
     "metadata": {},
     "output_type": "execute_result"
    }
   ],
   "source": [
    "def quicksort(x):\n",
    "    if len(x) == 0 or len(x) == 1:\n",
    "        return x\n",
    "    else:\n",
    "        pivot = x[0]\n",
    "        print(\"pivot = \", pivot)\n",
    "        i = j =0\n",
    "        print(\"start i = \", i)\n",
    "        print(\"start j = \", j)\n",
    "        for j in range(len(x)-1):\n",
    "            print(\"in the loop -> j = \", j)\n",
    "            if pivot > x[j+1]:\n",
    "                print(\"swap \", x[j+1], \" and \", x[i+j] )\n",
    "                x[j+1], x[i+1] =  x[i+1], x[j+1]\n",
    "                i += 1\n",
    "                print(\"increase i to be equalt to \", i)\n",
    "        print(\"swap \", x[0], \" and \", x[i] )       \n",
    "        x[0], x[i] = x[i], x[0]\n",
    "        \n",
    "        first_part = quicksort(x[:i])\n",
    "        second_part = quicksort(x[i+1:])\n",
    "        first_part.append(x[i])\n",
    "        return first_part + second_part\n",
    "    \n",
    "alist = [3, 4, 1, 2]\n",
    "quicksort(alist)       "
   ]
  },
  {
   "cell_type": "code",
   "execution_count": 28,
   "metadata": {},
   "outputs": [
    {
     "name": "stdout",
     "output_type": "stream",
     "text": [
      "here:  [-1000, 6, 11, -1000, 0, -10, 0, -1, -1, -1, 111, 111]\n"
     ]
    },
    {
     "data": {
      "text/plain": [
       "[-1000, -1000, -10, -1, -1, -1, 0, 0, 6, 11, 111, 111]"
      ]
     },
     "execution_count": 28,
     "metadata": {},
     "output_type": "execute_result"
    }
   ],
   "source": [
    "def quicksort2(x):\n",
    "    if len(x) == 0 or len(x) == 1:\n",
    "        return x\n",
    "    else:\n",
    "        pivot = x[0]\n",
    "        i = 0\n",
    "        for j in range(1, len(x)):\n",
    "     \n",
    "            if pivot > x[j]:\n",
    "                i += 1\n",
    "                x[j], x[i] =  x[i], x[j]\n",
    "\n",
    "#                 x[j], x[i+1] =  x[i+1], x[j]\n",
    "#                 i += 1\n",
    "      \n",
    "        x[0], x[i] = x[i], x[0]\n",
    "        \n",
    "        print(\"here: \", x)\n",
    "        \n",
    "        first_part = quicksort(x[:i])\n",
    "        second_part = quicksort(x[i+1:])\n",
    "        first_part.append(x[i])\n",
    "        return first_part + second_part\n",
    "    \n",
    "alist = [-1000, 6, 11, -1000, 0, -10, 0, -1, -1, -1, 111, 111]\n",
    "quicksort2(alist)       "
   ]
  },
  {
   "cell_type": "code",
   "execution_count": null,
   "metadata": {},
   "outputs": [],
   "source": []
  }
 ],
 "metadata": {
  "kernelspec": {
   "display_name": "Python 3",
   "language": "python",
   "name": "python3"
  },
  "language_info": {
   "codemirror_mode": {
    "name": "ipython",
    "version": 3
   },
   "file_extension": ".py",
   "mimetype": "text/x-python",
   "name": "python",
   "nbconvert_exporter": "python",
   "pygments_lexer": "ipython3",
   "version": "3.6.5"
  }
 },
 "nbformat": 4,
 "nbformat_minor": 2
}
