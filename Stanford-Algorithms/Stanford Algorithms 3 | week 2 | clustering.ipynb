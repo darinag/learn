{
 "cells": [
  {
   "cell_type": "markdown",
   "metadata": {},
   "source": [
    "In this programming problem and the next you'll code up the clustering algorithm from lecture for computing a max-spacing kk-clustering. <br> This file describes a distance function (equivalently, a complete graph with edge costs). It has the following format:\n",
    "\n",
    "[number_of_nodes]\n",
    "\n",
    "[edge 1 node 1] [edge 1 node 2] [edge 1 cost] <br><br>\n",
    "\n",
    "For example, the third line of the file is \"1 3 5250\", indicating that the distance between nodes 1 and 3 (equivalently, the cost of the edge (1,3)) is 5250. You can assume that distances are positive, but you should NOT assume that they are distinct. <br>\n",
    "\n",
    "Your task in this problem is to run the clustering algorithm from lecture on this data set, where the target number kk of clusters is set to 4. What is the maximum spacing of a 4-clustering? <br>"
   ]
  },
  {
   "cell_type": "code",
   "execution_count": 61,
   "metadata": {},
   "outputs": [],
   "source": [
    "### TEST DATA \n",
    "FILE_NAME = \"test_data.txt\"\n",
    "with open(FILE_NAME, \"r\") as f:\n",
    "    data = f.readlines()\n",
    "    \n",
    "for i in range(len(data)):\n",
    "    data[i] = data[i].strip(\"\\n\").split()\n",
    "    data[i] = list(map(int, data[i]))\n",
    "    \n",
    "data_num_nodes = data[0][0]\n",
    "del data[0]\n",
    "\n",
    "roots = [x for x in range(data_num_nodes+1)]\n",
    "\n",
    "sorted_data = sorted(data, key=lambda i: i[2])\n",
    "\n",
    "clusters = 0\n",
    "A = set()\n",
    "mst = 0\n",
    "\n",
    "def find(node, parents):\n",
    "    if parents[node] != node:\n",
    "        parents[node] = find(parents[node], parents)\n",
    "    return parents[node]\n",
    "\n",
    "def connected(node1, node2, parents):\n",
    "    return find(node1, parents) == find(node2, parents)\n",
    "\n",
    "def union(node1, node2, parents):\n",
    "    parent1, parent2 = find(node1, parents), find(node2, parents)\n",
    "    if parent1 != parent2:\n",
    "        parents[parent1] = parent2\n",
    "\n",
    "allNodes = set()\n",
    "# while clusters <= 4:\n",
    "k = 0\n",
    "for i in range(len(sorted_data)):\n",
    "    node1, node2, cost = sorted_data[i]\n",
    "    if not connected(node1, node2, roots) and k < 8:\n",
    "          A.add((node1, node2, cost))\n",
    "#         mst += cost\n",
    "          union(node1, node2, roots)\n",
    "          k += 1\n",
    "max_dist = 0    \n",
    "for i in range(len(sorted_data)-1, 0, -1):\n",
    "    node1, node2, cost = sorted_data[i]\n",
    "    if not connected(node1, node2, roots):\n",
    "        max_dist = cost"
   ]
  },
  {
   "cell_type": "code",
   "execution_count": 62,
   "metadata": {},
   "outputs": [],
   "source": [
    "FILE_NAME = \"clustering.txt\"\n",
    "with open(FILE_NAME, \"r\") as f:\n",
    "    data = f.readlines()\n",
    "    \n",
    "for i in range(len(data)):\n",
    "    data[i] = data[i].strip(\"\\n\").split()\n",
    "    data[i] = list(map(int, data[i]))\n",
    "    \n",
    "data_num_nodes = data[0][0]\n",
    "del data[0]\n",
    "\n",
    "roots = [x for x in range(data_num_nodes+1)]\n",
    "\n",
    "sorted_data = sorted(data, key=lambda i: i[2])\n",
    "\n",
    "clusters = 0\n",
    "A = set()\n",
    "mst = 0\n",
    "\n",
    "def find(node, parents):\n",
    "    if parents[node] != node:\n",
    "        parents[node] = find(parents[node], parents)\n",
    "    return parents[node]\n",
    "\n",
    "def connected(node1, node2, parents):\n",
    "    return find(node1, parents) == find(node2, parents)\n",
    "\n",
    "def union(node1, node2, parents):\n",
    "    parent1, parent2 = find(node1, parents), find(node2, parents)\n",
    "    if parent1 != parent2:\n",
    "        parents[parent1] = parent2\n",
    "\n",
    "allNodes = set()\n",
    "# while clusters <= 4:\n",
    "k = 0\n",
    "for i in range(len(sorted_data)):\n",
    "    node1, node2, cost = sorted_data[i]\n",
    "    if not connected(node1, node2, roots) and k < 496:\n",
    "          A.add((node1, node2, cost))\n",
    "#         mst += cost\n",
    "          union(node1, node2, roots)\n",
    "          k += 1\n",
    "max_dist = 0    \n",
    "for i in range(len(sorted_data)-1, 0, -1):\n",
    "    node1, node2, cost = sorted_data[i]\n",
    "    if not connected(node1, node2, roots):\n",
    "        max_dist = cost"
   ]
  },
  {
   "cell_type": "markdown",
   "metadata": {},
   "source": [
    "12 nodes and 4 clusters => 3 nodes per cluster => 2 edges per cluster => 4clusters*2edges per clusters = 8 = k <br>\n",
    "500 nodes and 4clusters => 125 ndoes per clusters => 124 edges per cluster => 4clusters*124 = 496 = k"
   ]
  },
  {
   "cell_type": "code",
   "execution_count": 63,
   "metadata": {},
   "outputs": [
    {
     "data": {
      "text/plain": [
       "5"
      ]
     },
     "execution_count": 63,
     "metadata": {},
     "output_type": "execute_result"
    }
   ],
   "source": [
    "s = set()\n",
    "for i in roots:\n",
    "    s.add(i)\n",
    "len(s)"
   ]
  },
  {
   "cell_type": "code",
   "execution_count": 64,
   "metadata": {},
   "outputs": [
    {
     "data": {
      "text/plain": [
       "500"
      ]
     },
     "execution_count": 64,
     "metadata": {},
     "output_type": "execute_result"
    }
   ],
   "source": [
    "data_num_nodes"
   ]
  },
  {
   "cell_type": "code",
   "execution_count": 65,
   "metadata": {},
   "outputs": [
    {
     "data": {
      "text/plain": [
       "106"
      ]
     },
     "execution_count": 65,
     "metadata": {},
     "output_type": "execute_result"
    }
   ],
   "source": [
    "max_dist"
   ]
  },
  {
   "cell_type": "code",
   "execution_count": null,
   "metadata": {},
   "outputs": [],
   "source": []
  },
  {
   "cell_type": "code",
   "execution_count": null,
   "metadata": {},
   "outputs": [],
   "source": [
    "clusters"
   ]
  },
  {
   "cell_type": "code",
   "execution_count": null,
   "metadata": {
    "scrolled": false
   },
   "outputs": [],
   "source": []
  },
  {
   "cell_type": "code",
   "execution_count": null,
   "metadata": {},
   "outputs": [],
   "source": []
  }
 ],
 "metadata": {
  "kernelspec": {
   "display_name": "Python 3",
   "language": "python",
   "name": "python3"
  },
  "language_info": {
   "codemirror_mode": {
    "name": "ipython",
    "version": 3
   },
   "file_extension": ".py",
   "mimetype": "text/x-python",
   "name": "python",
   "nbconvert_exporter": "python",
   "pygments_lexer": "ipython3",
   "version": "3.6.5"
  }
 },
 "nbformat": 4,
 "nbformat_minor": 2
}
