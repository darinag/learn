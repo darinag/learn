{
 "cells": [
  {
   "cell_type": "code",
   "execution_count": null,
   "metadata": {},
   "outputs": [],
   "source": []
  },
  {
   "cell_type": "markdown",
   "metadata": {},
   "source": [
    "# STRINGS\n",
    "\n",
    "### KNOW YOUR LIBRARIES\n",
    "\n",
    "s[3], len(s), s + t, s[2:4]\n",
    "\n",
    "s.strip() <br>\n",
    "s.startswith(prefix)<br>\n",
    "s.endswith(suffix)<br>\n",
    "s = s.lower()<br>\n",
    "s = s.upper()<br>\n",
    "s.split(',') or s.split(' ') or etc<br>\n",
    "','.join()<br>\n",
    "\n",
    "'Name {name}, Rank {rank}'.format(name='Nik', rank='master')<br>\n",
    "\n",
    "e.g.<br>\n",
    "a = 'abcdgs'<br>\n",
    "a.startswith('ab')<br>\n",
    "True<br>\n",
    "\n",
    "# STRINGS ARE IMMUTABLE\n",
    "\n",
    "operations like s = s[1:] or s +=\n",
    "' 123' imply creating a new array of characters that is then assigned back to s <br>\n",
    "=> CONCATENANTING A SINGLE CHARACTER N TIMES IN A LOOP HAS O(N^2) <br>\n",
    "\n",
    "know the alternatives to immutabl strings - LISTS <br>\n",
    "\n",
    "string problems often have simple brute-force solution that uses O(n) space and the goal is to find a subtler solution to redice it to O(1)\n",
    "\n",
    "# FIND THE FIRST OCCURENCE OF A SUBSTRING in a string\n",
    "\n",
    "## 3 LINEAR TIME STRING MATCHING ALGORITHMS:\n",
    "\n",
    "### Rabin-Karp (simplest) O(m+n)\n",
    "### Boyer-Moore\n",
    "### KMP - Knutt-Morris-Pratt\n",
    "etc."
   ]
  },
  {
   "cell_type": "code",
   "execution_count": 7,
   "metadata": {},
   "outputs": [
    {
     "data": {
      "text/plain": [
       "True"
      ]
     },
     "execution_count": 7,
     "metadata": {},
     "output_type": "execute_result"
    }
   ],
   "source": [
    "# time complexity O(n) and space complexity O(1)\n",
    "def isPalindrom(string):\n",
    "    return all(string[i] == string[~i] for i in range(len(string)//2))\n",
    "\n",
    "isPalindrom('abcba')"
   ]
  },
  {
   "cell_type": "code",
   "execution_count": 15,
   "metadata": {},
   "outputs": [],
   "source": [
    "def int_to_string(x):\n",
    "    \n",
    "    negative = False\n",
    "    if x < 0:\n",
    "        x = -x\n",
    "        negative = True\n",
    "        \n",
    "    s = []\n",
    "    \n",
    "    while x > 0:\n",
    "        rem = x%10\n",
    "        x //= 10\n",
    "        s.append(chr(ord('0')+rem))\n",
    "        \n",
    "    return ('-' if negative else \"\") + \"\".join(reversed(s))\n"
   ]
  },
  {
   "cell_type": "code",
   "execution_count": 17,
   "metadata": {},
   "outputs": [
    {
     "data": {
      "text/plain": [
       "'1234'"
      ]
     },
     "execution_count": 17,
     "metadata": {},
     "output_type": "execute_result"
    }
   ],
   "source": [
    "int_to_string(1234)"
   ]
  },
  {
   "cell_type": "code",
   "execution_count": 31,
   "metadata": {},
   "outputs": [],
   "source": [
    "def string_to_int(x):\n",
    "    \n",
    "    negative = False\n",
    "    start = 0\n",
    "    \n",
    "    if x[0] is '-':\n",
    "        negative = True\n",
    "        start = 1\n",
    "      \n",
    "    s = 0\n",
    "    value = {'0':0, '1':1, '2':2, '3':3, '4':4, '5':5, '6':6, '7':7, '8':8, '9':9}\n",
    "    \n",
    "    for i in range(start, len(x)):\n",
    "        s = s*10 + value[x[i]]\n",
    "    \n",
    "    return s*(-1) if negative else s\n",
    "    "
   ]
  },
  {
   "cell_type": "code",
   "execution_count": 32,
   "metadata": {},
   "outputs": [
    {
     "data": {
      "text/plain": [
       "-123"
      ]
     },
     "execution_count": 32,
     "metadata": {},
     "output_type": "execute_result"
    }
   ],
   "source": [
    "string_to_int('-123')"
   ]
  },
  {
   "cell_type": "code",
   "execution_count": 46,
   "metadata": {},
   "outputs": [],
   "source": [
    "# IDG\n",
    "# replace all A's with dd and remove all B's\n",
    "def replace_and_remove(arr):\n",
    "    pass\n",
    "replace_and_remove(['a', 'b', 'b', 'c', 'a'])"
   ]
  },
  {
   "cell_type": "code",
   "execution_count": 73,
   "metadata": {},
   "outputs": [],
   "source": [
    "# encode aaabbc to 3a2b1c\n",
    "# uses extra space\n",
    "# can also use ordered dictionary\n",
    "def encode(string):\n",
    "    \n",
    "    res = []\n",
    "    count = 1\n",
    "    \n",
    "    for i in range(1, len(string)+1):\n",
    "        if i == len(string) or string[i] != string[i-1]: # found a new character\n",
    "            res.append(str(count) + string[i-1])\n",
    "            count = 1\n",
    "            \n",
    "        else:\n",
    "            count += 1\n",
    "    return \"\".join(res)"
   ]
  },
  {
   "cell_type": "code",
   "execution_count": 74,
   "metadata": {},
   "outputs": [
    {
     "data": {
      "text/plain": [
       "'4a1b3c2a'"
      ]
     },
     "execution_count": 74,
     "metadata": {},
     "output_type": "execute_result"
    }
   ],
   "source": [
    "encode('aaaabcccaa')"
   ]
  },
  {
   "cell_type": "code",
   "execution_count": 65,
   "metadata": {},
   "outputs": [],
   "source": [
    "# decode 3a1c2b to aaacbb\n",
    "# uses extra space\n",
    "def decode(string):\n",
    "    count = 0\n",
    "    res = []\n",
    "    \n",
    "    for i in string:\n",
    "        if i.isdigit():\n",
    "            count = count*10 + int(i) # we need count*10 to handle e.g. 13a, 123b\n",
    "        else:\n",
    "            res.append(count*i)\n",
    "            count = 0\n",
    "            \n",
    "    return ''.join(res)"
   ]
  },
  {
   "cell_type": "code",
   "execution_count": 66,
   "metadata": {},
   "outputs": [
    {
     "data": {
      "text/plain": [
       "'eeeffffee'"
      ]
     },
     "execution_count": 66,
     "metadata": {},
     "output_type": "execute_result"
    }
   ],
   "source": [
    "decode('3e4f2e')"
   ]
  },
  {
   "cell_type": "code",
   "execution_count": 131,
   "metadata": {},
   "outputs": [],
   "source": [
    "# no extra space\n",
    "# TypeError: 'str' object does not support item assignment =>\n",
    "# if given a string and not an array, conver it to array of character because otherwise we need to create many copies of the str\n",
    "def compress(chars):\n",
    "\n",
    "    if not chars: return \"\"\n",
    "\n",
    "    start = 0\n",
    "    end = 0\n",
    "    last_starting_index = 1\n",
    "\n",
    "    while end < len(chars):\n",
    "        chars[start] = chars[end]\n",
    "        cnt = 1\n",
    "        while end+1 < len(chars) and chars[end] == chars[end+1]:\n",
    "            cnt += 1\n",
    "            end += 1\n",
    "\n",
    "        if cnt > 1: # if we dont check cnt>1 and add 1 when have 1 repetition the code below will throw outofindex exception\n",
    "            for c in str(cnt):\n",
    "                chars[start+1] = c\n",
    "                start += 1\n",
    "            last_starting_index = start\n",
    "              \n",
    "        if cnt == 1:\n",
    "            last_starting_index += 1\n",
    "    \n",
    "        start += 1\n",
    "        end += 1\n",
    "        \n",
    "    return chars[:last_starting_index+1]\n",
    "\n"
   ]
  },
  {
   "cell_type": "code",
   "execution_count": 132,
   "metadata": {},
   "outputs": [
    {
     "data": {
      "text/plain": [
       "['a', '4', 'b', '2', 'd', 'c', '6', 'm', '2']"
      ]
     },
     "execution_count": 132,
     "metadata": {},
     "output_type": "execute_result"
    }
   ],
   "source": [
    "compress([\"a\",\"a\",\"a\",\"a\",\"b\",\"b\",\"d\",\"c\",\"c\",\"c\",\"c\",\"c\",\"c\", \"m\", \"m\"])"
   ]
  },
  {
   "cell_type": "code",
   "execution_count": null,
   "metadata": {},
   "outputs": [],
   "source": []
  },
  {
   "cell_type": "code",
   "execution_count": 141,
   "metadata": {},
   "outputs": [],
   "source": [
    "pattern = 'abc'\n",
    "prime = 3\n",
    "m = len(pattern)\n",
    "h = []\n",
    "for i in range(m):\n",
    "    h.append([pattern[i] + '+' + str(pow(prime, i))])\n",
    "    "
   ]
  },
  {
   "cell_type": "code",
   "execution_count": 142,
   "metadata": {},
   "outputs": [
    {
     "data": {
      "text/plain": [
       "[['a+1'], ['b+3'], ['c+9']]"
      ]
     },
     "execution_count": 142,
     "metadata": {},
     "output_type": "execute_result"
    }
   ],
   "source": [
    "h"
   ]
  },
  {
   "cell_type": "code",
   "execution_count": 251,
   "metadata": {},
   "outputs": [],
   "source": [
    "def rabin_karp(pattern, text, prime):\n",
    "    m = len(pattern)\n",
    "    n = len(text)\n",
    "    \n",
    "    res = []\n",
    "    \n",
    "    if m > len(text): return res\n",
    "    \n",
    "    def create_hash(pattern):\n",
    "        nonlocal prime, m\n",
    "        h = 0\n",
    "        for i in range(m):\n",
    "            h += ord(pattern[i])*pow(prime,i)\n",
    "        return h\n",
    "    \n",
    "    def update_hash(old_hash, new_start, new_end):\n",
    "        nonlocal prime, text, m\n",
    "        x = old_hash - ord(text[new_start-1])\n",
    "        x = x/prime\n",
    "        new_hash = x + ord(text[new_end])*pow(prime, m-1)\n",
    "        return new_hash\n",
    "    \n",
    "    def isEqual(pattern, start):\n",
    "        nonlocal m, text\n",
    "\n",
    "        for i in range(m):\n",
    "            if pattern[i] != text[start+i]:\n",
    "                return False\n",
    "        return True\n",
    "    \n",
    "    pattern_hash = create_hash(pattern)\n",
    "    text_hash = create_hash(text[:m])\n",
    "    \n",
    "    last_start_idx_for_pattern = n - m + 1\n",
    "    for i in range(1, last_start_idx_for_pattern + 1):\n",
    "   \n",
    "        if pattern_hash == text_hash and isEqual(pattern, i-1):\n",
    "            #return i-1 # this is the starting index of the pattern in the text\n",
    "            res.append(i-1)\n",
    "        if i < last_start_idx_for_pattern:\n",
    "            text_hash = update_hash(text_hash, i, i+m-1)\n",
    "        \n",
    "    return res\n",
    "    \n"
   ]
  },
  {
   "cell_type": "code",
   "execution_count": 252,
   "metadata": {},
   "outputs": [
    {
     "data": {
      "text/plain": [
       "[3]"
      ]
     },
     "execution_count": 252,
     "metadata": {},
     "output_type": "execute_result"
    }
   ],
   "source": [
    "rabin_karp('abc', 'acdabcd', 3)"
   ]
  },
  {
   "cell_type": "code",
   "execution_count": 253,
   "metadata": {},
   "outputs": [
    {
     "data": {
      "text/plain": [
       "[10]"
      ]
     },
     "execution_count": 253,
     "metadata": {},
     "output_type": "execute_result"
    }
   ],
   "source": [
    "rabin_karp(\"TEST\", \"THIS IS A TEST TEXT\", 3)"
   ]
  },
  {
   "cell_type": "code",
   "execution_count": 254,
   "metadata": {},
   "outputs": [
    {
     "data": {
      "text/plain": [
       "[0, 9, 12]"
      ]
     },
     "execution_count": 254,
     "metadata": {},
     "output_type": "execute_result"
    }
   ],
   "source": [
    "rabin_karp(\"AABA\", \"AABAACAADAABAABA\", 3)"
   ]
  },
  {
   "cell_type": "markdown",
   "metadata": {},
   "source": [
    "# ARRAYS\n",
    "\n",
    "GET     A [ i ] = O(1) <br>\n",
    "UPDDATE A [ i ] = O(1) <br>\n",
    "DETELE A [ i ]  = O(n-i) cos we need to shift all of the elements after it <br>\n",
    "\n",
    "often we have solutions that uses O(n) space but there is a SUBTLER solution that uses O(1) <br>\n",
    "\n",
    "Filling array from front is slow so check if possible <b>WRITE VALUES FORM BACK</b> <br>\n",
    "    \n",
    "insted DELETEING an entry that requires moving all entries to its left?! consider <b>OVERWRITING</b> it <br>\n",
    "    \n",
    "when dealing with integers incoded by array - process the digits form the back or reverse the array <br>\n",
    "\n",
    "watch out fro OFF-BY-1 errors for the last index <br>\n",
    "\n",
    "<br>\n",
    "\n",
    "PROPERTIES:\n",
    "\n",
    "<li> dynamically resized </li>\n",
    "\n",
    "A.reverse() (in-place) <br>\n",
    "reversed(A) (returns iterator) <br>\n",
    "\n",
    "<br>\n",
    "\n",
    "A.sort() (in-place) <br>\n",
    "sorted(A) (returns copy) <br>\n",
    "\n",
    "<br>\n",
    "\n",
    "del A[i] <br>\n",
    "A.remove(2) <br>\n",
    "\n",
    "## TUPLE\n",
    "\n",
    "similar to array but it is <b>IMMUTABLE</b>\n",
    "\n",
    "<br>\n",
    "\n",
    "about copies: https://medium.com/@thawsitt/assignment-vs-shallow-copy-vs-deep-copy-in-python-f70c2f0ebd86\n"
   ]
  },
  {
   "cell_type": "code",
   "execution_count": 4,
   "metadata": {},
   "outputs": [],
   "source": [
    "def reorder(arr):\n",
    "    l = 0\n",
    "    r = len(arr) - 1\n",
    "    \n",
    "    while l < r:\n",
    "        if arr[l] % 2 == 0:\n",
    "            l += 1\n",
    "        else:\n",
    "            arr[l], arr[r] = arr[r], arr[l]\n",
    "            r -= 1\n",
    "    return arr"
   ]
  },
  {
   "cell_type": "code",
   "execution_count": 5,
   "metadata": {},
   "outputs": [
    {
     "data": {
      "text/plain": [
       "[2, 4, 2, 6, 8, 9, 1, 7, 5, 3]"
      ]
     },
     "execution_count": 5,
     "metadata": {},
     "output_type": "execute_result"
    }
   ],
   "source": [
    "reorder([2,3,5,6,7,8,9,1,2,4])"
   ]
  },
  {
   "cell_type": "code",
   "execution_count": 36,
   "metadata": {},
   "outputs": [],
   "source": [
    "def plus_one(A):\n",
    "    A[-1] += 1\n",
    "    for i in reversed(range(1, len(A))):\n",
    "        if A[i] != 10:\n",
    "            break\n",
    "        A[i] = 0\n",
    "        A[i-1] +=1\n",
    "        \n",
    "    if A[0] == 10:\n",
    "        A[0] = 1\n",
    "        A.append(0)\n",
    "        \n",
    "    return A\n",
    "    "
   ]
  },
  {
   "cell_type": "code",
   "execution_count": 37,
   "metadata": {},
   "outputs": [
    {
     "data": {
      "text/plain": [
       "[1, 3, 0]"
      ]
     },
     "execution_count": 37,
     "metadata": {},
     "output_type": "execute_result"
    }
   ],
   "source": [
    "plus_one([1,2,9])"
   ]
  },
  {
   "cell_type": "code",
   "execution_count": 39,
   "metadata": {},
   "outputs": [],
   "source": [
    "def delete_dublicates_sorted_array(arr):\n",
    "    if not arr: return 0\n",
    "    \n",
    "    write_idx = 1\n",
    "    \n",
    "    for i in range(1, len(arr)):\n",
    "        if arr[write_idx-1] != arr[i]:\n",
    "            arr[write_idx] = arr[i]\n",
    "            write_idx += 1\n",
    "            \n",
    "    return arr"
   ]
  },
  {
   "cell_type": "code",
   "execution_count": 40,
   "metadata": {},
   "outputs": [
    {
     "data": {
      "text/plain": [
       "[1, 2, 3, 4, 5, 3, 4, 5, 5, 5]"
      ]
     },
     "execution_count": 40,
     "metadata": {},
     "output_type": "execute_result"
    }
   ],
   "source": [
    "delete_dublicates_sorted_array([1,2,2,2,3,3,4,5,5,5])"
   ]
  },
  {
   "cell_type": "code",
   "execution_count": 50,
   "metadata": {},
   "outputs": [
    {
     "data": {
      "text/plain": [
       "True"
      ]
     },
     "execution_count": 50,
     "metadata": {},
     "output_type": "execute_result"
    }
   ],
   "source": [
    "# https://www.geeksforgeeks.org/rearrange-the-characters-of-the-string-such-that-no-two-adjacent-characters-are-consecutive-english-alphabets/\n",
    "# Rearrange the characters of the string such that no two adjacent characters are consecutive English alphabets\n",
    "\n",
    "# every two consecutive characters in both the strings will have an absolute difference in ASCII values of at least 2\n",
    "\n",
    "def rearrange(string):\n",
    "    \n",
    "    def check(string):\n",
    "        for i in range(len(string)-1):\n",
    "            if abs(ord(string[i]) - ord(string[i+1])) == 1:\n",
    "                return False\n",
    "        return True\n",
    "    \n",
    "    \n",
    "    \n",
    "    odd = \"\"\n",
    "    even = \"\"\n",
    "    \n",
    "    for i in range(len(string)):\n",
    "        if ord(string[i])%2 == 0:  # since ord ensures a-z are sorted alphabetically\n",
    "            even += string[i]\n",
    "        else:\n",
    "            odd += string[i]\n",
    "            \n",
    "    \n",
    "    even = sorted(even)\n",
    "    odd = sorted(odd) \n",
    "    \n",
    "    return check(even+odd) or check(odd+even)\n",
    "    \n",
    "    \n",
    "\n",
    "\n",
    "rearrange('aabcd')"
   ]
  },
  {
   "cell_type": "code",
   "execution_count": 45,
   "metadata": {},
   "outputs": [
    {
     "data": {
      "text/plain": [
       "0"
      ]
     },
     "execution_count": 45,
     "metadata": {},
     "output_type": "execute_result"
    }
   ],
   "source": [
    "# https://leetcode.com/problems/majority-element/\n",
    "# https://gregable.com/2013/10/majority-vote-algorithm-find-majority.html\n",
    "# BOYER-MOORE ALGORITHM\n",
    "\n",
    "# Given an array of size n, find the majority element. The majority element is \n",
    "# the element that appears more than ⌊ n/2 ⌋ times.\n",
    "\n",
    "# level up: https://leetcode.com/problems/majority-element-ii/ - appears more than [n/3] times\n",
    "\n",
    "def majorityElement1(nums):\n",
    "\n",
    "    candidate = 0\n",
    "    cnt = 0\n",
    "\n",
    "    for num in nums:\n",
    "        if cnt == 0:\n",
    "            candidate = num\n",
    "        if candidate == num:\n",
    "            cnt += 1\n",
    "        else:\n",
    "            cnt -= 1\n",
    "\n",
    "    occur = nums.count(candidate)\n",
    "\n",
    "    return candidate if occur >= len(nums)//2 else None\n",
    "\n",
    "majorityElement1([5, 5, 0, 0, 0, 5, 0, 0, 5])"
   ]
  },
  {
   "cell_type": "code",
   "execution_count": 43,
   "metadata": {},
   "outputs": [
    {
     "data": {
      "text/plain": [
       "[2, 1]"
      ]
     },
     "execution_count": 43,
     "metadata": {},
     "output_type": "execute_result"
    }
   ],
   "source": [
    "# level up: https://leetcode.com/problems/majority-element-ii/ - appears more than [n/3] times\n",
    "def majorityElement2(nums):\n",
    "\n",
    "    if not nums: return []\n",
    "\n",
    "    cnt1, cnt2 = 0, 0\n",
    "\n",
    "    cand1, cand2 = 0, 1 # could be any number doenst matter, just to be different\n",
    "\n",
    "    for num in nums:\n",
    "\n",
    "        if cand1 == num:\n",
    "            cnt1 += 1\n",
    "\n",
    "        elif cand2 == num:\n",
    "            cnt2 += 1\n",
    "\n",
    "        elif cnt1 == 0:\n",
    "            cand1 = num\n",
    "            cnt1 += 1\n",
    "\n",
    "        elif cnt2 == 0:\n",
    "            cand2 = num\n",
    "            cnt2 += 1\n",
    "\n",
    "        else:\n",
    "            cnt1 -= 1\n",
    "            cnt2 -= 1\n",
    "\n",
    "    return [n for n in (cand1, cand2) if nums.count(n) > len(nums)//3]\n",
    "                \n",
    "majorityElement2([1,1,1,3,3,2,2,2])"
   ]
  },
  {
   "cell_type": "code",
   "execution_count": 51,
   "metadata": {},
   "outputs": [
    {
     "ename": "SyntaxError",
     "evalue": "invalid syntax (<ipython-input-51-61db58f191b7>, line 4)",
     "output_type": "error",
     "traceback": [
      "\u001b[0;36m  File \u001b[0;32m\"<ipython-input-51-61db58f191b7>\"\u001b[0;36m, line \u001b[0;32m4\u001b[0m\n\u001b[0;31m    removeAllButChars('$Gee*k;s..fo, r'Ge^eks?')\u001b[0m\n\u001b[0m                                        ^\u001b[0m\n\u001b[0;31mSyntaxError\u001b[0m\u001b[0;31m:\u001b[0m invalid syntax\n"
     ]
    }
   ],
   "source": [
    "def removeAllButChars(string):\n",
    "    pass\n",
    "\n",
    "removeAllButChars('$Gee*k;s..fo, rGe^eks?')"
   ]
  },
  {
   "cell_type": "code",
   "execution_count": null,
   "metadata": {},
   "outputs": [],
   "source": []
  }
 ],
 "metadata": {
  "kernelspec": {
   "display_name": "Python 3",
   "language": "python",
   "name": "python3"
  },
  "language_info": {
   "codemirror_mode": {
    "name": "ipython",
    "version": 3
   },
   "file_extension": ".py",
   "mimetype": "text/x-python",
   "name": "python",
   "nbconvert_exporter": "python",
   "pygments_lexer": "ipython3",
   "version": "3.7.3"
  }
 },
 "nbformat": 4,
 "nbformat_minor": 2
}
