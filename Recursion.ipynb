{
 "cells": [
  {
   "cell_type": "markdown",
   "metadata": {},
   "source": [
    "## REVERSE STRING\n",
    "\n",
    "https://www.geeksforgeeks.org/program-reverse-string-iterative-recursive/"
   ]
  },
  {
   "cell_type": "code",
   "execution_count": 12,
   "metadata": {},
   "outputs": [
    {
     "data": {
      "text/plain": [
       "'cba'"
      ]
     },
     "execution_count": 12,
     "metadata": {},
     "output_type": "execute_result"
    }
   ],
   "source": [
    "# use extra space complexity\n",
    "def reverseString(string):\n",
    "    \n",
    "    res = []\n",
    "    \n",
    "    def helper(idx):\n",
    "        #base case\n",
    "        if idx == len(string):\n",
    "            return\n",
    "        \n",
    "        helper(idx+1)\n",
    "        res.append(string[idx])\n",
    "            \n",
    "    \n",
    "    helper(0)\n",
    "    \n",
    "    return \"\".join(res)\n",
    "\n",
    "reverseString(\"abc\")"
   ]
  },
  {
   "cell_type": "code",
   "execution_count": 21,
   "metadata": {},
   "outputs": [
    {
     "data": {
      "text/plain": [
       "'cba'"
      ]
     },
     "execution_count": 21,
     "metadata": {},
     "output_type": "execute_result"
    }
   ],
   "source": [
    "# not using extra space complexity\n",
    "def reverseString(string):\n",
    "    \n",
    "    string = list(string)\n",
    "    \n",
    "    def helper(start, end):\n",
    "        #base case\n",
    "        if start >= end:\n",
    "            return\n",
    "        \n",
    "        helper(start+1, end-1)\n",
    "        string[start], string[end] = string[end], string[start]\n",
    "        \n",
    "    helper(0, len(string)-1)\n",
    "    return \"\".join(string)\n",
    "\n",
    "reverseString(\"abc\")"
   ]
  },
  {
   "cell_type": "code",
   "execution_count": 30,
   "metadata": {},
   "outputs": [
    {
     "data": {
      "text/plain": [
       "[1, 2, 3, 4, 5, 6, 7, 8, 9]"
      ]
     },
     "execution_count": 30,
     "metadata": {},
     "output_type": "execute_result"
    }
   ],
   "source": [
    "def merge_sort(arr):\n",
    "    \n",
    "    def merge(left, right):\n",
    "        l = 0\n",
    "        r = 0\n",
    "        res = []\n",
    "        while l < len(left) and r < len(right):\n",
    "            if left[l] < right[r]:\n",
    "                res.append(left[l])\n",
    "                l += 1\n",
    "                \n",
    "            else:\n",
    "                res.append(right[r])\n",
    "                r += 1\n",
    "                \n",
    "        res.extend(left[l:])\n",
    "        res.extend(right[r:])\n",
    "        \n",
    "        return res\n",
    "    \n",
    "    if len(arr) <= 1:\n",
    "        return arr\n",
    "    \n",
    "    pivot = len(arr)//2\n",
    "    \n",
    "    left = merge_sort(arr[:pivot])\n",
    "    right = merge_sort(arr[pivot:])\n",
    "    \n",
    "    return merge(left, right)\n",
    "    \n",
    "    \n",
    "merge_sort([5,3,2,8,9,1,4,7,6])    "
   ]
  },
  {
   "cell_type": "code",
   "execution_count": 29,
   "metadata": {},
   "outputs": [
    {
     "data": {
      "text/plain": [
       "[1, 2, 3, 4, 5, 6, 7, 8, 9]"
      ]
     },
     "execution_count": 29,
     "metadata": {},
     "output_type": "execute_result"
    }
   ],
   "source": [
    "def quick_sort(arr):\n",
    "    \n",
    "    def qs(lo, hi):\n",
    "        \n",
    "        if lo < hi:\n",
    "            p = partition(lo, hi)\n",
    "            qs(lo, p-1)\n",
    "            qs(p+1, hi)\n",
    "            \n",
    "    \n",
    "    def partition(lo, hi):\n",
    "        pivot = arr[hi]\n",
    "        i = lo\n",
    "        \n",
    "        for j in range(lo, hi):\n",
    "            if arr[j] < pivot:\n",
    "                arr[i], arr[j] = arr[j], arr[i]\n",
    "                i += 1\n",
    "                \n",
    "        arr[i], arr[hi] = arr[hi], arr[i]\n",
    "        \n",
    "        return i\n",
    "    \n",
    "    \n",
    "    \n",
    "    n = len(arr)\n",
    "    qs(0, n-1)\n",
    "    \n",
    "    return arr\n",
    "\n",
    "quick_sort([5,3,7,2,8,9,1,4,6])"
   ]
  },
  {
   "cell_type": "code",
   "execution_count": null,
   "metadata": {},
   "outputs": [],
   "source": []
  },
  {
   "cell_type": "code",
   "execution_count": null,
   "metadata": {},
   "outputs": [],
   "source": []
  },
  {
   "cell_type": "code",
   "execution_count": 1,
   "metadata": {},
   "outputs": [],
   "source": [
    "img = (256, 301)"
   ]
  },
  {
   "cell_type": "code",
   "execution_count": 2,
   "metadata": {},
   "outputs": [],
   "source": [
    "rows, cols = 4, 4"
   ]
  },
  {
   "cell_type": "code",
   "execution_count": null,
   "metadata": {},
   "outputs": [],
   "source": [
    "for i in range(img[0]):\n",
    "    for j in range(img[1]):\n",
    "        "
   ]
  },
  {
   "cell_type": "code",
   "execution_count": 6,
   "metadata": {},
   "outputs": [
    {
     "data": {
      "text/plain": [
       "24.5"
      ]
     },
     "execution_count": 6,
     "metadata": {},
     "output_type": "execute_result"
    }
   ],
   "source": [
    "98/4"
   ]
  },
  {
   "cell_type": "code",
   "execution_count": null,
   "metadata": {},
   "outputs": [],
   "source": []
  }
 ],
 "metadata": {
  "kernelspec": {
   "display_name": "Python 3",
   "language": "python",
   "name": "python3"
  },
  "language_info": {
   "codemirror_mode": {
    "name": "ipython",
    "version": 3
   },
   "file_extension": ".py",
   "mimetype": "text/x-python",
   "name": "python",
   "nbconvert_exporter": "python",
   "pygments_lexer": "ipython3",
   "version": "3.7.5"
  }
 },
 "nbformat": 4,
 "nbformat_minor": 2
}
