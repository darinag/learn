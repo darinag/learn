{
 "cells": [
  {
   "cell_type": "markdown",
   "metadata": {},
   "source": [
    "# GRAPHS\n",
    "\n",
    "## Directed graphs\n",
    "\n",
    "DAG - directed acyclic graph (graph with <b>no cycles</b>)</br>\n",
    "\n",
    "source = verices with no incoming edges</br>\n",
    "sink = vertices with no outgoing edges</br>\n",
    "\n",
    "topological order </br>\n",
    "\n",
    "weakly connected - if replacing all of its directed edges with undirected edges produces an undirected graph that is connected</br></br>\n",
    "\n",
    "connected - it contains a directed path\n",
    "from U to V or a directed path from V to U for every pair of vertices U and V</br></br>\n",
    "\n",
    "strongly connected - it contains a directed path from U to V and a directed path from V to U for every pair of vertices U\n",
    "and V.</br></br>\n",
    "\n",
    "## Undirected graphs </br>\n",
    "\n",
    "connected - if there is a path between every pair of vertices</br>\n",
    "disconnected - no path between each to vertices</br>\n",
    "\n",
    "## Implementation\n",
    "\n",
    "- adjacency matrix\n",
    "- adjacency lists\n",
    "\n",
    "# TREE\n",
    "\n",
    "special type of graph </br>\n",
    "\n",
    "undirected graph <b>without cycles</b>"
   ]
  },
  {
   "cell_type": "code",
   "execution_count": 37,
   "metadata": {},
   "outputs": [
    {
     "name": "stdout",
     "output_type": "stream",
     "text": [
      "defaultdict(<class 'list'>, {5: [2, 0], 4: [0, 1], 2: [3], 3: [1]})\n",
      "[5, 4, 2, 3, 1, 0]\n",
      "{0, 1, 2, 3, 4, 5}\n"
     ]
    }
   ],
   "source": [
    "# https://www.geeksforgeeks.org/topological-sorting/\n",
    "# TOPOLOGICAL SORT\n",
    "import collections\n",
    "n = 6\n",
    "nodes = [[5,2], [5,0], [4,0], [4,1], [2,3], [3,1]]\n",
    "\n",
    "graph = collections.defaultdict(list)\n",
    "\n",
    "for n1, n2 in nodes:\n",
    "    graph[n1].append(n2)\n",
    "    \n",
    "visited = set()\n",
    "stack = []\n",
    "\n",
    "print(graph)\n",
    "\n",
    "\n",
    "def helper(i):\n",
    "    \n",
    "    # mark vertex i as visited\n",
    "    visited.add(i)\n",
    "    \n",
    "    # iterate over its adjacents\n",
    "    for adj in graph[i]:\n",
    "        if adj not in visited:\n",
    "            helper(adj)\n",
    "            \n",
    "    stack.append(i)\n",
    "\n",
    "for i in range(n):\n",
    "    if i not in visited:\n",
    "        helper(i)\n",
    "        \n",
    "print(stack[::-1])\n",
    "print(visited)"
   ]
  },
  {
   "cell_type": "code",
   "execution_count": 33,
   "metadata": {},
   "outputs": [
    {
     "data": {
      "text/plain": [
       "True"
      ]
     },
     "execution_count": 33,
     "metadata": {},
     "output_type": "execute_result"
    }
   ],
   "source": [
    "# https://www.geeksforgeeks.org/detect-cycle-in-a-graph/\n",
    "# DETECT A CYCLE IN DIRECTED GRAPH\n",
    "# dfs + recursive stack to keep track of visited during the recursion + visited ofc\n",
    "import collections\n",
    "def solution():\n",
    "    n = 6\n",
    "    nodes = [[2,5], [5,0], [4,0], [4,1], [2,3], [3,1], [0,2]]\n",
    "\n",
    "    graph = collections.defaultdict(list)\n",
    "\n",
    "    for n1, n2 in nodes:\n",
    "        graph[n1].append(n2)\n",
    "\n",
    "    visited = set()\n",
    "    recStack = [False for _ in range(n)]\n",
    "\n",
    "    def isCycle(n):\n",
    "        visited.add(n)\n",
    "        recStack[n] = True\n",
    "\n",
    "        for adj in graph[n]:\n",
    "            if adj not in visited:\n",
    "                if isCycle(adj):\n",
    "                    return True\n",
    "\n",
    "            elif recStack[adj] == True:\n",
    "                return True\n",
    "            \n",
    "        recStack[n] = False\n",
    "\n",
    "        return False\n",
    "\n",
    "\n",
    "\n",
    "\n",
    "    for i in range(n):\n",
    "        if i not in visited:\n",
    "            if isCycle(i): # if there is a cycle\n",
    "                return True\n",
    "\n",
    "    return False\n",
    "        \n",
    "\n",
    "solution()"
   ]
  },
  {
   "cell_type": "code",
   "execution_count": 35,
   "metadata": {},
   "outputs": [
    {
     "data": {
      "text/plain": [
       "True"
      ]
     },
     "execution_count": 35,
     "metadata": {},
     "output_type": "execute_result"
    }
   ],
   "source": [
    "# https://www.geeksforgeeks.org/detect-cycle-undirected-graph/\n",
    "# detect a cycle in undirected graph\n",
    "# DFS + parent array for each node + visited ofc\n",
    "\n",
    "def solution():\n",
    "    n = 6\n",
    "    nodes = [[2,5], [5,0], [4,0], [4,1], [2,3], [3,1], [0,2]]\n",
    "\n",
    "    graph = collections.defaultdict(list)\n",
    "\n",
    "    for n1, n2 in nodes:\n",
    "        graph[n1].append(n2)\n",
    "        graph[n2].append(n1)\n",
    "\n",
    "    visited = set()\n",
    "\n",
    "    def isCycle(node, parent):\n",
    "        \n",
    "        \n",
    "        visited.add(node)\n",
    "        \n",
    "        for adj in graph[node]:\n",
    "            if adj not in visited:\n",
    "                if isCycle(adj, node): # node is the new parent for adj\n",
    "                    return True\n",
    "                \n",
    "            elif parent != node:\n",
    "                return True\n",
    "    \n",
    "\n",
    "        return False\n",
    "\n",
    "\n",
    "\n",
    "\n",
    "    for i in range(n):\n",
    "        if i not in visited:\n",
    "            if isCycle(i, -1): # if there is a cycle (node, parent) for the first node parent we don't have a paerent so is -1\n",
    "                return True\n",
    "\n",
    "    return False\n",
    "        \n",
    "\n",
    "solution()"
   ]
  },
  {
   "cell_type": "code",
   "execution_count": 159,
   "metadata": {},
   "outputs": [
    {
     "name": "stdout",
     "output_type": "stream",
     "text": [
      "[4, 5, 0, 2, 3, 1]\n",
      "[4, 5, 2, 0, 3, 1]\n",
      "[4, 5, 2, 3, 0, 1]\n",
      "[4, 5, 2, 3, 1, 0]\n",
      "[5, 2, 3, 4, 0, 1]\n",
      "[5, 2, 3, 4, 1, 0]\n",
      "[5, 2, 4, 0, 3, 1]\n",
      "[5, 2, 4, 3, 0, 1]\n",
      "[5, 2, 4, 3, 1, 0]\n",
      "[5, 4, 0, 2, 3, 1]\n",
      "[5, 4, 2, 0, 3, 1]\n",
      "[5, 4, 2, 3, 0, 1]\n",
      "[5, 4, 2, 3, 1, 0]\n"
     ]
    },
    {
     "data": {
      "text/plain": [
       "[]"
      ]
     },
     "execution_count": 159,
     "metadata": {},
     "output_type": "execute_result"
    }
   ],
   "source": [
    "# if we don't know if there are cycles or not we can:\n",
    "# 1. check the graph for cycles by using DFS\n",
    "# 2. apply Kahn’s algorithm for Topological Sorting\n",
    "\n",
    "# Kahn’s algorithm for Topological Sorting:\n",
    "# 1. calculate the indegree of nodes\n",
    "# 1.a keep a counter of visited nodes when poping from queue\n",
    "# 2. push all nodes with 0 indegree into the queue\n",
    "# 3. pop from queue and add to the topo_sort_res and increment the cnt and add nodes with 0 indegree to the queue and decrese\n",
    "# 4. repeat until queue\n",
    "# 5. if cnt != number of nodes => there is a cycle, return []\n",
    "# 6. else return the topo_sort_res\n",
    "\n",
    "# GET ALL TOPOLOGICAL SORTING\n",
    "\n",
    "# SSSSSSSSSSS KKKKKKKKKKKKKK IIIIIIIIIIIIIII PPPPPPPPPPPPPPPPP\n",
    "\n",
    "\n",
    "def toposort_kahn_all(nodes, n):\n",
    "    \n",
    "    graph = collections.defaultdict(list)\n",
    "    indegree = [0 for i in range(n)]\n",
    "    \n",
    "    for n1, n2 in nodes:\n",
    "        graph[n1].append(n2)  \n",
    "        indegree[n2] += 1\n",
    "    \n",
    "    visited = [False for _ in range(n)]\n",
    "    \n",
    "            \n",
    "    toposort = []\n",
    " \n",
    "\n",
    "\n",
    "    def helper(visited, indegree, stack):\n",
    "        nonlocal toposort\n",
    "        \n",
    "        flag = False\n",
    "        \n",
    "        for i in range(n):\n",
    "            if not visited[i] and indegree[i] == 0:\n",
    "                visited[i] = True\n",
    "                stack.append(i)\n",
    "                \n",
    "                for adj in graph[i]:\n",
    "                    indegree[adj] -= 1\n",
    "                helper(visited, indegree, stack)\n",
    "                \n",
    "                #backtrack\n",
    "                visited[i] = False\n",
    "                stack.pop()\n",
    "                for adj in graph[i]:\n",
    "                    indegree[adj] += 1\n",
    "                    \n",
    "                flag = True\n",
    "                \n",
    "        # visited all vertices so print      \n",
    "        if not flag:\n",
    "            # toposort.append([stack[:]]) why this shit is not working?!\n",
    "            print(stack)\n",
    "                \n",
    "    \n",
    "    helper(visited, indegree, toposort)\n",
    "    return toposort\n",
    "\n",
    "\n",
    "toposort_kahn_all([[5,0], [5,2], [4,0], [4,1], [2,3], [3,1]], 6)"
   ]
  },
  {
   "cell_type": "code",
   "execution_count": null,
   "metadata": {},
   "outputs": [],
   "source": []
  },
  {
   "cell_type": "code",
   "execution_count": null,
   "metadata": {},
   "outputs": [],
   "source": []
  },
  {
   "cell_type": "code",
   "execution_count": null,
   "metadata": {},
   "outputs": [],
   "source": []
  },
  {
   "cell_type": "code",
   "execution_count": null,
   "metadata": {},
   "outputs": [],
   "source": []
  },
  {
   "cell_type": "code",
   "execution_count": null,
   "metadata": {},
   "outputs": [],
   "source": []
  },
  {
   "cell_type": "code",
   "execution_count": null,
   "metadata": {},
   "outputs": [],
   "source": []
  },
  {
   "cell_type": "code",
   "execution_count": null,
   "metadata": {},
   "outputs": [],
   "source": []
  },
  {
   "cell_type": "code",
   "execution_count": null,
   "metadata": {},
   "outputs": [],
   "source": []
  },
  {
   "cell_type": "code",
   "execution_count": 162,
   "metadata": {},
   "outputs": [
    {
     "data": {
      "text/plain": [
       "False"
      ]
     },
     "execution_count": 162,
     "metadata": {},
     "output_type": "execute_result"
    }
   ],
   "source": [
    "# DETECT A CYCLE IN DIRECTED GRAPH\n",
    "# DOUBLE CHEKCK !!!!\n",
    "# ADD INDEGREES\n",
    "\n",
    "import collections\n",
    "def f(nodes, n):\n",
    "    graph = collections.defaultdict(list)\n",
    "    indegree = [0 for _ in range(n)]\n",
    "    \n",
    "    for n1, n2 in nodes:\n",
    "        graph[n1].append(n2)\n",
    "        indegree[n2] += 1\n",
    "        \n",
    "    queue = []\n",
    "    for idx,val in enumerate(indegree):\n",
    "        if val == 0:\n",
    "            queue.append(idx)\n",
    "            \n",
    "    cnt = 0\n",
    "    #toposort = []\n",
    "    while queue:\n",
    "        node = queue.pop(0)\n",
    "        cnt += 1\n",
    "        #toposort.appedn(node)\n",
    "        \n",
    "        for nei in graph[node]:\n",
    "            indegree[nei] -= 1\n",
    "            if indegree[nei] == 0:\n",
    "                queue.append(nei)\n",
    "                \n",
    "                \n",
    "    return cnt == n\n",
    "        \n",
    "\n",
    "f([[0,2], [2,2], [0,1], [2,3]], 4)"
   ]
  },
  {
   "cell_type": "code",
   "execution_count": 20,
   "metadata": {},
   "outputs": [
    {
     "name": "stdout",
     "output_type": "stream",
     "text": [
      "[2, 2, 2]\n"
     ]
    },
    {
     "data": {
      "text/plain": [
       "False"
      ]
     },
     "execution_count": 20,
     "metadata": {},
     "output_type": "execute_result"
    }
   ],
   "source": [
    "# DETECT A CYCLE IN UNDIRECTED GRAPH\n",
    "# using union find\n",
    "\n",
    "\n",
    "# DETECT A CYCLE IN UNDIRECTED GRAPH\n",
    "\n",
    "import collections\n",
    "def f(nodes, n):\n",
    "    \n",
    "    parent = [i for i in range(n)]\n",
    "    \n",
    "    def find(x):\n",
    "        if parent[x] != x:\n",
    "            parent[x] = find(parent[x])\n",
    "        return parent[x]\n",
    "    \n",
    "    \n",
    "    def union(x, y):\n",
    "        p1 = find(x)\n",
    "        p2 = find(y)\n",
    "        \n",
    "        if p1 == p2:\n",
    "            return True # there is a cycle\n",
    "        \n",
    "        else:\n",
    "            parent[p1] = p2\n",
    "            return False\n",
    "       \n",
    "    \n",
    "    for n1, n2 in nodes:\n",
    "        if union(n1, n2):\n",
    "            return True #cycle\n",
    "        \n",
    "#     for node in range(n):\n",
    "#         for adj in graph[node]:\n",
    "#             if union(node, adj):\n",
    "#                 return True # there is a cycle\n",
    "    \n",
    "    \n",
    "    # CHECK IF GRAPH IS DISCONNECTED AND WE HAVE A COUPLE OF GROUPS       \n",
    "    for node in range(n):\n",
    "        parent[node] = find(node)\n",
    "        \n",
    "    print(parent)\n",
    "            \n",
    "    return False\n",
    "            \n",
    "\n",
    "\n",
    "# f([[0,2], [0,3], [2,1]], 4)\n",
    "# f([[1,0], [0,2], [2,1], [0,3], [3,4]], 5)\n",
    "f([[0,1], [1,2]], 3)"
   ]
  },
  {
   "cell_type": "code",
   "execution_count": 30,
   "metadata": {},
   "outputs": [
    {
     "name": "stdout",
     "output_type": "stream",
     "text": [
      "sorted by edges [[2, 3, 4], [0, 3, 5], [0, 2, 6], [0, 1, 10], [1, 3, 15]]\n",
      "mst_edges [(2, 3, 4), (0, 3, 5), (0, 1, 10)]\n"
     ]
    },
    {
     "data": {
      "text/plain": [
       "19"
      ]
     },
     "execution_count": 30,
     "metadata": {},
     "output_type": "execute_result"
    }
   ],
   "source": [
    "# FIND MINIMUM PATH IN WEIGHTED UNDIRECTED GRAPHS\n",
    "# we also have prim's algo\n",
    "\n",
    "# USE UNION FIND TO CHECK FOR CYCLES\n",
    "# SORT BY EDGE COST/DISTANCE/WEIGHTS/WHATEVER\n",
    "# ALWAYS GET THE SHORTEST EDGE COST => GREEDY APPROACH\n",
    "\n",
    "def kruskal(edges, n):\n",
    "    \n",
    "    parent = [i for i in range(n)]\n",
    "    \n",
    "    def find(x):\n",
    "        if parent[x] != x:\n",
    "            parent[x] = find[parent[x]]\n",
    "        return parent[x]\n",
    "    \n",
    "    def union(x, y):\n",
    "        cycle = False\n",
    "        parx = parent[x]\n",
    "        pary = parent[y]\n",
    "        \n",
    "        if parx == pary:\n",
    "            cycle = True\n",
    "            return cycle\n",
    "        \n",
    "        else:\n",
    "            parent[parx] = pary\n",
    "            return cycle\n",
    "        \n",
    "        \n",
    "    sorted_edges = sorted(edges, key=lambda x: x[2])\n",
    "    \n",
    "    print('sorted by edges', sorted_edges)\n",
    "    \n",
    "    mst = 0\n",
    "    mst_edges = []\n",
    "    for n1, n2, cost in sorted_edges:\n",
    "        if not union(n1, n2):\n",
    "            mst_edges.append((n1, n2, cost))\n",
    "            mst += cost\n",
    "       \n",
    "    print('mst_edges', mst_edges)\n",
    "            \n",
    "    return mst\n",
    "\n",
    "\n",
    "\n",
    "kruskal([[0,1,10], [0,2,6], [0,3,5], [1,3,15], [2,3,4]], 4)\n"
   ]
  },
  {
   "cell_type": "markdown",
   "metadata": {},
   "source": [
    "We have discussed Dijkstra’s algorithm and its implementation for adjacency matrix representation of graphs. The time complexity for the matrix representation is O(V^2). In this post, O(ELogV) algorithm for adjacency list representation is discussed."
   ]
  },
  {
   "cell_type": "code",
   "execution_count": 112,
   "metadata": {},
   "outputs": [
    {
     "name": "stdout",
     "output_type": "stream",
     "text": [
      "[[0, 1, 1], [0, 2, 2], [0, 3, 4], [2, 3, 1], [1, 3, 2]]\n",
      "defaultdict(<class 'list'>, {0: [(1, 1), (2, 2), (4, 3)], 2: [(1, 3)], 1: [(2, 3)]})\n"
     ]
    },
    {
     "data": {
      "text/plain": [
       "[3, [0, 1, 3]]"
      ]
     },
     "execution_count": 112,
     "metadata": {},
     "output_type": "execute_result"
    }
   ],
   "source": [
    "# FIND MINIMUM PATH IN WEIGHTED DIRECTED GRAPHS\n",
    "\n",
    "# Dijiktra works on both DIRECTED and UNDIRECTED \n",
    "\n",
    "# very, very similar to prim's algo for undirected weighted graphs\n",
    "# GREEDY ALGO\n",
    "\n",
    "# USING BFS\n",
    "# The idea is to traverse all vertices of graph using BFS \n",
    "# and use a Min Heap to store the vertices not yet included in SPT\n",
    "\n",
    "#  Dijkstra’s algorithm doesn’t work for graphs with negative weight edges. \n",
    "# For graphs with negative weight edges, Bellman–Ford algorithm can be used.\n",
    "\n",
    "import collections, heapq\n",
    "def dijikstra(nodes, n, src, dst):\n",
    "    \n",
    "    graph = collections.defaultdict(list)\n",
    "    \n",
    "    print(nodes)\n",
    "    for n1, n2, c in nodes:\n",
    "        graph[n1].append((c, n2))  # (cost, node2)\n",
    "        \n",
    "    print(graph)\n",
    "    \n",
    "    seen = set()\n",
    "    distances = {node:float('inf') for node in range(n)}\n",
    "    distances[src] = 0\n",
    "    \n",
    "    heap = [(0, src, [])]   # cost, node, path\n",
    "    \n",
    "    while heap:\n",
    "        cost, n1, path = heapq.heappop(heap)\n",
    "        \n",
    "        if n1 not in seen:\n",
    "            \n",
    "            seen.add(n1)\n",
    "            path = path + [n1]\n",
    "            \n",
    "            if n1 == dst:\n",
    "                return [cost, path]\n",
    "            \n",
    "            for adj_cost, adj in graph[n1]:\n",
    "                if adj not in seen:\n",
    "                    if adj_cost + cost < distances[adj]:\n",
    "                        distances[adj] = adj_cost + cost\n",
    "                        heapq.heappush(heap, (adj_cost + cost, adj, path))\n",
    "     \n",
    "          \n",
    "    print(distances)\n",
    "    return None\n",
    "                \n",
    "        \n",
    "\n",
    "\n",
    "dijikstra([[0,1,1], [0,2,2], [0,3,4], [2,3,1], [1,3,2]], 4, 0, 3)"
   ]
  },
  {
   "cell_type": "code",
   "execution_count": 124,
   "metadata": {},
   "outputs": [
    {
     "name": "stdout",
     "output_type": "stream",
     "text": [
      "[[5, 0], [5, 2], [4, 0], [4, 1], [2, 3], [3, 1], [1, 5]]\n"
     ]
    },
    {
     "data": {
      "text/plain": [
       "[4, 1, 5, 2, 3, 0]"
      ]
     },
     "execution_count": 124,
     "metadata": {},
     "output_type": "execute_result"
    }
   ],
   "source": [
    "# TOPOLOGICAL SORT\n",
    "# ONLY FOR DAG GRAPHS (DIRECTED ACYCLIC GRAPH):\n",
    "# 1. DIRECTED GRAPH\n",
    "# 2. NO CYCLES\n",
    "# time complexity is the same as DFS which is O(V+E)\n",
    "\n",
    "\n",
    "# implementation of topological sort when we know there are no cycles!!!\n",
    "import collections\n",
    "def topological_sort(nodes, n):\n",
    "    \n",
    "    print(nodes)\n",
    "    \n",
    "    graph = collections.defaultdict(list)\n",
    "    for n1, n2 in nodes:\n",
    "        graph[n1].append(n2)  \n",
    "    \n",
    "    visited = set()\n",
    "    stack = []\n",
    "    \n",
    "    def helper(node):\n",
    "        visited.add(node)\n",
    "        \n",
    "        for adj in graph[node]:\n",
    "            if adj not in visited:\n",
    "                helper(adj)\n",
    "            \n",
    "        stack.append(node)\n",
    "    \n",
    "    for nod in range(n):\n",
    "        if nod not in visited:\n",
    "            helper(nod)\n",
    "            \n",
    "    \n",
    "    return stack[::-1]\n",
    "\n",
    "\n",
    "topological_sort([[5,0], [5,2], [4,0], [4,1], [2,3], [3,1]], 6)\n"
   ]
  },
  {
   "cell_type": "code",
   "execution_count": 140,
   "metadata": {},
   "outputs": [
    {
     "name": "stdout",
     "output_type": "stream",
     "text": [
      "[2, 2, 1, 1, 0, 0]\n",
      "[4, 5]\n",
      "[4, 5, 0, 2, 3, 1]\n",
      "6\n"
     ]
    },
    {
     "data": {
      "text/plain": [
       "[4, 5, 0, 2, 3, 1]"
      ]
     },
     "execution_count": 140,
     "metadata": {},
     "output_type": "execute_result"
    }
   ],
   "source": [
    "# if we don't know if there are cycles or not we can:\n",
    "# 1. check the graph for cycles by using DFS\n",
    "# 2. apply Kahn’s algorithm for Topological Sorting\n",
    "\n",
    "# Kahn’s algorithm for Topological Sorting:\n",
    "# 1. calculate the indegree of nodes\n",
    "# 1.a keep a counter of visited nodes when poping from queue\n",
    "# 2. push all nodes with 0 indegree into the queue\n",
    "# 3. pop from queue and add to the topo_sort_res and increment the cnt and add nodes with 0 indegree to the queue and decrese\n",
    "# 4. repeat until queue\n",
    "# 5. if cnt != number of nodes => there is a cycle, return []\n",
    "# 6. else return the topo_sort_res\n",
    "\n",
    "\n",
    "def toposort_kahn(nodes, n):\n",
    "    \n",
    "    graph = collections.defaultdict(list)\n",
    "    indegree = [0 for i in range(n)]\n",
    "    \n",
    "    for n1, n2 in nodes:\n",
    "        graph[n1].append(n2)  \n",
    "        indegree[n2] += 1\n",
    "    \n",
    "    print(indegree)\n",
    "    queue = []\n",
    "    \n",
    "    for idx, value in enumerate(indegree):\n",
    "        if value == 0:\n",
    "            queue.append(idx)\n",
    "            \n",
    "    cnt = 0\n",
    "    toposort = []\n",
    "    print(queue)\n",
    "    \n",
    "    while queue:\n",
    "        node = queue.pop(0)\n",
    "        cnt += 1\n",
    "        toposort.append(node)\n",
    "        \n",
    "        for adj in graph[node]:\n",
    "            indegree[adj] -= 1\n",
    "            if indegree[adj] == 0:\n",
    "                queue.append(adj)\n",
    "            \n",
    "        \n",
    "    print(toposort)\n",
    "    print(cnt)\n",
    "\n",
    "    if cnt != n: # there is a cycle\n",
    "        return []\n",
    "    \n",
    "    return toposort\n",
    "\n",
    "\n",
    "toposort_kahn([[5,0], [5,2], [4,0], [4,1], [2,3], [3,1]], 6)"
   ]
  },
  {
   "cell_type": "code",
   "execution_count": 149,
   "metadata": {},
   "outputs": [
    {
     "name": "stdout",
     "output_type": "stream",
     "text": [
      "[4, 5, 0, 2, 3, 1]\n",
      "[4, 5, 2, 0, 3, 1]\n",
      "[4, 5, 2, 3, 0, 1]\n",
      "[4, 5, 2, 3, 1, 0]\n",
      "[5, 2, 3, 4, 0, 1]\n",
      "[5, 2, 3, 4, 1, 0]\n",
      "[5, 2, 4, 0, 3, 1]\n",
      "[5, 2, 4, 3, 0, 1]\n",
      "[5, 2, 4, 3, 1, 0]\n",
      "[5, 4, 0, 2, 3, 1]\n",
      "[5, 4, 2, 0, 3, 1]\n",
      "[5, 4, 2, 3, 0, 1]\n",
      "[5, 4, 2, 3, 1, 0]\n"
     ]
    },
    {
     "data": {
      "text/plain": [
       "[]"
      ]
     },
     "execution_count": 149,
     "metadata": {},
     "output_type": "execute_result"
    }
   ],
   "source": []
  },
  {
   "cell_type": "code",
   "execution_count": 186,
   "metadata": {},
   "outputs": [
    {
     "name": "stdout",
     "output_type": "stream",
     "text": [
      "defaultdict(<class 'set'>, {0: {1, 2, 3}, 2: {0, 1}, 1: {3}})\n",
      "[[0, 1], [0, 2, 1]]\n"
     ]
    }
   ],
   "source": [
    "# find if there is a path between 2 nodes\n",
    "\n",
    "def find_path(nodes, n, src, dst):\n",
    "    \n",
    "    g = collections.defaultdict(set)\n",
    "    for n1, n2 in nodes:\n",
    "        g[n1].add(n2)\n",
    "        \n",
    "    print(g)\n",
    "    \n",
    "    def helper(src, dst, visited=set(), path=[]):\n",
    "        nonlocal all_paths\n",
    "        visited.add(src)\n",
    "        path.append(src)\n",
    "        if src == dst:\n",
    "            all_paths.append(path[:])\n",
    "            \n",
    "        else:\n",
    "            for adj in g[src]:\n",
    "                if adj not in visited:\n",
    "                    helper(adj, dst, visited, path)\n",
    "                \n",
    "        visited.remove(src)\n",
    "        path.pop()\n",
    "\n",
    "\n",
    "    all_paths = []\n",
    "    helper(src, dst)\n",
    "    \n",
    "    print(all_paths)\n",
    "\n",
    "\n",
    "find_path([[0,2], [2,0], [2,1], [0,1], [0,3], [1,3]], 4, 0, 1)"
   ]
  },
  {
   "cell_type": "code",
   "execution_count": null,
   "metadata": {},
   "outputs": [],
   "source": []
  },
  {
   "cell_type": "code",
   "execution_count": null,
   "metadata": {},
   "outputs": [],
   "source": []
  },
  {
   "cell_type": "code",
   "execution_count": null,
   "metadata": {},
   "outputs": [],
   "source": [
    "import collections\n",
    "def task(ids, ip, email):\n",
    "    \n",
    "    n = len(ids)\n",
    "    \n",
    "    ip_graph = collections.defaultdict(set) # phone: id\n",
    "    email_graph = collections.defaultdict(set) # email:id\n",
    "    \n",
    "    \n",
    "    for iip, iids in zip(ip, ids):\n",
    "        ip_graph[iip].add(iids)\n",
    "        \n",
    "        \n",
    "    for i_email, i_ids in zip(email, ids):\n",
    "        email_graph[i_email].add(i_ids)\n",
    "        \n",
    "    print(ip_graph)\n",
    "    print(email_graph)\n",
    "    \n",
    "    visited = set()\n",
    "    groups = []\n",
    "    visited = set()\n",
    "    \n",
    "   \n",
    "    parent = [i for i in range(n+1)]\n",
    "    \n",
    "    print('parent', parent)\n",
    "    \n",
    "    def find(x):\n",
    "        if parent[x] != x:\n",
    "            parent[x] = find(parent[x])\n",
    "        return parent[x]\n",
    "    \n",
    "    def union(x,y):\n",
    "        px = find(x)\n",
    "        py = find(y)\n",
    "        \n",
    "        if px != py:\n",
    "            parent[px] = py\n",
    "            \n",
    "            \n",
    "    for node, iip, iemail in zip(ids, ip, email):\n",
    "        \n",
    "        for nei in ip_graph[iip]:\n",
    "            union(node, nei)\n",
    "            \n",
    "        for nei in email_graph[iemail]:\n",
    "            union(node,nei)\n",
    "            \n",
    "    for node in range(n):\n",
    "        parent[node] = find(node)\n",
    "        \n",
    "    parent = parent[1:]\n",
    "        \n",
    "    print(parent)\n",
    "    \n",
    "    rwtu\n",
    "    \n",
    "task([1,2,3,4], [1,1,2,3], ['A', 'B', 'A', 'C'])"
   ]
  },
  {
   "cell_type": "code",
   "execution_count": null,
   "metadata": {},
   "outputs": [],
   "source": []
  },
  {
   "cell_type": "code",
   "execution_count": null,
   "metadata": {},
   "outputs": [],
   "source": []
  },
  {
   "cell_type": "code",
   "execution_count": null,
   "metadata": {},
   "outputs": [],
   "source": []
  },
  {
   "cell_type": "code",
   "execution_count": null,
   "metadata": {},
   "outputs": [],
   "source": []
  }
 ],
 "metadata": {
  "kernelspec": {
   "display_name": "Python 3",
   "language": "python",
   "name": "python3"
  },
  "language_info": {
   "codemirror_mode": {
    "name": "ipython",
    "version": 3
   },
   "file_extension": ".py",
   "mimetype": "text/x-python",
   "name": "python",
   "nbconvert_exporter": "python",
   "pygments_lexer": "ipython3",
   "version": "3.7.5"
  }
 },
 "nbformat": 4,
 "nbformat_minor": 2
}
