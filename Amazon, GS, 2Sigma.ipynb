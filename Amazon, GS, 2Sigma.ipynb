{
 "cells": [
  {
   "cell_type": "code",
   "execution_count": 84,
   "metadata": {},
   "outputs": [],
   "source": [
    "import collections\n",
    "import heapq"
   ]
  },
  {
   "cell_type": "code",
   "execution_count": 93,
   "metadata": {},
   "outputs": [
    {
     "data": {
      "text/plain": [
       "'t'"
      ]
     },
     "execution_count": 93,
     "metadata": {},
     "output_type": "execute_result"
    }
   ],
   "source": [
    "# https://www.geeksforgeeks.org/return-maximum-occurring-character-in-the-input-string/\n",
    "# Return maximum occurring character in an input string\n",
    "# O(n) time complexity\n",
    "# O(1) space complexity\n",
    "\n",
    "def getMaxOccurChar(string):\n",
    "    MAX_CHAR = 26\n",
    "    \n",
    "    max_count = 0\n",
    "    max_idx = 0\n",
    "    \n",
    "    counts = [0 for x in range(MAX_CHAR)]\n",
    "    \n",
    "    for i in string:\n",
    "        counts[abs(ord('a') - ord(i))] += 1\n",
    "    \n",
    "    \n",
    "    for i, cnt in enumerate(counts):\n",
    "        if max_count < cnt:\n",
    "            max_count = cnt\n",
    "            max_idx = i\n",
    "            \n",
    "    return chr(ord('a')+max_idx)\n",
    "\n",
    "\n",
    "getMaxOccurChar('test')"
   ]
  },
  {
   "cell_type": "code",
   "execution_count": 85,
   "metadata": {},
   "outputs": [
    {
     "data": {
      "text/plain": [
       "'accddgkklnopw'"
      ]
     },
     "execution_count": 85,
     "metadata": {},
     "output_type": "execute_result"
    }
   ],
   "source": [
    "# given a string array merge input array into a single string in alphabetical order\n",
    "# run in O(n)\n",
    "# https://www.geeksforgeeks.org/sort-string-characters/\n",
    "def sortedMerge(strings):\n",
    "    MAX_CHAR = 26\n",
    "    merged = \"\".join(strings)\n",
    "    counts = [0 for i in range(MAX_CHAR)]\n",
    "    res = []\n",
    "    \n",
    "    for i in range(len(merged)):\n",
    "        counts[ord(merged[i])-ord('a')] += 1\n",
    "        \n",
    "    for i in range(MAX_CHAR):\n",
    "        for j in range(counts[i]):\n",
    "            res.append(chr(ord('a')+i))\n",
    "    \n",
    "    return \"\".join(res)\n",
    "\n",
    "sortedMerge(['ckgold', 'knwapdc'])"
   ]
  },
  {
   "cell_type": "code",
   "execution_count": 86,
   "metadata": {},
   "outputs": [
    {
     "data": {
      "text/plain": [
       "'accddgkklnopw'"
      ]
     },
     "execution_count": 86,
     "metadata": {},
     "output_type": "execute_result"
    }
   ],
   "source": [
    "# using heap, it sorts alphabetically\n",
    "def sortedMerge2(strings):\n",
    "    merged = \"\".join(strings)\n",
    "    counts = collections.Counter(merged)\n",
    "    heap = []\n",
    "    res = []\n",
    "    \n",
    "    for key, val in counts.items():\n",
    "        heapq.heappush(heap, (key, val))\n",
    "        \n",
    "    while heap:\n",
    "        let, count = heapq.heappop(heap)\n",
    "        for i in range(count):\n",
    "            res.append(let)\n",
    "        \n",
    "    return \"\".join(res)\n",
    "\n",
    "sortedMerge2(['ckgold', 'knwapdc'])  "
   ]
  },
  {
   "cell_type": "code",
   "execution_count": 87,
   "metadata": {},
   "outputs": [
    {
     "data": {
      "text/plain": [
       "[7, 5, 3, 1, 0, 2, 4]"
      ]
     },
     "execution_count": 87,
     "metadata": {},
     "output_type": "execute_result"
    }
   ],
   "source": [
    "# Sort all even numbers in ascending order and then sort all odd numbers in descending order\n",
    "# https://www.geeksforgeeks.org/sort-even-numbers-ascending-order-sort-odd-numbers-descending-order/\n",
    "\n",
    "def two_way_sort(nums):\n",
    "    \n",
    "    # partition into left side even nums and right side odd nums    \n",
    "    l = 0\n",
    "    r = len(nums)-1\n",
    "    \n",
    "    while l < r:\n",
    "        if nums[l]%2 == 1:\n",
    "            l += 1\n",
    "        else:\n",
    "            nums[l], nums[r] = nums[r], nums[l]\n",
    "            r -= 1\n",
    "    \n",
    "    # find pivot element\n",
    "    pivot = 0  \n",
    "    for i in range(len(nums)):\n",
    "        if nums[i] % 2 == 0:\n",
    "            pivot = i\n",
    "            break\n",
    "\n",
    "    # sort left and right part\n",
    "    odd = nums[:pivot]\n",
    "    even = nums[pivot:]\n",
    "    \n",
    "    odd.sort(reverse=True)\n",
    "    even.sort()\n",
    "        \n",
    "    return odd+even\n",
    "\n",
    "two_way_sort([1, 2, 3, 5, 4, 7, 10])\n",
    "two_way_sort([0, 4, 5, 3, 7, 2, 1])"
   ]
  },
  {
   "cell_type": "code",
   "execution_count": 88,
   "metadata": {},
   "outputs": [
    {
     "data": {
      "text/plain": [
       "[0, 0, 0, 0, 0, 1, 1, 1, 1, 1]"
      ]
     },
     "execution_count": 88,
     "metadata": {},
     "output_type": "execute_result"
    }
   ],
   "source": [
    "# https://www.geeksforgeeks.org/segregate-0s-and-1s-in-an-array-by-traversing-array-once/\n",
    "\n",
    "def segregate01(arr):\n",
    "    l = 0\n",
    "    r = len(arr)-1\n",
    "    \n",
    "    while l < r:\n",
    "        if arr[l] == 0:\n",
    "            l += 1\n",
    "        else:\n",
    "            arr[l], arr[r] = arr[r], arr[l]\n",
    "            r -= 1\n",
    "            \n",
    "    return arr\n",
    "\n",
    "segregate01([0, 1, 0, 1, 0, 0, 1, 1, 1, 0] )"
   ]
  },
  {
   "cell_type": "code",
   "execution_count": 89,
   "metadata": {},
   "outputs": [
    {
     "data": {
      "text/plain": [
       "[23, 11, 15, 30, 8, 31]"
      ]
     },
     "execution_count": 89,
     "metadata": {},
     "output_type": "execute_result"
    }
   ],
   "source": [
    "# https://www.geeksforgeeks.org/find-original-array-encrypted-array-array-sums-elements/\n",
    "# Find original array from a given encrypted array of size n. \n",
    "# Encrypted array is obtained by replacing each element of the original array by the sum of the remaining array elements.\n",
    "def findAndPrintOriginalArray(arr):\n",
    "    n = len(arr)-1\n",
    "    \n",
    "    total = sum(arr) // n\n",
    "    \n",
    "    for i in range(len(arr)):\n",
    "        arr[i] = total - arr[i]\n",
    "        \n",
    "    return arr\n",
    "\n",
    "findAndPrintOriginalArray([10, 14, 12, 13, 11])\n",
    "findAndPrintOriginalArray([95, 107, 103, 88, 110, 87])"
   ]
  },
  {
   "cell_type": "code",
   "execution_count": 80,
   "metadata": {},
   "outputs": [
    {
     "data": {
      "text/plain": [
       "5"
      ]
     },
     "execution_count": 80,
     "metadata": {},
     "output_type": "execute_result"
    }
   ],
   "source": [
    "# https://www.geeksforgeeks.org/find-the-missing-number/\n",
    "# find the missing number\n",
    "def find_missing(arr):\n",
    "    curr_total = sum(arr)\n",
    "    n = arr[-1]\n",
    "    total = n*(n+1)//2\n",
    "    return total - curr_total\n",
    "\n",
    "find_missing([1, 2, 4, 6, 3, 7, 8])"
   ]
  },
  {
   "cell_type": "code",
   "execution_count": null,
   "metadata": {},
   "outputs": [],
   "source": [
    "# Remove characters from the first string which are present in the second string\n",
    "# https://www.geeksforgeeks.org/remove-characters-from-the-first-string-which-are-present-in-the-second-string/\n",
    "# Time Complexity: O(m+n) Where m is the length of mask string and n is the length of the input string.\n",
    "\n",
    "import string\n",
    "def removeSomeChars(str1, str2):\n",
    "    MAX_CHAR = 26\n",
    "\n",
    "    counts2 = [0 for _ in range(MAX_CHAR)]\n",
    "    \n",
    "    for i, ch in enumerate(str2):\n",
    "        counts2[ord(ch) - ord('a')] += 1\n",
    "       \n",
    "    str1 = list(str1)\n",
    "    for i in range(len(str1)):\n",
    "    \n",
    "        if counts2[ord(str1[i])-ord('a')] > 0:\n",
    "            str1[i] = '0'\n",
    "    \n",
    "    str1 = \"\".join(str1)      \n",
    "    str1 = str1.replace('0', \"\")\n",
    "    \n",
    "    return str1\n",
    "\n",
    "removeSomeChars('geeksforgeeks', 'mask')"
   ]
  },
  {
   "cell_type": "code",
   "execution_count": 121,
   "metadata": {},
   "outputs": [
    {
     "name": "stdout",
     "output_type": "stream",
     "text": [
      "[0, 0, 0, 1, 4, 1, 2, 0, 0, 0, 2, 0, 0, 0, 1, 0, 0, 1, 2, 0, 0, 0, 0, 0, 0, 0]\n",
      "[0, 0, 0, 10, 1, 5, 0, 0, 0, 0, 3, 0, 0, 0, 6, 0, 0, 7, 4, 0, 0, 0, 0, 0, 0, 0]\n"
     ]
    },
    {
     "data": {
      "text/plain": [
       "'f'"
      ]
     },
     "execution_count": 121,
     "metadata": {},
     "output_type": "execute_result"
    }
   ],
   "source": [
    "# Given a string, find its first non-repeating character\n",
    "\n",
    "\n",
    "import string\n",
    "def firstNonRepeating(string):\n",
    "    \n",
    "    MAX_CHARS = 26\n",
    "    \n",
    "    counts = [0 for _ in range(MAX_CHARS)]\n",
    "    first_occur_idx = [0 for _ in range(MAX_CHARS)]\n",
    "    \n",
    "    for i in range(len(string)):\n",
    "        if counts[ord(string[i])-ord('a')] >= 1:\n",
    "            counts[ord(string[i])-ord('a')] += 1\n",
    "            \n",
    "        elif counts[ord(string[i])-ord('a')] == 0:\n",
    "            counts[ord(string[i])-ord('a')] += 1\n",
    "            first_occur_idx[ord(string[i])-ord('a')] = i\n",
    "            \n",
    "    print(counts)\n",
    "    print(first_occur_idx)\n",
    "    \n",
    "    first_occur = float('inf')\n",
    "    \n",
    "    for i in range(MAX_CHARS):\n",
    "        if counts[i] == 1:\n",
    "            first_occur = min(first_occur, first_occur_idx[i])\n",
    "            \n",
    "    return chr(ord('a')+first_occur)\n",
    "    \n",
    "    \n",
    "firstNonRepeating('geeksforgedeks')\n",
    "    \n",
    "    "
   ]
  },
  {
   "cell_type": "code",
   "execution_count": 122,
   "metadata": {},
   "outputs": [
    {
     "data": {
      "text/plain": [
       "99"
      ]
     },
     "execution_count": 122,
     "metadata": {},
     "output_type": "execute_result"
    }
   ],
   "source": [
    "# Given a 2-D String array of student-marks find the student with the highest \n",
    "# average and output his average score. If the average is in decimals, floor it down to the nearest integer.\n",
    "def highestAvg(students):\n",
    "    marks = dict()\n",
    "\n",
    "    for student in students:\n",
    "        name = student[0]\n",
    "        grade = int(student[1])\n",
    "        \n",
    "        if name in marks:\n",
    "            new_mark = (marks[name] + grade) // 2\n",
    "            marks[name] = new_mark\n",
    "            \n",
    "        else:\n",
    "            marks[name] = grade\n",
    "        \n",
    "    max_grade = float('-inf')\n",
    "    \n",
    "    for i in marks:\n",
    "        if marks[i] > max_grade:\n",
    "            max_grade = marks[i]\n",
    "            \n",
    "    return max_grade\n",
    "    \n",
    "\n",
    "highestAvg([[\"Bob\",\"87\"], [\"Mike\", \"35\"],[\"Bob\", \"52\"], [\"Jason\",\"35\"], [\"Mike\", \"55\"], [\"Jessica\", \"99\"]])"
   ]
  },
  {
   "cell_type": "code",
   "execution_count": 127,
   "metadata": {},
   "outputs": [
    {
     "data": {
      "text/plain": [
       "[11]"
      ]
     },
     "execution_count": 127,
     "metadata": {},
     "output_type": "execute_result"
    }
   ],
   "source": [
    "# Given a range of numbers [l, r] and an integer q. The task is to count all such number \n",
    "# in the given range such that any digit of the number does not match with any digit in \n",
    "# its product with the given number q.\n",
    "\n",
    "def matchDigit(l, r, q):\n",
    "    res = []\n",
    "    \n",
    "    def intToArr(num):\n",
    "        tmp = []\n",
    "        while num:\n",
    "            rem = num % 10\n",
    "            num //= 10\n",
    "            tmp.append(rem)\n",
    "        return tmp\n",
    "    \n",
    "    if r < l: return res\n",
    "    \n",
    "    for i in range(l, r+1):\n",
    "        curr = i\n",
    "        product = i * q\n",
    "        \n",
    "        listCurr = intToArr(curr)\n",
    "        listProd = intToArr(product)\n",
    "        \n",
    "        intersection = list(set(listCurr) & set(listProd))\n",
    "        \n",
    "        if len(intersection) == 0:\n",
    "            res.append(curr)\n",
    "        \n",
    "    return res\n",
    "        \n",
    "matchDigit(10, 12, 2) "
   ]
  },
  {
   "cell_type": "code",
   "execution_count": 130,
   "metadata": {},
   "outputs": [
    {
     "name": "stdout",
     "output_type": "stream",
     "text": [
      "[(-85, 2), (-61, 0)]\n"
     ]
    },
    {
     "data": {
      "text/plain": [
       "2"
      ]
     },
     "execution_count": 130,
     "metadata": {},
     "output_type": "execute_result"
    }
   ],
   "source": [
    "# FIND THE RANK\n",
    "# N students of a class appear for number of exams. each student appear for exactly K exams. The marks scored by a studnets are given now.\n",
    "# the teacher needs to identify the student with the Nth rank. rank is the position in the sorted list of total marks from high to low.\n",
    "\n",
    "# given initial order of studnet marks, output the index of the student witht he choosen rank.\n",
    "# if we have n = 3 students and performance [[79, 89, 15], [85,89,92], [71,96,88]] and required rank to be 2\n",
    "# student wiht index 2 is the answer. Total marks for each are [183, 266, 255] and the student at index 2 has a rank of 2 and total score of 255\n",
    "\n",
    "#input: n, k, performance, rank\n",
    "import heapq\n",
    "def findRank(n, k, performance, rank):\n",
    "    \n",
    "    heap = [] # (avg_perf, idx) since we need to return the idx\n",
    "    \n",
    "    for i in range(len(performance)):\n",
    "        avg_perf = sum(performance[i])//k\n",
    "        \n",
    "        heapq.heappush(heap, (-avg_perf, i))\n",
    "        if len(heap) > rank:\n",
    "            heapq.heappop(heap)\n",
    "            \n",
    "    return heap[0][1]\n",
    "    \n",
    "findRank(3, 3, [[79, 89, 15], [85,89,92], [71,96,88]], 2)\n"
   ]
  },
  {
   "cell_type": "code",
   "execution_count": 136,
   "metadata": {},
   "outputs": [],
   "source": [
    "def checkIsPrime(num):\n",
    "    if num > 1:\n",
    "        for i in range(2, num):\n",
    "            if num%i == 0:\n",
    "                return False\n",
    "        return True\n",
    "    return False"
   ]
  },
  {
   "cell_type": "code",
   "execution_count": 142,
   "metadata": {},
   "outputs": [
    {
     "data": {
      "text/plain": [
       "False"
      ]
     },
     "execution_count": 142,
     "metadata": {},
     "output_type": "execute_result"
    }
   ],
   "source": [
    "checkIsPrime(-2)"
   ]
  },
  {
   "cell_type": "code",
   "execution_count": 144,
   "metadata": {},
   "outputs": [
    {
     "data": {
      "text/plain": [
       "[2, 3, 7, 5]"
      ]
     },
     "execution_count": 144,
     "metadata": {},
     "output_type": "execute_result"
    }
   ],
   "source": [
    "# The output should return the prime numbers in the matrix while traversed in a spiral order.\n",
    "def spiralOrderPrimesOnly(matrix):\n",
    "\n",
    "    if not matrix:\n",
    "        return matrix\n",
    "    \n",
    "    def isPrime(num):\n",
    "        if num > 1:\n",
    "            for i in range(2, num):\n",
    "                if num%i == 0:\n",
    "                    return False\n",
    "            return True\n",
    "        return False\n",
    "\n",
    "\n",
    "    rowLen = len(matrix)\n",
    "    colLen = len(matrix[0])\n",
    "\n",
    "    currRow, currCol = 0, 0\n",
    "\n",
    "    lastRow = len(matrix) - 1\n",
    "    lastCol = len(matrix[0]) - 1\n",
    "\n",
    "    res = []\n",
    "\n",
    "    while currRow <= lastRow and currCol <= lastCol:\n",
    "\n",
    "        #top row\n",
    "        for i in range(currCol, lastCol+1):\n",
    "            if isPrime(matrix[currRow][i]):\n",
    "                res.append(matrix[currRow][i])\n",
    "        currRow += 1\n",
    "\n",
    "        # right col\n",
    "        for i in range(currRow, lastRow+1):\n",
    "            if isPrime(matrix[i][lastCol]):\n",
    "                res.append(matrix[i][lastCol])\n",
    "        lastCol -= 1\n",
    "\n",
    "        # bottom row\n",
    "        if currRow <= lastRow:\n",
    "            for i in range(lastCol, currCol-1, -1):\n",
    "                if isPrime(matrix[lastRow][i]):\n",
    "                    res.append(matrix[lastRow][i])\n",
    "            lastRow -= 1\n",
    "\n",
    "        # left row\n",
    "        if currCol <= lastCol:\n",
    "            for i in range(lastRow, currRow-1, -1):\n",
    "                if isPrime(matrix[i][currCol]):\n",
    "                    res.append(matrix[i][currCol])\n",
    "            currCol += 1\n",
    "            \n",
    "    return res\n",
    "\n",
    "\n",
    "\n",
    "\n",
    "spiralOrderPrimesOnly([[1,2,3],[4,5,6],[7,8,9]])"
   ]
  },
  {
   "cell_type": "code",
   "execution_count": 148,
   "metadata": {},
   "outputs": [
    {
     "data": {
      "text/plain": [
       "7"
      ]
     },
     "execution_count": 148,
     "metadata": {},
     "output_type": "execute_result"
    }
   ],
   "source": [
    "# https://leetcode.com/discuss/interview-question/365452/Goldman-Sachs-or-OA-2020-or-Shares-Purchase\n",
    "def sharePurchases(purchases):\n",
    "   \n",
    "    if len(purchases) < 3:\n",
    "        return 0\n",
    "    \n",
    "    a, b, c = 0, 0, 0 # counters for A,B,C\n",
    "    \n",
    "    n = len(purchases)\n",
    "    \n",
    "    count = 0\n",
    "    s = 0\n",
    "    e = s\n",
    "    \n",
    "    while s <= n-3 and e <= n-1:\n",
    "        \n",
    "        if purchases[e] == 'A':\n",
    "            a += 1\n",
    "            \n",
    "        elif purchases[e] == 'B':\n",
    "            b += 1\n",
    "            \n",
    "        elif purchases[e] == 'C':\n",
    "            c += 1\n",
    "            \n",
    "        while a>0 and b>0 and c>0 and s <= n-3 and e <= n-1:\n",
    "            # suppose, [ABC]BCA  here total 4 possible combinations are ABC,ABCB, ABCBC, BACBCA. (n-e = 6-2=4)\n",
    "            count += (n-e)\n",
    "            s += 1\n",
    "            \n",
    "            if purchases[s-1] == 'A':\n",
    "                a -= 1\n",
    "\n",
    "            elif purchases[s-1] == 'B':\n",
    "                b -= 1\n",
    "\n",
    "            elif purchases[s-1] == 'C':\n",
    "                c -= 1 \n",
    "        \n",
    "        e += 1\n",
    "        \n",
    "    return count\n",
    "\n",
    "sharePurchases(\"ABC\")\n",
    "sharePurchases(\"ABCCBA\") \n",
    "sharePurchases(\"PQACBA\") \n",
    "    "
   ]
  },
  {
   "cell_type": "code",
   "execution_count": 152,
   "metadata": {},
   "outputs": [
    {
     "data": {
      "text/plain": [
       "3"
      ]
     },
     "execution_count": 152,
     "metadata": {},
     "output_type": "execute_result"
    }
   ],
   "source": [
    "# https://leetcode.com/discuss/interview-question/338412/Goldman-Sachs-or-Online-Assessment-2019\n",
    "def maximalStringCommonality(string):\n",
    "    \n",
    "    MAX_CHAR = 26\n",
    "    \n",
    "    counts_right = [0 for _ in range(MAX_CHAR)]\n",
    "    counts_left = [0 for _ in range(MAX_CHAR)]\n",
    "    \n",
    "    for i in string:\n",
    "        counts_right[ord(i)-ord('a')] += 1\n",
    "    \n",
    "    def maxCommonality(left, right):\n",
    "        cnt = 0\n",
    "        for i in range(MAX_CHAR):\n",
    "            cnt += min(left[i], right[i])\n",
    "            \n",
    "        return cnt\n",
    "    \n",
    "    common_cnt = 0\n",
    "    for i in range(len(string)):\n",
    "        \n",
    "        common_cnt = max(common_cnt, maxCommonality(counts_left, counts_right))\n",
    "        \n",
    "        curr = string[i]\n",
    "        \n",
    "        counts_right[ord(curr)-ord('a')] -= 1\n",
    "        counts_left[ord(curr)- ord('a')] += 1\n",
    "        \n",
    "    return common_cnt\n",
    "\n",
    "maximalStringCommonality('abcdecdefg')\n",
    "maximalStringCommonality('abcdedeara')"
   ]
  },
  {
   "cell_type": "code",
   "execution_count": 15,
   "metadata": {},
   "outputs": [
    {
     "data": {
      "text/plain": [
       "5"
      ]
     },
     "execution_count": 15,
     "metadata": {},
     "output_type": "execute_result"
    }
   ],
   "source": [
    "# https://leetcode.com/discuss/interview-question/347457/Amazon-or-OA-2019-or-Treasure-Island\n",
    "\n",
    "def treasureIslandI(grid):\n",
    "    \n",
    "    queue = [[(0, 0), 0]] # (x,y), steps\n",
    "    directions = ((0, 1), (1, 0), (0, -1), (-1, 0))\n",
    "    \n",
    "    \n",
    "    grid[0][0] = 'D' # mark as visited\n",
    "    \n",
    "    while queue:\n",
    "        (x,y), steps = queue.pop(0)\n",
    "        \n",
    "        for dct in directions:\n",
    "            r = x + dct[0]\n",
    "            c = y + dct[1]\n",
    "            \n",
    "            if 0 <= r < len(grid) and 0 <= c < len(grid[0]):\n",
    "                if grid[r][c] == 'X':\n",
    "                    return steps + 1\n",
    "                \n",
    "                elif grid[r][c] == 'O':\n",
    "                    grid[r][c] = 'D' # mark as visited\n",
    "                    queue.append([(r, c), steps+1])\n",
    "                    \n",
    "    return -1\n",
    "\n",
    "\n",
    "\n",
    "treasureIslandI([['O', 'O', 'O', 'O'], ['D', 'O', 'D', 'O'], ['O', 'O', 'O', 'O'], ['X', 'D', 'D', 'O']])\n",
    "\n"
   ]
  },
  {
   "cell_type": "code",
   "execution_count": 19,
   "metadata": {},
   "outputs": [
    {
     "data": {
      "text/plain": [
       "26"
      ]
     },
     "execution_count": 19,
     "metadata": {},
     "output_type": "execute_result"
    }
   ],
   "source": [
    "# https://leetcode.com/discuss/interview-question/356150/amazon-oa-2019-treasure-island-ii\n",
    "# doesnt work!!!!!!\n",
    "def treasureIslandII(grid):\n",
    "    \n",
    "    starting_points = []\n",
    "    \n",
    "    for i in range(len(grid)):\n",
    "        for j in range(len(grid[0])):\n",
    "            if grid[i][j] == 'S':\n",
    "                starting_points.append((i, j))\n",
    "       \n",
    "\n",
    "    min_steps = float('inf')\n",
    "    directions = ((0, 1), (1, 0), (0, -1), (-1, 0))\n",
    "    \n",
    "    queue = starting_points\n",
    "    \n",
    "    dist = 0\n",
    "    \n",
    "    while queue:\n",
    "        dist += 1\n",
    "        (x, y) = queue.pop(0)\n",
    "        \n",
    "        if grid[x][y] == 'X':\n",
    "            return dist\n",
    "        \n",
    "        grid[x][y] = 'D' # mark as visited\n",
    "        \n",
    "        for drc in directions:\n",
    "            r = drc[0] + x\n",
    "            c = drc[1] + y\n",
    "            \n",
    "            if 0 <= r < len(grid) and 0 <= c < len(grid[0]):\n",
    "                queue.append((r, c))\n",
    "                \n",
    "    return -1\n",
    "        \n",
    "\n",
    "treasureIslandII([['S', 'O', 'O', 'S', 'S'], ['D', 'O', 'D', 'O', 'D'], ['O', 'O', 'O', 'O', 'X'], ['X', 'D', 'D', 'O', 'O'], ['X', 'D', 'D', 'D', 'O']])\n",
    "\n"
   ]
  },
  {
   "cell_type": "markdown",
   "metadata": {},
   "source": [
    "## Movies on Flight\n",
    "You are on a flight and wanna watch two movies during this flight.\n",
    "You are given int[] movie_duration which includes all the movie durations.\n",
    "You are also given the duration of the flight which is d in minutes.\n",
    "Now, you need to pick two movies and the total duration of the two movies is less than or equal to (d - 30min).\n",
    "Find the pair of movies with the longest total duration. If multiple found, return the pair with the longest movie.\n",
    "\n",
    "e.g.\n",
    "Input\n",
    "movie_duration: [90, 85, 75, 60, 120, 150, 125]\n",
    "d: 250\n",
    "\n",
    "Output from aonecode.com\n",
    "[90, 125]\n",
    "90min + 125min = 215 is the maximum number within 220 (250min - 30min)"
   ]
  },
  {
   "cell_type": "code",
   "execution_count": 25,
   "metadata": {},
   "outputs": [
    {
     "name": "stdout",
     "output_type": "stream",
     "text": [
      "[60, 75, 85, 90, 120, 125, 150]\n",
      "210 0 6\n",
      "225 1 6\n",
      "200 1 5\n",
      "210 2 5\n",
      "215 3 5\n",
      "245 4 5\n"
     ]
    },
    {
     "data": {
      "text/plain": [
       "[90, 125]"
      ]
     },
     "execution_count": 25,
     "metadata": {},
     "output_type": "execute_result"
    }
   ],
   "source": [
    "def moviesFlights(movies, d):\n",
    "    \n",
    "    if not movies or not d: return []\n",
    "    \n",
    "    d -= 30\n",
    "    movies.sort()\n",
    "    l = 0\n",
    "    r = len(movies)-1\n",
    "    \n",
    "    longest = [float('-inf'), -1, -1] # mins, l, r\n",
    "\n",
    "    print(movies)\n",
    "    res = []\n",
    "    \n",
    "    while l < r:\n",
    "        \n",
    "        summ = movies[l] + movies[r]\n",
    "        \n",
    "        print(summ, l, r)\n",
    "        \n",
    "        if summ > d:\n",
    "            r -= 1\n",
    "            \n",
    "        elif summ < d and summ < longest[0]:\n",
    "            l += 1\n",
    "            \n",
    "        elif summ < d and summ >= longest[0]:\n",
    "            if summ == longest[0] and longest[2] > movies[r]:\n",
    "                l += 1\n",
    "            else:\n",
    "                longest[0] = summ\n",
    "                longest[1] = l\n",
    "                longest[2] = r\n",
    "                l += 1\n",
    "       \n",
    "     \n",
    "            \n",
    "    return [movies[longest[1]], movies[longest[2]]]\n",
    "\n",
    "\n",
    "moviesFlights([90, 85, 75, 60, 120, 150, 125], 250)"
   ]
  },
  {
   "cell_type": "markdown",
   "metadata": {},
   "source": [
    "## Treasure Island I\n",
    "\n",
    "You have a map that marks the location of a treasure island. Some of the map area has jagged rocks and dangerous reefs. Other areas are safe to sail in.\n",
    "There are other explorers trying to find the treasure. So you must figure out a shortest route to the treasure island. <br>\n",
    "Assume the map area is a two dimensional grid, represented by a matrix of characters.<br>\n",
    "You must start from the top-left corner of the map and can move one block up, down, left or right at a time.<br>\n",
    "The treasure island is marked as ‘X’ in a block of the matrix. ‘X’ will not be at the top-left corner.\n",
    "Any block with dangerous rocks or reefs will be marked as ‘D’. You must not enter dangerous blocks. You cannot leave the map area.<br>\n",
    "Other areas ‘O’ are safe to sail in. The top-left corner is always safe.<br>\n",
    "Output the minimum number of steps to get to the treasure.<br>\n",
    "e.g.<br>\n",
    "Input<br>\n",
    "[\n",
    "[‘O’, ‘O’, ‘O’, ‘O’],<br>\n",
    "[‘D’, ‘O’, ‘D’, ‘O’],<br>\n",
    "[‘O’, ‘O’, ‘O’, ‘O’],<br>\n",
    "[‘X’, ‘D’, ‘D’, ‘O’]]<br>\n",
    "<br>\n",
    "output: 5\n",
    "<br>\n",
    "Route is (0, 0), (0, 1), (1, 1), (2, 1), (2, 0), (3, 0) The minimum route takes 5 steps."
   ]
  },
  {
   "cell_type": "code",
   "execution_count": 32,
   "metadata": {},
   "outputs": [
    {
     "data": {
      "text/plain": [
       "5"
      ]
     },
     "execution_count": 32,
     "metadata": {},
     "output_type": "execute_result"
    }
   ],
   "source": [
    "def treasureIsland(grid):\n",
    "    \n",
    "    directions = ((1,0), (0,1), (-1,0), (0,-1))\n",
    "    visited = set()\n",
    "    queue = []\n",
    "    \n",
    "    queue.append(((0,0), 0)) # (x,y), steps\n",
    "    \n",
    "    while queue:\n",
    "        \n",
    "        (x, y), steps = queue.pop(0)\n",
    "        \n",
    "        # found treasure\n",
    "        if grid[x][y] == 'X':\n",
    "            return steps\n",
    "        \n",
    "        \n",
    "        for dx, dy in directions:\n",
    "            nx = x + dx\n",
    "            ny = y + dy\n",
    "            \n",
    "            if 0 <= nx < len(grid) and 0 <= ny < len(grid[0]) and grid[nx][ny] != 'D':\n",
    "                if (nx, ny) not in visited:\n",
    "                    visited.add((nx, ny))\n",
    "                    queue.append(((nx,ny), steps+1))\n",
    "              \n",
    "                    \n",
    "    return -1\n",
    "\n",
    "\n",
    "\n",
    "treasureIsland([['O', 'O', 'O', 'O'],\n",
    " ['D', 'O', 'D', 'O'],\n",
    " ['O', 'O', 'O', 'O'],\n",
    " ['X', 'D', 'D', 'O']])"
   ]
  },
  {
   "cell_type": "markdown",
   "metadata": {},
   "source": [
    "## Treasure Island II\n",
    "\n",
    "You have a map that marks the locations of treasure islands. Some of the map area has jagged rocks and dangerous reefs. Other areas are safe to sail in. There are other explorers trying to find the treasure. So you must figure out a shortest route to one of the treasure islands.\n",
    "\n",
    "Assume the map area is a two dimensional grid, represented by a matrix of characters. You must start from one of the starting point (marked as S) of the map and can move one block up, down, left or right at a time. The treasure island is marked as X. Any block with dangerous rocks or reefs will be marked as D. You must not enter dangerous blocks. You cannot leave the map area. Other areas O are safe to sail in. Output the minimum number of steps to get to any of the treasure islands.\n",
    "\n",
    "Example:<br>\n",
    "<br>\n",
    "Input:<br>\n",
    "[['S', 'O', 'O', 'S', 'S'], <br>\n",
    " ['D', 'O', 'D', 'O', 'D'], <br>\n",
    " ['O', 'O', 'O', 'O', 'X'], <br>\n",
    " ['X', 'D', 'D', 'O', 'O'], <br>\n",
    " ['X', 'D', 'D', 'D', 'O']] <br>\n",
    "<br>\n",
    "Output: 3<br>\n",
    "Explanation:<br>\n",
    "You can start from (0,0), (0, 3) or (0, 4). The treasure locations are (2, 4) (3, 0) and (4, 0). Here the shortest route is (0, 3), (1, 3), (2, 3), (2, 4)."
   ]
  },
  {
   "cell_type": "code",
   "execution_count": 37,
   "metadata": {},
   "outputs": [
    {
     "data": {
      "text/plain": [
       "3"
      ]
     },
     "execution_count": 37,
     "metadata": {},
     "output_type": "execute_result"
    }
   ],
   "source": [
    "def treasureIsland2(grid):\n",
    "    \n",
    "    directions = ((1,0), (0,1), (-1,0), (0,-1))\n",
    "    \n",
    "    starting_points = []\n",
    "    \n",
    "    for i in range(len(grid)):\n",
    "        for j in range(len(grid[0])):\n",
    "            if grid[i][j] == 'S':\n",
    "                starting_points.append((i, j)) # (x,y), steps\n",
    "                \n",
    "    \n",
    "    def find_shortest_path(xy):\n",
    "        \n",
    "        queue = []\n",
    "        \n",
    "        queue.append([xy, 0])\n",
    "        \n",
    "        visited = set()\n",
    "        \n",
    "        while queue:\n",
    "\n",
    "            (x, y), steps = queue.pop(0)\n",
    "\n",
    "            # found treasure\n",
    "            if grid[x][y] == 'X':\n",
    "                return steps\n",
    "\n",
    "\n",
    "            for dx, dy in directions:\n",
    "                nx = x + dx\n",
    "                ny = y + dy\n",
    "\n",
    "                if 0 <= nx < len(grid) and 0 <= ny < len(grid[0]) and grid[nx][ny] != 'D':\n",
    "                    if (nx, ny) not in visited:\n",
    "                        visited.add((nx, ny))\n",
    "                        queue.append(((nx,ny), steps+1))\n",
    "                        \n",
    "        return -1\n",
    "    \n",
    "    \n",
    "    \n",
    "    shortest_path = float('inf')\n",
    "    \n",
    "    for start in starting_points:\n",
    "        curr_path = find_shortest_path(start)\n",
    "        if curr_path < shortest_path:\n",
    "            shortest_path = curr_path\n",
    "            \n",
    "    \n",
    "    \n",
    "    \n",
    "    return shortest_path if shortest_path != float('inf') else -1\n",
    "\n",
    "\n",
    "\n",
    "treasureIsland2([['S', 'O', 'O', 'S', 'S'],\n",
    "['D', 'O', 'D', 'O', 'D'],\n",
    "['O', 'O', 'O', 'O', 'X'],\n",
    "['X', 'D', 'D', 'O', 'O'],\n",
    "['X', 'D', 'D', 'D', 'O']])"
   ]
  },
  {
   "cell_type": "code",
   "execution_count": 38,
   "metadata": {},
   "outputs": [
    {
     "ename": "SyntaxError",
     "evalue": "invalid syntax (<ipython-input-38-77b1279ec383>, line 3)",
     "output_type": "error",
     "traceback": [
      "\u001b[0;36m  File \u001b[0;32m\"<ipython-input-38-77b1279ec383>\"\u001b[0;36m, line \u001b[0;32m3\u001b[0m\n\u001b[0;31m    final int[][] dirs = {{0, 1}, {0, -1}, {1, 0}, {-1, 0}};\u001b[0m\n\u001b[0m            ^\u001b[0m\n\u001b[0;31mSyntaxError\u001b[0m\u001b[0;31m:\u001b[0m invalid syntax\n"
     ]
    }
   ],
   "source": [
    "### beautiful solution\n",
    "### multisource bfs\n",
    "final int[][] dirs = {{0, 1}, {0, -1}, {1, 0}, {-1, 0}};\n",
    "public int shortestPath(char[][] islands){\n",
    "    if(islands.length == 0 || islands[0].length == 0) return -1;\n",
    "    int R = islands.length, C = islands[0].length;\n",
    "    Queue<int[]> queue = new LinkedList<>();\n",
    "    int steps = 1;\n",
    "    // add all sources to queue and set 'visited'.\n",
    "    for(int i = 0; i < R; ++i){\n",
    "        for(int j = 0; j < C; ++j){\n",
    "            if(islands[i][j] == 'S'){\n",
    "                queue.add(new int[]{i, j}); islands[i][j] = 'D';\n",
    "            }\n",
    "        }\n",
    "    }\n",
    "    while(!queue.isEmpty()){\n",
    "        int size = queue.size();\n",
    "        for(int i = 0; i < size; ++i){\n",
    "            int[] pos = queue.poll();\n",
    "            for(int[] dir: dirs){\n",
    "                int x = pos[0] + dir[0], y = pos[1] + dir[1];\n",
    "                if(x < 0 || x >= R || y < 0 || y >= C || islands[x][y] == 'D') continue;\n",
    "                if(islands[x][y] == 'E') return steps;\n",
    "                queue.add(new int[]{x, y});\n",
    "                islands[x][y] = 'D';\n",
    "            }\n",
    "        }\n",
    "        ++steps;\n",
    "    }\n",
    "    return -1;\n",
    "}"
   ]
  },
  {
   "cell_type": "markdown",
   "metadata": {},
   "source": [
    "## K Nearest Post Offices\n",
    "\n",
    "Find the k post offices located closest to you, given your location and a list of locations of all post offices available. <br>\n",
    "Locations are given in 2D coordinates in [X, Y], where X and Y are integers.<br>\n",
    "Euclidean distance is applied to find the distance between you and a post office.<br>\n",
    "Assume your location is [m, n] and the location of a post office is [p, q], the Euclidean distance between the office and you is SquareRoot((m - p) * (m - p) + (n - q) * (n - q)).\n",
    "K is a positive integer much smaller than the given number of post offices. <br>\n",
    "<br>\n",
    "e.g.<br>\n",
    "Input<br>\n",
    "you: [0, 0]<br>\n",
    "post_offices: [[-16, 5], [-1, 2], [4, 3], [10, -2], [0, 3], [-5, -9]]<br>\n",
    "k = 3<br>\n",
    "<br>\n",
    "Output<br>\n",
    "[[-1, 2], [0, 3], [4, 3]]"
   ]
  },
  {
   "cell_type": "code",
   "execution_count": 41,
   "metadata": {},
   "outputs": [
    {
     "data": {
      "text/plain": [
       "[[4, 3], [0, 3], [-1, 2]]"
      ]
     },
     "execution_count": 41,
     "metadata": {},
     "output_type": "execute_result"
    }
   ],
   "source": [
    "import heapq\n",
    "def kNearestPostOffices(start, offices, k):\n",
    "    \n",
    "    heap = []\n",
    "    \n",
    "    def find_distance(x,y):\n",
    "        startx = start[0]\n",
    "        starty = start[1]\n",
    "        return ((startx-x)**2 + (starty-y)**2)\n",
    "    \n",
    "    for x,y in offices:\n",
    "        \n",
    "        dist = find_distance(x, y)\n",
    "        \n",
    "        heapq.heappush(heap, (-dist, [x,y]))\n",
    "        \n",
    "        if len(heap) > k:\n",
    "            heapq.heappop(heap)\n",
    "\n",
    "    res = []\n",
    "    for h in heap:\n",
    "        res.append(h[1])\n",
    "        \n",
    "    return res\n",
    "\n",
    "\n",
    "kNearestPostOffices([0,0], [[-16, 5], [-1, 2], [4, 3], [10, -2], [0, 3], [-5, -9]], 3)"
   ]
  },
  {
   "cell_type": "markdown",
   "metadata": {},
   "source": [
    "## Amazon’s Sort Center\n",
    "In Amazon’s sort center, a computer system decides what packages are to be loaded on what trucks. All rooms and spaces are abstracted into space units which is represented as an integer. For each type of truck, they have different space units. For each package, they will be occupying different space units. As a software development engineer in sort centers, you will need to write a method: <br>\n",
    "\n",
    "Given truck space units and a list of product space units, find out exactly TWO products that fit into the truck. You will also implement an internal rule that the truck has to reserve exactly 30 space units for safety purposes. Each package is assigned a unique ID, numbered from 0 to N-1.<br>\n",
    "\n",
    "Assumptions:<br>\n",
    "You will pick up exactly 2 packages.\n",
    "You cannot pick up one package twice.\n",
    "If you have multiple pairs, select the pair with the largest package.\n",
    "\n",
    "Input:<br>\n",
    "The input to the function/method consists of two arguments :<br>\n",
    "truckSpace , an integer representing the truck space.<br>\n",
    "packagesSpace , a list of integers representing the space units occupying by packages.<br>\n",
    "\n",
    "Output:<br>\n",
    "Return a list of integers representing the IDs of two packages whose combined space will leave exactly 30 space units on the truck.<br>\n",
    "\n",
    "Example<br>\n",
    "Input :<br>\n",
    "truckSpace = 90<br>\n",
    "packagesSpace = [1, 10, 25, 35, 60]<br>\n",
    "Output :<br>\n",
    "[2, 3]<br>\n",
    "Explanation : Given a truck of 90 space units, a list of packages space units [1, 10, 25, 35, 60], Your method should select the third(ID-2) and fourth(ID-3) package since you have to reserve exactly 30 space units."
   ]
  },
  {
   "cell_type": "code",
   "execution_count": 51,
   "metadata": {},
   "outputs": [
    {
     "data": {
      "text/plain": [
       "[2, 3]"
      ]
     },
     "execution_count": 51,
     "metadata": {},
     "output_type": "execute_result"
    }
   ],
   "source": [
    "import collections\n",
    "def amazonSort(truck_space, packages):\n",
    "    \n",
    "    idxmap = collections.defaultdict(list)\n",
    "    \n",
    "    for idx, p in enumerate(packages):\n",
    "        idxmap[p].append(idx)\n",
    "        \n",
    "    \n",
    "    space = truck_space - 30\n",
    "    \n",
    "    packages.sort()\n",
    "    \n",
    "    \n",
    "    l = 0\n",
    "    r = len(packages) - 1\n",
    "    \n",
    "    biggest = [ float('-inf'), -1, -1 ]\n",
    "    \n",
    "    res = []\n",
    "    \n",
    "    while l < r:\n",
    "        curr = packages[l] + packages[r]\n",
    "        if curr == space:\n",
    "            if curr == biggest[0] and r < biggest[2]:\n",
    "                l +=1\n",
    "                \n",
    "            else:\n",
    "                biggest[0] = curr\n",
    "                biggest[1] = l\n",
    "                biggest[2] = r\n",
    "                l += 1\n",
    "                                                  \n",
    "            \n",
    "        elif curr > space:\n",
    "            r -= 1\n",
    "            \n",
    "        else:\n",
    "            l += 1\n",
    "            \n",
    "    return [biggest[1], biggest[2]]\n",
    "            \n",
    "        \n",
    "\n",
    "amazonSort(90, [1, 10, 25, 35, 60])"
   ]
  },
  {
   "cell_type": "markdown",
   "metadata": {},
   "source": [
    "## Most Common Words\n",
    "\n",
    "Amazon is partnering with the linguistics department at a local university to analyze important works of English literature and identify patterns in word usage across different eras. To ensure a cleaner output. the linguistics department has provided a list of commonly used words (e.g., “an”, “the”. etc.) to exclude from the analysis. In the context of this search, a word is an alphabetic sequence of characters having no whitespace or punctuation.\n",
    "\n",
    "Write an algorithm to find the most frequently used word in the text excluding the commonly used words.<br>\n",
    "\n",
    "Input: <br>\n",
    "The input to the function/method consists of two arguments:<br>\n",
    "literatureText: a string representing the block of text,<br>\n",
    "wordsToExclude: a list of strings representing the commonly used words to be excluded while analyzing the word frequency.<br>\n",
    "\n",
    "Output:<br>\n",
    "Return a list of strings representing the most frequently used word in the text or in case of a tie, all of the most frequently used words in the text..<br>\n",
    "\n",
    "Note:\n",
    "Words that have a different case are counted as the same word. The order of words does not matter in the output list. All words in the ‘wordsToExclude’ list are unique. Punctuation should be treated as white space.\n",
    "\n",
    "Example\n",
    "Input :\n",
    "literature Text = “Jack and Jill went to the market to buy bread and cheese. Cheese is Jack’s and Jill’s favorite food.”\n",
    "wordsToExclude = [“and”, “he”, “the”, “to”, “is”. “Jack”, “Jill”]\n",
    "Output :\n",
    "[“cheese”, “s”]\n",
    "\n",
    "Explanation : The word `and\" has a maximum of three frequency but this word should be excluded while analyzing the word frequency. The words “Jack’. 'Jill”, “s”, “to” and “cheese” have the next maximum frequency(two) in the given text but the words “Jack”, “to” and \"Jill’ should be excluded as these are commonly used words which you are not interested to include."
   ]
  },
  {
   "cell_type": "code",
   "execution_count": 102,
   "metadata": {},
   "outputs": [
    {
     "data": {
      "text/plain": [
       "['cheese', 's']"
      ]
     },
     "execution_count": 102,
     "metadata": {},
     "output_type": "execute_result"
    }
   ],
   "source": [
    "import collections\n",
    "def most_common_words(text, wordsToExclude):\n",
    "    \n",
    "    punct = ('.', '!', '?', \"\\'\", ':', \",\")\n",
    "    \n",
    "#     WHY THE FUCK THIS IS NOT WORKING\n",
    "#     for w in (wordsToExclude):\n",
    "#         w = w.lower()\n",
    "        \n",
    "    wordsToExclude = [w.lower() for w in wordsToExclude]\n",
    "    \n",
    "    stopwords = set(wordsToExclude)\n",
    "    stopwords.add(\"\")\n",
    "   \n",
    "    for idx, ch in enumerate(text):\n",
    "        if ch in punct:\n",
    "            text = text.replace(text[idx], ' ')\n",
    "        \n",
    "    text = text.lower()\n",
    "    text = text.split(\" \")\n",
    "    counts = collections.Counter(text)\n",
    "            \n",
    "    max_count = 0\n",
    "    \n",
    "    for key, value in counts.items():\n",
    "    \n",
    "        if value > max_count and key not in stopwords:\n",
    "            max_count = value\n",
    "            \n",
    "    res = []\n",
    "    for key, value in counts.items():\n",
    "        if value == max_count and key not in stopwords:\n",
    "            res.append(key)\n",
    "            \n",
    "    return res\n",
    "\n",
    "\n",
    "most_common_words(\"Jack and Jill went to the market to buy bread and cheese. Cheese is Jack\\'s and Jill\\'s favorite food.\", [\"and\", \"he\", \"the\", \"to\", \"is\", \"Jack\", \"Jill\"])"
   ]
  },
  {
   "cell_type": "markdown",
   "metadata": {},
   "source": [
    "## Substrings of size K with K distinct chars\n",
    "\n",
    "https://leetcode.com/discuss/interview-question/370157\n",
    "\n",
    "Given a string s and an int k, return all unique substrings of s of size k with k distinct characters.\n",
    "\n",
    "Example 1:\n",
    "\n",
    "Input: s = \"abcabc\", k = 3\n",
    "Output: [\"abc\", \"bca\", \"cab\"]\n",
    "Example 2:\n",
    "\n",
    "Input: s = \"abacab\", k = 3\n",
    "Output: [\"bac\", \"cab\"]\n",
    "Example 3:\n",
    "\n",
    "Input: s = \"awaglknagawunagwkwagl\", k = 4\n",
    "Output: [\"wagl\", \"aglk\", \"glkn\", \"lkna\", \"knag\", \"gawu\", \"awun\", \"wuna\", \"unag\", \"nagw\", \"agwk\", \"kwag\"]\n",
    "Explanation: \n",
    "Substrings in order are: \"wagl\", \"aglk\", \"glkn\", \"lkna\", \"knag\", \"gawu\", \"awun\", \"wuna\", \"unag\", \"nagw\", \"agwk\", \"kwag\", \"wagl\" \n",
    "\"wagl\" is repeated twice, but is included in the output once."
   ]
  },
  {
   "cell_type": "code",
   "execution_count": 126,
   "metadata": {},
   "outputs": [
    {
     "data": {
      "text/plain": [
       "2"
      ]
     },
     "execution_count": 126,
     "metadata": {},
     "output_type": "execute_result"
    }
   ],
   "source": [
    "def substrWithKdistinct(k, string):\n",
    "    if k > len(string):\n",
    "        return -1\n",
    "    \n",
    "    MAX_CHARS = 26\n",
    "    \n",
    "    counts = [0 for _ in range(MAX_CHARS)]\n",
    "    \n",
    "    res = set()\n",
    "    \n",
    "    l = 0\n",
    "    r = k-1\n",
    "\n",
    "    for i in range(l, r+1):\n",
    "        counts[ord(string[i]) - ord('a')] += 1\n",
    "        if counts.count(1) == k:\n",
    "                res.add(string[l:r+1])\n",
    "        \n",
    "\n",
    "    while r <= len(string):\n",
    "      \n",
    "      \n",
    "        if r+1 < len(string):\n",
    "            counts[ord(string[l]) - ord('a')] -= 1   \n",
    "            l += 1\n",
    "            r += 1\n",
    "            counts[ord(string[r]) - ord('a')] += 1\n",
    "            \n",
    "            if counts.count(1) == k:\n",
    "                res.add(string[l:r+1])\n",
    "            \n",
    "        else:\n",
    "            break\n",
    "            \n",
    "    return len(res)\n",
    "        \n",
    "\n",
    "\n",
    "\n",
    "substrWithKdistinct(3, \"abcabc\")\n",
    "\n",
    "substrWithKdistinct(4, \"awaglknagawunagwkwagl\")\n",
    "\n",
    "substrWithKdistinct(3, \"abacab\")"
   ]
  },
  {
   "cell_type": "markdown",
   "metadata": {},
   "source": [
    "## Reorder data in log files\n",
    "\n",
    "You have an array of logs.  Each log is a space delimited string of words.\n",
    "\n",
    "For each log, the first word in each log is an alphanumeric identifier.  Then, either:\n",
    "\n",
    "Each word after the identifier will consist only of lowercase letters, or;\n",
    "Each word after the identifier will consist only of digits.\n",
    "We will call these two varieties of logs letter-logs and digit-logs.  It is guaranteed that each log has at least one word after its identifier.\n",
    "\n",
    "Reorder the logs so that all of the letter-logs come before any digit-log.  The letter-logs are ordered lexicographically ignoring identifier, with the identifier used in case of ties.  The digit-logs should be put in their original order.\n",
    "\n",
    "Return the final order of the logs.\n",
    "\n",
    "https://leetcode.com/problems/reorder-data-in-log-files/"
   ]
  },
  {
   "cell_type": "markdown",
   "metadata": {},
   "source": [
    "## Roll Dice\n",
    "\n",
    "A six-sided dice is a small cube with a different number of pips. Each face(side) ranging from 1 to 6.\n",
    "On any two opposite side of the cube, the number of pips adds up to 7; that is, there are three pairs of opposite sides: 1 and 6, 2 and 5, and 3 and 4. <br>\n",
    "There are N dice lying on a table, each showing the pips on its top face. In one move, you can take one dice and rotate it to an adjacent face.<br>\n",
    "For example, you can rotate a dice that shows 1 to show 2, 3, 4 or 5. However, it cannot show 6 in a single move, because the faces with one pip and six pips visible are opposite sides rather than adjacent.\n",
    "You want to show the same number of pips on the top face of all N dice. Given that each of the dice can be moved multiple times, count the minimum number of moves needed to get equal faces.<br>\n",
    "\n",
    "Write a function:<br>\n",
    "that, given an array A consisting of N integers describing the number of pips (from 1 to 6) shown on each dice’s top face, returns the minimum number of moves necessary for each dice show the same number of pips.<br>\n",
    "<br>\n",
    "For example, given:<br>\n",
    "• A = [1, 2, 3], the function should return 2, as you can pick the first two dice and rotate each of them in one move so that they all show three pips on the top face. Notice that you can also pick any other pair of dice in this case.<br>\n",
    "• A = [1, 1, 6], the function should also return 2. The only optimal answer is to rotate the last dice so that it shows one pip. It is necessary to use two rotations to achieve this.<br>\n",
    "• A = [1, 6, 2, 3], the function should return 3. For instance, you can make all dice show 2: just rotate each dice which is not showing 2 (and notice that for each dice you can do this in one move).<br>\n",
    "<br>\n",
    "Assume that:<br>\n",
    "• N is an integer within the range [1…100];<br>\n",
    "• each element of the array A is an integer within the range [1…6].<br>"
   ]
  },
  {
   "cell_type": "code",
   "execution_count": null,
   "metadata": {},
   "outputs": [],
   "source": [
    "\tpublic static int rollDiceSolution(int[] nums) {\n",
    "\t    int min = Integer.MAX_VALUE;\n",
    "\t    int[] cnt = new int[7];\n",
    "\t    for (int num : nums) cnt[num]++;\n",
    "\t    //iterate all six of possible final numbers\n",
    "\t    //Then number of rolls can be calculated directly\n",
    "\t    for (int i = 1; i < 7; i++) {\n",
    "\t    \tint rollNum = 0;\n",
    "\t    \tfor(int j = 1; j < 7;j++) {\n",
    "\t    \t\tif(j == i) continue; // if the current dice already show the final number, just skip it\n",
    "\t    \t\tif(j + i == 7) {\n",
    "\t    \t\t\trollNum += 2*cnt[j];\n",
    "\t    \t\t}else {\n",
    "\t    \t\t\trollNum += cnt[j];\n",
    "\t    \t\t}\n",
    "\t    \t}\n",
    "\t    \tmin = Math.min(rollNum, min);\n",
    "\t  }\n",
    "\t  return min;\n",
    "\t}"
   ]
  },
  {
   "cell_type": "code",
   "execution_count": 132,
   "metadata": {},
   "outputs": [],
   "source": [
    "def rollDice(nums):\n",
    "    cnt = [0 for _ in range(7)]\n",
    "    \n",
    "    for n in nums:\n",
    "        cnt[n] += 1\n",
    "        \n",
    "    minimum = float('inf')\n",
    "        \n",
    "     #iterate all six of possible final numbers\n",
    "     #Then number of rolls can be calculated directly \n",
    "    for i in range(1, 7):\n",
    "        rollNum = 0\n",
    "        for j in range(1, 7):\n",
    "            if i == j:\n",
    "                continue # if the current dice already show the final number, just skip it\n",
    "            if i + j == 7:\n",
    "                rollNum += 2* cnt[j]\n",
    "            else:\n",
    "                rollNum += cnt[j]\n",
    "                \n",
    "        minimum = min(minimum, rollNum)\n",
    "        \n",
    "    return minimum\n",
    "\n",
    "\n",
    "\n",
    "assert rollDice([1, 2, 3]) == 2, 'ERROR'    \n",
    "assert rollDice([1, 1, 6]) == 2, 'ERROR'    \n",
    "assert rollDice([1, 6, 2, 3]) == 3, 'ERROR'    "
   ]
  },
  {
   "cell_type": "markdown",
   "metadata": {},
   "source": [
    "## Subtree with max average\n",
    "\n",
    "https://leetcode.com/discuss/interview-question/349617\n",
    "\n",
    "Given an N-ary tree, find the subtree with the maximum average. Return the root of the subtree.\n",
    "A subtree of a tree is the node which have at least 1 child plus all its descendants. The average value of a subtree is the sum of its values, divided by the number of nodes.\n",
    "\n",
    "Example 1:\n",
    "\n",
    "Input:\n",
    "\t\t 20\n",
    "\t   /   \\\n",
    "\t 12     18\n",
    "  /  |  \\   / \\\n",
    "11   2   3 15  8\n",
    "\n",
    "Output: 18\n",
    "Explanation:\n",
    "There are 3 nodes which have children in this tree:\n",
    "12 => (11 + 2 + 3 + 12) / 4 = 7\n",
    "18 => (18 + 15 + 8) / 3 = 13.67\n",
    "20 => (12 + 11 + 2 + 3 + 18 + 15 + 8 + 20) / 8 = 11.125\n",
    "\n",
    "18 has the maximum average so output 18."
   ]
  },
  {
   "cell_type": "code",
   "execution_count": 133,
   "metadata": {},
   "outputs": [
    {
     "name": "stdout",
     "output_type": "stream",
     "text": [
      "18\n"
     ]
    }
   ],
   "source": [
    "from collections import deque\n",
    "class TreeNode:\n",
    "    def __init__(self, val, children):\n",
    "        self.val = val\n",
    "        self.children = children\n",
    "        self.total_val = val\n",
    "        self.total_num = 1\n",
    "\n",
    "class Solution:\n",
    "    def findmaxavgsubtree2(self, root: 'TreeNode') -> 'TreeNode':\n",
    "\n",
    "        stack1 = deque([])\n",
    "        stack2 = deque([])\n",
    "        stack1.append(root)\n",
    "\n",
    "        max_avg = float('-inf')\n",
    "        max_avg_node = None\n",
    "\n",
    "        while stack1:\n",
    "            visit = stack1.pop()\n",
    "            stack2.append(visit)\n",
    "            for child in visit.children:\n",
    "                stack1.append(child)\n",
    "\n",
    "        while stack2:\n",
    "            visit = stack2.pop()\n",
    "            # if not leaf node, calculate total value and total number\n",
    "            if len(visit.children) > 0:\n",
    "                for child in visit.children:\n",
    "                    visit.total_val += child.total_val\n",
    "                    visit.total_num += child.total_num\n",
    "                cur_avg = visit.total_val/visit.total_num\n",
    "                if cur_avg > max_avg:\n",
    "                    max_avg = cur_avg\n",
    "                    max_avg_node = visit\n",
    "        return max_avg_node\n",
    "\n",
    "if __name__ == '__main__':\n",
    "\n",
    "    n4 = TreeNode(11, [])\n",
    "    n5 = TreeNode(2, [])\n",
    "    n6 = TreeNode(3, [])\n",
    "    n7 = TreeNode(15, [])\n",
    "    n8 = TreeNode(8, [])\n",
    "    n2 = TreeNode(12, [n4, n5, n6])\n",
    "    n3 = TreeNode(18, [n7, n8])\n",
    "    n1 = TreeNode(20, [n2, n3])\n",
    "\n",
    "    ss = Solution()\n",
    "    print(ss.findmaxavgsubtree2(n1).val)"
   ]
  },
  {
   "cell_type": "markdown",
   "metadata": {},
   "source": [
    "## Min Cost to Connect All Nodes (Minimum Spanning Tree I)\n",
    "\n",
    "https://leetcode.com/discuss/interview-question/356981\n",
    "\n",
    "Given an undirected graph with n nodes labeled 1..n. Some of the nodes are already connected. The i-th edge connects nodes edges[i][0] and edges[i][1] together. Your task is to augment this set of edges with additional edges to connect all the nodes. Find the minimum cost to add new edges between the nodes such that all the nodes are accessible from each other.\n",
    "\n",
    "Input:\n",
    "n, an int representing the total number of nodes.\n",
    "edges, a list of integer pair representing the nodes already connected by an edge.\n",
    "newEdges, a list where each element is a triplet representing the pair of nodes between which an edge can be added and the cost of addition, respectively (e.g. [1, 2, 5] means to add an edge between node 1 and 2, the cost would be 5).\n",
    "\n",
    "Example:\n",
    "Input:\n",
    "n = 6, edges = [[1, 4], [4, 5], [2, 3]], newEdges = [[1, 2, 5], [1, 3, 10], [1, 6, 2], [5, 6, 5]]\n",
    "Output: 7\n",
    "Explanation:\n",
    "There are 3 connected components [1, 4, 5], [2, 3] and [6].\n",
    "We can connect these components into a single component by connecting node 1 to node 2 and node 1 to node 6 at a minimum cost of 5 + 2 = 7.\n",
    "\n",
    "hint: what’s the time complexity of your algorithm? Can you make the running time O(E * log(E)) by using Union Find?"
   ]
  },
  {
   "cell_type": "markdown",
   "metadata": {},
   "source": [
    "## Min Cost to Repair Edges\n",
    "\n",
    "https://leetcode.com/discuss/interview-question/357310\n",
    "\n",
    "There's an undirected connected graph with n nodes labeled 1..n. But some of the edges has been broken disconnecting the graph. Find the minimum cost to repair the edges so that all the nodes are once again accessible from each other.\n",
    "\n",
    "Input:\n",
    "\n",
    "n, an int representing the total number of nodes.\n",
    "edges, a list of integer pair representing the nodes connected by an edge.\n",
    "edgesToRepair, a list where each element is a triplet representing the pair of nodes between which an edge is currently broken and the cost of repearing that edge, respectively (e.g. [1, 2, 12] means to repear an edge between nodes 1 and 2, the cost would be 12).\n",
    "Example 1:\n",
    "\n",
    "Input: n = 5, edges = [[1, 2], [2, 3], [3, 4], [4, 5], [1, 5]], edgesToRepair = [[1, 2, 12], [3, 4, 30], [1, 5, 8]]\n",
    "Output: 20\n",
    "Explanation:\n",
    "There are 3 connected components due to broken edges: [1], [2, 3] and [4, 5].\n",
    "We can connect these components into a single component by repearing the edges between nodes 1 and 2, and nodes 1 and 5 at a minimum cost 12 + 8 = 20.\n",
    "Example 2:\n",
    "\n",
    "Input: n = 6, edges = [[1, 2], [2, 3], [4, 5], [3, 5], [1, 6], [2, 4]], edgesToRepair = [[1, 6, 410], [2, 4, 800]]\n",
    "Output: 410\n",
    "Example 3:\n",
    "\n",
    "Input: n = 6, edges = [[1, 2], [2, 3], [4, 5], [5, 6], [1, 5], [2, 4], [3, 4]], edgesToRepair = [[1, 5, 110], [2, 4, 84], [3, 4, 79]]\n",
    "Output: 79\n",
    "Related problems: Min Cost to Connect All Nodes"
   ]
  },
  {
   "cell_type": "markdown",
   "metadata": {},
   "source": [
    "## Favorite Genres\n",
    "\n",
    "https://leetcode.com/discuss/interview-question/373006\n",
    "\n",
    "Given a map Map<String, List<String>> userSongs with user names as keys and a list of all the songs that the user has listened to as values.\n",
    "\n",
    "Also given a map Map<String, List<String>> songGenres, with song genre as keys and a list of all the songs within that genre as values. The song can only belong to only one genre.\n",
    "\n",
    "The task is to return a map Map<String, List<String>>, where the key is a user name and the value is a list of the user's favorite genre(s). Favorite genre is the most listened to genre. A user can have more than one favorite genre if he/she has listened to the same number of songs per each of the genres.\n",
    "\n",
    "Example 1:\n",
    "\n",
    "Input:\n",
    "userSongs = {  \n",
    "   \"David\": [\"song1\", \"song2\", \"song3\", \"song4\", \"song8\"],\n",
    "   \"Emma\":  [\"song5\", \"song6\", \"song7\"]\n",
    "},\n",
    "songGenres = {  \n",
    "   \"Rock\":    [\"song1\", \"song3\"],\n",
    "   \"Dubstep\": [\"song7\"],\n",
    "   \"Techno\":  [\"song2\", \"song4\"],\n",
    "   \"Pop\":     [\"song5\", \"song6\"],\n",
    "   \"Jazz\":    [\"song8\", \"song9\"]\n",
    "}\n",
    "\n",
    "Output: {  \n",
    "   \"David\": [\"Rock\", \"Techno\"],\n",
    "   \"Emma\":  [\"Pop\"]\n",
    "}\n",
    "\n",
    "Explanation:\n",
    "David has 2 Rock, 2 Techno and 1 Jazz song. So he has 2 favorite genres.\n",
    "Emma has 2 Pop and 1 Dubstep song. Pop is Emma's favorite genre.\n",
    "Example 2:\n",
    "\n",
    "Input:\n",
    "userSongs = {  \n",
    "   \"David\": [\"song1\", \"song2\"],\n",
    "   \"Emma\":  [\"song3\", \"song4\"]\n",
    "},\n",
    "songGenres = {}\n",
    "\n",
    "Output: {  \n",
    "   \"David\": [],\n",
    "   \"Emma\":  []\n",
    "}"
   ]
  },
  {
   "cell_type": "code",
   "execution_count": 144,
   "metadata": {},
   "outputs": [
    {
     "data": {
      "text/plain": [
       "defaultdict(list, {'David': ['Rock', 'Techno'], 'Emma': ['Pop']})"
      ]
     },
     "execution_count": 144,
     "metadata": {},
     "output_type": "execute_result"
    }
   ],
   "source": [
    "import collections\n",
    "def favGenres(userSongs, songGenres):\n",
    "    \n",
    "    userGenres = collections.defaultdict(list)\n",
    "    \n",
    "    for user in userSongs:\n",
    "        count = collections.defaultdict(int)\n",
    "    \n",
    "        song_list = userSongs[user]\n",
    "        \n",
    "        for song in song_list:\n",
    "            for genre in songGenres:\n",
    "                if song in songGenres[genre]:\n",
    "                    count[genre] += 1\n",
    "                    \n",
    "        userGenres[user] = [key for key, val in count.items() if val == max(count.values())]\n",
    "                    \n",
    "    return userGenres\n",
    "                    \n",
    "\n",
    "\n",
    "\n",
    "favGenres( {\"David\": [\"song1\", \"song2\", \"song3\", \"song4\", \"song8\"], \"Emma\": [\"song5\", \"song6\", \"song7\"]}, {\n",
    "\"Rock\": [\"song1\", \"song3\"], \"Dubstep\": [\"song7\"], \"Techno\": [\"song2\", \"song4\"], \"Pop\": [\"song5\", \"song6\"], \"Jazz\": [\"song8\", \"song9\"] })"
   ]
  },
  {
   "cell_type": "markdown",
   "metadata": {},
   "source": [
    "## Data Center Cirtical Connections\n",
    "Given a data center with n servers from 1 to n. To make the data center running, all servers must be connected, that means there exists at least one path between any pair of servers. Now we know there could be some cirtical connections broken which brings down the whole data center. You need to write a program to find out all these broken cirtical connections. A server connection is a cirtical connection which when removed will make the whole data center disconnected.\n",
    "Write a method to output all critical connections.\n",
    "\n",
    "Input:\n",
    "serversNum, the number of servers in the data center.\n",
    "connectionsNum, the number of connections between the servers.\n",
    "connections, a list of pairs reperesting the connections between two severs.\n",
    "\n",
    "Output:\n",
    "Return a list of integer pairs representing the cirtical connections. Output an empty array if there are no cirtical connections.\n",
    "Example :\n",
    "Input:\n",
    "serversNum = 4\n",
    "connectionsNum = 4\n",
    "connections = [[1, 2], [1, 3], [3, 2], [3, 4]]\n",
    "\n",
    "Output:\n",
    "[[3,4]]\n",
    "Explanation:\n",
    "There are one cirtical connections:\n",
    "1. Between server 3 and 4\n",
    "If the connection [3, 4] breaks, then the network will be disconnected since servers 3 and 4 cannot communicate with the rest of the network.\n",
    "Remaining three connections are not cirtical."
   ]
  },
  {
   "cell_type": "code",
   "execution_count": 145,
   "metadata": {},
   "outputs": [],
   "source": [
    "#Data Center Cirtical Connections\n",
    "\n",
    "import heapq\n",
    "def minCostToRepairEdges(n, edges, edgesToRepair):\n",
    "    if n == 0:\n",
    "        return 0\n",
    "    if n == 1 or (not edges and not edgesToRepair):\n",
    "        return -1\n",
    "    \n",
    "    graph = [[float('+inf')]*(n+1) for _ in range(n+1)]\n",
    "    for n1, n2 in edges:\n",
    "        graph[n1][n2] = 0 \n",
    "        graph[n2][n1] = 0 \n",
    "    for n1, n2, cost in edgesToRepair:\n",
    "        graph[n1][n2] = cost\n",
    "        graph[n2][n1] = cost\n",
    "    \n",
    "    seen = set()\n",
    "    heap = [(0, n)]\n",
    "    total_cost = 0\n",
    "    while heap and len(seen) <= n:\n",
    "        cost, node = heapq.heappop(heap)\n",
    "        if node not in seen:\n",
    "            seen.add(node)\n",
    "            total_cost += cost\n",
    "        \n",
    "            for adj in range(1, n+1):\n",
    "                heapq.heappush(heap, (graph[node][adj], adj))\n",
    "    \n",
    "    if len(seen) < n or total_cost == float('inf'):\n",
    "        return -1\n",
    "    \n",
    "    return total_cost\n",
    "        "
   ]
  },
  {
   "cell_type": "markdown",
   "metadata": {},
   "source": [
    "## Shopkeeper Sale\n",
    "A shopkeeper has a sale to complete and has arranged the items being sold in a list. Starting from the left, the shop keeper rings up each item at its full price less the price of the first lower or equally priced item to its right. If there is no item to the right that costs less than or equal to the current item's price the current item is sold at full price. <br>\n",
    "<br>\n",
    "For example, assume there are items priced [2, 3, 1, 2, 4, 2].<br>\n",
    "The first and second items would each be discounted by 1 unit, the first equal or lower price to the right.<br>\n",
    "The item priced 1 unit would sell at a full price.<br>\n",
    "The next item, at 2 units, would be discounted 2 units as would the 4 unit item.<br>\n",
    "The sixth and final item must be purchased at full price.<br>\n",
    "The total cost is 1+2+1+0+2+2 = 8 units.<br>\n",
    "\n",
    "Print total cost of all items on the first line.<br>\n",
    "On the second line print a space separated list of integers representing the indexes of the non- discounted items in ascending index order.<br>\n",
    "<br><br>\n",
    "1 <= size(prices) <= 100000\n",
    "1 <= prices <= 1000000\n",
    "\n",
    "Output:<br>\n",
    "8<br>\n",
    "2 5<br>\n",
    "\n",
    "Input 2: [5,1,3,4,6,2]<br>\n",
    "Output:<br>\n",
    "14<br>\n",
    "1 5<br>\n",
    "\n",
    "Input 3: [1,3,3,2,5]<br>\n",
    "Output:<br>\n",
    "9<br>\n",
    "0 3 4<br>"
   ]
  },
  {
   "cell_type": "code",
   "execution_count": 178,
   "metadata": {},
   "outputs": [
    {
     "name": "stdout",
     "output_type": "stream",
     "text": [
      "[1, 2, 1, 0, 2, 2]\n",
      "[4, 1, 1, 2, 4, 2]\n",
      "[1, 1, 1, 2, 5]\n"
     ]
    }
   ],
   "source": [
    "def shopkeeperSale(prices):\n",
    "    \n",
    "    min_prices = [float('inf') for _ in range(len(prices))]\n",
    "    \n",
    "    min_prices[len(prices)-1] = 0\n",
    "    cur_min = prices[len(prices)-1]\n",
    "    \n",
    "    r = len(prices) - 2\n",
    "    \n",
    "    while r >= 0:\n",
    "        \n",
    "        if prices[r] < cur_min:\n",
    "            min_prices[r] = 0\n",
    "            cur_min = prices[r]\n",
    "        else:\n",
    "            min_prices[r] = cur_min\n",
    "            \n",
    "        r -= 1\n",
    "        \n",
    "    min_prices[-1] = 0\n",
    "        \n",
    "        \n",
    "#     print(min_prices)\n",
    "    \n",
    "    discounted = [0 for _ in range(len(prices))]\n",
    "    for i in range(len(prices)):\n",
    "        discounted[i] = prices[i] - min_prices[i]\n",
    "        \n",
    "#     print(discounted)\n",
    "        \n",
    "    \n",
    "    total = sum(discounted)\n",
    "    \n",
    "    not_discounted = []\n",
    "    \n",
    "    for i in range(len(prices)):\n",
    "        if prices[i] == discounted[i]:\n",
    "            not_discounted.append(i)\n",
    "    \n",
    "    \n",
    "    return [total, not_discounted]\n",
    "\n",
    "\n",
    "assert shopkeeperSale([2,3,1,2,4,2]) == [8, [2, 5]], 'ERROR'\n",
    "assert shopkeeperSale([5,1,3,4,6,2]) == [14, [1, 5]], 'ERROR'\n",
    "assert shopkeeperSale([1,3,3,2,5]) == [10, [0,3,4]], 'ERROR'\n"
   ]
  },
  {
   "cell_type": "markdown",
   "metadata": {},
   "source": [
    "## Longest substring of vowels\n",
    "\n",
    "https://www.geeksforgeeks.org/longest-substring-vowels/\n",
    "\n",
    "Given a string s of lowercase letters, we need to find the longest substring length that contain (a, e, i, o, u) only."
   ]
  },
  {
   "cell_type": "code",
   "execution_count": 185,
   "metadata": {},
   "outputs": [
    {
     "data": {
      "text/plain": [
       "2"
      ]
     },
     "execution_count": 185,
     "metadata": {},
     "output_type": "execute_result"
    }
   ],
   "source": [
    "def onlyVowels(string):\n",
    "    \n",
    "    vowels = set([\"a\", \"e\", \"i\", \"o\", \"u\"])\n",
    "    \n",
    "    cnt = 0\n",
    "    res = 0\n",
    "    \n",
    "    string = list(string)\n",
    "    \n",
    "    for i in range(len(string)):\n",
    "        if string[i] in vowels:\n",
    "            cnt += 1\n",
    "            \n",
    "        else:\n",
    "            res = max(res, cnt)\n",
    "            cnt = 0\n",
    "    \n",
    "    \n",
    "    return res\n",
    "  \n",
    "\n",
    "\n",
    "assert onlyVowels(\"geeksforgeeks\") == 2, 'ERROR'\n",
    "assert onlyVowels(\"geeksforgeeks\") == 2, 'ERROR'"
   ]
  },
  {
   "cell_type": "markdown",
   "metadata": {},
   "source": [
    "## Longest string made up of only vowels\n",
    "\n",
    "https://leetcode.com/discuss/interview-question/233724 <br>\n",
    "\n",
    "You are given with a string . Your task is to remove atmost two substrings of any length from the given string such that the remaining string contains vowels('a','e','i','o','u') only. Your aim is the maximise the length of the remaining string. Output the length of remaining string after removal of atmost two substrings.\n",
    "NOTE: The answer may be 0, i.e. removing the entire string.\n",
    "\n",
    "Sample Input\n",
    "2\n",
    "earthproblem\n",
    "letsgosomewhere\n",
    "Sample Output\n",
    "3\n",
    "2"
   ]
  },
  {
   "cell_type": "code",
   "execution_count": 187,
   "metadata": {},
   "outputs": [
    {
     "name": "stdout",
     "output_type": "stream",
     "text": [
      "6 6\n",
      "5 5\n",
      "5 5\n",
      "3 3\n",
      "5 5\n",
      "4 4\n",
      "0 0\n"
     ]
    }
   ],
   "source": [
    "def vowelsonly(S):\n",
    "    temp, aux, vowels = 0, [], set('aeiou')\n",
    "    # Count the length of each vowel substring\n",
    "    for c in S + 'z':\n",
    "        if c in vowels:\n",
    "            temp += 1\n",
    "        elif temp:\n",
    "            aux.append(temp)\n",
    "            temp = 0\n",
    "    # If the first letter is not vowel, you must cut the head\n",
    "    if S[0] not in vowels: aux = [0] + aux\n",
    "    # If the last letter is not vowel, you must cut the tail\n",
    "    if S[-1] not in vowels: aux += [0]\n",
    "    # Max length = max head + max tail + max middle\n",
    "    return aux[0] + aux[-1] + max(aux[1:-1]) if len(aux) >= 3 else sum(aux)\n",
    "\n",
    "\n",
    "print(vowelsonly('aaabbaaba'), 6)\n",
    "print(vowelsonly('aaabbaab'), 5)\n",
    "print(vowelsonly('bbaaabbaa'), 5)\n",
    "print(vowelsonly('bbaaabbaabbb'), 3)\n",
    "print(vowelsonly('ffaoaoeffaaff'), 5)\n",
    "print(vowelsonly('aoao'), 4)\n",
    "print(vowelsonly('frfr'), 0)"
   ]
  },
  {
   "cell_type": "markdown",
   "metadata": {},
   "source": [
    "##  Longest string without 3 consecutive characters\n",
    "\n",
    "https://leetcode.com/discuss/interview-question/330356/amazon-oa-longest-string-without-3-consecutive-characters\n",
    "\n",
    "Given A, B, C, find any string of maximum length that can be created such that no 3 consecutive characters are same. There can be at max A 'a', B 'b' and C 'c'.\n",
    "\n",
    "Example 1:\n",
    "\n",
    "Input: A = 1, B = 1, C = 6\n",
    "Output: \"ccbccacc\"\n",
    "Example 2:\n",
    "\n",
    "Input: A = 1, B = 2, C = 3\n",
    "Output: \"acbcbc\"\n",
    "Related questions:\n",
    "\n",
    "https://leetcode.com/problems/reorganize-string\n",
    "https://leetcode.com/problems/distant-barcodes\n",
    "https://leetcode.com/problems/rearrange-string-k-distance-apart (premium)"
   ]
  },
  {
   "cell_type": "code",
   "execution_count": 188,
   "metadata": {},
   "outputs": [
    {
     "name": "stdout",
     "output_type": "stream",
     "text": [
      "ccaccbcc\n",
      "cbcabc\n"
     ]
    }
   ],
   "source": [
    "def ls3(A, B, C):\n",
    "    pq = []\n",
    "    res = \"\"\n",
    "    for k, v in ('a', A), ('b', B), ('c', C):\n",
    "        heapq.heappush(pq, (-v, k))\n",
    "    preV, preK = 0, ''\n",
    "    while pq:\n",
    "        v, k = heapq.heappop(pq)\n",
    "        if preV:\n",
    "            heapq.heappush(pq, (preV, preK))\n",
    "            preV, preK = 0, ''\n",
    "        if res[-2:] == k * 2:\n",
    "            preV, preK = v, k\n",
    "        else:\n",
    "            res += k\n",
    "            if v != -1:\n",
    "                heapq.heappush(pq, (v + 1, k))\n",
    "    return res\n",
    "A, B, C = 1, 1, 6\n",
    "print(ls3(A, B, C))\n",
    "A, B, C = 1, 2, 3\n",
    "print(ls3(A, B, C))"
   ]
  },
  {
   "cell_type": "markdown",
   "metadata": {},
   "source": [
    "## Optimal Utilization\n",
    "\n",
    "https://leetcode.com/discuss/interview-question/373202\n",
    "\n",
    "Given 2 lists a and b. Each element is a pair of integers where the first integer represents the unique id and the second integer represents a value. Your task is to find an element from a and an element form b such that the sum of their values is less or equal to target and as close to target as possible. Return a list of ids of selected elements. If no pair is possible, return an empty list.\n",
    "\n",
    "Example 1:\n",
    "\n",
    "Input:\n",
    "a = [[1, 2], [2, 4], [3, 6]]\n",
    "b = [[1, 2]]\n",
    "target = 7\n",
    "\n",
    "Output: [[2, 1]]\n",
    "\n",
    "Explanation:\n",
    "There are only three combinations [1, 1], [2, 1], and [3, 1], which have a total sum of 4, 6 and 8, respectively.\n",
    "Since 6 is the largest sum that does not exceed 7, [2, 1] is the optimal pair.\n",
    "Example 2:\n",
    "\n",
    "Input:\n",
    "a = [[1, 3], [2, 5], [3, 7], [4, 10]]\n",
    "b = [[1, 2], [2, 3], [3, 4], [4, 5]]\n",
    "target = 10\n",
    "\n",
    "Output: [[2, 4], [3, 2]]\n",
    "\n",
    "Explanation:\n",
    "There are two pairs possible. Element with id = 2 from the list `a` has a value 5, and element with id = 4 from the list `b` also has a value 5.\n",
    "Combined, they add up to 10. Similarily, element with id = 3 from `a` has a value 7, and element with id = 2 from `b` has a value 3.\n",
    "These also add up to 10. Therefore, the optimal pairs are [2, 4] and [3, 2].\n",
    "Example 3:\n",
    "\n",
    "Input:\n",
    "a = [[1, 8], [2, 7], [3, 14]]\n",
    "b = [[1, 5], [2, 10], [3, 14]]\n",
    "target = 20\n",
    "\n",
    "Output: [[3, 1]]\n",
    "Example 4:\n",
    "\n",
    "Input:\n",
    "a = [[1, 8], [2, 15], [3, 9]]\n",
    "b = [[1, 8], [2, 11], [3, 12]]\n",
    "target = 20\n",
    "\n",
    "Output: [[1, 3], [3, 2]]"
   ]
  },
  {
   "cell_type": "code",
   "execution_count": 191,
   "metadata": {},
   "outputs": [],
   "source": [
    "def findPairs(a, b, target):\n",
    "\ta.sort(key=lambda x: x[1])\n",
    "\tb.sort(key=lambda x: x[1])\n",
    "\tl, r = 0, len(b) - 1\n",
    "\tans = []\n",
    "\tcurDiff = float('inf')\n",
    "\twhile l < len(a) and r >= 0:\n",
    "\t\tid1, i = a[l]\n",
    "\t\tid2, j = b[r]\n",
    "\t\tif (target - i - j == curDiff):\n",
    "\t\t\tans.append([id1, id2])\n",
    "\t\telif (i + j <= target and target - i - j < curDiff):\n",
    "\t\t\tans.clear()\n",
    "\t\t\tans.append([id1, id2])\n",
    "\t\t\tcurDiff = target - i - j\n",
    "\t\tif (target > i + j):\n",
    "\t\t\tl += 1\n",
    "\t\telse:\n",
    "\t\t\tif target == i + j:\n",
    "\t\t\t\ttmp_l = l\n",
    "\t\t\t\twhile a[tmp_l][1] + b[r][1] == target:\n",
    "\t\t\t\t\ttmp_l += 1\n",
    "\t\t\t\t\tif tmp_l == len(a):\n",
    "\t\t\t\t\t\tbreak\n",
    "\t\t\t\t\tif  a[tmp_l][1] + b[r][1] == target:\n",
    "\t\t\t\t\t\tans.append([a[tmp_l][0], b[r][0]])\n",
    "\t\t\tr -= 1\n",
    "\t\n",
    "\tans.sort(key = lambda x: x[1])\n",
    "\tans.sort(key = lambda x: x[0])\n",
    "\treturn ans\n",
    "\n",
    "# test 1\n",
    "a = [[1, 2], [2, 4], [3, 6]]\n",
    "b = [[1, 2]]\n",
    "target = 7\n",
    "expected = [[2, 1]]\n",
    "assert findPairs(a, b, target) == expected, 'ERROR'\n",
    "\n",
    "# test 2\n",
    "a = [[1, 8], [2, 7], [3, 14]]\n",
    "b = [[1, 5], [2, 10], [3, 14]]\n",
    "target = 20\n",
    "expected = [[3, 1]]\n",
    "assert findPairs(a, b, target) == expected, 'ERROR'\n",
    "\n",
    "# test 3\n",
    "a = [[1, 8], [2, 15], [3, 9]]\n",
    "b = [[1, 8], [2, 11], [3, 12]]\n",
    "target = 20\n",
    "expected = [[1, 3], [3, 2]]\n",
    "assert findPairs(a, b, target) == expected, 'ERROR'\n",
    "\n",
    "# test 4\n",
    "a = [ [1, 5], [2, 5] ]\n",
    "b = [ [1, 5], [2, 5] ]\n",
    "target = 10\n",
    "expected = [[1, 1], [1, 2], [2, 1], [2, 2]]\n",
    "assert findPairs(a, b, target) == expected, 'ERROR'"
   ]
  },
  {
   "cell_type": "markdown",
   "metadata": {},
   "source": [
    "## Substrings with exactly K distinct chars\n",
    "\n",
    "https://leetcode.com/discuss/interview-question/370157\n",
    "\n",
    "https://leetcode.com/problems/subarrays-with-k-different-integers/"
   ]
  },
  {
   "cell_type": "code",
   "execution_count": 201,
   "metadata": {},
   "outputs": [],
   "source": [
    "def subarraysWithKDistinct(A, K):\n",
    "        \n",
    "    def atMostK(A, K):\n",
    "        count = collections.Counter()\n",
    "        res = i = 0\n",
    "        for j in range(len(A)):\n",
    "            if count[A[j]] == 0: K -= 1\n",
    "            count[A[j]] += 1\n",
    "            while K < 0:\n",
    "                count[A[i]] -= 1\n",
    "                if count[A[i]] == 0: K += 1\n",
    "                i += 1\n",
    "            res += j - i + 1\n",
    "        return res\n",
    "    \n",
    "    return atMostK(A, K) - atMostK(A, K - 1)\n",
    "\n",
    "assert subarraysWithKDistinct(\"pqpqs\", 2) == 7\n",
    "assert subarraysWithKDistinct(\"aabab\", 3) == 0"
   ]
  },
  {
   "cell_type": "markdown",
   "metadata": {},
   "source": [
    "## Path With Maximum Score\n",
    "\n",
    "https://leetcode.com/discuss/interview-question/383669/\n",
    "\n",
    "Given a matrix with r rows and c columns, find the maximum score of a path starting at [0, 0] and ending at [r - 1, c - 1]. The score of a path is the minimum value in that path. For example, the score of the path 8 → 4 → 5 → 9 is 4.\n",
    "\n",
    "You can only move either down or right at any point in time.\n",
    "\n",
    "Example 1:\n",
    "\n",
    "Input:\n",
    "[[5, 1],\n",
    " [4, 5]]\n",
    "Output: 4\n",
    "Explanation:\n",
    "Possible paths:\n",
    "5 → 1 → 5 => min value is 1\n",
    "5 → 4 → 5 => min value is 4\n",
    "Return the max value among minimum values => max(4, 1) = 4.\n",
    "Related problems:\n",
    "\n",
    "https://leetcode.com/problems/unique-paths-ii/\n",
    "https://leetcode.com/problems/path-with-maximum-minimum-value (premium) is a different problem. In this problem we can only move in 2 directions."
   ]
  },
  {
   "cell_type": "code",
   "execution_count": 214,
   "metadata": {},
   "outputs": [
    {
     "name": "stdout",
     "output_type": "stream",
     "text": [
      "[[0, 0], [0, 0]]\n"
     ]
    },
    {
     "data": {
      "text/plain": [
       "4"
      ]
     },
     "execution_count": 214,
     "metadata": {},
     "output_type": "execute_result"
    }
   ],
   "source": [
    "def max_min_path(matrix):\n",
    "    if not matrix or not matrix[0]:\n",
    "        return 0\n",
    "\n",
    "    n, m = len(matrix), len(matrix[0])\n",
    "    dp = [[0] * m for _ in range(n)]\n",
    "    \n",
    "    print(dp)\n",
    "    \n",
    "    for i in range(n):\n",
    "        for j in range(m):\n",
    "            if i == 0 and j == 0:\n",
    "                dp[i][j] = matrix[i][j]\n",
    "            elif i == 0:\n",
    "                dp[i][j] = min(matrix[i][j], matrix[i][j - 1])\n",
    "                \n",
    "            elif j == 0:\n",
    "                dp[i][j] = min(matrix[i][j], matrix[i - 1][j])\n",
    "                \n",
    "            else:\n",
    "                \n",
    "                dp[i][j] = min(matrix[i][j], max(dp[i - 1][j], dp[i][j - 1]))\n",
    "                \n",
    "        \n",
    "    return dp[-1][-1]\n",
    "                      \n",
    "\n",
    "max_min_path([[5, 1], [4, 5]])    "
   ]
  },
  {
   "cell_type": "markdown",
   "metadata": {},
   "source": [
    "## Longest palindromic subsequence\n",
    "\n",
    "https://leetcode.com/problems/longest-palindromic-substring/ \n",
    "\n",
    "\n"
   ]
  },
  {
   "cell_type": "code",
   "execution_count": 215,
   "metadata": {},
   "outputs": [],
   "source": [
    "# slow solution, faster below\n",
    "def longestPalindrome(s):\n",
    "\n",
    "    matrix = [[0 for x in range(len(s))] for y in range(len(s))]\n",
    "    length_of_s = len(s)\n",
    "\n",
    "    \"\"\"case1: len of substring == 1 ... that's a palindrome...diagonal willbe True\"\"\"\n",
    "    maxLength = 1\n",
    "    for i in range(length_of_s):\n",
    "        matrix[i][i] = True\n",
    "\n",
    "    \"\"\"case2: len of substring == 2 ... check if it's a palindrome\"\"\"\n",
    "    start = 0\n",
    "    for i in range(length_of_s - 1):\n",
    "        if s[i]==s[i+1]: \n",
    "            matrix[i][i+1] = True\n",
    "            maxLength = 2\n",
    "            start = i\n",
    "\n",
    "    \"\"\"case3: len of substring from 3 to len(s) ... check if palindrome\"\"\" \n",
    "    for k in range(3, length_of_s+1):\n",
    "        i = 0 #fix starting index\n",
    "        while(i < length_of_s - k + 1): #i goes from 0 to len of substring i.e. k\n",
    "            j = i + k - 1 #fix ending index\n",
    "            if(matrix[i+1][j-1]==True and s[i]==s[j]): \n",
    "                #abcba... bcb is a Palindrome and a==a so 'abcba' is a Palindrome\n",
    "                matrix[i][j]=True\n",
    "                #update maxLength and start\n",
    "                if k>maxLength:\n",
    "                    maxLength = k\n",
    "                    start = i\n",
    "            i+=1\n",
    "\n",
    "    return s[start:start+maxLength]\n",
    "        "
   ]
  },
  {
   "cell_type": "code",
   "execution_count": 218,
   "metadata": {},
   "outputs": [],
   "source": [
    "# much faster solution\n",
    "def longestPalindrome(self, s):\n",
    "        res = \"\"\n",
    "        for i in range(len(s)):\n",
    "            # odd case, like \"aba\"\n",
    "            tmp = self.helper(s, i, i)\n",
    "            if len(tmp) > len(res):\n",
    "                res = tmp\n",
    "            # even case, like \"abba\"\n",
    "            tmp = self.helper(s, i, i+1)\n",
    "            if len(tmp) > len(res):\n",
    "                res = tmp\n",
    "        return res\n",
    " \n",
    "    # get the longest palindrome, l, r are the middle indexes   \n",
    "    # from inner to outer\n",
    "def helper(self, s, l, r):\n",
    "        while l >= 0 and r < len(s) and s[l] == s[r]:\n",
    "            l -= 1; r += 1\n",
    "        return s[l+1:r]"
   ]
  },
  {
   "cell_type": "markdown",
   "metadata": {},
   "source": [
    "## Bloomberg | Phone Screen | Min Steps to Generate Number\n",
    "https://leetcode.com/discuss/interview-question/406663/Bloomberg-or-Phone-Screen-or-Min-Steps-to-Generate-Number <br>\n",
    "Given an int n. You can use only 2 operations:\n",
    "<br>\n",
    "multiply by 2<br>\n",
    "integer division by 3 (e.g. 10 / 3 = 3)<br>\n",
    "Find the minimum number of steps required to generate n from 1.<br>\n",
    "\n",
    "Example 1:<br>\n",
    "<br>\n",
    "Input: 10\n",
    "Output: 6\n",
    "Explanation: 1 * 2 * 2 * 2 * 2 / 3 * 2\n",
    "6 steps required, as we have used 5 multiplications by 2, and one division by 3.\n",
    "Example 2:\n",
    "\n",
    "Input: 3\n",
    "Output: 7\n",
    "Explanation: 1 * 2 * 2 * 2 * 2 * 2 / 3 / 3\n",
    "7 steps required, as we have used 5 multiplications by 2 and 2 divisions by 3."
   ]
  },
  {
   "cell_type": "code",
   "execution_count": 251,
   "metadata": {},
   "outputs": [
    {
     "data": {
      "text/plain": [
       "inf"
      ]
     },
     "execution_count": 251,
     "metadata": {},
     "output_type": "execute_result"
    }
   ],
   "source": [
    "# BULLSHIT\n",
    "\n",
    "def minStepsToNum(num):\n",
    "    \n",
    "    visited = set()\n",
    "    minSteps = float('inf')\n",
    "    \n",
    "    def helper(n, steps, curr, seen, minsteps):\n",
    "        if n == curr:\n",
    "            minsteps = steps\n",
    "            return steps\n",
    "        \n",
    "        if curr == 0:\n",
    "            return float('inf')\n",
    "        \n",
    "        if minsteps > steps:\n",
    "            return float('inf')\n",
    "        \n",
    "        if curr in visited:\n",
    "            return float('inf')\n",
    "        \n",
    "        visited.add(curr)\n",
    "        return min(helper(num, steps+1, curr*2, visited, minSteps), helper(num, steps+1, curr//3, visited, minSteps))\n",
    "    \n",
    "    \n",
    "    return helper(num, 0, 1, visited, minSteps)\n",
    "    \n",
    "\n",
    "minStepsToNum(10)"
   ]
  },
  {
   "cell_type": "code",
   "execution_count": 244,
   "metadata": {},
   "outputs": [
    {
     "data": {
      "text/plain": [
       "7"
      ]
     },
     "execution_count": 244,
     "metadata": {},
     "output_type": "execute_result"
    }
   ],
   "source": [
    "def minStepsToNum(num):\n",
    "    \n",
    "    visited = set()\n",
    "    queue = []\n",
    "    queue.append((1, 0))\n",
    "    \n",
    "    while queue:\n",
    "        n, steps = queue.pop(0)\n",
    "        \n",
    "        if n == num:\n",
    "            return steps\n",
    "        \n",
    "        visited.add(n)\n",
    "        \n",
    "        if n*2 not in visited:\n",
    "            visited.add(n*2)\n",
    "            queue.append((n*2, steps+1))\n",
    "            \n",
    "            \n",
    "        if n//3 not in visited:\n",
    "            visited.add(n//3)\n",
    "            queue.append((n//3, steps+1))\n",
    "\n",
    "    \n",
    "    \n",
    "    return -1\n",
    "    \n",
    "\n",
    "minStepsToNum(3)"
   ]
  },
  {
   "cell_type": "markdown",
   "metadata": {},
   "source": [
    "## Minimum number of operation required to convert number x into y\n",
    "\n",
    "https://www.geeksforgeeks.org/minimum-number-operation-required-convert-number-x-y/\n",
    "\n",
    "Given a initial number x and two operations which are given below:\n",
    "\n",
    "1. Multiply number by 2.\n",
    "2. Subtract 1 from the number. \n",
    "\n",
    "<br>The task is to find out minimum number of operation required to convert number x into y using only above two operations. We can apply these operations any number of times."
   ]
  },
  {
   "cell_type": "code",
   "execution_count": 241,
   "metadata": {},
   "outputs": [
    {
     "data": {
      "text/plain": [
       "4"
      ]
     },
     "execution_count": 241,
     "metadata": {},
     "output_type": "execute_result"
    }
   ],
   "source": [
    "def convertXtoY(x, y):\n",
    "    \n",
    "    visited = set()\n",
    "     \n",
    "    queue = []\n",
    "    queue.append((x, 0)) #(number, steps)\n",
    "    \n",
    "    while queue:\n",
    "        num, steps = queue.pop(0)\n",
    "        \n",
    "        if num == y:\n",
    "            return steps\n",
    "        \n",
    "        visited.add(num)\n",
    "        \n",
    "        if num*2 not in visited:\n",
    "            visited.add(num*2)\n",
    "            queue.append((num*2, steps+1))\n",
    "            \n",
    "        if num-1 not in visited:\n",
    "            visited.add(num-1)\n",
    "            queue.append((num-1, steps+1))\n",
    "        \n",
    "    return -1\n",
    "            \n",
    "\n",
    "\n",
    "convertXtoY(6, 7)"
   ]
  },
  {
   "cell_type": "markdown",
   "metadata": {},
   "source": [
    "## Two sigma | OA | Detetect valid latitude and longtitude pairs\n",
    "\n",
    "https://i.imgur.com/pVhyxkI.png"
   ]
  },
  {
   "cell_type": "code",
   "execution_count": 266,
   "metadata": {},
   "outputs": [
    {
     "name": "stdout",
     "output_type": "stream",
     "text": [
      "['(90, 180)', '(+90, +180)', ' (90, 180)', '(90.0, 180.1)', '(85S, 95W)']\n",
      "['90', ' 180']\n",
      "['+90', ' +180']\n",
      "['90.0', ' 180.1']\n",
      "['85S', ' 95W']\n"
     ]
    },
    {
     "data": {
      "text/plain": [
       "['Valid', 'Valid', 'Invalid', 'Invalid', 'Invalid']"
      ]
     },
     "execution_count": 266,
     "metadata": {},
     "output_type": "execute_result"
    }
   ],
   "source": [
    "def validPairs(pairs):\n",
    "    \n",
    "    # RULES\n",
    "    # starts with ( and end with ) and , b/w x and Y\n",
    "    # no spaces between openning and closing brackets\n",
    "    # na space between X and comma\n",
    "    # one space between comma and Y\n",
    "    # no space between Y and )\n",
    "    # no leading zeroes\n",
    "    # x (-90, 90) y (-180, 180)\n",
    "    res = [None for _ in range(len(pairs))]\n",
    "    INVALID = 'Invalid'\n",
    "    VALID = 'Valid'\n",
    "    \n",
    "    pairs = list(pairs)\n",
    "    print(pairs)\n",
    "   \n",
    "    for idx, pair in enumerate(pairs):\n",
    "        if pair[0] != \"(\" or pair[-1] != \")\":\n",
    "            res[idx] = INVALID\n",
    "            continue\n",
    "\n",
    "        pair = pair[1:-1] #strip brackets    \n",
    "        pair = pair.split(',')\n",
    "        print(pair)\n",
    "        x = pair[0]\n",
    "        y = pair[1]\n",
    "        \n",
    "        if \" \" in x:\n",
    "            res[idx] = INVALID\n",
    "            continue\n",
    "          \n",
    "        sign = 1\n",
    "        if x[0] in (\"+\", \"-\"):\n",
    "            if x[0] == '-':\n",
    "                sing = -1\n",
    "            x = x[1:]\n",
    "        \n",
    "        if not x.isdigit():\n",
    "            res[idx] = INVALID\n",
    "            continue\n",
    "        \n",
    "        xnum = int(x)\n",
    "            \n",
    "        if not(-90 <= xnum*sign <= 90):\n",
    "            res[idx] = INVALID\n",
    "            continue\n",
    "            \n",
    "        if \" \" == y[-1] or \" \" != y[0]:\n",
    "            res[idx] = INVALID\n",
    "            continue\n",
    "            \n",
    "        y = y.strip()\n",
    "        \n",
    "        sign = 1\n",
    "        if y[0] in (\"+\", \"-\"):\n",
    "            if y[0] == '-':\n",
    "                sing = -1\n",
    "            y = y[1:]\n",
    "            \n",
    "        if not y.isdigit():\n",
    "            res[idx] = INVALID\n",
    "            continue\n",
    "        \n",
    "        ynum = int(y)\n",
    "            \n",
    "        if not(-180 <= xnum*sign <= 180):\n",
    "            res[idx] = INVALID\n",
    "            continue\n",
    "            \n",
    "        else:\n",
    "            res[idx] = VALID\n",
    "            \n",
    "    return res\n",
    "\n",
    "validPairs(['(90, 180)', '(+90, +180)', ' (90, 180)', '(90.0, 180.1)', '(85S, 95W)'])"
   ]
  },
  {
   "cell_type": "markdown",
   "metadata": {},
   "source": [
    "## Two Sigma | OA | Football Scores\n",
    "\n",
    "https://i.imgur.com/SRFTTBc.png"
   ]
  },
  {
   "cell_type": "code",
   "execution_count": 274,
   "metadata": {},
   "outputs": [
    {
     "name": "stdout",
     "output_type": "stream",
     "text": [
      "defaultdict(<class 'list'>, {2: 2, 4: 3})\n"
     ]
    },
    {
     "data": {
      "text/plain": [
       "[2, 4]"
      ]
     },
     "execution_count": 274,
     "metadata": {},
     "output_type": "execute_result"
    }
   ],
   "source": [
    "import collections\n",
    "def footballScores(A, B):\n",
    "    \n",
    "    A.sort()\n",
    "    b_scores = collections.defaultdict(list)\n",
    "    \n",
    "    for i in B:\n",
    "        b_scores[i] = 0\n",
    "        \n",
    "    \n",
    "    for key, val in b_scores.items():\n",
    "        for i in A:\n",
    "            if i <= key:\n",
    "                b_scores[key] += 1\n",
    "    \n",
    "    \n",
    "    return list(b_scores.keys())\n",
    "\n",
    "\n",
    "footballScores([1,2,3], [2,4])"
   ]
  },
  {
   "cell_type": "code",
   "execution_count": 276,
   "metadata": {},
   "outputs": [
    {
     "data": {
      "text/plain": [
       "[2, 3]"
      ]
     },
     "execution_count": 276,
     "metadata": {},
     "output_type": "execute_result"
    }
   ],
   "source": [
    "import collections\n",
    "import bisect\n",
    "def footballScores(A, B):\n",
    "    \n",
    "    A.sort()\n",
    "    res = []\n",
    "    \n",
    "    for n in B:\n",
    "        res.append(bisect.bisect_right(A, n))\n",
    "    \n",
    "    return res\n",
    "\n",
    "\n",
    "footballScores([1,2,2,3], [2,4])"
   ]
  },
  {
   "cell_type": "code",
   "execution_count": 283,
   "metadata": {},
   "outputs": [
    {
     "data": {
      "text/plain": [
       "4"
      ]
     },
     "execution_count": 283,
     "metadata": {},
     "output_type": "execute_result"
    }
   ],
   "source": [
    "bisect.bisect_left([1,2,3,4,5,5,5,6,7], 5)"
   ]
  },
  {
   "cell_type": "markdown",
   "metadata": {},
   "source": [
    "## Two Sigma | OA | Fun with palindromes\n",
    "\n",
    "https://i.imgur.com/cGX3ZJb.png"
   ]
  },
  {
   "cell_type": "code",
   "execution_count": 331,
   "metadata": {},
   "outputs": [
    {
     "name": "stdout",
     "output_type": "stream",
     "text": [
      "4\n",
      "15\n",
      "25\n"
     ]
    }
   ],
   "source": [
    "def funWithPalindromes(s):\n",
    "    max_product = 1\n",
    "    max_from_right = [1] * (len(s)+1)\n",
    "    max_from_right[-1] = 0\n",
    "    dp = [[0] * len(s) for i in s]\n",
    "    for i in range(len(s)-1, -1, -1):\n",
    "        dp[i][i] = 1\n",
    "        for j in range(i+1, len(s)):\n",
    "            if s[i] == s[j]:\n",
    "                dp[i][j] = dp[i+1][j-1] + 2\n",
    "                max_product = max(max_product, dp[i][j] * max_from_right[j+1])\n",
    "            else:\n",
    "                dp[i][j] = max(dp[i+1][j], dp[i][j-1])\n",
    "            max_from_right[i] = max(max_from_right[i], dp[i][j], max_from_right[i+1])\n",
    "    return max_product\n",
    "\n",
    "print(funWithPalindromes(\"attract\")) # 4 \n",
    "print(funWithPalindromes(\"acdapmpomp\")) # 15\n",
    "print(funWithPalindromes(\"axbawbaseksqke\")) # 25"
   ]
  },
  {
   "cell_type": "code",
   "execution_count": null,
   "metadata": {},
   "outputs": [],
   "source": []
  },
  {
   "cell_type": "markdown",
   "metadata": {},
   "source": [
    "## Two Sigma | OA | Missing words\n",
    "\n",
    "https://i.imgur.com/O9Rvy4Y.png"
   ]
  },
  {
   "cell_type": "code",
   "execution_count": 312,
   "metadata": {},
   "outputs": [
    {
     "name": "stdout",
     "output_type": "stream",
     "text": [
      "['I', 'eating', 'do', 'you', 'like', 'cheese']\n",
      "['I', 'soft', 'and', 'hard', 'cheese']\n"
     ]
    },
    {
     "data": {
      "text/plain": [
       "'I soft and hard cheese'"
      ]
     },
     "execution_count": 312,
     "metadata": {},
     "output_type": "execute_result"
    }
   ],
   "source": [
    "def missingWords(s, t):\n",
    "    s = s.split(\" \")\n",
    "    t = t.split(\" \")\n",
    "    remove = set()\n",
    "    \n",
    "    for word in t:\n",
    "        idx = s.index(word)\n",
    "        remove.add(idx)\n",
    "        \n",
    "    for i in remove:\n",
    "        s[i] = \"0\"\n",
    "        \n",
    "    for i, word in enumerate(s):\n",
    "        if word == '0':\n",
    "            del s[i]\n",
    "        \n",
    "#     s = \" \".join(s)\n",
    "#     s = s.replace(\" 0\", \"\")\n",
    "        \n",
    "    return \" \".join(s)\n",
    "\n",
    "\n",
    "def missingWords(s, t):\n",
    "  \n",
    "    s = s.split()\n",
    "    t = t.split()\n",
    "\n",
    "    stack = []\n",
    "    for word in reversed(t):\n",
    "        stack.append(word)\n",
    "\n",
    "    res = []\n",
    "    for idx, word in enumerate(s):\n",
    "        if stack and word == stack[-1]:\n",
    "            stack.pop()\n",
    "        else:\n",
    "            res.append(word)\n",
    "\n",
    "    return res\n",
    "    \n",
    "    \n",
    "\n",
    "missingWords(\"I like eating cheese do you like cheese\", \"like cheese\")\n",
    "missingWords(\"I like soft cheese and hard cheese yum\", \"like cheese yum\")"
   ]
  },
  {
   "cell_type": "code",
   "execution_count": 314,
   "metadata": {},
   "outputs": [
    {
     "name": "stdout",
     "output_type": "stream",
     "text": [
      "['G', 'Ge', 'Gee', 'Geek', 'Geeks', 'e', 'ee', 'eek', 'eeks', 'e', 'ek', 'eks', 'k', 'ks', 's']\n"
     ]
    }
   ],
   "source": [
    "# GET ALL SUBSTRINGS OF A STRING\n",
    "string = 'Geeks'\n",
    "n = len(string)\n",
    "\n",
    "res = [string[i:j] for i in range(n) for j in range(i+1, n+1)]\n",
    "\n",
    "print(res)"
   ]
  },
  {
   "cell_type": "code",
   "execution_count": null,
   "metadata": {},
   "outputs": [],
   "source": []
  },
  {
   "cell_type": "markdown",
   "metadata": {},
   "source": [
    "## Two Sigma | OA | Substrings\n",
    "\n",
    "https://i.imgur.com/qGIjerf.png"
   ]
  },
  {
   "cell_type": "code",
   "execution_count": 330,
   "metadata": {},
   "outputs": [
    {
     "name": "stdout",
     "output_type": "stream",
     "text": [
      "{0, 3, 4, 5}\n",
      "['ab', 'abc']\n"
     ]
    },
    {
     "data": {
      "text/plain": [
       "['ab', 'abc']"
      ]
     },
     "execution_count": 330,
     "metadata": {},
     "output_type": "execute_result"
    }
   ],
   "source": [
    "def substrings(s):\n",
    "    n = len(s)\n",
    "    substrings = [s[i:j] for i in range(n) for j in range(i+1, n+1)]\n",
    "    \n",
    "    substrings.sort()\n",
    "    \n",
    "    vowels = set(['a', 'e', 'i', 'o', 'u'])\n",
    "    \n",
    "    remove = set()\n",
    "    \n",
    "    for idx, i in enumerate(substrings):\n",
    "        if len(i) == 1:\n",
    "            remove.add(idx)\n",
    "        elif i[0] not in vowels:\n",
    "            remove.add(idx)\n",
    "        elif i[0] in vowels and i[-1] in vowels:\n",
    "            remove.add(idx)\n",
    "            \n",
    "    for idx, i in enumerate(substrings):\n",
    "        if idx in remove:\n",
    "            substrings[idx] = '0'\n",
    "            \n",
    "    res = [x for x in substrings if x != '0']\n",
    "\n",
    "    \n",
    "    return [res[0], res[-1]] if len(res) > 1 else [res[0]]\n",
    "    \n",
    "\n",
    "substrings('abc')"
   ]
  },
  {
   "cell_type": "markdown",
   "metadata": {},
   "source": [
    "## Remove all charactes from a string other than alphabet\n",
    "https://www.geeksforgeeks.org/remove-characters-alphabets-string/"
   ]
  },
  {
   "cell_type": "code",
   "execution_count": 16,
   "metadata": {},
   "outputs": [
    {
     "data": {
      "text/plain": [
       "'GeeksforGeeks'"
      ]
     },
     "execution_count": 16,
     "metadata": {},
     "output_type": "execute_result"
    }
   ],
   "source": [
    "def removeAllButAlphabet(arr):\n",
    "    j = 0\n",
    "    arr = list(arr)\n",
    "    for i in range(len(arr)):\n",
    "        if 'a' <= arr[i] <= 'z' or 'A' <= arr[i] <= 'Z':\n",
    "            arr[j] = arr[i]\n",
    "            j += 1\n",
    "    arr = \"\".join(arr)   \n",
    "    return arr[:j]\n",
    "\n",
    "removeAllButAlphabet(\"$Gee*k;s..fo, r'Ge^eks?\")"
   ]
  },
  {
   "cell_type": "markdown",
   "metadata": {},
   "source": [
    "## Remove characters from the first string which are present in the second string\n",
    "\n",
    "https://www.geeksforgeeks.org/remove-characters-from-the-first-string-which-are-present-in-the-second-string/"
   ]
  },
  {
   "cell_type": "code",
   "execution_count": 28,
   "metadata": {},
   "outputs": [
    {
     "data": {
      "text/plain": [
       "'geeforgee'"
      ]
     },
     "execution_count": 28,
     "metadata": {},
     "output_type": "execute_result"
    }
   ],
   "source": [
    "import collections\n",
    "def removechARSfroms1in2(s1, s2):\n",
    "    \n",
    "    dic = collections.Counter(s2)\n",
    "    s1 = list(s1)\n",
    "    j = 0\n",
    "    res = []\n",
    "    for i in range(len(s1)):\n",
    "        if s1[i] not in dic \n",
    "#         or dic[s1[i]] == 0:\n",
    "            res.append(s1[i])\n",
    "#         else:\n",
    "#             dic[s1[i]] -= 1d\n",
    "            \n",
    "            \n",
    "    return \"\".join(res)\n",
    "\n",
    "removechARSfroms1in2('geeksforgeeks', 'mask')"
   ]
  },
  {
   "cell_type": "code",
   "execution_count": 6,
   "metadata": {},
   "outputs": [
    {
     "name": "stdout",
     "output_type": "stream",
     "text": [
      "[10, 10, 30, 20, 20, 40, 50, 9, 13, 21, 7, 15, 17, 80, 90]\n"
     ]
    },
    {
     "data": {
      "text/plain": [
       "5"
      ]
     },
     "execution_count": 6,
     "metadata": {},
     "output_type": "execute_result"
    }
   ],
   "source": [
    "def minSwapsSegregate(arr):\n",
    "    \n",
    "    swaps = 0\n",
    "    n = len(arr)\n",
    "    \n",
    "    for i in range(n//2):\n",
    "        if arr[i] % 2 != 0:\n",
    "            for j in range(n//2, n):\n",
    "                if arr[j] % 2 == 0:\n",
    "                    arr[i], arr[j] = arr[j], arr[i]\n",
    "                    swaps += 1\n",
    "                    break\n",
    "                else:\n",
    "                    continue\n",
    "        else:\n",
    "            continue\n",
    "    print(arr)\n",
    "    return swaps\n",
    "    \n",
    "    \n",
    "minSwapsSegregate([13, 10, 21, 20, 7, 15, 17, 9, 10, 30, 20, 40, 50, 80, 90])"
   ]
  },
  {
   "cell_type": "code",
   "execution_count": 49,
   "metadata": {},
   "outputs": [
    {
     "name": "stdout",
     "output_type": "stream",
     "text": [
      "left 1\n",
      "right 9\n",
      "left 2\n",
      "right 5\n",
      "left 3\n",
      "right 4\n",
      "[10, 40, 30, 20, 9, 7, 9, 3, 1, 1]\n"
     ]
    },
    {
     "data": {
      "text/plain": [
       "3"
      ]
     },
     "execution_count": 49,
     "metadata": {},
     "output_type": "execute_result"
    }
   ],
   "source": [
    "# IMPROBABLE\n",
    "def minSwapsSegregate1(arr):\n",
    "    \n",
    "    if len(arr) == 0 or len(arr) == 1:\n",
    "        return 0\n",
    "    \n",
    "    swaps = 0\n",
    "    n = len(arr)\n",
    "    \n",
    "    left = 0\n",
    "    right = n-1\n",
    "\n",
    "    \n",
    "    \n",
    "    while left < right:\n",
    "        while left < right and arr[left] % 2 == 0:\n",
    "            left += 1\n",
    "            \n",
    "        print('left', left)\n",
    "        \n",
    "        while left < right and arr[right] % 2 != 0:\n",
    "            right -= 1\n",
    "            \n",
    "        print('right', right)\n",
    "            \n",
    "        arr[left], arr[right] = arr[right], arr[left]\n",
    "        \n",
    "        swaps += 1\n",
    "        left += 1\n",
    "        right -= 1\n",
    "    \n",
    "    \n",
    "    \n",
    "            \n",
    "    print(arr)\n",
    "    return swaps\n",
    "\n",
    "minSwapsSegregate1([10,1,7,9,20,30, 9, 3, 1, 40])"
   ]
  },
  {
   "cell_type": "code",
   "execution_count": 50,
   "metadata": {},
   "outputs": [
    {
     "name": "stdout",
     "output_type": "stream",
     "text": [
      "combinations [[1, 2], [1, 3], [2, 2], [2, 3], [3, 2], [3, 3]]\n",
      "enemy {(1, 3), (2, 3), (3, 1)}\n",
      "animals 1 2\n",
      "unite 1 2\n",
      "parent [0, 2, 2, 3]\n",
      "animals 1 3\n",
      "animals 2 2\n",
      "animals 2 3\n",
      "animals 3 2\n",
      "animals 3 3\n",
      "parent [0, 2, 2, 3]\n",
      "[2, 2, 3]\n",
      "2\n"
     ]
    }
   ],
   "source": [
    "# IMPROBABLE\n",
    "def animalsEnemies(animals, enemies):\n",
    "    \n",
    "    enemy = set()\n",
    "    \n",
    "    for a, e in zip(animals, enemies):\n",
    "        enemy.add((a,e))\n",
    "        \n",
    "    n = len(animals)\n",
    "    k = 2\n",
    "    \n",
    "    combinations = []\n",
    "    def generateAllAnimalsCombinations(pos=1, curr=[]):\n",
    "        nonlocal combinations, k, n\n",
    "        if len(curr) == k:\n",
    "            combinations.append(curr[:])\n",
    "            \n",
    "        for i in range(pos, n+1):\n",
    "            curr.append(i)\n",
    "            generateAllAnimalsCombinations(pos+1, curr)\n",
    "            curr.pop()\n",
    "    \n",
    "    \n",
    "    generateAllAnimalsCombinations()\n",
    "    print('combinations', combinations)\n",
    "    print('enemy', enemy)\n",
    "    \n",
    "    parent = [i for i in range(n+1)]\n",
    "    \n",
    "    def find(x):\n",
    "        if parent[x] != x:\n",
    "            parent[x] = find(parent[x])\n",
    "        return parent[x]\n",
    "    \n",
    "    \n",
    "    def union(x, y):\n",
    "        px = find(x)\n",
    "        py = find(y)\n",
    "        \n",
    "        if px != py:\n",
    "            parent[px] = py\n",
    "    \n",
    "    \n",
    "    for a1, a2 in combinations:\n",
    "        print('animals', a1, a2)\n",
    "        if (a1, a2) not in enemy and (a2, a1) not in enemy and a1 != a2:\n",
    "            print('unite', a1, a2)\n",
    "            union(a1,a2)\n",
    "            print('parent', parent)\n",
    "            \n",
    "    print('parent', parent)\n",
    "    for i in range(1, n+1):\n",
    "        parent[i] = find(i)\n",
    "        \n",
    "    parent = parent[1:]\n",
    "    print(parent)\n",
    "    groups = len(set(parent))\n",
    "    print(groups)    \n",
    "\n",
    "\n",
    "animalsEnemies([1,2,3], [3,3,1])"
   ]
  },
  {
   "cell_type": "code",
   "execution_count": 13,
   "metadata": {},
   "outputs": [
    {
     "ename": "IndexError",
     "evalue": "list assignment index out of range",
     "output_type": "error",
     "traceback": [
      "\u001b[0;31m---------------------------------------------------------------------------\u001b[0m",
      "\u001b[0;31mIndexError\u001b[0m                                Traceback (most recent call last)",
      "\u001b[0;32m<ipython-input-13-2ad44d5e8b41>\u001b[0m in \u001b[0;36m<module>\u001b[0;34m\u001b[0m\n\u001b[1;32m     13\u001b[0m \u001b[0;34m\u001b[0m\u001b[0m\n\u001b[1;32m     14\u001b[0m         \u001b[0mw\u001b[0m \u001b[0;34m+=\u001b[0m \u001b[0;36m1\u001b[0m\u001b[0;34m\u001b[0m\u001b[0;34m\u001b[0m\u001b[0m\n\u001b[0;32m---> 15\u001b[0;31m         \u001b[0mpattern\u001b[0m\u001b[0;34m[\u001b[0m\u001b[0mw\u001b[0m\u001b[0;34m]\u001b[0m \u001b[0;34m=\u001b[0m \u001b[0mpattern\u001b[0m\u001b[0;34m[\u001b[0m\u001b[0mr\u001b[0m\u001b[0;34m]\u001b[0m\u001b[0;34m\u001b[0m\u001b[0;34m\u001b[0m\u001b[0m\n\u001b[0m\u001b[1;32m     16\u001b[0m         \u001b[0mw\u001b[0m \u001b[0;34m+=\u001b[0m \u001b[0;36m1\u001b[0m\u001b[0;34m\u001b[0m\u001b[0;34m\u001b[0m\u001b[0m\n\u001b[1;32m     17\u001b[0m         \u001b[0mr\u001b[0m \u001b[0;34m+=\u001b[0m \u001b[0;36m1\u001b[0m\u001b[0;34m\u001b[0m\u001b[0;34m\u001b[0m\u001b[0m\n",
      "\u001b[0;31mIndexError\u001b[0m: list assignment index out of range"
     ]
    }
   ],
   "source": [
    "        pattern = '*'\n",
    "        w = 0\n",
    "        r = 0\n",
    "        pattern = list(pattern)\n",
    "        while r < len(pattern):\n",
    "            if pattern[r] != '*':\n",
    "                pattern[w] = pattern[r]\n",
    "                r += 1\n",
    "                w += 1\n",
    "            else:\n",
    "                while r < len(pattern)-1 and pattern[r] == '*':\n",
    "                    r += 1\n",
    "                    \n",
    "                w += 1\n",
    "                pattern[w] = pattern[r]\n",
    "                w += 1\n",
    "                r += 1\n",
    "            \n",
    "        pattern = pattern[:w]\n",
    "        PATTERN = \"\".join(pattern)\n",
    "        print(pattern)"
   ]
  },
  {
   "cell_type": "code",
   "execution_count": null,
   "metadata": {},
   "outputs": [],
   "source": []
  }
 ],
 "metadata": {
  "kernelspec": {
   "display_name": "Python 3",
   "language": "python",
   "name": "python3"
  },
  "language_info": {
   "codemirror_mode": {
    "name": "ipython",
    "version": 3
   },
   "file_extension": ".py",
   "mimetype": "text/x-python",
   "name": "python",
   "nbconvert_exporter": "python",
   "pygments_lexer": "ipython3",
   "version": "3.7.5"
  }
 },
 "nbformat": 4,
 "nbformat_minor": 2
}
