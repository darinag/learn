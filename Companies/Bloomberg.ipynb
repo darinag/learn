{
 "cells": [
  {
   "cell_type": "markdown",
   "metadata": {},
   "source": [
    "## Bloomberg | Phone Screen | Candy Crush 1D\n",
    "\n",
    "https://www.geeksforgeeks.org/reduce-the-string-by-removing-k-consecutive-identical-characters/\n",
    "\n",
    "Given a string, reduce the string by removing 3 or more consecutive identical characters. You should greedily remove characters from left to right."
   ]
  },
  {
   "cell_type": "code",
   "execution_count": 28,
   "metadata": {},
   "outputs": [
    {
     "data": {
      "text/plain": [
       "'q'"
      ]
     },
     "execution_count": 28,
     "metadata": {},
     "output_type": "execute_result"
    }
   ],
   "source": [
    "def candycrush1(arr, k):\n",
    "    \n",
    "    res = \"\"\n",
    "    \n",
    "    i = 0\n",
    "    while i < len(arr):\n",
    "        if i+k <= len(arr) and arr[i]*3 == arr[i:i+k]:\n",
    "            i += k\n",
    "            \n",
    "        else:\n",
    "            res += arr[i]\n",
    "            i += 1\n",
    "        \n",
    "    # base case\n",
    "    if len(arr) == len(res):\n",
    "        return res\n",
    "    # recursion\n",
    "    else:\n",
    "        return candycrush1(res, k)\n",
    "        \n",
    "        \n",
    "#candyCrush1D('aabbccddeeedcba', 3)\n",
    "candycrush1('qddxxxd', 3)\n",
    "# candyCrush1D('aaabbbc', 3)"
   ]
  },
  {
   "cell_type": "code",
   "execution_count": 29,
   "metadata": {},
   "outputs": [
    {
     "data": {
      "text/plain": [
       "'gksforgks'"
      ]
     },
     "execution_count": 29,
     "metadata": {},
     "output_type": "execute_result"
    }
   ],
   "source": [
    "#blaaaah STACK\n",
    "\n",
    "def candyCrush1D(arr, k):\n",
    "    \n",
    "    stack = []\n",
    "    i = 0\n",
    "    while i < len(arr)-1:\n",
    "        cnt = 1\n",
    "        while arr[i] == arr[i+1]:\n",
    "            cnt += 1\n",
    "            i += 1\n",
    "            \n",
    "        if cnt < k:\n",
    "            if stack and stack[-1][1] == arr[i]:\n",
    "                if cnt + stack[-1][0] == k:\n",
    "                    stack.pop()\n",
    "                    \n",
    "                elif cnt + stack[-1][0] < k:\n",
    "                    stack[-1][0] = cnt + stack[-1][0]\n",
    "                    \n",
    "                elif cnt + stack[-1][0] > k:\n",
    "                    stack[-1][0] = (cnt + stack[-1][0])%k \n",
    "            else:\n",
    "                stack.append([cnt, arr[i]])\n",
    "            \n",
    "        elif cnt > k:\n",
    "            cnt %= k\n",
    "            stack.append((cnt, arr[i]))\n",
    "            \n",
    "        i += 1\n",
    "            \n",
    "        if i == len(arr)-1:\n",
    "            if stack and stack[-1][1] == arr[i]:\n",
    "                if 1 + stack[-1][0]  == k:\n",
    "                    stack.pop()\n",
    "                elif 1 + stack[-1][0] < k:\n",
    "                    stack[-1][0] = 1 + stack[-1][0]\n",
    "            else:\n",
    "                stack.append([1, arr[i]])\n",
    "\n",
    "    res = \"\"\n",
    "    while stack:\n",
    "        cnt, let = stack.pop()\n",
    "        res = cnt*let + res\n",
    "        \n",
    "    return res\n",
    "\n",
    "\n",
    "#candyCrush1D('aabbccddeeedcba', 3)\n",
    "#candyCrush1D('aabbccddeeedcba', 3)\n",
    "candyCrush1D('geeksforgeeks', 2)\n"
   ]
  },
  {
   "cell_type": "markdown",
   "metadata": {},
   "source": [
    "## Bloomberg | Phone Screen | Min Steps to Generate Number\n",
    "https://leetcode.com/discuss/interview-question/406663/Bloomberg-or-Phone-Screen-or-Min-Steps-to-Generate-Number <br>\n",
    "Given an int n. You can use only 2 operations:\n",
    "<br>\n",
    "multiply by 2<br>\n",
    "integer division by 3 (e.g. 10 / 3 = 3)<br>\n",
    "Find the minimum number of steps required to generate n from 1.<br>\n",
    "\n",
    "Example 1:<br>\n",
    "<br>\n",
    "Input: 10\n",
    "Output: 6\n",
    "Explanation: 1 * 2 * 2 * 2 * 2 / 3 * 2\n",
    "6 steps required, as we have used 5 multiplications by 2, and one division by 3.\n",
    "Example 2:\n",
    "\n",
    "Input: 3\n",
    "Output: 7\n",
    "Explanation: 1 * 2 * 2 * 2 * 2 * 2 / 3 / 3\n",
    "7 steps required, as we have used 5 multiplications by 2 and 2 divisions by 3."
   ]
  },
  {
   "cell_type": "code",
   "execution_count": 4,
   "metadata": {},
   "outputs": [
    {
     "data": {
      "text/plain": [
       "6"
      ]
     },
     "execution_count": 4,
     "metadata": {},
     "output_type": "execute_result"
    }
   ],
   "source": [
    "def generate(n):\n",
    "    \n",
    "    queue = []\n",
    "    queue.append([1, 0])\n",
    "    \n",
    "    visited = set()\n",
    "    \n",
    "    while queue:\n",
    "        num, steps = queue.pop(0)\n",
    "        \n",
    "        if num == n:\n",
    "            return steps\n",
    "        \n",
    "        prod = num*2\n",
    "        div = num//3\n",
    "        \n",
    "        if prod not in visited:\n",
    "            queue.append([prod, steps+1])\n",
    "            visited.add(prod)\n",
    "            \n",
    "        if div not in visited:\n",
    "            queue.append([div, steps+1])\n",
    "            visited.add(div)\n",
    "            \n",
    "    return -1\n",
    "\n",
    "\n",
    "generate(10)"
   ]
  },
  {
   "cell_type": "markdown",
   "metadata": {},
   "source": [
    "## Bloomberg | Remove array elements in given index ranges\n",
    "\n",
    "https://leetcode.com/discuss/interview-question/407179/Bloomberg-or-Remove-array-elements-in-given-index-ranges\n",
    "\n",
    "Example:\n",
    "\n",
    "Input: array = [-8, 3, -5, 1, 51, 56, 0, -5, 29, 43, 78, 75, 32, 76, 73, 76], ranges = [[5, 8], [10, 13], [3, 6], [20, 25]]\n",
    "Output: [-8, 3, -5, 29, 43, 76, 73, 76]"
   ]
  },
  {
   "cell_type": "code",
   "execution_count": 14,
   "metadata": {},
   "outputs": [
    {
     "name": "stdout",
     "output_type": "stream",
     "text": [
      "[-8, 3, -5, 29, 43, 76, 73, 76]\n"
     ]
    }
   ],
   "source": [
    "def removeElements(arr, ranges):\n",
    "    \n",
    "    start = 0\n",
    "    end = 1\n",
    "    ranges = sorted(ranges, key=lambda x: x[start])\n",
    "    \n",
    "    merged = [ranges[0]]\n",
    "    \n",
    "    for i in range(1, len(ranges)):\n",
    "        if ranges[i][start] < merged[-1][end]:\n",
    "            merged[-1][end] = max(ranges[i][end], merged[-1][end])\n",
    "        else:\n",
    "            merged.append(ranges[i])\n",
    "            \n",
    "    res = []\n",
    "    \n",
    "    for i, num in enumerate(arr):\n",
    "        for ran in ranges:\n",
    "            if ran[0] <= i < ran[1]:\n",
    "                break\n",
    "                \n",
    "        else:\n",
    "            res.append(num)\n",
    "            \n",
    "    print(res)\n",
    "\n",
    "\n",
    "removeElements([-8, 3, -5, 1, 51, 56, 0, -5, 29, 43, 78, 75, 32, 76, 73, 76], [[5, 8], [10, 13], [3, 6], [20, 25]])"
   ]
  },
  {
   "cell_type": "markdown",
   "metadata": {},
   "source": [
    "## Bloomberg | Phone Screen | Valid Parentheses\n",
    "\n",
    "https://leetcode.com/discuss/interview-question/382856/Bloomberg-or-Phone-Screen-or-Valid-Parentheses\n",
    "\n",
    "\n",
    "Example 1:\n",
    "\n",
    "Input: {'}'\n",
    "Output: false\n",
    "Explanation: Because we only have 1 quotation after bracket.\n",
    "Example 2:\n",
    "\n",
    "Input: {''}\n",
    "Output: true\n",
    "Explanation: Dont have any quotation after bracket.\n",
    "Example 3:\n",
    "\n",
    "Input: {''}''\n",
    "Output: true\n",
    "Explanation: number of quotation % 2 == 0\n",
    "My solution: Make a counter after the closed bracket and count it"
   ]
  },
  {
   "cell_type": "code",
   "execution_count": 26,
   "metadata": {},
   "outputs": [
    {
     "data": {
      "text/plain": [
       "False"
      ]
     },
     "execution_count": 26,
     "metadata": {},
     "output_type": "execute_result"
    }
   ],
   "source": [
    "def valid(arr):\n",
    "    \n",
    "    openn = \"{\"\n",
    "    close = '}'\n",
    "    quote = '*'\n",
    "    \n",
    "    stack = []\n",
    "    \n",
    "    for i in arr:\n",
    "        if i == close and not stack:\n",
    "            return False\n",
    "        \n",
    "        if i == close and stack:\n",
    "            cnt = 0\n",
    "            while stack and stack[-1] != openn:\n",
    "                popped = stack.pop()\n",
    "                if popped == quote:\n",
    "                    cnt += 1\n",
    "                    \n",
    "            if cnt % 2 == 1:\n",
    "                return False\n",
    "            \n",
    "            stack.pop() # pop the opening bracket\n",
    "        \n",
    "        if i == openn or i == quote:\n",
    "            stack.append(i)\n",
    "            \n",
    "    return len(stack) % 2 == 0\n",
    "            \n",
    "            \n",
    "\n",
    "\n",
    "valid('{}**')\n",
    "valid('{**}')\n",
    "valid('{*}*')"
   ]
  },
  {
   "cell_type": "markdown",
   "metadata": {},
   "source": [
    "## Bloomberg | Print all paths from a given source to a destination\n",
    "\n",
    "https://www.geeksforgeeks.org/find-paths-given-source-destination/"
   ]
  },
  {
   "cell_type": "code",
   "execution_count": 3,
   "metadata": {},
   "outputs": [
    {
     "name": "stdout",
     "output_type": "stream",
     "text": [
      "[[0, 2]]\n",
      "[[0, 2], [0, 1, 2]]\n",
      "ehhe [[0, 2], [0, 1, 2]]\n",
      "[[0, 2], [0, 1, 2]]\n",
      "[[6, 2], [0, 1, 2]]\n"
     ]
    }
   ],
   "source": [
    "import collections\n",
    "\n",
    "\n",
    "def construct_graph(arr):\n",
    "    graph = collections.defaultdict(list)\n",
    "    for s, d in arr:\n",
    "        graph[s].append(d)\n",
    "    return graph\n",
    "    \n",
    "arr = [[0,2], [0,1], [1,2]]\n",
    "\n",
    "g = construct_graph(arr)\n",
    "    \n",
    "\n",
    "def find_all_paths(graph, sr, dst, path=[], all_paths=[], visited=set()):\n",
    "    \n",
    "    visited.add(sr)\n",
    "    path.append(sr)\n",
    "    \n",
    "    for adj in graph[sr]:\n",
    "        \n",
    "        if adj in visited:\n",
    "            continue\n",
    "        \n",
    "        if adj == dst:\n",
    "            path.append(adj)\n",
    "            all_paths.append(path[:])\n",
    "            print(all_paths)\n",
    "            continue\n",
    "            \n",
    "        else:\n",
    "            popped = path.pop()\n",
    "        \n",
    "            visited.remove(sr)\n",
    "            find_all_paths(graph, adj, dst, path, all_paths, visited)\n",
    "            \n",
    "        print('ehhe', all_paths)\n",
    "            \n",
    "    return all_paths\n",
    "            \n",
    "\n",
    "a = find_all_paths(g, 0, 2)\n",
    "\n",
    "print(a)\n",
    "\n",
    "a[0][0] = 6\n",
    "print(a)"
   ]
  },
  {
   "cell_type": "code",
   "execution_count": 4,
   "metadata": {},
   "outputs": [
    {
     "name": "stdout",
     "output_type": "stream",
     "text": [
      "9699690\n"
     ]
    }
   ],
   "source": [
    "# Python3 Program to find product \n",
    "# of prime numbers between 1 to n \n",
    "  \n",
    "# Returns product of primes  \n",
    "# in range from 1 to n. \n",
    "def ProdOfPrimes(n): \n",
    "  \n",
    "    # Array to store prime numbers \n",
    "    prime = [True for i in range(n + 1)] \n",
    "  \n",
    "    # Create a boolean array \"prime[0..n]\" \n",
    "    # and initialize all entries it as true. \n",
    "    # A value in prime[i] will finally be \n",
    "    # false if i is Not a prime, else true. \n",
    "    p = 2\n",
    "    while(p * p <= n):  \n",
    "  \n",
    "        # If prime[p] is not changed,  \n",
    "        # then it is a prime \n",
    "        if (prime[p] == True):  \n",
    "  \n",
    "            # Update all multiples of p \n",
    "            i = p * 2\n",
    "            while(i <= n): \n",
    "                prime[i] = False\n",
    "                i += p \n",
    "        p += 1\n",
    "  \n",
    "    # Return product of primes  \n",
    "    # generated through Sieve. \n",
    "    prod = 1\n",
    "    for i in range(2, n+1): \n",
    "        if (prime[i]): \n",
    "            prod *= i \n",
    "    return prod \n",
    "  \n",
    "# Driver code \n",
    "n = 20\n",
    "print(ProdOfPrimes(n)) "
   ]
  },
  {
   "cell_type": "code",
   "execution_count": 8,
   "metadata": {},
   "outputs": [
    {
     "name": "stdout",
     "output_type": "stream",
     "text": [
      "[[0, 1, 1, 3, 3, 3, 3, 3, 3], [inf, 1, 1, 3, 3, 3, 3, 3, 3], [inf, inf, 2, 3, 3, 3, 3, 3, 3], [inf, inf, inf, 3, 3, 3, 3, 3, 3], [inf, inf, inf, inf, 4, 4, 6, 6, 6], [inf, inf, inf, inf, inf, 5, 6, 6, 6], [inf, inf, inf, inf, inf, inf, 6, 6, 6], [inf, inf, inf, inf, inf, inf, inf, 7, 7], [inf, inf, inf, inf, inf, inf, inf, inf, 8]]\n"
     ]
    }
   ],
   "source": [
    "# https://www.geeksforgeeks.org/range-minimum-query-for-static-array/\n",
    "\n",
    "arr = [7, 2, 3, 0, 5, 10, 3, 12, 18]\n",
    "\n",
    "table = [[float('inf') for _ in range(len(arr))] for _ in range(len(arr))]\n",
    "\n",
    "for i in range(len(arr)):\n",
    "    table[i][i] = i\n",
    "\n",
    "for i in range(len(arr)):\n",
    "    for j in range(i+1, len(arr)):\n",
    "        \n",
    "        # To find minimum of [0,4],  \n",
    "        # we compare minimum of  \n",
    "        # arr[lookup[0][3]] with arr[4]. \n",
    "        if arr[table[i][j-1]] < arr[j]:\n",
    "            table[i][j] = table[i][j-1]\n",
    "        else:\n",
    "            table[i][j] = j\n",
    "            \n",
    "\n",
    "print(table)"
   ]
  },
  {
   "cell_type": "code",
   "execution_count": 27,
   "metadata": {},
   "outputs": [
    {
     "data": {
      "text/plain": [
       "True"
      ]
     },
     "execution_count": 27,
     "metadata": {},
     "output_type": "execute_result"
    }
   ],
   "source": [
    "# Remove all the characters ‘a’ in the string.\n",
    "\n",
    "def removeAs(s):\n",
    "    i, j = 0, 0\n",
    "    \n",
    "    s = list(s)\n",
    "\n",
    "    while j < len(s):\n",
    "        if s[j] != 'a':\n",
    "            s[i] = s[j]\n",
    "            i += 1\n",
    "            j += 1\n",
    "            \n",
    "        else:\n",
    "            while j < len(s)-1 and s[j] == 'a':\n",
    "                j += 1\n",
    "            s[i] = s[j]\n",
    "            i += 1\n",
    "            j += 1\n",
    "            \n",
    "    s = s[:i-1]\n",
    "    s = \"\".join(s)\n",
    "    return s == s.replace('a', '')\n",
    "            \n",
    "\n",
    "\n",
    "removeAs('anbananahahaaaaahajakaaba')"
   ]
  },
  {
   "cell_type": "code",
   "execution_count": 42,
   "metadata": {},
   "outputs": [
    {
     "data": {
      "text/plain": [
       "['d', 'a', 'b', 'e', 'e', 'j']"
      ]
     },
     "execution_count": 42,
     "metadata": {},
     "output_type": "execute_result"
    }
   ],
   "source": [
    "# https://www.geeksforgeeks.org/urlify-given-string-replace-spaces/\n",
    "\n",
    "def replaceWith3(s, toBeReplaced, replacable):\n",
    "    original_len = len(s)\n",
    "    toBeReplaced_len = len(toBeReplaced)\n",
    "    replacable_len = len(replacable)\n",
    "    \n",
    "    toAdd = replacable_len - toBeReplaced_len\n",
    "    \n",
    "    cnt = s.count(toBeReplaced)\n",
    "    \n",
    "    extra_len = cnt * toAdd\n",
    "    \n",
    "    s = list(s)\n",
    "    s.extend(\" \"*extra_len)\n",
    "    \n",
    "    j = len(s) - 1\n",
    "    i = original_len - 1\n",
    "    \n",
    "    while i >= 0:\n",
    "        if s[i] != 'b':\n",
    "            s[j] = s[i]\n",
    "            i -= 1\n",
    "            j -= 1\n",
    "            \n",
    "        else:\n",
    "            s[j] = 'e'\n",
    "            s[j-1] = 'e'\n",
    "            s[j-2] = 'b'\n",
    "            j -= 3\n",
    "            i -= 1\n",
    "    \n",
    "    return s\n",
    "\n",
    "\n",
    "replaceWith3('dabj', 'b', 'bee')"
   ]
  },
  {
   "cell_type": "code",
   "execution_count": null,
   "metadata": {},
   "outputs": [],
   "source": []
  },
  {
   "cell_type": "code",
   "execution_count": null,
   "metadata": {},
   "outputs": [],
   "source": []
  },
  {
   "cell_type": "markdown",
   "metadata": {},
   "source": [
    "# I DONT GET IT\n",
    "\n",
    "## Bloomberg | Onsite | Kth missing element in a sorted array\n",
    "\n",
    "https://leetcode.com/discuss/interview-question/407396/Bloomberg-or-Onsite-or-Kth-missing-element-in-a-sorted-array\n",
    "https://www.geeksforgeeks.org/k-th-missing-element-in-sorted-array/\n",
    "\n",
    "Given an increasing sequence a[], we need to find the K-th missing contiguous element in the increasing sequence which is not present in the sequence. If no k-th missing element is there output -1.\n",
    "\n",
    "Input : a[] = {2, 3, 5, 9, 10};   \n",
    "        k = 1;\n",
    "Output : 4\n",
    "Explanation: Missing Element in the increasing \n",
    "sequence are {4, 6, 7, 8}. So k-th missing element\n",
    "is 4\n",
    "\n",
    "Input : a[] = {2, 3, 5, 9, 10, 11, 12};       \n",
    "        k = 4;\n",
    "Output : 8\n",
    "Explanation: missing element in the increasing \n",
    "sequence are {4, 6, 7, 8}  so k-th missing \n",
    "element is 8"
   ]
  },
  {
   "cell_type": "code",
   "execution_count": null,
   "metadata": {},
   "outputs": [],
   "source": []
  },
  {
   "cell_type": "code",
   "execution_count": 2,
   "metadata": {},
   "outputs": [
    {
     "data": {
      "text/plain": [
       "-1"
      ]
     },
     "execution_count": 2,
     "metadata": {},
     "output_type": "execute_result"
    }
   ],
   "source": [
    "# bullshit\n",
    "def KthMissing(arr, k):\n",
    "    \n",
    "    diff = 0 \n",
    "    found = 0\n",
    "    ans = 0\n",
    "    cnt = k\n",
    "    \n",
    "    for i in range(len(arr)-1):\n",
    "        if arr[i] - arr[i+1] == 0: #consequtive numbers\n",
    "            continue\n",
    "            \n",
    "        diff = 0\n",
    "        diff += arr[i] - arr[i+1] - 1\n",
    "        \n",
    "        if diff >= cnt:\n",
    "            ans = arr[i] + cnt\n",
    "            found = 1\n",
    "            break\n",
    "            \n",
    "        else:\n",
    "            cnt -= diff\n",
    "            \n",
    "    if found: \n",
    "        return ans\n",
    "    else:\n",
    "        return -1\n",
    "\n",
    "\n",
    "KthMissing([2, 3, 5, 9, 10], 1)"
   ]
  },
  {
   "cell_type": "code",
   "execution_count": null,
   "metadata": {},
   "outputs": [],
   "source": []
  },
  {
   "cell_type": "code",
   "execution_count": 87,
   "metadata": {},
   "outputs": [
    {
     "data": {
      "text/plain": [
       "13"
      ]
     },
     "execution_count": 87,
     "metadata": {},
     "output_type": "execute_result"
    }
   ],
   "source": [
    "def sharePurchases(purchases):\n",
    "    \n",
    "    if len(purchases) < 3:\n",
    "        return 0\n",
    "    \n",
    "    n = len(purchases)\n",
    "    \n",
    "    periods = 0\n",
    "    \n",
    "    counts = [0 for i in range(26)]\n",
    "    \n",
    "    def checkIfInvestedInABC(counts):\n",
    "        if counts[0] > 0 and counts[1] > 0 and counts[2] > 0:\n",
    "            return True\n",
    "        return False\n",
    "        \n",
    "    s = 0\n",
    "    e = 1\n",
    "    \n",
    "    counts[abs(ord(purchases[s])-ord('A'))] += 1\n",
    "    \n",
    "    while s<=n-3 and e < n:\n",
    "        \n",
    "        counts[abs(ord(purchases[e])-ord('A'))] += 1\n",
    "\n",
    "        while checkIfInvestedInABC(counts):\n",
    "            periods += n-e\n",
    "            counts[abs(ord(purchases[s])-ord('A'))] -= 1\n",
    "            s += 1\n",
    "          \n",
    "        e += 1\n",
    "            \n",
    "    return periods\n",
    "            \n",
    "        \n",
    "\n",
    "sharePurchases('ABBCZBAC')    "
   ]
  },
  {
   "cell_type": "code",
   "execution_count": 103,
   "metadata": {},
   "outputs": [
    {
     "name": "stdout",
     "output_type": "stream",
     "text": [
      "{3: 0, 5: 1, 4: 2, 6: 3, 2: 4, 7: 5, 9: 6, 8: 7, 0: 8}\n",
      "[(4, ['332', '32']), (668, ['990'])]\n"
     ]
    },
    {
     "data": {
      "text/plain": [
       "['332', '32', '990']"
      ]
     },
     "execution_count": 103,
     "metadata": {},
     "output_type": "execute_result"
    }
   ],
   "source": [
    "import collections\n",
    "def strangeSorting(mapping, nums):\n",
    "    num_idx = {num:idx for idx, num in enumerate(mapping)}\n",
    "    \n",
    "    print(num_idx)\n",
    "    \n",
    "    map_to_num = collections.defaultdict(list)\n",
    "    \n",
    "    for num in nums:\n",
    "        m = 0\n",
    "        for i in num:\n",
    "            m = 10*m + num_idx[int(i)]\n",
    "        map_to_num[m].append(num)\n",
    "        \n",
    "    sorted_map = sorted(map_to_num.items())\n",
    "    print(sorted_map)\n",
    "    \n",
    "    res = []\n",
    "    for k, val in sorted_map:\n",
    "        for v in val:\n",
    "            res.append(v)\n",
    "        \n",
    "    return res\n",
    "    \n",
    "strangeSorting([3,5,4,6,2,7,9,8,0], ['990', '332', '32'])   "
   ]
  },
  {
   "cell_type": "code",
   "execution_count": 106,
   "metadata": {},
   "outputs": [],
   "source": [
    "import collections\n",
    "\n",
    "dic = collections.OrderedDict()\n",
    "\n",
    "dic."
   ]
  },
  {
   "cell_type": "code",
   "execution_count": 107,
   "metadata": {},
   "outputs": [
    {
     "name": "stdout",
     "output_type": "stream",
     "text": [
      "4521874976\n",
      "4521875136\n",
      "5\n",
      "4558896072\n",
      "4558896072\n",
      "[10]\n"
     ]
    }
   ],
   "source": [
    "x = 5\n",
    "print(id(x))\n",
    "def f(x):\n",
    "    x = 10\n",
    "    print(id(x))\n",
    "f(x)\n",
    "print(x)\n",
    "\n",
    "\n",
    "x = [5]\n",
    "print(id(x))\n",
    "def f(x):\n",
    "    x[0] = 10\n",
    "    print(id(x))\n",
    "f(x)\n",
    "print(x)"
   ]
  },
  {
   "cell_type": "markdown",
   "metadata": {},
   "source": [
    "Given a large string (a book) and a list of words (unique words), print all occurences where all the words appear consecutively in the string. (the order does not matter, but need to be all from the list and having no other words between them). Example: INPUT: string: \"This is a test is. other a\" list: [\"is\", \"a\", \"test\"] OUTPUT: 1,2"
   ]
  },
  {
   "cell_type": "code",
   "execution_count": 125,
   "metadata": {},
   "outputs": [
    {
     "name": "stdout",
     "output_type": "stream",
     "text": [
      "['this', 'is', 'a', 'test', 'is.']\n",
      "{'is', 'a'}\n"
     ]
    }
   ],
   "source": [
    "def solution(book, words):\n",
    "    \n",
    "    words = set(words)\n",
    "    n = len(words)\n",
    "    \n",
    "    current = set()\n",
    "    \n",
    "    i = 0\n",
    " \n",
    "    book = book.split(\" \")\n",
    "    book = [x.lower() for x in book]\n",
    "    print(book)\n",
    "    while i <= r:\n",
    "        if book[i] in words:\n",
    "            current.add(book[i])\n",
    "        i += 1\n",
    "    \n",
    "    res=[]\n",
    "    if set(curr) == n:\n",
    "        res.append(0)\n",
    "    \n",
    "    l = 0\n",
    "    r = n-1\n",
    "    \n",
    "    while r < len(book):\n",
    "        \n",
    "        curr.remove(book[l])\n",
    "        l += 1\n",
    "        \n",
    "        r += 1\n",
    "        curr.add(book[r])\n",
    "        \n",
    "        if len(curr) == n:\n",
    "            res.append(l)\n",
    "\n",
    "\n",
    "\n",
    "solution(\"This is a test is.\", [\"is\", \"a\", \"test\"])"
   ]
  },
  {
   "cell_type": "code",
   "execution_count": 133,
   "metadata": {},
   "outputs": [
    {
     "name": "stdout",
     "output_type": "stream",
     "text": [
      "{'is': 0, 'a': 0, 'test': 0}\n",
      "['this', 'is', 'a', 'test', 'is']\n",
      "{'is': 1, 'a': 1, 'test': 0}\n",
      "test\n",
      "is\n"
     ]
    },
    {
     "data": {
      "text/plain": [
       "[1, 2]"
      ]
     },
     "execution_count": 133,
     "metadata": {},
     "output_type": "execute_result"
    }
   ],
   "source": [
    "import collections\n",
    "def solution(book, words):\n",
    "    \n",
    "    words = {word:0 for word in words}\n",
    "    print(words)\n",
    "    n = len(words)\n",
    "    \n",
    "    i = 0\n",
    "    l = 0\n",
    "    r = n-1\n",
    " \n",
    "    book = book.split(\" \")\n",
    "    book = [x.lower() for x in book]\n",
    "    print(book)\n",
    "    \n",
    "    while i <= r:\n",
    "        if book[i] in words:\n",
    "            words[book[i]] += 1\n",
    "        i += 1\n",
    "        \n",
    "    print(words)\n",
    "    \n",
    "    res=[]\n",
    "    if all(words.values()) == 1:\n",
    "        res.append(l)\n",
    "        \n",
    "    \n",
    "    while r < len(book)-1:\n",
    "        if book[l] in words:\n",
    "            words[book[l]] -= 1\n",
    "            \n",
    "        l += 1\n",
    "        \n",
    "        r += 1\n",
    "\n",
    "        if book[r] in words:\n",
    "            words[book[r]] += 1\n",
    "            \n",
    "        if all(words.values()) == 1:\n",
    "            res.append(l)\n",
    "        \n",
    "    return res\n",
    "\n",
    "solution(\"This is a test is\", [\"is\", \"a\", \"test\"])"
   ]
  },
  {
   "cell_type": "code",
   "execution_count": 28,
   "metadata": {},
   "outputs": [
    {
     "name": "stdout",
     "output_type": "stream",
     "text": [
      "s bloombergisfun\n",
      "dp [False, False, False, False, False, False, False, False, False, False, False, False, False, True]\n",
      " \n",
      "b b\n",
      "bl bl\n",
      "blo blo\n",
      "bloo bloo\n",
      "bloom bloom\n",
      "bloomb bloomb\n",
      "bloombe bloombe\n",
      "bloomber bloomber\n",
      "bloomberg bloomberg\n",
      "s isfun\n",
      "dp [False, False, False, False, False, False, False, False, False, False, False, False, False, True]\n",
      " \n",
      "i i\n",
      "is is\n",
      "s fun\n",
      "dp [False, False, False, False, False, False, False, False, False, False, False, False, False, True]\n",
      " \n",
      "f f\n",
      "fu fu\n",
      "isf isf\n",
      "isfu isfu\n",
      "bloombergi bloombergi\n",
      "bloombergis bloombergis\n",
      "bloombergisf bloombergisf\n",
      "bloombergisfu bloombergisfu\n",
      "[False, False, False, False, False, False, False, False, False, False, False, False, False, True]\n"
     ]
    },
    {
     "data": {
      "text/plain": [
       "'bloombergisfun'"
      ]
     },
     "execution_count": 28,
     "metadata": {},
     "output_type": "execute_result"
    }
   ],
   "source": [
    "# https://www.geeksforgeeks.org/word-break-problem-dp-32/\n",
    "def makeSentence(s, dic):\n",
    "    \n",
    "    dp = [False for _ in range(len(s))]\n",
    "    \n",
    "    dic = set(dic)\n",
    "    \n",
    "    dp[-1] = True\n",
    "    \n",
    "    def helper(dp, s, dic):\n",
    "        print(\"s\", s)\n",
    "        print('dp', dp)\n",
    "        \n",
    "        if len(s) == 0:\n",
    "            return True\n",
    "        \n",
    "        for end in range(len(s)):\n",
    "            print(s[:end], s[:end])\n",
    "            if (s[:end] in dic) and helper(dp, s[end:], dic):\n",
    "                return True\n",
    "        \n",
    "            \n",
    "        return False\n",
    "    \n",
    "        \n",
    "    helper(dp, s, dic)\n",
    "    start = 0\n",
    "    res = []\n",
    "    print(dp)\n",
    "    for i in range(len(dp)):\n",
    "        if dp[i]:\n",
    "            res.append(s[start:i+1])\n",
    "            start = i+1\n",
    "    \n",
    "    return \" \".join(res)\n",
    "\n",
    "\n",
    "\n",
    "makeSentence('bloombergisfun', ['bloomberg', 'is', 'fun'])"
   ]
  },
  {
   "cell_type": "code",
   "execution_count": null,
   "metadata": {},
   "outputs": [],
   "source": []
  },
  {
   "cell_type": "code",
   "execution_count": null,
   "metadata": {},
   "outputs": [],
   "source": []
  },
  {
   "cell_type": "code",
   "execution_count": null,
   "metadata": {},
   "outputs": [],
   "source": []
  }
 ],
 "metadata": {
  "kernelspec": {
   "display_name": "Python 3",
   "language": "python",
   "name": "python3"
  },
  "language_info": {
   "codemirror_mode": {
    "name": "ipython",
    "version": 3
   },
   "file_extension": ".py",
   "mimetype": "text/x-python",
   "name": "python",
   "nbconvert_exporter": "python",
   "pygments_lexer": "ipython3",
   "version": "3.7.5"
  }
 },
 "nbformat": 4,
 "nbformat_minor": 2
}
