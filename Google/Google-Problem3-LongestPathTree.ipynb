{
 "cells": [
  {
   "cell_type": "code",
   "execution_count": 75,
   "metadata": {},
   "outputs": [],
   "source": [
    "# Definition for a tree node.\n",
    "class TreeNode:\n",
    "    def __init__(self, x):\n",
    "        self.val = x\n",
    "        self.left = None\n",
    "        self.right = None\n",
    "             \n",
    "max_len = 0\n",
    "\n",
    "def longestConsecutivePath(root):\n",
    "    global max_len \n",
    "    dfs(root)\n",
    "    return max_len\n",
    "  \n",
    "def dfs(p):\n",
    "    global max_len \n",
    "    length = 0\n",
    "    \n",
    "    if p is None:\n",
    "        return 0\n",
    "    \n",
    "    L = dfs(p.left) + 1\n",
    "    R = dfs(p.right) + 1\n",
    "    \n",
    "    if p.left != None and p.val + 1 != p.left.val:\n",
    "        L = 1\n",
    "        \n",
    "    if p.right != None and p.val + 1 != p.right.val:\n",
    "        R = 1\n",
    "        \n",
    "    length = max(L, R)\n",
    "    max_len = max(max_len, length)\n",
    "    return length\n",
    "        "
   ]
  },
  {
   "cell_type": "code",
   "execution_count": 43,
   "metadata": {},
   "outputs": [],
   "source": [
    "root = TreeNode(1)\n",
    "root.left = TreeNode(2)\n",
    "root.right = TreeNode(3)\n",
    "root.left.left = TreeNode(4)\n",
    "result = longestConsecutivePath(root)\n",
    "\n",
    "assert result == 2, \"ERROR\""
   ]
  },
  {
   "cell_type": "code",
   "execution_count": 44,
   "metadata": {},
   "outputs": [],
   "source": [
    "root = TreeNode(5)\n",
    "root.left = TreeNode(6)\n",
    "root.right = TreeNode(7)\n",
    "root.right.left = TreeNode(8)\n",
    "root.right.left.left = TreeNode(9)\n",
    "root.right.left.left.left = TreeNode(15)\n",
    "root.right.left.left.right = TreeNode(10)\n",
    "result = longestConsecutivePath(root)\n",
    "assert result == 4, \"ERROR\""
   ]
  },
  {
   "cell_type": "code",
   "execution_count": 71,
   "metadata": {},
   "outputs": [],
   "source": [
    "root = TreeNode(1)\n",
    "root.left = TreeNode(3)\n",
    "root.right = TreeNode(4)\n",
    "root.left.left = TreeNode(6)\n",
    "result = longestConsecutivePath(root)\n",
    "assert result == 1, \"ERROR\"\n"
   ]
  },
  {
   "cell_type": "code",
   "execution_count": 72,
   "metadata": {},
   "outputs": [
    {
     "name": "stdout",
     "output_type": "stream",
     "text": [
      "3\n"
     ]
    }
   ],
   "source": [
    "root = TreeNode(1)\n",
    "root.right = TreeNode(3)\n",
    "root.right.left = TreeNode(2)\n",
    "root.right.right = TreeNode(4)\n",
    "root.right.right.right = TreeNode(5)\n",
    "result = longestConsecutivePath(root)\n",
    "assert result == 3, \"ERROR\"\n"
   ]
  },
  {
   "cell_type": "code",
   "execution_count": 77,
   "metadata": {},
   "outputs": [],
   "source": [
    "root = TreeNode(2)\n",
    "root.right = TreeNode(3)\n",
    "root.right.left = TreeNode(2)\n",
    "root.right.left.left = TreeNode(1)\n",
    "result = longestConsecutivePath(root)\n",
    "assert result == 2, \"ERROR\"\n"
   ]
  },
  {
   "cell_type": "code",
   "execution_count": 60,
   "metadata": {},
   "outputs": [
    {
     "name": "stdout",
     "output_type": "stream",
     "text": [
      "1\n"
     ]
    }
   ],
   "source": [
    "root = TreeNode(4)\n",
    "result = longestConsecutivePath(root)\n",
    "assert result == 1, \"ERROR\"\n"
   ]
  },
  {
   "cell_type": "code",
   "execution_count": 35,
   "metadata": {},
   "outputs": [
    {
     "ename": "SyntaxError",
     "evalue": "invalid syntax (<ipython-input-35-3fc8354e47e2>, line 1)",
     "output_type": "error",
     "traceback": [
      "\u001b[0;36m  File \u001b[0;32m\"<ipython-input-35-3fc8354e47e2>\"\u001b[0;36m, line \u001b[0;32m1\u001b[0m\n\u001b[0;31m    private int maxLength = 0;\u001b[0m\n\u001b[0m              ^\u001b[0m\n\u001b[0;31mSyntaxError\u001b[0m\u001b[0;31m:\u001b[0m invalid syntax\n"
     ]
    }
   ],
   "source": [
    "private int maxLength = 0;\n",
    "public int longestConsecutive(TreeNode root) {\n",
    "    dfs(root);\n",
    "    return maxLength;\n",
    "}\n",
    "\n",
    "private int dfs(TreeNode p) {\n",
    "    if (p == null) return 0;\n",
    "    int L = dfs(p.left) + 1;\n",
    "    int R = dfs(p.right) + 1;\n",
    "    if (p.left != null && p.val + 1 != p.left.val) {\n",
    "        L = 1;\n",
    "    }\n",
    "    if (p.right != null && p.val + 1 != p.right.val) {\n",
    "        R = 1;\n",
    "    }\n",
    "    int length = Math.max(L, R);\n",
    "    maxLength = Math.max(maxLength, length);\n",
    "    return length;\n",
    "}"
   ]
  },
  {
   "cell_type": "code",
   "execution_count": 36,
   "metadata": {},
   "outputs": [
    {
     "data": {
      "text/plain": [
       "4"
      ]
     },
     "execution_count": 36,
     "metadata": {},
     "output_type": "execute_result"
    }
   ],
   "source": [
    "result"
   ]
  },
  {
   "cell_type": "code",
   "execution_count": null,
   "metadata": {},
   "outputs": [],
   "source": []
  }
 ],
 "metadata": {
  "kernelspec": {
   "display_name": "Python 3",
   "language": "python",
   "name": "python3"
  },
  "language_info": {
   "codemirror_mode": {
    "name": "ipython",
    "version": 3
   },
   "file_extension": ".py",
   "mimetype": "text/x-python",
   "name": "python",
   "nbconvert_exporter": "python",
   "pygments_lexer": "ipython3",
   "version": "3.6.5"
  }
 },
 "nbformat": 4,
 "nbformat_minor": 2
}
