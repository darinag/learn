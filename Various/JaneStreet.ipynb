{
 "cells": [
  {
   "cell_type": "code",
   "execution_count": 62,
   "metadata": {},
   "outputs": [],
   "source": [
    "FILE_NAME = \"input.txt\"\n",
    "with open(FILE_NAME, \"r\") as f:\n",
    "    lines = f.readlines()"
   ]
  },
  {
   "cell_type": "code",
   "execution_count": 63,
   "metadata": {},
   "outputs": [],
   "source": [
    "for l in range(len(lines)):\n",
    "    lines[l] = lines[l].strip('\\n').split(' ')"
   ]
  },
  {
   "cell_type": "code",
   "execution_count": null,
   "metadata": {},
   "outputs": [],
   "source": []
  },
  {
   "cell_type": "code",
   "execution_count": 64,
   "metadata": {},
   "outputs": [],
   "source": [
    "\n",
    "number_obstacles = int(lines[0][0])\n",
    "number_commands = int(lines[0][1])\n",
    "obstacles_set = set([])\n",
    "\n",
    "for i in range(1, number_obstacles+1):\n",
    "    lines[i] = list(map(int, lines[i]))\n",
    "    obstacles_set.add(tuple(lines[i]))"
   ]
  },
  {
   "cell_type": "code",
   "execution_count": 65,
   "metadata": {},
   "outputs": [
    {
     "data": {
      "text/plain": [
       "{(-368, 469),\n",
       " (-347, 406),\n",
       " (-318, 416),\n",
       " (-316, 354),\n",
       " (-255, 431),\n",
       " (-239, 264),\n",
       " (-93, 398),\n",
       " (3, 0),\n",
       " (9, -6),\n",
       " (29, 422)}"
      ]
     },
     "execution_count": 65,
     "metadata": {},
     "output_type": "execute_result"
    }
   ],
   "source": [
    "obstacles_set"
   ]
  },
  {
   "cell_type": "code",
   "execution_count": 80,
   "metadata": {},
   "outputs": [],
   "source": [
    "commands = [] \n",
    "for i in range(number_obstacles+1, number_commands+1):\n",
    "    current_line = lines[i]\n",
    "    if len(current_line) == 1 and current_line[0] == 'R':\n",
    "        commands.append(-1)\n",
    "        \n",
    "    elif len(current_line) == 1 and current_line[0] == 'L':\n",
    "        commands.append(-2)\n",
    "        \n",
    "    elif len(current_line) == 2:\n",
    "        commands.append(int(current_line[1]))"
   ]
  },
  {
   "cell_type": "code",
   "execution_count": 122,
   "metadata": {},
   "outputs": [],
   "source": [
    "import math\n",
    "def maxDistance(commands, obstacles):\n",
    "    obstacleSet = set(map(tuple, obstacles))\n",
    "    max_dist = 0\n",
    "\n",
    "    # direction:\n",
    "    # North - 0\n",
    "    # East - 1\n",
    "    # South - 2\n",
    "    # West - 3\n",
    "\n",
    "    directions = [(0, 1), (1, 0), (0, -1), (-1, 0)]  # directions[0] = Norths, directions[1] = East\n",
    "\n",
    "    x = 0          # initial position    \n",
    "    y = 0          # initial position\n",
    "    direction = 0  # initial North\n",
    "\n",
    "    for cmd in commands:\n",
    "        if cmd == -2:    #left => -1\n",
    "            direction = (direction-1) % 4\n",
    "\n",
    "        elif cmd == -1:   # right => +1\n",
    "            direction = (direction+1) % 4\n",
    "\n",
    "        else:\n",
    "            xdir, ydir = directions[direction][0], directions[direction][1]\n",
    "            while cmd > 0:\n",
    "\n",
    "                if (x+xdir, y+ydir) not in obstacleSet:\n",
    "                    x += xdir\n",
    "                    y += ydir\n",
    "                cmd -= 1\n",
    "            max_dist = max(max_dist, math.sqrt(x**2 + y**2))    \n",
    "            \n",
    "\n",
    "    return float(format(max_dist, '.2f'))"
   ]
  },
  {
   "cell_type": "code",
   "execution_count": 123,
   "metadata": {},
   "outputs": [],
   "source": [
    "c = [5, -2, 1, -1, 3, -1, -1, 3]\n",
    "o = [[0,2]]\n",
    "a = maxDistance(c, o)"
   ]
  },
  {
   "cell_type": "code",
   "execution_count": 126,
   "metadata": {},
   "outputs": [],
   "source": [
    "b = maxDistance(commands, obstacles_set)"
   ]
  },
  {
   "cell_type": "code",
   "execution_count": 127,
   "metadata": {},
   "outputs": [
    {
     "data": {
      "text/plain": [
       "607.79"
      ]
     },
     "execution_count": 127,
     "metadata": {},
     "output_type": "execute_result"
    }
   ],
   "source": [
    "b"
   ]
  },
  {
   "cell_type": "code",
   "execution_count": 124,
   "metadata": {},
   "outputs": [
    {
     "data": {
      "text/plain": [
       "float"
      ]
     },
     "execution_count": 124,
     "metadata": {},
     "output_type": "execute_result"
    }
   ],
   "source": []
  },
  {
   "cell_type": "code",
   "execution_count": 125,
   "metadata": {},
   "outputs": [
    {
     "data": {
      "text/plain": [
       "4.12"
      ]
     },
     "execution_count": 125,
     "metadata": {},
     "output_type": "execute_result"
    }
   ],
   "source": []
  },
  {
   "cell_type": "code",
   "execution_count": null,
   "metadata": {},
   "outputs": [],
   "source": []
  },
  {
   "cell_type": "code",
   "execution_count": 1,
   "metadata": {},
   "outputs": [],
   "source": [
    "FILE_NAME = \"input.txt\"\n",
    "with open(FILE_NAME, \"r\") as f:\n",
    "    lines = f.readlines()\n",
    "    \n",
    "for l in range(len(lines)):\n",
    "    lines[l] = lines[l].strip('\\n').split(' ')\n",
    "    \n",
    "number_obstacles = int(lines[0][0])\n",
    "number_commands = int(lines[0][1])\n",
    "\n",
    "# use a set for the obstacles to ensure constant time O(1) lookups when checking if the given command is an obstacle\n",
    "obstacles_set = set([]) \n",
    "\n",
    "for i in range(1, number_obstacles+1):\n",
    "    lines[i] = list(map(int, lines[i]))\n",
    "    obstacles_set.add(tuple(lines[i])) \n",
    "    \n",
    "commands = [] \n",
    "for i in range(number_obstacles+1, number_commands+1):\n",
    "    current_line = lines[i]\n",
    "    if len(current_line) == 1 and current_line[0] == 'R': \n",
    "        commands.append(-1)\n",
    "        \n",
    "    elif len(current_line) == 1 and current_line[0] == 'L':\n",
    "        commands.append(-2)\n",
    "        \n",
    "    elif len(current_line) == 2:\n",
    "        commands.append(int(current_line[1]))\n",
    "        \n",
    "        \n",
    "import math\n",
    "def robotTurtles(commands, obstacles):\n",
    "    max_dist = 0\n",
    "\n",
    "    # direction:\n",
    "    # North - 0\n",
    "    # East - 1\n",
    "    # South - 2\n",
    "    # West - 3\n",
    "\n",
    "    directions = [(0, 1), (1, 0), (0, -1), (-1, 0)]  # directions[0] = North, directions[1] = East\n",
    "\n",
    "    x = 0          # initial position    \n",
    "    y = 0          # initial position\n",
    "    direction = 0  # initial North\n",
    "\n",
    "    for cmd in commands:\n",
    "        if cmd == -2:    #left => -1\n",
    "            direction = (direction-1) % 4\n",
    "\n",
    "        elif cmd == -1:   # right => +1\n",
    "            direction = (direction+1) % 4\n",
    "\n",
    "        else:\n",
    "            xdir, ydir = directions[direction][0], directions[direction][1]\n",
    "            while cmd > 0:\n",
    "\n",
    "                if (x+xdir, y+ydir) not in obstacles:\n",
    "                    x += xdir\n",
    "                    y += ydir\n",
    "                cmd -= 1\n",
    "            max_dist = max(max_dist, math.sqrt(x**2 + y**2))    \n",
    "            \n",
    "\n",
    "    return float(format(max_dist, '.2f'))\n",
    "\n",
    "\n",
    "# TEST CASE 1\n",
    "commands1 = [5, -2, 1, -1, 3, -1, -1, 3]\n",
    "obstacles1 = set([])\n",
    "obstacles1.add((0,2))\n",
    "assert robotTurtles(commands1, obstacles1) == 4.12, \"ERROR\"\n",
    "\n",
    "# TEST CASE 2\n",
    "commands2 = [4,-1,4,-2,4]\n",
    "obstacles2 = set([])\n",
    "obstacles2.add((2,4))\n",
    "assert robotTurtles(commands2, obstacles2) == 8.06, \"ERROR\"\n",
    "\n",
    "# PROCESSING GIVEN INPUT DATA\n",
    "ans = robotTurtles(commands, obstacles_set)"
   ]
  },
  {
   "cell_type": "code",
   "execution_count": 2,
   "metadata": {},
   "outputs": [
    {
     "data": {
      "text/plain": [
       "607.79"
      ]
     },
     "execution_count": 2,
     "metadata": {},
     "output_type": "execute_result"
    }
   ],
   "source": [
    "ans"
   ]
  },
  {
   "cell_type": "code",
   "execution_count": null,
   "metadata": {},
   "outputs": [],
   "source": [
    "\n",
    "Robot Turtles\n",
    "Wally the robot lives at point (0, 0) on an infinite grid. Today he is going for a walk. He already knows exactly what route he is going to take (it was programmed into him). His route consists of a long sequence of three possible commands:\n",
    "\n",
    "move N steps forward\n",
    "turn 90 degrees to the left\n",
    "turn 90 degrees to the right\n",
    "Wally always starts his walks facing North.\n",
    "\n",
    "Some of the grid squares are obstacles; if Wally would try to move on to them, he stays on the previous grid square instead (but he'll keep following the rest of his route).\n",
    "\n",
    "Given the list of obstacles and the walk Wally plans to follow, figure out the maximum distance Wally will travel from his home.\n",
    "\n",
    "Input\n",
    "The first line of the input file will contain two space-separated integers: the number of obstacles and the number of commands in Wally's route, respectively.\n",
    "\n",
    "The next [number_of_obstacles] lines will contain two space-separated integers representing the X and Y coordinates of an obstacle, respectively (positive X is east, positive Y is north).\n",
    "\n",
    "The next [number_of_commands] lines will contain one command for Wally, which is one of:\n",
    "\n",
    "\"L\" - turn left 90 degrees\n",
    "\"R\" - turn right 90 degrees\n",
    "\"M n\" - move n steps forward\n",
    "Output\n",
    "Output a single floating point number rounded to two decimal places, the maximum (Euclidean) distance Wally will get from his starting position.\n",
    "Limits\n",
    "1 <= number of obstacles <= 10\n",
    "1 <= number of commands <= 10,000\n",
    "1 <= number of steps forward in a single command <= 10\n",
    "-100,000 <= X or Y coordinate of obstacle <= 100,000\n",
    "Sample Input\n",
    "    1 8\n",
    "    0 2\n",
    "    M 5\n",
    "    R\n",
    "    M 1\n",
    "    L\n",
    "    M 3\n",
    "    L\n",
    "    L\n",
    "    M 3\n",
    "      \n",
    "Sample Output\n",
    "4.12\n",
    "\n",
    "Sample Description\n",
    "Wally tries to walk 5 squares north, but there's an obstacle, so he can only move one square. Then he turns right and walks one square east. Then he turns left and walks three squares north. Then he turns around and walks 3 squares south, ending at (1, 1). The maximum distance he ever got from (0, 0) was when he was at (1, 4), roughly 4.12 units away.\n",
    "\n",
    "Please submit the correct answer for the longer input file below. You may submit as many times as you want until your time has elapsed.\n",
    "\n",
    "Download Input\n",
    "\n",
    "Answer: \n",
    "\n"
   ]
  }
 ],
 "metadata": {
  "kernelspec": {
   "display_name": "Python 3",
   "language": "python",
   "name": "python3"
  },
  "language_info": {
   "codemirror_mode": {
    "name": "ipython",
    "version": 3
   },
   "file_extension": ".py",
   "mimetype": "text/x-python",
   "name": "python",
   "nbconvert_exporter": "python",
   "pygments_lexer": "ipython3",
   "version": "3.7.3"
  }
 },
 "nbformat": 4,
 "nbformat_minor": 2
}
