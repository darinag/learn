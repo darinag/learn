{
 "cells": [
  {
   "cell_type": "markdown",
   "metadata": {},
   "source": [
    "## ARRAYS and STRINGS"
   ]
  },
  {
   "cell_type": "code",
   "execution_count": null,
   "metadata": {},
   "outputs": [],
   "source": [
    "import collections"
   ]
  },
  {
   "cell_type": "code",
   "execution_count": 33,
   "metadata": {},
   "outputs": [],
   "source": [
    "# check if all characters unique in a string\n",
    "# Approach one: use an additional datastrucure. (hashmap)\n",
    "def isUnique(string):\n",
    "    hashmap = collections.Counter(string)\n",
    "    for i in hashmap.values():\n",
    "        if i > 1:\n",
    "            return False\n",
    "    return True\n",
    "\n",
    "def isUnique2(string):\n",
    "    return len(string) == len(set(string))\n",
    "    \n",
    "# Approach two: do NOT use additinal datastructure?\n",
    "# Use sorting but best case time complexity is O(nlogn)\n",
    "# Better way?\n",
    "    "
   ]
  },
  {
   "cell_type": "code",
   "execution_count": 37,
   "metadata": {},
   "outputs": [
    {
     "data": {
      "text/plain": [
       "False"
      ]
     },
     "execution_count": 37,
     "metadata": {},
     "output_type": "execute_result"
    }
   ],
   "source": [
    "isUnique('geeksforgeeks')"
   ]
  },
  {
   "cell_type": "code",
   "execution_count": 38,
   "metadata": {},
   "outputs": [
    {
     "data": {
      "text/plain": [
       "True"
      ]
     },
     "execution_count": 38,
     "metadata": {},
     "output_type": "execute_result"
    }
   ],
   "source": [
    "isUnique('asdfghjkl')"
   ]
  },
  {
   "cell_type": "code",
   "execution_count": 15,
   "metadata": {},
   "outputs": [],
   "source": [
    "# check if string is a permutation of another string\n",
    "def isPermutation(s1, s2):\n",
    "    map1 = collections.Counter(s1)\n",
    "    map2 = collections.Counter(s2)\n",
    "    return map1 == map2"
   ]
  },
  {
   "cell_type": "code",
   "execution_count": 13,
   "metadata": {},
   "outputs": [
    {
     "data": {
      "text/plain": [
       "False"
      ]
     },
     "execution_count": 13,
     "metadata": {},
     "output_type": "execute_result"
    }
   ],
   "source": [
    "isPermutation('test', 'ttew')"
   ]
  },
  {
   "cell_type": "code",
   "execution_count": 14,
   "metadata": {},
   "outputs": [
    {
     "data": {
      "text/plain": [
       "True"
      ]
     },
     "execution_count": 14,
     "metadata": {},
     "output_type": "execute_result"
    }
   ],
   "source": [
    "isPermutation('geeksforgeeks', 'forgeeksgeeks')"
   ]
  },
  {
   "cell_type": "code",
   "execution_count": 16,
   "metadata": {},
   "outputs": [],
   "source": [
    "# replace all the spaces in a string with ‘%20’.\n",
    "def urlify(string):\n",
    "    string = string.strip()\n",
    "    res = []\n",
    "    for i in string:\n",
    "        if i == ' ':\n",
    "            res.append('%20')\n",
    "        else:\n",
    "            res.append(i)\n",
    "            \n",
    "    return ''.join(res)\n",
    "\n",
    "def urlify2(string):\n",
    "    return '%20'.join(string.split())"
   ]
  },
  {
   "cell_type": "code",
   "execution_count": 17,
   "metadata": {},
   "outputs": [
    {
     "data": {
      "text/plain": [
       "'Mr%20John%20Smith'"
      ]
     },
     "execution_count": 17,
     "metadata": {},
     "output_type": "execute_result"
    }
   ],
   "source": [
    "urlify(' Mr John Smith      ')"
   ]
  },
  {
   "cell_type": "code",
   "execution_count": 18,
   "metadata": {},
   "outputs": [
    {
     "data": {
      "text/plain": [
       "'Mr%20John%20Smith'"
      ]
     },
     "execution_count": 18,
     "metadata": {},
     "output_type": "execute_result"
    }
   ],
   "source": [
    "urlify2('     Mr John Smith      ')"
   ]
  },
  {
   "cell_type": "code",
   "execution_count": 57,
   "metadata": {},
   "outputs": [],
   "source": [
    "# determine if a permutation of the string could form a palindrome\n",
    "# not possible to have a palindrom if more than one element is repeated odd number of times\n",
    "\n",
    "# use hashmap\n",
    "def canPermutePalindrome(s):\n",
    "    s = s.replace(' ', \"\")\n",
    "    counts = collections.Counter(s)\n",
    "    cnt = 0\n",
    "    for i in counts.values():\n",
    "        if i % 2 == 1:\n",
    "            cnt += 1\n",
    "    return cnt <= 1\n",
    "\n",
    "# use set\n",
    "def canPermutePalindrome2(s):\n",
    "        s = s.replace(' ', \"\")\n",
    "        sets = set()\n",
    "        for i in s:\n",
    "            if i in sets:\n",
    "                sets.remove(i)\n",
    "            else:\n",
    "                sets.add(i)\n",
    "        return len(sets) <= 1"
   ]
  },
  {
   "cell_type": "code",
   "execution_count": 58,
   "metadata": {},
   "outputs": [
    {
     "data": {
      "text/plain": [
       "False"
      ]
     },
     "execution_count": 58,
     "metadata": {},
     "output_type": "execute_result"
    }
   ],
   "source": [
    "canPermutePalindrome('code')"
   ]
  },
  {
   "cell_type": "code",
   "execution_count": 59,
   "metadata": {},
   "outputs": [
    {
     "data": {
      "text/plain": [
       "True"
      ]
     },
     "execution_count": 59,
     "metadata": {},
     "output_type": "execute_result"
    }
   ],
   "source": [
    "canPermutePalindrome('tact coa')"
   ]
  },
  {
   "cell_type": "code",
   "execution_count": 62,
   "metadata": {},
   "outputs": [],
   "source": [
    "# Given two strings S and T, determine if they are both one(or zero) edit distance apart.\n",
    "# we can perform insert a char, remove a char, replace s char\n",
    "\n",
    "def isOneEditDistance(s, t):\n",
    "    if s == t:\n",
    "        return False\n",
    "\n",
    "    s_len = len(s)\n",
    "    t_len = len(t)\n",
    "    edits = 0\n",
    "    i = 0\n",
    "    j = 0 \n",
    "    \n",
    "    while i < s_len and j < t_len:\n",
    "        if s[i] != t[j]:\n",
    "            edits += 1 \n",
    "\n",
    "            if s_len < t_len:\n",
    "                j += 1 \n",
    "            elif s_len > t_len:\n",
    "                i += 1\n",
    "            else:\n",
    "                i += 1 \n",
    "                j += 1\n",
    "        else: \n",
    "            i += 1 \n",
    "            j += 1 \n",
    "\n",
    "    edits += len(s)-i + len(t) - j\n",
    "\n",
    "    return edits == 1\n",
    "    "
   ]
  },
  {
   "cell_type": "code",
   "execution_count": 63,
   "metadata": {},
   "outputs": [
    {
     "data": {
      "text/plain": [
       "True"
      ]
     },
     "execution_count": 63,
     "metadata": {},
     "output_type": "execute_result"
    }
   ],
   "source": [
    "isOneEditDistance(\"bcde\", \"abcde\")"
   ]
  },
  {
   "cell_type": "code",
   "execution_count": 64,
   "metadata": {},
   "outputs": [
    {
     "data": {
      "text/plain": [
       "True"
      ]
     },
     "execution_count": 64,
     "metadata": {},
     "output_type": "execute_result"
    }
   ],
   "source": [
    "isOneEditDistance(\"aDb\", \"adb\")"
   ]
  },
  {
   "cell_type": "code",
   "execution_count": 65,
   "metadata": {},
   "outputs": [],
   "source": [
    "# string compression: the string aabcccaa becomes a2b1c3a2 and return the len of the compressed string\n",
    "def compress(chars):\n",
    "    if not chars: return \"\"\n",
    "\n",
    "    start = 0\n",
    "    end = 0\n",
    "\n",
    "    while end < len(chars):\n",
    "        chars[start] = chars[end]\n",
    "        cnt = 1\n",
    "        while end+1 < len(chars) and chars[end] == chars[end+1]:\n",
    "            cnt += 1\n",
    "            end += 1\n",
    "\n",
    "        if cnt > 1:\n",
    "            for c in str(cnt):\n",
    "                chars[start+1] = c\n",
    "                start += 1\n",
    "        start += 1\n",
    "        end += 1\n",
    "\n",
    "    return start\n",
    "            \n",
    "        "
   ]
  },
  {
   "cell_type": "code",
   "execution_count": 66,
   "metadata": {},
   "outputs": [
    {
     "data": {
      "text/plain": [
       "6"
      ]
     },
     "execution_count": 66,
     "metadata": {},
     "output_type": "execute_result"
    }
   ],
   "source": [
    "compress([\"a\",\"a\",\"b\",\"b\",\"c\",\"c\",\"c\"])"
   ]
  },
  {
   "cell_type": "code",
   "execution_count": 67,
   "metadata": {},
   "outputs": [],
   "source": [
    "# rotate image by 90degs\n",
    "def rotate(matrix):\n",
    "    for i in range(len(matrix)):\n",
    "        for j in range(i, len(matrix[0])): # NOTE WE START FROM i HERE !!!!!\n",
    "            matrix[i][j], matrix[j][i] = matrix[j][i], matrix[i][j]\n",
    "                \n",
    "    for row in matrix:\n",
    "        row.reverse()\n",
    "\n",
    "    return matrix"
   ]
  },
  {
   "cell_type": "code",
   "execution_count": 68,
   "metadata": {},
   "outputs": [],
   "source": [
    "# zero matrix: if a cell is 0 set the entire row and col to 0\n",
    "def setZeroes(matrix):\n",
    "    if not matrix: return []\n",
    "\n",
    "    rowLen = len(matrix)\n",
    "    colLen = len(matrix[0])\n",
    "\n",
    "    rowSet = set()\n",
    "    colSet = set()\n",
    "\n",
    "    for i in range(rowLen):\n",
    "        for j in range(colLen):\n",
    "            if matrix[i][j] == 0:\n",
    "                rowSet.add(i)\n",
    "                colSet.add(j)\n",
    "\n",
    "    for i in range(rowLen):\n",
    "        for j in range(colLen):\n",
    "            if i in rowSet or j in colSet:\n",
    "                matrix[i][j] = 0\n",
    "\n",
    "    return matrix"
   ]
  },
  {
   "cell_type": "code",
   "execution_count": 69,
   "metadata": {},
   "outputs": [
    {
     "data": {
      "text/plain": [
       "[[1, 0, 1], [0, 0, 0], [1, 0, 1]]"
      ]
     },
     "execution_count": 69,
     "metadata": {},
     "output_type": "execute_result"
    }
   ],
   "source": [
    "setZeroes([[1,1,1],[1,0,1],[1,1,1]])"
   ]
  },
  {
   "cell_type": "code",
   "execution_count": 70,
   "metadata": {},
   "outputs": [],
   "source": [
    "# Return True if and only if A can become B after some number of shifts on A.\n",
    "def rotateString(A, B):\n",
    "    if len(A) != len(B): return False\n",
    "    return B in A+A "
   ]
  },
  {
   "cell_type": "code",
   "execution_count": 71,
   "metadata": {},
   "outputs": [
    {
     "data": {
      "text/plain": [
       "False"
      ]
     },
     "execution_count": 71,
     "metadata": {},
     "output_type": "execute_result"
    }
   ],
   "source": [
    "rotateString(\"abcde\", \"abced\")"
   ]
  }
 ],
 "metadata": {
  "kernelspec": {
   "display_name": "Python 3",
   "language": "python",
   "name": "python3"
  },
  "language_info": {
   "codemirror_mode": {
    "name": "ipython",
    "version": 3
   },
   "file_extension": ".py",
   "mimetype": "text/x-python",
   "name": "python",
   "nbconvert_exporter": "python",
   "pygments_lexer": "ipython3",
   "version": "3.7.5"
  }
 },
 "nbformat": 4,
 "nbformat_minor": 2
}
