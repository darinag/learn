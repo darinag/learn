{
 "cells": [
  {
   "cell_type": "code",
   "execution_count": null,
   "metadata": {},
   "outputs": [],
   "source": []
  },
  {
   "cell_type": "markdown",
   "metadata": {},
   "source": [
    "# STRINGS\n",
    "\n",
    "### KNOW YOUR LIBRARIES\n",
    "\n",
    "s[3], len(s), s + t, s[2:4]\n",
    "\n",
    "s.strip() <br>\n",
    "s.startswith(prefix)<br>\n",
    "s.endswith(suffix)<br>\n",
    "s = s.lower()<br>\n",
    "s = s.upper()<br>\n",
    "s.split(',') or s.split(' ') or etc<br>\n",
    "','.join()<br>\n",
    "\n",
    "'Name {name}, Rank {rank}'.format(name='Nik', rank='master')<br>\n",
    "\n",
    "e.g.<br>\n",
    "a = 'abcdgs'<br>\n",
    "a.startswith('ab')<br>\n",
    "True<br>\n",
    "\n",
    "# STRINGS ARE IMMUTABLE\n",
    "\n",
    "operations like s = s[1:] or s +=\n",
    "' 123' imply creating a new array of characters that is then assigned back to s <br>\n",
    "=> CONCATENANTING A SINGLE CHARACTER N TIMES IN A LOOP HAS O(N^2) <br>\n",
    "\n",
    "know the alternatives to immutabl strings - LISTS <br>\n",
    "\n",
    "string problems often have simple brute-force solution that uses O(n) space and the goal is to find a subtler solution to redice it to O(1)\n",
    "\n",
    "# FIND THE FIRST OCCURENCE OF A SUBSTRING in a string\n",
    "\n",
    "## 3 LINEAR TIME STRING MATCHING ALGORITHMS:\n",
    "\n",
    "### Rabin-Karp (simplest) O(m+n)\n",
    "### Boyer-Moore\n",
    "### KMP - Knutt-Morris-Pratt\n",
    "etc."
   ]
  },
  {
   "cell_type": "code",
   "execution_count": 7,
   "metadata": {},
   "outputs": [
    {
     "data": {
      "text/plain": [
       "True"
      ]
     },
     "execution_count": 7,
     "metadata": {},
     "output_type": "execute_result"
    }
   ],
   "source": [
    "# time complexity O(n) and space complexity O(1)\n",
    "def isPalindrom(string):\n",
    "    return all(string[i] == string[~i] for i in range(len(string)//2))\n",
    "\n",
    "isPalindrom('abcba')"
   ]
  },
  {
   "cell_type": "code",
   "execution_count": 15,
   "metadata": {},
   "outputs": [],
   "source": [
    "def int_to_string(x):\n",
    "    \n",
    "    negative = False\n",
    "    if x < 0:\n",
    "        x = -x\n",
    "        negative = True\n",
    "        \n",
    "    s = []\n",
    "    \n",
    "    while x > 0:\n",
    "        rem = x%10\n",
    "        x //= 10\n",
    "        s.append(chr(ord('0')+rem))\n",
    "        \n",
    "    return ('-' if negative else \"\") + \"\".join(reversed(s))\n"
   ]
  },
  {
   "cell_type": "code",
   "execution_count": 17,
   "metadata": {},
   "outputs": [
    {
     "data": {
      "text/plain": [
       "'1234'"
      ]
     },
     "execution_count": 17,
     "metadata": {},
     "output_type": "execute_result"
    }
   ],
   "source": [
    "int_to_string(1234)"
   ]
  },
  {
   "cell_type": "code",
   "execution_count": 31,
   "metadata": {},
   "outputs": [],
   "source": [
    "def string_to_int(x):\n",
    "    \n",
    "    negative = False\n",
    "    start = 0\n",
    "    \n",
    "    if x[0] is '-':\n",
    "        negative = True\n",
    "        start = 1\n",
    "      \n",
    "    s = 0\n",
    "    value = {'0':0, '1':1, '2':2, '3':3, '4':4, '5':5, '6':6, '7':7, '8':8, '9':9}\n",
    "    \n",
    "    for i in range(start, len(x)):\n",
    "        s = s*10 + value[x[i]]\n",
    "    \n",
    "    return s*(-1) if negative else s\n",
    "    "
   ]
  },
  {
   "cell_type": "code",
   "execution_count": 32,
   "metadata": {},
   "outputs": [
    {
     "data": {
      "text/plain": [
       "-123"
      ]
     },
     "execution_count": 32,
     "metadata": {},
     "output_type": "execute_result"
    }
   ],
   "source": [
    "string_to_int('-123')"
   ]
  },
  {
   "cell_type": "code",
   "execution_count": 46,
   "metadata": {},
   "outputs": [],
   "source": [
    "# IDG\n",
    "# replace all A's with dd and remove all B's\n",
    "def replace_and_remove(arr):\n",
    "    pass\n",
    "replace_and_remove(['a', 'b', 'b', 'c', 'a'])"
   ]
  },
  {
   "cell_type": "code",
   "execution_count": 73,
   "metadata": {},
   "outputs": [],
   "source": [
    "# encode aaabbc to 3a2b1c\n",
    "# uses extra space\n",
    "# can also use ordered dictionary\n",
    "def encode(string):\n",
    "    \n",
    "    res = []\n",
    "    count = 1\n",
    "    \n",
    "    for i in range(1, len(string)+1):\n",
    "        if i == len(string) or string[i] != string[i-1]: # found a new character\n",
    "            res.append(str(count) + string[i-1])\n",
    "            count = 1\n",
    "            \n",
    "        else:\n",
    "            count += 1\n",
    "    return \"\".join(res)"
   ]
  },
  {
   "cell_type": "code",
   "execution_count": 74,
   "metadata": {},
   "outputs": [
    {
     "data": {
      "text/plain": [
       "'4a1b3c2a'"
      ]
     },
     "execution_count": 74,
     "metadata": {},
     "output_type": "execute_result"
    }
   ],
   "source": [
    "encode('aaaabcccaa')"
   ]
  },
  {
   "cell_type": "code",
   "execution_count": 65,
   "metadata": {},
   "outputs": [],
   "source": [
    "# decode 3a1c2b to aaacbb\n",
    "# uses extra space\n",
    "def decode(string):\n",
    "    count = 0\n",
    "    res = []\n",
    "    \n",
    "    for i in string:\n",
    "        if i.isdigit():\n",
    "            count = count*10 + int(i) # we need count*10 to handle e.g. 13a, 123b\n",
    "        else:\n",
    "            res.append(count*i)\n",
    "            count = 0\n",
    "            \n",
    "    return ''.join(res)"
   ]
  },
  {
   "cell_type": "code",
   "execution_count": 66,
   "metadata": {},
   "outputs": [
    {
     "data": {
      "text/plain": [
       "'eeeffffee'"
      ]
     },
     "execution_count": 66,
     "metadata": {},
     "output_type": "execute_result"
    }
   ],
   "source": [
    "decode('3e4f2e')"
   ]
  },
  {
   "cell_type": "code",
   "execution_count": 131,
   "metadata": {},
   "outputs": [],
   "source": [
    "# no extra space\n",
    "# TypeError: 'str' object does not support item assignment =>\n",
    "# if given a string and not an array, conver it to array of character because otherwise we need to create many copies of the str\n",
    "def compress(chars):\n",
    "\n",
    "    if not chars: return \"\"\n",
    "\n",
    "    start = 0\n",
    "    end = 0\n",
    "    last_starting_index = 1\n",
    "\n",
    "    while end < len(chars):\n",
    "        chars[start] = chars[end]\n",
    "        cnt = 1\n",
    "        while end+1 < len(chars) and chars[end] == chars[end+1]:\n",
    "            cnt += 1\n",
    "            end += 1\n",
    "\n",
    "        if cnt > 1: # if we dont check cnt>1 and add 1 when have 1 repetition the code below will throw outofindex exception\n",
    "            for c in str(cnt):\n",
    "                chars[start+1] = c\n",
    "                start += 1\n",
    "            last_starting_index = start\n",
    "              \n",
    "        if cnt == 1:\n",
    "            last_starting_index += 1\n",
    "    \n",
    "        start += 1\n",
    "        end += 1\n",
    "        \n",
    "    return chars[:last_starting_index+1]\n",
    "\n"
   ]
  },
  {
   "cell_type": "code",
   "execution_count": 132,
   "metadata": {},
   "outputs": [
    {
     "data": {
      "text/plain": [
       "['a', '4', 'b', '2', 'd', 'c', '6', 'm', '2']"
      ]
     },
     "execution_count": 132,
     "metadata": {},
     "output_type": "execute_result"
    }
   ],
   "source": [
    "compress([\"a\",\"a\",\"a\",\"a\",\"b\",\"b\",\"d\",\"c\",\"c\",\"c\",\"c\",\"c\",\"c\", \"m\", \"m\"])"
   ]
  },
  {
   "cell_type": "code",
   "execution_count": null,
   "metadata": {},
   "outputs": [],
   "source": []
  },
  {
   "cell_type": "code",
   "execution_count": 141,
   "metadata": {},
   "outputs": [],
   "source": [
    "pattern = 'abc'\n",
    "prime = 3\n",
    "m = len(pattern)\n",
    "h = []\n",
    "for i in range(m):\n",
    "    h.append([pattern[i] + '+' + str(pow(prime, i))])\n",
    "    "
   ]
  },
  {
   "cell_type": "code",
   "execution_count": 142,
   "metadata": {},
   "outputs": [
    {
     "data": {
      "text/plain": [
       "[['a+1'], ['b+3'], ['c+9']]"
      ]
     },
     "execution_count": 142,
     "metadata": {},
     "output_type": "execute_result"
    }
   ],
   "source": [
    "h"
   ]
  },
  {
   "cell_type": "code",
   "execution_count": 251,
   "metadata": {},
   "outputs": [],
   "source": [
    "def rabin_karp(pattern, text, prime):\n",
    "    m = len(pattern)\n",
    "    n = len(text)\n",
    "    \n",
    "    res = []\n",
    "    \n",
    "    if m > len(text): return res\n",
    "    \n",
    "    def create_hash(pattern):\n",
    "        nonlocal prime, m\n",
    "        h = 0\n",
    "        for i in range(m):\n",
    "            h += ord(pattern[i])*pow(prime,i)\n",
    "        return h\n",
    "    \n",
    "    def update_hash(old_hash, new_start, new_end):\n",
    "        nonlocal prime, text, m\n",
    "        x = old_hash - ord(text[new_start-1])\n",
    "        x = x/prime\n",
    "        new_hash = x + ord(text[new_end])*pow(prime, m-1)\n",
    "        return new_hash\n",
    "    \n",
    "    def isEqual(pattern, start):\n",
    "        nonlocal m, text\n",
    "\n",
    "        for i in range(m):\n",
    "            if pattern[i] != text[start+i]:\n",
    "                return False\n",
    "        return True\n",
    "    \n",
    "    pattern_hash = create_hash(pattern)\n",
    "    text_hash = create_hash(text[:m])\n",
    "    \n",
    "    last_start_idx_for_pattern = n - m + 1\n",
    "    for i in range(1, last_start_idx_for_pattern + 1):\n",
    "   \n",
    "        if pattern_hash == text_hash and isEqual(pattern, i-1):\n",
    "            #return i-1 # this is the starting index of the pattern in the text\n",
    "            res.append(i-1)\n",
    "        if i < last_start_idx_for_pattern:\n",
    "            text_hash = update_hash(text_hash, i, i+m-1)\n",
    "        \n",
    "    return res\n",
    "    \n"
   ]
  },
  {
   "cell_type": "code",
   "execution_count": 252,
   "metadata": {},
   "outputs": [
    {
     "data": {
      "text/plain": [
       "[3]"
      ]
     },
     "execution_count": 252,
     "metadata": {},
     "output_type": "execute_result"
    }
   ],
   "source": [
    "rabin_karp('abc', 'acdabcd', 3)"
   ]
  },
  {
   "cell_type": "code",
   "execution_count": 253,
   "metadata": {},
   "outputs": [
    {
     "data": {
      "text/plain": [
       "[10]"
      ]
     },
     "execution_count": 253,
     "metadata": {},
     "output_type": "execute_result"
    }
   ],
   "source": [
    "rabin_karp(\"TEST\", \"THIS IS A TEST TEXT\", 3)"
   ]
  },
  {
   "cell_type": "code",
   "execution_count": 254,
   "metadata": {},
   "outputs": [
    {
     "data": {
      "text/plain": [
       "[0, 9, 12]"
      ]
     },
     "execution_count": 254,
     "metadata": {},
     "output_type": "execute_result"
    }
   ],
   "source": [
    "rabin_karp(\"AABA\", \"AABAACAADAABAABA\", 3)"
   ]
  },
  {
   "cell_type": "code",
   "execution_count": null,
   "metadata": {},
   "outputs": [],
   "source": []
  }
 ],
 "metadata": {
  "kernelspec": {
   "display_name": "Python 3",
   "language": "python",
   "name": "python3"
  },
  "language_info": {
   "codemirror_mode": {
    "name": "ipython",
    "version": 3
   },
   "file_extension": ".py",
   "mimetype": "text/x-python",
   "name": "python",
   "nbconvert_exporter": "python",
   "pygments_lexer": "ipython3",
   "version": "3.7.3"
  }
 },
 "nbformat": 4,
 "nbformat_minor": 2
}
